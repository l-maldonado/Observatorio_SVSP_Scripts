{
 "cells": [
  {
   "cell_type": "markdown",
   "id": "UkGxEBNhZNWt",
   "metadata": {
    "id": "UkGxEBNhZNWt"
   },
   "source": [
    "# Introduccion\n",
    "\n",
    "Este notebook contiene los procesos que se han realizado para cargar y limpiar las bases de datos de contratos de la **Agencia Nacional de Contratacion Pública - Colombia COmpra Eficiente** (ANCP-CCE) en sus sistemas SECOP-I y SECOP-II, accesibles  a trvés de la plataforma Datos Abiertos.\n",
    "\n",
    "Tambien contiene las funciones e scripts para cargar los datasets en Jupyter o Colab, a partir de archivos en formato CSV.\n",
    "\n",
    "Esta es la primera etapa del trabajo con esstos datos, que consiste en conslidarlos en un solo archivo asegurando su consistencia y relevancia para el trabajo de la Superintendencia de Vigilancia y Seguridad Privada.\n"
   ]
  },
  {
   "cell_type": "code",
   "execution_count": 3,
   "id": "9qcSx8dtVZ4S",
   "metadata": {
    "executionInfo": {
     "elapsed": 3759,
     "status": "ok",
     "timestamp": 1660959292245,
     "user": {
      "displayName": "Luis Gustavo Maldonado Archila",
      "userId": "00154281364666914585"
     },
     "user_tz": 240
    },
    "id": "9qcSx8dtVZ4S"
   },
   "outputs": [],
   "source": [
    "# First import the required libraries.\n",
    "import io\n",
    "import os\n",
    "import pandas as pd\n",
    "import numpy as np\n",
    "import plotly.express as px\n",
    "import seaborn as sns"
   ]
  },
  {
   "cell_type": "code",
   "execution_count": 4,
   "id": "TXMPUJM0Wsmj",
   "metadata": {
    "executionInfo": {
     "elapsed": 14,
     "status": "ok",
     "timestamp": 1660959292246,
     "user": {
      "displayName": "Luis Gustavo Maldonado Archila",
      "userId": "00154281364666914585"
     },
     "user_tz": 240
    },
    "id": "TXMPUJM0Wsmj"
   },
   "outputs": [],
   "source": [
    "# Ajustar No Maximo de Columnas para mostrar\n",
    "# pd.get_option(\"display.max_columns\")\n",
    "pd.set_option('display.max_columns', None)\n",
    "#pd.set_option('display.max_columns', 20) # reset to default"
   ]
  },
  {
   "cell_type": "code",
   "execution_count": 5,
   "id": "AmbZvPH9WU0U",
   "metadata": {
    "executionInfo": {
     "elapsed": 13,
     "status": "ok",
     "timestamp": 1660959292247,
     "user": {
      "displayName": "Luis Gustavo Maldonado Archila",
      "userId": "00154281364666914585"
     },
     "user_tz": 240
    },
    "id": "AmbZvPH9WU0U"
   },
   "outputs": [],
   "source": [
    "# Ajustar el tamaño máximo de columna que se muestra\n",
    "#pd.get_option('display.max_colwidth')\n",
    "#pd.set_option('display.max_colwidth', -1) \n",
    "#pd.set_option('display.max_colwidth', 50)  # reset to default"
   ]
  },
  {
   "cell_type": "code",
   "execution_count": 6,
   "id": "723Bn-ilmaJR",
   "metadata": {
    "executionInfo": {
     "elapsed": 13,
     "status": "ok",
     "timestamp": 1660959292248,
     "user": {
      "displayName": "Luis Gustavo Maldonado Archila",
      "userId": "00154281364666914585"
     },
     "user_tz": 240
    },
    "id": "723Bn-ilmaJR"
   },
   "outputs": [],
   "source": [
    "# Ajustar el número máximo de filas para mostrar\n",
    "#pd.get_option('display.max_rows')\n",
    "pd.set_option('display.max_rows', None) # mostrar todas\n",
    "#pd.set_option('display.max_rows', 60) # reset to default"
   ]
  },
  {
   "cell_type": "code",
   "execution_count": 7,
   "id": "Xjm7yID4WhYK",
   "metadata": {
    "executionInfo": {
     "elapsed": 13,
     "status": "ok",
     "timestamp": 1660959292249,
     "user": {
      "displayName": "Luis Gustavo Maldonado Archila",
      "userId": "00154281364666914585"
     },
     "user_tz": 240
    },
    "id": "Xjm7yID4WhYK"
   },
   "outputs": [],
   "source": [
    "# Ajustar la forma en que se muestran los números (NOtación científica vs contable)\n",
    "pd.set_option('display.float_format',  '{:,.2f}'.format)"
   ]
  },
  {
   "cell_type": "markdown",
   "id": "kMPoahk7BKmL",
   "metadata": {
    "id": "kMPoahk7BKmL"
   },
   "source": [
    "# Step 1: **Data Loading**"
   ]
  },
  {
   "cell_type": "markdown",
   "id": "7qLuYwx0xhJB",
   "metadata": {
    "id": "7qLuYwx0xhJB"
   },
   "source": [
    "## Load CSV into colab from Google Drive (DO NOT RUN if in Jupyter):"
   ]
  },
  {
   "cell_type": "code",
   "execution_count": 8,
   "id": "am_eVXerl5aK",
   "metadata": {
    "colab": {
     "base_uri": "https://localhost:8080/"
    },
    "executionInfo": {
     "elapsed": 18348,
     "status": "ok",
     "timestamp": 1660959310586,
     "user": {
      "displayName": "Luis Gustavo Maldonado Archila",
      "userId": "00154281364666914585"
     },
     "user_tz": 240
    },
    "id": "am_eVXerl5aK",
    "outputId": "68deb8c0-9993-4ef5-e1f2-6a1684c4d641"
   },
   "outputs": [
    {
     "name": "stdout",
     "output_type": "stream",
     "text": [
      "Mounted at /content/drive\n"
     ]
    }
   ],
   "source": [
    "# For Using Google Drive, (Only if executing notebook from Google colab):\n",
    "from google.colab import drive\n",
    "drive.mount('/content/drive')\n",
    "\n",
    "# after that:\n",
    "# <--- Refresh mounted Drive\n",
    "# <--- Look for file and get the path link"
   ]
  },
  {
   "cell_type": "markdown",
   "id": "WnaGvjAoK5YJ",
   "metadata": {
    "id": "WnaGvjAoK5YJ"
   },
   "source": [
    "### Find the file"
   ]
  },
  {
   "cell_type": "code",
   "execution_count": 9,
   "id": "xD-T9zQaxhH5",
   "metadata": {
    "colab": {
     "base_uri": "https://localhost:8080/"
    },
    "executionInfo": {
     "elapsed": 20,
     "status": "ok",
     "timestamp": 1660959310589,
     "user": {
      "displayName": "Luis Gustavo Maldonado Archila",
      "userId": "00154281364666914585"
     },
     "user_tz": 240
    },
    "id": "xD-T9zQaxhH5",
    "outputId": "5eaea97f-72cc-416d-f68a-fa3e4a85b84d"
   },
   "outputs": [
    {
     "name": "stdout",
     "output_type": "stream",
     "text": [
      "/content\n",
      "True\n"
     ]
    }
   ],
   "source": [
    "# Get the current directory\n",
    "print(os.getcwd())\n",
    "# Check if the directory exists\n",
    "print(os.path.exists('../'))"
   ]
  },
  {
   "cell_type": "code",
   "execution_count": 10,
   "id": "xp4DxWKiB7h6",
   "metadata": {
    "colab": {
     "base_uri": "https://localhost:8080/"
    },
    "executionInfo": {
     "elapsed": 311,
     "status": "ok",
     "timestamp": 1660959310890,
     "user": {
      "displayName": "Luis Gustavo Maldonado Archila",
      "userId": "00154281364666914585"
     },
     "user_tz": 240
    },
    "id": "xp4DxWKiB7h6",
    "outputId": "bdcc1d08-fb51-4a8d-d152-3690125951a4"
   },
   "outputs": [
    {
     "name": "stdout",
     "output_type": "stream",
     "text": [
      "\u001b[0m\u001b[01;34mdrive\u001b[0m/  \u001b[01;34msample_data\u001b[0m/\n"
     ]
    }
   ],
   "source": [
    "ls"
   ]
  },
  {
   "cell_type": "code",
   "execution_count": 11,
   "id": "PY5i_Ouon_fl",
   "metadata": {
    "colab": {
     "base_uri": "https://localhost:8080/"
    },
    "executionInfo": {
     "elapsed": 15,
     "status": "ok",
     "timestamp": 1660959310891,
     "user": {
      "displayName": "Luis Gustavo Maldonado Archila",
      "userId": "00154281364666914585"
     },
     "user_tz": 240
    },
    "id": "PY5i_Ouon_fl",
    "outputId": "a5325fb8-a02f-4bc6-cdb3-020adc28e84f"
   },
   "outputs": [
    {
     "name": "stdout",
     "output_type": "stream",
     "text": [
      "/content/drive/MyDrive/Observatorio SPVS\n"
     ]
    }
   ],
   "source": [
    "cd /content/drive/MyDrive/Observatorio SPVS/"
   ]
  },
  {
   "cell_type": "code",
   "execution_count": 12,
   "id": "RwJcOuQGWIey",
   "metadata": {
    "executionInfo": {
     "elapsed": 173,
     "status": "ok",
     "timestamp": 1660959314634,
     "user": {
      "displayName": "Luis Gustavo Maldonado Archila",
      "userId": "00154281364666914585"
     },
     "user_tz": 240
    },
    "id": "RwJcOuQGWIey"
   },
   "outputs": [],
   "source": [
    "# To load a file into colab:"
   ]
  },
  {
   "cell_type": "markdown",
   "id": "BKoIRaupohC5",
   "metadata": {
    "id": "BKoIRaupohC5"
   },
   "source": [
    "### Tabla Contratos de Vigilancia en SECOP"
   ]
  },
  {
   "cell_type": "code",
   "execution_count": 11,
   "id": "DGkmi0r0jcjz",
   "metadata": {
    "colab": {
     "base_uri": "https://localhost:8080/"
    },
    "executionInfo": {
     "elapsed": 3136,
     "status": "ok",
     "timestamp": 1660938237316,
     "user": {
      "displayName": "Luis Gustavo Maldonado Archila",
      "userId": "00154281364666914585"
     },
     "user_tz": 240
    },
    "id": "DGkmi0r0jcjz",
    "outputId": "fc682ba2-aaa0-4e22-8583-c5f0da134ea8"
   },
   "outputs": [
    {
     "data": {
      "text/plain": [
       "(752, 60)"
      ]
     },
     "execution_count": 11,
     "metadata": {},
     "output_type": "execute_result"
    }
   ],
   "source": [
    "PATH = '/content/drive/MyDrive/Observatorio SPVS/BD SECOP-II - Contratos/SECOP-II_-_Procesos_de_Contratacion_Filtro_Vigilancia_Datos Validos.csv'\n",
    "df_SECOP = pd.read_csv(PATH, encoding = 'utf-8', dtype='str', sep=',' )\n",
    "df_SECOP.shape"
   ]
  },
  {
   "cell_type": "code",
   "execution_count": 12,
   "id": "tZTHYwL4nxa9",
   "metadata": {
    "executionInfo": {
     "elapsed": 23,
     "status": "ok",
     "timestamp": 1660938237317,
     "user": {
      "displayName": "Luis Gustavo Maldonado Archila",
      "userId": "00154281364666914585"
     },
     "user_tz": 240
    },
    "id": "tZTHYwL4nxa9"
   },
   "outputs": [],
   "source": [
    "columnas_utiles = df_SECOP.columns\n",
    "\n",
    "# Define la lista de columnas que se van a necesitar\n",
    "columnas_utiles = ['Entidad', 'Nit Entidad', 'Departamento Entidad', 'Ciudad Entidad',\n",
    "       'OrdenEntidad', 'Entidad Centralizada', 'ID del Proceso',\n",
    "       'Referencia del Proceso',\n",
    "       'Precio Base', 'Modalidad de Contratacion', 'Justificación Modalidad de Contratación',\n",
    "       'Duracion en Días',\n",
    "       'Ciudad de la Unidad de Contratación',\n",
    "       'Nombre de la Unidad de Contratación', \n",
    "       'ID Adjudicacion', 'CodigoProveedor', 'Departamento Proveedor',\n",
    "       'Ciudad Proveedor', 'Fecha Adjudicacion', 'Valor Total Adjudicacion',\n",
    "       'Nombre del Adjudicador', 'Nombre del Proveedor Adjudicado',\n",
    "       'NIT del Proveedor Adjudicado', 'Codigo Principal de Categoria',\n",
    "       'Estado de Apertura del Proceso', 'Tipo de Contrato',\n",
    "       'Categorias Adicionales', 'URLProceso',\n",
    "       'Codigo Entidad']"
   ]
  },
  {
   "cell_type": "code",
   "execution_count": 13,
   "id": "nyuqMMoojhBp",
   "metadata": {
    "colab": {
     "base_uri": "https://localhost:8080/"
    },
    "executionInfo": {
     "elapsed": 22,
     "status": "ok",
     "timestamp": 1660938237318,
     "user": {
      "displayName": "Luis Gustavo Maldonado Archila",
      "userId": "00154281364666914585"
     },
     "user_tz": 240
    },
    "id": "nyuqMMoojhBp",
    "outputId": "12835d1a-532a-417f-d97f-fbcef8b03fa2"
   },
   "outputs": [
    {
     "name": "stdout",
     "output_type": "stream",
     "text": [
      "<class 'pandas.core.frame.DataFrame'>\n",
      "RangeIndex: 752 entries, 0 to 751\n",
      "Data columns (total 29 columns):\n",
      " #   Column                                   Non-Null Count  Dtype \n",
      "---  ------                                   --------------  ----- \n",
      " 0   Entidad                                  752 non-null    object\n",
      " 1   Nit Entidad                              752 non-null    object\n",
      " 2   Departamento Entidad                     752 non-null    object\n",
      " 3   Ciudad Entidad                           752 non-null    object\n",
      " 4   OrdenEntidad                             752 non-null    object\n",
      " 5   Entidad Centralizada                     752 non-null    object\n",
      " 6   ID del Proceso                           752 non-null    object\n",
      " 7   Referencia del Proceso                   752 non-null    object\n",
      " 8   Precio Base                              752 non-null    object\n",
      " 9   Modalidad de Contratacion                752 non-null    object\n",
      " 10  Justificación Modalidad de Contratación  752 non-null    object\n",
      " 11  Duracion en Días                         752 non-null    object\n",
      " 12  Ciudad de la Unidad de Contratación      752 non-null    object\n",
      " 13  Nombre de la Unidad de Contratación      752 non-null    object\n",
      " 14  ID Adjudicacion                          752 non-null    object\n",
      " 15  CodigoProveedor                          752 non-null    object\n",
      " 16  Departamento Proveedor                   752 non-null    object\n",
      " 17  Ciudad Proveedor                         752 non-null    object\n",
      " 18  Fecha Adjudicacion                       752 non-null    object\n",
      " 19  Valor Total Adjudicacion                 752 non-null    object\n",
      " 20  Nombre del Adjudicador                   752 non-null    object\n",
      " 21  Nombre del Proveedor Adjudicado          752 non-null    object\n",
      " 22  NIT del Proveedor Adjudicado             752 non-null    object\n",
      " 23  Codigo Principal de Categoria            752 non-null    object\n",
      " 24  Estado de Apertura del Proceso           752 non-null    object\n",
      " 25  Tipo de Contrato                         752 non-null    object\n",
      " 26  Categorias Adicionales                   752 non-null    object\n",
      " 27  URLProceso                               752 non-null    object\n",
      " 28  Codigo Entidad                           752 non-null    object\n",
      "dtypes: object(29)\n",
      "memory usage: 170.5+ KB\n"
     ]
    }
   ],
   "source": [
    "df_SECOP = df_SECOP[columnas_utiles]\n",
    "df_SECOP.info()"
   ]
  },
  {
   "cell_type": "code",
   "execution_count": 14,
   "id": "Tav82khLlBLN",
   "metadata": {
    "colab": {
     "base_uri": "https://localhost:8080/"
    },
    "executionInfo": {
     "elapsed": 16,
     "status": "ok",
     "timestamp": 1660938237319,
     "user": {
      "displayName": "Luis Gustavo Maldonado Archila",
      "userId": "00154281364666914585"
     },
     "user_tz": 240
    },
    "id": "Tav82khLlBLN",
    "outputId": "765327c1-119c-48c2-cff4-7ab5e132a42b"
   },
   "outputs": [
    {
     "data": {
      "text/plain": [
       "<bound method Series.unique of 0                       CGR GERENCIA DEPARTAMENTAL HUILA\n",
       "1              SENA DIRECCIÓN GENERAL Dirección Jurídica\n",
       "2                   SECRETARIA DE EDUCACION DEL DISTRITO\n",
       "3      AGENCIA NACIONAL DE CONTRATACIÓN PÚBLICA -COLO...\n",
       "4          INSTITUTO DE TRANSPORTES Y TRANSITO DEL HUILA\n",
       "5                                FUERZA AÉREA COLOMBIANA\n",
       "6             AGENCIA LOGISTICA DE LAS FUERZAS MILITARES\n",
       "7                                  DEPARTAMENTO DEL META\n",
       "8      INSTITUTO NACIONAL PENITENCIARIO Y CARCELARIO ...\n",
       "9                                 MUNICIPIO DE SINCELEJO\n",
       "10                              MUNICIPIO DE BUCARAMANGA\n",
       "11                            INSTITUTO NACIONAL DE VIAS\n",
       "12     PARQUES NACIONALES NATURALES DE COLOMBIA - DIR...\n",
       "13        INSTITUTO DE CULTURA Y BELLAS ARTES DE DUITAMA\n",
       "14     FONDO UNICO DE TECNOLOGÍAS DE LA INFORMACIÓN Y...\n",
       "15                        INSTITUTO DE DESARROLLO URBANO\n",
       "16                               FUERZA AÉREA COLOMBIANA\n",
       "17                  SECRETARIA DE EDUCACION DEL DISTRITO\n",
       "18     DEPARTAMENTO ADMINISTRATIVO DE LA DEFENSORIA D...\n",
       "19     INSTITUTO DE PLANIFICACIÓN Y PROMOCIÓN DE SOLU...\n",
       "20             SENA DIRECCIÓN GENERAL Dirección Jurídica\n",
       "21           INSTITUTO DE CULTURA Y TURISMO DE MANIZALES\n",
       "22                       ALCALDIA MUNICIPIO DE ZIPAQUIRA\n",
       "23                                ALCALDIA LOCAL DE BOSA\n",
       "24                                    MUNICIPIO DE YOPAL\n",
       "25        MINISTERIO DE CIENCIA; TECNOLOGIA E INNOVACION\n",
       "26            AGENCIA LOGISTICA DE LAS FUERZAS MILITARES\n",
       "27     INSTITUTO COLOMBIANO DE BIENESTAR FAMILIAR (SE...\n",
       "28     PARQUES NACIONALES NATURALES DE COLOMBIA - DIR...\n",
       "29           ARMADA NACIONAL BASE NAVAL No. 6 ARC BOGOTA\n",
       "30           DIRECCION DE IMPUESTOS Y ADUANAS NACIONALES\n",
       "31     SUBRED INTEGRADA DE SERVICIOS DE SALUD SUR OCC...\n",
       "32     PARQUES NACIONALES NATURALES DE COLOMBIA - DIR...\n",
       "33     INSTITUTO MUNICIPAL DEL DEPORTE Y LA RECREACIO...\n",
       "34                                   MUNICIPIO EL RETIRO\n",
       "35     PARQUES NACIONALES NATURALES DE COLOMBIA - DIR...\n",
       "36     UNIDAD ADMINISTRATIVA ESPECIAL DE GESTION DE R...\n",
       "37                               MINISTERIO DEL INTERIOR\n",
       "38                      ALCALDIA MUNICIPAL DE VALLEDUPAR\n",
       "39     CONTRALORIA GENERAL DE LA REPUBLICA-CGR-GERENC...\n",
       "40           INSTITUTO DE CULTURA Y TURISMO DE MANIZALES\n",
       "41              COMANDO GENERAL DE LAS FUERZAS MILITARES\n",
       "42             DISPENSARIO MEDICO NIVEL II  BARRANQUILLA\n",
       "43                                    VEEDURIA DISTRITAL\n",
       "44     GOBERNACIÓN DEL DEPARTAMENTO ARCHIPIELAGO DE S...\n",
       "45     INSTITUTO FINANCIERO PARA EL DESARROLLO DEL VA...\n",
       "46                  SECRETARIA DE EDUCACION DEL DISTRITO\n",
       "47     Rama Judicial  Dirección Seccional de Adminis...\n",
       "48     PARQUES NACIONALES NATURALES DE COLOMBIA - DIR...\n",
       "49     PARQUES NACIONALES NATURALES DE COLOMBIA - DIR...\n",
       "50     CORPORACION AUTONOMA REGIONAL DE CALDAS CORPOC...\n",
       "51            AGENCIA LOGISTICA DE LAS FUERZAS MILITARES\n",
       "52                     PROCURADURIA GENERAL DE LA NACION\n",
       "53                  SECRETARIA DE EDUCACION DEL DISTRITO\n",
       "54     INSTITUTO COLOMBIANO DE CREDITO EDUCATIVO Y ES...\n",
       "55     PARQUES NACIONALES NATURALES DE COLOMBIA - DIR...\n",
       "56                MINISTERIO DE EDUCACION NACIONAL (MEN)\n",
       "57     Secretaria Distrital de Integración Social - O...\n",
       "58               CAJA DE RETIRO DE LAS FUERZAS MILITARES\n",
       "59     SUBCUENTA DEL SISTEMA DE PARQUES NACIONALES NA...\n",
       "60                        MINISTERIO DE DEFENSA NACIONAL\n",
       "61                                 GOBERNACION DEL HUILA\n",
       "62                  SECRETARIA DE EDUCACION DEL DISTRITO\n",
       "63                        INSTITUTO DE DESARROLLO URBANO\n",
       "64                               FUERZA AÉREA COLOMBIANA\n",
       "65                                 MINISTERIO DE CULTURA\n",
       "66                        COMANDO AEREO DE COMBATE No. 4\n",
       "67                                     LOTERIA DE BOGOTA\n",
       "68             ALCALDIA MUNICIPIO DE PUERTO LOPEZ - META\n",
       "69                    DISPENSARIO MEDICO NIVEL II BOGOTA\n",
       "70     PARQUES NACIONALES NATURALES DE COLOMBIA - DIR...\n",
       "71     CONTRALORÍA GENERAL DE LA REPÚBLICA- CGR-GEREN...\n",
       "72     UNIDAD ADMINISTRATIVA ESPECIAL DEL SISTEMA  ES...\n",
       "73                      SECRETARIA DISTRITAL DE HACIENDA\n",
       "74             SENA DIRECCIÓN GENERAL Dirección Jurídica\n",
       "75              DIRECCIÓN TERRITORIAL DE SALUD DE CALDAS\n",
       "76                                GOBERNACIÓN DE BOLÍVAR\n",
       "77                              CAMARA DE REPRESENTANTES\n",
       "78                                   LICEOS DEL EJERCITO\n",
       "79                  MINISTERIO DEL TRABAJO NIVEL CENTRAL\n",
       "80     CONTRALORIA GENERAL DE LA REPUBLICA - CGR-GERE...\n",
       "81                                    VEEDURIA DISTRITAL\n",
       "82           ARMADA NACIONAL HOSPITAL NAVAL DE CARTAGENA\n",
       "83              MINISTERIO DE HACIENDA Y CREDITO PUBLICO\n",
       "84     Empresa Nacional Promotora del Desarrollo Terr...\n",
       "85                                    VEEDURIA DISTRITAL\n",
       "86                            INSTITUTO NACIONAL DE VIAS\n",
       "87               CAJA DE RETIRO DE LAS FUERZAS MILITARES\n",
       "88                            INSTITUTO NACIONAL DE VIAS\n",
       "89                             ALCALDIA LOCAL DE KENNEDY\n",
       "90                                MUNICIPIO DE SINCELEJO\n",
       "91             SENA DIRECCIÓN GENERAL Dirección Jurídica\n",
       "92                                     ALCALDIA DE PASTO\n",
       "93           ARMADA NACIONAL HOSPITAL NAVAL DE CARTAGENA\n",
       "94            AGENCIA LOGISTICA DE LAS FUERZAS MILITARES\n",
       "95     DEPARTAMENTO ADMINISTRATIVO DE LA DEFENSORIA D...\n",
       "96     SUPERINTENDENCIA DE VIGILANCIA Y SEGURIDAD PRI...\n",
       "97                    AGENCIA NACIONAL DE SEGURIDAD VIAL\n",
       "98                                          CLUB MILITAR\n",
       "99                      INSTITUTO NACIONAL DE METROLOGIA\n",
       "100                   SUPERINTENDENCIA NACIONAL DE SALUD\n",
       "101    UNIDAD DE BUSQUEDA DE PERSONAS DADAS POR DESAP...\n",
       "102    CONTRALORIA GENERAL DE LA REPUBLICA-CGR-GERENC...\n",
       "103    ADMINISTRADORA DE LOS RECURSOS DEL SISTEMA GEN...\n",
       "104            SENA DIRECCIÓN GENERAL Dirección Jurídica\n",
       "105                           INSTITUTO NACIONAL DE VIAS\n",
       "106                     SECRETARIA DISTRITAL DE HACIENDA\n",
       "107                            ALCALDIA LOCAL DE KENNEDY\n",
       "108    RAMA JUDICIAL - DIRECCIÓN SECCIONAL DE ADMINIS...\n",
       "109    SECRETARIA DISTRITAL DE SEGURIDAD; CONVIVENCIA...\n",
       "110                                MINISTERIO DE CULTURA\n",
       "111                                   MUNICIPIO DE YOPAL\n",
       "112                                         CLUB MILITAR\n",
       "113                                   MUNICIPIO DE YOPAL\n",
       "114                                   METRO DE BOGOTA SA\n",
       "115                       INSTITUTO DE DESARROLLO URBANO\n",
       "116                                GOBERNACIÓN DEL CAUCA\n",
       "117                               MUNICIPIO DE SINCELEJO\n",
       "118    AGENCIA PARA LA REINCORPORACIÓN Y LA NORMALIZA...\n",
       "119        INSTITUTO DE TRANSPORTES Y TRANSITO DEL HUILA\n",
       "120    SUPERINTENDENCIA DE VIGILANCIA Y SEGURIDAD PRI...\n",
       "121           AGENCIA LOGISTICA DE LAS FUERZAS MILITARES\n",
       "122    SUBRED INTEGRADA DE SERVICIOS DE SALUD NORTE E...\n",
       "123          INSTITUTO DISTRITAL DE RECREACIÓN Y DEPORTE\n",
       "124                 AGENCIA DE RENOVACION DEL TERRITORIO\n",
       "125    PARQUES NACIONALES NATURALES DE COLOMBIA - DIR...\n",
       "126    CONTRALORÍA GENERAL DE LA REPÚBLICA- CGR-GEREN...\n",
       "127                                         CLUB MILITAR\n",
       "128                 SECRETARIA DE EDUCACION DEL DISTRITO\n",
       "129    PARQUES NACIONALES NATURALES DE COLOMBIA - DIR...\n",
       "130    PARQUES NACIONALES NATURALES DE COLOMBIA - DIR...\n",
       "131    CONTRALORIA GENERAL DE LA REPUBLICA-CGR- GEREN...\n",
       "132    UNIDAD ADMINISTRATIVA ESPECIAL JUNTA CENTRAL D...\n",
       "133                              GOBERNACION DEL CAQUETA\n",
       "134            AGENCIA NACIONAL DE INFRAESTRUCTURA - ANI\n",
       "135    Rama Judicial  Dirección Seccional de Adminis...\n",
       "136                 SECRETARIA DE EDUCACION DEL DISTRITO\n",
       "137         INSTITUTO DE EVALUACION TECNOLOGICA EN SALUD\n",
       "138    PARQUES NACIONALES NATURALES DE COLOMBIA - DIR...\n",
       "139                      ALCALDIA MUNICIPIO DE ZIPAQUIRA\n",
       "140                                   MUNICIPIO DE NEIVA\n",
       "141           AGENCIA LOGISTICA DE LAS FUERZAS MILITARES\n",
       "142                  DANE - DIRECCION TERRITORIAL CENTRO\n",
       "143                 SECRETARIA DE EDUCACION DEL DISTRITO\n",
       "144                              GOBERNACION DEL CAQUETA\n",
       "145    INSTITUTO DISTRITAL PARA LA PROTECCIÓN DE LA N...\n",
       "146           AGENCIA LOGISTICA DE LAS FUERZAS MILITARES\n",
       "147           FONDO DE DESARROLLO LOCAL DE LA CANDELARIA\n",
       "148                               MUNICIPIO DE SINCELEJO\n",
       "149                                DEPARTAMENTO DEL META\n",
       "150              CAJA DE RETIRO DE LAS FUERZAS MILITARES\n",
       "151                          AGENCIA NACIONAL DE TIERRAS\n",
       "152    SUPERINTENDENCIA DE VIGILANCIA Y SEGURIDAD PRI...\n",
       "153    CENTRO DE DIAGNOSTICO AUTOMOTOR DEL VALLE LIMI...\n",
       "154    Rama Judicial  Dirección Seccional de Adminis...\n",
       "155    UNIDAD ADMINISTRATIVA ESPECIAL JUNTA CENTRAL D...\n",
       "156    RAMA JUDICIAL - DIRECCIÓN SECCIONAL DE ADMINIS...\n",
       "157                                  LICEOS DEL EJERCITO\n",
       "158                       COMANDO AEREO DE COMBATE No. 4\n",
       "159                 AGENCIA DE RENOVACION DEL TERRITORIO\n",
       "160    Rama Judicial  Dirección Seccional de Adminis...\n",
       "161    AGENCIA NACIONAL DE CONTRATACIÓN PÚBLICA -COLO...\n",
       "162                     SECRETARIA DISTRITAL DE HACIENDA\n",
       "163          INSTITUTO DE CULTURA Y TURISMO DE MANIZALES\n",
       "164    PARQUES NACIONALES NATURALES DE COLOMBIA - DIR...\n",
       "165                                 MUNICIPIO DE SEGOVIA\n",
       "166    CONTRALORIA GENERAL DE LA REPUBLICA - CGR - GE...\n",
       "167    CORPORACION AUTONOMA REGIONAL DE CALDAS CORPOC...\n",
       "168    ALCALDÍA DEL DISTRITO TURÍSTICO Y CULTURAL DE ...\n",
       "169    CONTRALORIA GENERAL DE LA REPUBLICA - CGR - GE...\n",
       "170                                    LOTERIA DE BOGOTA\n",
       "171    Rama Judicial  Dirección Seccional de Adminis...\n",
       "172    PARQUES NACIONALES NATURALES DE COLOMBIA - DIR...\n",
       "173    SECRETARIA DISTRITAL DE SEGURIDAD; CONVIVENCIA...\n",
       "174        ESCUELA TECNOLÓGICA INSTITUTO TÉCNICO CENTRAL\n",
       "175                     INSTITUTO NACIONAL DE METROLOGIA\n",
       "176    DEPARTAMENTO ADMINISTRATIVO DE LA DEFENSORIA D...\n",
       "177    INSTITUTO NACIONAL PENITENCIARIO Y CARCELARIO ...\n",
       "178    RAMA JUDICIAL - DIRECCIÓN SECCIONAL DE ADMINIS...\n",
       "179    UNIDAD DE BUSQUEDA DE PERSONAS DADAS POR DESAP...\n",
       "180          ARMADA NACIONAL BASE NAVAL No. 6 ARC BOGOTA\n",
       "181    Secretaria Distrital de Integración Social - O...\n",
       "182    FONDO DE PREVISION SOCIAL DEL CONGRESO DE LA R...\n",
       "183    DEPARTAMENTO ADMINISTRATIVO DE LA DEFENSORIA D...\n",
       "184    INSTITUTO NACIONAL DE VIGILANCIA DE MEDICAMENT...\n",
       "185    Rama Judicial - Dirección Seccional de Adminis...\n",
       "186    CONTRALORIA GENERAL DE LA REPUBLICA-CGR- GEREN...\n",
       "187    MINISTERIO DEL TRABAJO DIRECCIÓN TERRITORIAL D...\n",
       "188                              FUERZA AÉREA COLOMBIANA\n",
       "189                     ALCALDIA LOCAL DE CIUDAD BOLIVAR\n",
       "190       MINISTERIO DE CIENCIA; TECNOLOGIA E INNOVACION\n",
       "191    INSTITUTO NACIONAL PENITENCIARIO Y CARCELARIO ...\n",
       "192    PARQUES NACIONALES NATURALES DE COLOMBIA - DIR...\n",
       "193                                   MUNICIPIO DE HONDA\n",
       "194                       INSTITUTO NACIONAL PARA CIEGOS\n",
       "195                          JEFATURA SALUD FUERZA AEREA\n",
       "196                                               IDIGER\n",
       "197          DIRECCION DE IMPUESTOS Y ADUANAS NACIONALES\n",
       "198                 SECRETARIA DE EDUCACION DEL DISTRITO\n",
       "199                     DIRECCION GENERAL MARITIMA-DIMAR\n",
       "200                                    LOTERIA DE BOGOTA\n",
       "201            SENA DIRECCIÓN GENERAL Dirección Jurídica\n",
       "202    CONTRALORIA GENERAL DE LA REPUBLICA-CGR-GERENC...\n",
       "203    INSTITUTO COLOMBIANO DE BIENESTAR FAMILIAR (SE...\n",
       "204                                   MUNICIPIO DE NEIVA\n",
       "205    PARQUES NACIONALES NATURALES DE COLOMBIA - DIR...\n",
       "206    SUPERINTENDENCIA DE VIGILANCIA Y SEGURIDAD PRI...\n",
       "207                        ALCALDÍA MUNICIPIO DE PALMIRA\n",
       "208    FONDO UNICO DE TECNOLOGÍAS DE LA INFORMACIÓN Y...\n",
       "209                     PERSONERIA MUNICIPAL DE ENVIGADO\n",
       "210                                   MUNICIPIO DE NEIVA\n",
       "211                       INSTITUTO DISTRITAL DE TURISMO\n",
       "212    UNIDAD ADMINISTRATIVA ESPECIAL DE REHABILITACI...\n",
       "213    CENTRAL ADMINISTRATIVA Y CONTABLE ESPECIALIZAD...\n",
       "214    INSTITUTO DE PLANIFICACIÓN Y PROMOCIÓN DE SOLU...\n",
       "215    Rama Judicial  Dirección Seccional de Adminis...\n",
       "216          ARMADA NACIONAL BASE NAVAL No. 6 ARC BOGOTA\n",
       "217    PARQUES NACIONALES NATURALES DE COLOMBIA - DIR...\n",
       "218           AGENCIA LOGISTICA DE LAS FUERZAS MILITARES\n",
       "219    INSTITUTO NACIONAL PENITENCIARIO Y CARCELARIO ...\n",
       "220                                DEPARTAMENTO DEL META\n",
       "221             PARQUES NACIONALES NATURALES DE COLOMBIA\n",
       "222           AGENCIA LOGISTICA DE LAS FUERZAS MILITARES\n",
       "223    CORPORACION AUTONOMA REGIONAL DEL GUAVIO - COR...\n",
       "224             PARQUES NACIONALES NATURALES DE COLOMBIA\n",
       "225    UNIDAD ADMINISTRATIVA ESPECIAL JUNTA CENTRAL D...\n",
       "226          UNIDAD DE INFORMACION Y ANALISIS FINANCIERO\n",
       "227            AGENCIA NACIONAL DE INFRAESTRUCTURA - ANI\n",
       "228    INSTITUTO DE CULTURA; RECREACION Y DEPORTE DE ...\n",
       "229                                   MUNICIPIO DE NEIVA\n",
       "230    INSTITUTO NACIONAL PENITENCIARIO Y CARCELARIO ...\n",
       "231    CORPORACIÓN AUTÓNOMA REGIONAL PARA LA DEFENSA ...\n",
       "232    CONTRALORIA GENERAL DE LA REPUBLICA-CGR-GERENC...\n",
       "233                                 GOBERNACION DE SUCRE\n",
       "234              CAJA DE RETIRO DE LAS FUERZAS MILITARES\n",
       "235    INSTITUTO COLOMBIANO DE CREDITO EDUCATIVO Y ES...\n",
       "236     SUBRED INTEGRADA DE SERVICIOS DE SALUD SUR E.S.E\n",
       "237                                    DISTRITO DE TURBO\n",
       "238                    AGENCIA NACIONAL DE HIDROCARBUROS\n",
       "239                FONDO FINANCIERO DISTRITAL DE SALUD..\n",
       "240    CONTRALORIA GENERAL DE LA REPUBLICA- CGR- DEPA...\n",
       "241                              FUERZA AÉREA COLOMBIANA\n",
       "242    PARQUES NACIONALES NATURALES DE COLOMBIA - DIR...\n",
       "243                          JEFATURA SALUD FUERZA AEREA\n",
       "244                          AGENCIA NACIONAL DE TIERRAS\n",
       "245                            DEPARTAMENTO DE ANTIOQUIA\n",
       "246                               GRUPO AÉREO DEL CARIBE\n",
       "247          DIRECCION DE IMPUESTOS Y ADUANAS NACIONALES\n",
       "248                          JEFATURA SALUD FUERZA AEREA\n",
       "249    INSTITUTO NACIONAL PENITENCIARIO Y CARCELARIO ...\n",
       "250                          CAJA DE LA VIVIENDA POPULAR\n",
       "251                   FUNDACION GILBERTO ALZATE AVENDAÑO\n",
       "252                              GOBERNACION DEL CAQUETA\n",
       "253    ESCUELA SUPERIOR TECNOLOGICA DE ARTES DEBORA A...\n",
       "254    DIRECCION DEL VETERANO Y REHABILITACION INCLUSIVA\n",
       "255    INSTITUTO DE CULTURA; RECREACION Y DEPORTE DE ...\n",
       "256    CONTRALORÍA GENERAL DE LA REPÚBLICA - GERENCIA...\n",
       "257    CONTRALORIA GENERAL DE LA REPÚBLICA - CGR GERE...\n",
       "258       MINISTERIO DE CIENCIA; TECNOLOGIA E INNOVACION\n",
       "259    DEPARTAMENTO DE CUNDINAMARCA - SECRETARIA DE E...\n",
       "260                          AGENCIA NACIONAL DE MINERIA\n",
       "261                     DIRECCION GENERAL MARITIMA-DIMAR\n",
       "262                               MUNICIPIO DE SINCELEJO\n",
       "263                 SECRETARIA DE EDUCACION DEL DISTRITO\n",
       "264                         ALCALDIA LOCAL DE TUNJUELITO\n",
       "265                                DEPARTAMENTO DEL META\n",
       "266                                MINISTERIO DE CULTURA\n",
       "267             MINISTERIO DE HACIENDA Y CREDITO PUBLICO\n",
       "268                 SECRETARIA DE EDUCACION DEL DISTRITO\n",
       "269    SECRETARIA DISTRITAL DE SEGURIDAD; CONVIVENCIA...\n",
       "270         SIC SUPERINTENDENCIA DE INDUSTRIA Y COMERCIO\n",
       "271                               MUNICIPIO DE MARINILLA\n",
       "272    UNIDAD DE BUSQUEDA DE PERSONAS DADAS POR DESAP...\n",
       "273       MINISTERIO DE AMBIENTE Y DESARROLLO SOSTENIBLE\n",
       "274    UNIDAD ADMINISTRATIVA ESPECIAL DE AERONÁUTICA ...\n",
       "275                                 ALCALDIA DE APARTADO\n",
       "276            SUPERINTENDENCIA DE LA ECONOMIA SOLIDARIA\n",
       "277                      ALCALDIA MUNICIPIO DE ZIPAQUIRA\n",
       "278          INSTITUTO DE CULTURA Y TURISMO DE MANIZALES\n",
       "279                          CENTRO DE MEMORIA HISTORICA\n",
       "280    INSTITUTO DE LA JUVENTUD; EL DEPORTE; LA RECRE...\n",
       "281    INSTITUTO DE CULTURA; RECREACION Y DEPORTE DE ...\n",
       "282    PARQUES NACIONALES NATURALES DE COLOMBIA - DIR...\n",
       "283            DISPENSARIO MEDICO NIVEL II  BARRANQUILLA\n",
       "284                 AGENCIA DE RENOVACION DEL TERRITORIO\n",
       "285    CONTRALORIA GENERAL DE LA REPUBLICA-CGR-GERENC...\n",
       "286                          AGENCIA NACIONAL DE MINERIA\n",
       "287                               MUNICIPIO DE SINCELEJO\n",
       "288    INSTITUTO DISTRITAL PARA LA PROTECCIÓN DE LA N...\n",
       "289               MUNICIPIO DE SAN PEDRO DE LOS MILAGROS\n",
       "290    DEPARTAMENTO ADMINISTRATIVO DE LA PRESIDENCIA ...\n",
       "291             PARQUES NACIONALES NATURALES DE COLOMBIA\n",
       "292                   SUPERINTENDENCIA NACIONAL DE SALUD\n",
       "293           AGENCIA LOGISTICA DE LAS FUERZAS MILITARES\n",
       "294                       Superintendencia de Transporte\n",
       "295    CONTRALORÍA GENERAL DE LA REPÚBLICA - GERENCIA...\n",
       "296              CAJA DE RETIRO DE LAS FUERZAS MILITARES\n",
       "297      DEPARTAMENTO DE CUNDINAMARCA-SECRETARIA GENERAL\n",
       "298                     SECRETARIA DISTRITAL DE GOBIERNO\n",
       "299                 SECRETARIA DE EDUCACION DEL DISTRITO\n",
       "300                     ARMADA NACIONAL - BASE NAVAL ARC\n",
       "301    Rama Judicial  Dirección Seccional de Adminis...\n",
       "302    PARQUES NACIONALES NATURALES DE COLOMBIA - DIR...\n",
       "303    INSTITUTO NACIONAL DE VIGILANCIA DE MEDICAMENT...\n",
       "304    MINISTERIO DEL TRABAJO DIRECCION TERRITORIAL G...\n",
       "305                     DIRECCION GENERAL MARITIMA-DIMAR\n",
       "306                     ASOCIACION CABLE AEREO MANIZALES\n",
       "307    Secretaria Distrital de Integración Social - O...\n",
       "308                           INSTITUTO NACIONAL DE VIAS\n",
       "309    INSTITUTO NACIONAL DE VIGILANCIA DE MEDICAMENT...\n",
       "310                               MUNICIPIO DE MANIZALES\n",
       "311    RAMA JUDICIAL - DIRECCIÓN SECCIONAL DE ADMINIS...\n",
       "312    ADMINISTRADORA DE LOS RECURSOS DEL SISTEMA GEN...\n",
       "313    AGENCIA NACIONAL DE CONTRATACIÓN PÚBLICA -COLO...\n",
       "314    Rama Judicial  Dirección Seccional de Adminis...\n",
       "315          INSTITUTO DE CULTURA Y TURISMO DE MANIZALES\n",
       "316    UNIDAD ADMINISTRATIVA ESPECIAL DIRECCION NACIO...\n",
       "317                          EMPRESA FERREA REGIONAL SAS\n",
       "318         SIC SUPERINTENDENCIA DE INDUSTRIA Y COMERCIO\n",
       "319                        PERSONERIA MUNICIPAL DE NEIVA\n",
       "320                       INSTITUTO DE DESARROLLO URBANO\n",
       "321            SENA DIRECCIÓN GENERAL Dirección Jurídica\n",
       "322            SENA DIRECCIÓN GENERAL Dirección Jurídica\n",
       "323    Rama Judicial  Dirección Seccional de Adminis...\n",
       "324    ARMADA NACIONAL ESCUELA NAVAL DE SUBOFICIALES ...\n",
       "325    UNIDAD EJECUTORA DE SANEAMIENTO DEL VALLE DEL ...\n",
       "326    DEPARTAMENTO ADMINISTRATIVO DE LA DEFENSORIA D...\n",
       "327                            GOBERNACION DEL MAGDALENA\n",
       "328                      ALCALDIA LOCAL DE SAN CRISTOBAL\n",
       "329                              FUERZA AÉREA COLOMBIANA\n",
       "330    CORPORACION AUTONOMA REGIONAL DE CALDAS CORPOC...\n",
       "331          INSTITUTO DE CULTURA Y TURISMO DE MANIZALES\n",
       "332                     DIRECCION GENERAL MARITIMA-DIMAR\n",
       "333    CONTRALORIA GENERAL DE LA REPUBLICA -GERENCIA ...\n",
       "334    PARQUES NACIONALES NATURALES DE COLOMBIA - DIR...\n",
       "335    INSTITUTO DE FINANCIAMIENTO; PROMOCION Y DESAR...\n",
       "336    Rama Judicial  Dirección Seccional de Adminis...\n",
       "337    PARQUES NACIONALES NATURALES DE COLOMBIA - DIR...\n",
       "338         SIC SUPERINTENDENCIA DE INDUSTRIA Y COMERCIO\n",
       "339    Rama Judicial  Dirección Seccional de Adminis...\n",
       "340    UNIDAD DE BUSQUEDA DE PERSONAS DADAS POR DESAP...\n",
       "341                       DIRECCION NACIONAL DE ESCUELAS\n",
       "342                                MINISTERIO DE CULTURA\n",
       "343          ARMADA NACIONAL BASE NAVAL No. 6 ARC BOGOTA\n",
       "344           AGENCIA LOGISTICA DE LAS FUERZAS MILITARES\n",
       "345    PARQUES NACIONALES NATURALES DE COLOMBIA - DIR...\n",
       "346            SENA DIRECCIÓN GENERAL Dirección Jurídica\n",
       "347    CONTRALORIA GENERAL DE LA REPUBLICA - CGR DEPA...\n",
       "348                                DEFENSORÍA DEL PUEBLO\n",
       "349            SENA DIRECCIÓN GENERAL Dirección Jurídica\n",
       "350                 SECRETARIA DE EDUCACION DEL DISTRITO\n",
       "351                               MUNICIPIO DE CHIGORODO\n",
       "352            AUTORIDAD NACIONAL DE ACUICULTURA Y PESCA\n",
       "353                 SECRETARIA DE EDUCACION DEL DISTRITO\n",
       "354          INSTITUTO DISTRITAL DE RECREACIÓN Y DEPORTE\n",
       "355    INSTITUTO DE PLANIFICACIÓN Y PROMOCIÓN DE SOLU...\n",
       "356             SUPERINTENDENCIA DE NOTARIADO Y REGISTRO\n",
       "357    CONTRALORIA GENERAL DE LA REPUBLICA-CGR-GERENC...\n",
       "358    PARQUES NACIONALES NATURALES DE COLOMBIA - DIR...\n",
       "359    UARIV-UNIDAD PARA LA ATENCION Y REPARACION INT...\n",
       "360              CAJA DE RETIRO DE LAS FUERZAS MILITARES\n",
       "361                 SECRETARIA DE EDUCACION DEL DISTRITO\n",
       "362                       INSTITUTO NACIONAL PARA CIEGOS\n",
       "363                       INSTITUTO DE DESARROLLO URBANO\n",
       "364    PARQUES NACIONALES NATURALES DE COLOMBIA - DIR...\n",
       "365                          CENTRO DE MEMORIA HISTORICA\n",
       "366                                               IDIGER\n",
       "367          INSTITUTO DE CULTURA Y TURISMO DE MANIZALES\n",
       "368          INSTITUTO DE CULTURA Y TURISMO DE MANIZALES\n",
       "369                                GOBERNACION DE NARIÑO\n",
       "370    INSTITUTO DE CULTURA; RECREACION Y DEPORTE DE ...\n",
       "371    CONTRALORIA GENERAL DE LA REPUBLICA-CGR- GEREN...\n",
       "372    SUPERINTENDENCIA DE VIGILANCIA Y SEGURIDAD PRI...\n",
       "373    SANTIAGO DE CALI DISTRITO ESPECIAL - SECRETARI...\n",
       "374                          CAJA DE LA VIVIENDA POPULAR\n",
       "375                           INSTITUTO NACIONAL DE VIAS\n",
       "376                 DIRECCION GENERAL MARITIMA - INRED 3\n",
       "377                                  LICEOS DEL EJERCITO\n",
       "378    AGENCIA NACIONAL DE CONTRATACIÓN PÚBLICA -COLO...\n",
       "379            AGENCIA NACIONAL DE INFRAESTRUCTURA - ANI\n",
       "380    ARMADA NACIONAL ESCUELA NAVAL DE SUBOFICIALES ...\n",
       "381            SENA DIRECCIÓN GENERAL Dirección Jurídica\n",
       "382                       INSTITUTO DISTRITAL DE TURISMO\n",
       "383    INSTITUTO DE HIDROLOGIA; METEOROLOGÍA Y ESTUDI...\n",
       "384             REGIONAL DE ASEGURAMIENTO EN SALUD No. 5\n",
       "385                       INSTITUTO DE DESARROLLO URBANO\n",
       "386    CORPORACION AUTONOMA REGIONAL DE LAS CUENCAS D...\n",
       "387    UNIDAD EJECUTORA DE SANEAMIENTO DEL VALLE DEL ...\n",
       "388           AGENCIA LOGISTICA DE LAS FUERZAS MILITARES\n",
       "389                        PERSONERIA MUNICIPAL DE FUNZA\n",
       "390                 SECRETARIA DE EDUCACION DEL DISTRITO\n",
       "391    PARQUES NACIONALES NATURALES DE COLOMBIA - DIR...\n",
       "392                               MUNICIPIO DE SINCELEJO\n",
       "393                 SECRETARIA DE EDUCACION DEL DISTRITO\n",
       "394                           TERMINAL DE TRANSPORTE S.A\n",
       "395    CONTRALORIA GENERAL DE LA REPÚBLICA - CGR GERE...\n",
       "396    INSTITUTO DE HIDROLOGIA; METEOROLOGÍA Y ESTUDI...\n",
       "397          CORPORACION AUTONOMA REGIONAL DEL MAGDALENA\n",
       "398    Rama Judicial  Dirección Seccional de Adminis...\n",
       "399    Rama Judicial - Dirección Seccional de Adminis...\n",
       "400    RAMA JUDICIAL - DIRECCIÓN SECCIONAL DE ADMINIS...\n",
       "401                 SECRETARIA DE EDUCACION DEL DISTRITO\n",
       "402                                MUNICIPIO DE ENVIGADO\n",
       "403    PARQUES NACIONALES NATURALES DE COLOMBIA - DIR...\n",
       "404    UNIDAD ADMINISTRATIVA ESPECIAL JUNTA CENTRAL D...\n",
       "405                        MINISTERIO DE MINAS Y ENERGIA\n",
       "406                        INSTITUTO DE TURISMO DEL META\n",
       "407                               CENTRO CULTURAL BACATA\n",
       "408    CONTRALORIA GENERAL DE LA REPÚBLICA - CGR GERE...\n",
       "409    PARQUES NACIONALES NATURALES DE COLOMBIA - DIR...\n",
       "410    CONTRALORIA GENERAL DE LA REPUBLICA GERENCIA D...\n",
       "411    PARQUES NACIONALES NATURALES DE COLOMBIA - DIR...\n",
       "412    UNIDAD ADMINISTRATIVA ESPECIAL AGENCIA NACIONA...\n",
       "413            SENA DIRECCIÓN GENERAL Dirección Jurídica\n",
       "414                               MUNICIPIO DE SINCELEJO\n",
       "415                              FUERZA AÉREA COLOMBIANA\n",
       "416                                   VEEDURIA DISTRITAL\n",
       "417            DISPENSARIO MEDICO NIVEL II  BARRANQUILLA\n",
       "418                                  MUNICIPIO DE ITAGUI\n",
       "419                              FUERZA AÉREA COLOMBIANA\n",
       "420                       COMANDO AEREO DE COMBATE No. 4\n",
       "421    Rama Judicial  Dirección Seccional de Adminis...\n",
       "422                                GOBERNACION DE NARIÑO\n",
       "423                               MUNICIPIO DE SINCELEJO\n",
       "424    UNIDAD ADMINISTRATIVA ESPECIAL DE CATASTRO DIS...\n",
       "425                       COMANDO AEREO DE COMBATE No. 4\n",
       "426            SUPERINTENDENCIA DE LA ECONOMIA SOLIDARIA\n",
       "427                 AGENCIA DE RENOVACION DEL TERRITORIO\n",
       "428                                   MUNICIPIO DE NEIVA\n",
       "429                           INSTITUTO NACIONAL DE VIAS\n",
       "430                    AGENCIA NACIONAL DE HIDROCARBUROS\n",
       "431    Secretaria Distrital de Integración Social - O...\n",
       "432    PARQUES NACIONALES NATURALES DE COLOMBIA - DIR...\n",
       "433    PARQUES NACIONALES NATURALES DE COLOMBIA - DIR...\n",
       "434                       COMANDO AEREO DE COMBATE No. 4\n",
       "435    Empresa Nacional Promotora del Desarrollo Terr...\n",
       "436    INSTITUTO NACIONAL DE VIGILANCIA DE MEDICAMENT...\n",
       "437    CONTRALORIA GENERAL DE LA REPUBLICA -CGR- GERE...\n",
       "438    PARQUES NACIONALES NATURALES DE COLOMBIA - DIR...\n",
       "439                 SECRETARIA DE EDUCACION DEL DISTRITO\n",
       "440               SUPERINTENDENCIA DEL SUBSIDIO FAMILIAR\n",
       "441    Rama Judicial - Dirección Seccional de Adminis...\n",
       "442        CORPORACIÓN AUTÓNOMA REGIONAL DE LA ORINOQUIA\n",
       "443               GOBERNACION DEL VALLE DEL CAUCA - DADI\n",
       "444              CAJA DE RETIRO DE LAS FUERZAS MILITARES\n",
       "445          INSTITUTO DE CULTURA Y TURISMO DE MANIZALES\n",
       "446                              FUERZA AÉREA COLOMBIANA\n",
       "447                   CONTRALORIA DEPARTAMENTAL DEL META\n",
       "448    CONTRALORIA GENERAL DE LA REPUBLICA-CGR- GEREN...\n",
       "449    CONTRALORIA GENERAL DE LA REPUBLICA-CGR-GERENC...\n",
       "450    Rama Judicial  Dirección Seccional de Adminis...\n",
       "451                     ALCALDIA MUNICIPAL DE VALLEDUPAR\n",
       "452                   CONTRALORIA DEPARTAMENTAL DEL META\n",
       "453                     ARMADA NACIONAL - BASE NAVAL ARC\n",
       "454                        DIRECCIÓN DE SANIDAD EJÉRCITO\n",
       "455                       INSTITUTO DISTRITAL DE TURISMO\n",
       "456                                   MUNICIPIO DE YOPAL\n",
       "457    Rama Judicial  Dirección Seccional de Adminis...\n",
       "458                               MUNICIPIO DE SINCELEJO\n",
       "459                 SECRETARIA DE EDUCACION DEL DISTRITO\n",
       "460                 SECRETARIA DE EDUCACION DEL DISTRITO\n",
       "461    PARQUES NACIONALES NATURALES- DIRECCION TERRIT...\n",
       "462                                   MUNICIPIO DE NEIVA\n",
       "463                       COMANDO AÉREO DE COMBATE No. 1\n",
       "464                    ALCALDIA LOCAL RAFAEL URIBE URIBE\n",
       "465             PARQUES NACIONALES NATURALES DE COLOMBIA\n",
       "466    UNIDAD ADMINISTRATIVA ESPECIAL DIRECCION NACIO...\n",
       "467    MINISTERIO DEL TRABAJO - DIRECCIÓN TERRITORIAL...\n",
       "468                               MUNICIPIO DE SINCELEJO\n",
       "469    CONTRALORIA GENERAL DE LA REPUBLICA-CGR- GEREN...\n",
       "470                                   MUNICIPIO DE NEIVA\n",
       "471    AGENCIA NACIONAL DE CONTRATACIÓN PÚBLICA -COLO...\n",
       "472           POLITECNICO COLOMBIANO JAIME ISAZA CADAVID\n",
       "473                               MUNICIPIO DE SINCELEJO\n",
       "474                          ALCALDÍA MUNICIPIO DE BELLO\n",
       "475         SIC SUPERINTENDENCIA DE INDUSTRIA Y COMERCIO\n",
       "476                        MINISTERIO DE MINAS Y ENERGIA\n",
       "477                                   MUNICIPIO DE NEIVA\n",
       "478            AUTORIDAD NACIONAL DE ACUICULTURA Y PESCA\n",
       "479    CONTRALORIA GENERAL DE LA REPUBLICA-CGR- GEREN...\n",
       "480          ARMADA NACIONAL HOSPITAL NAVAL DE CARTAGENA\n",
       "481           AGENCIA LOGISTICA DE LAS FUERZAS MILITARES\n",
       "482    INSTITUTO PARA LA RECREACIÓN; EL DEPORTE; LA E...\n",
       "483          ARMADA NACIONAL BASE NAVAL No. 6 ARC BOGOTA\n",
       "484    Rama Judicial  Dirección Seccional de Adminis...\n",
       "485         MINISTERIO DE AGRICULTURA Y DESARROLLO RURAL\n",
       "486                 SECRETARIA DE EDUCACION DEL DISTRITO\n",
       "487    SECRETARÍA GENERAL DE LA ALCALDÍA MAYOR DE BOGOTÁ\n",
       "488                                   MUNICIPIO DE NEIVA\n",
       "489                     INSTITUTO NACIONAL DE METROLOGIA\n",
       "490          ARMADA NACIONAL HOSPITAL NAVAL DE CARTAGENA\n",
       "491                               CENTRO CULTURAL BACATA\n",
       "492                             MUNICIPIO DE YUMBO VALLE\n",
       "493            SUPERINTENDENCIA DE LA ECONOMIA SOLIDARIA\n",
       "494    PARQUES NACIONALES NATURALES DE COLOMBIA - DIR...\n",
       "495    CONTRALORIA GENERAL DE LA REPUBLICA-CGR- GEREN...\n",
       "496    Rama Judicial - Dirección Seccional de Adminis...\n",
       "497                  DANE - DIRECCION TERRITORIAL CENTRO\n",
       "498    SANTIAGO DE CALI DISTRITO ESPECIAL - SECRETARI...\n",
       "499               POLICIA METROPOLITANA SANTIAGO DE CALI\n",
       "500                   DISPENSARIO MEDICO NIVEL II BOGOTA\n",
       "501    PARQUES NACIONALES NATURALES DE COLOMBIA - DIR...\n",
       "502                 SECRETARIA DE EDUCACION DEL DISTRITO\n",
       "503    CONTRALORIA GENERAL DE LA REPUBLICA - CGR - GE...\n",
       "504                    ALCALDÍA DISTRITAL DE SANTA MARTA\n",
       "505                     SECRETARIA DISTRITAL DE HACIENDA\n",
       "506    UNIDAD ADMINISTRATIVA ESPECIAL AGENCIA NACIONA...\n",
       "507                 DIRECCION GENERAL MARITIMA - INRED 1\n",
       "508                         MUNICIPIO DE ARMENIA QUINDIO\n",
       "509    UNIDAD ADMINISTRATIVA ESPECIAL DEL SISTEMA  ES...\n",
       "510    Rama Judicial - Dirección Seccional de Adminis...\n",
       "511    FONDO UNICO DE TECNOLOGÍAS DE LA INFORMACIÓN Y...\n",
       "512    INSTITUTO NACIONAL PENITENCIARIO Y CARCELARIO ...\n",
       "513    CORPORACION AUTONOMA REGIONAL DEL GUAVIO - COR...\n",
       "514                              FUERZA AÉREA COLOMBIANA\n",
       "515    CONTRALORIA GENERAL DE LA REPÚBLICA-CGR- GEREN...\n",
       "516    PARQUES NACIONALES NATURALES DE COLOMBIA - DIR...\n",
       "517    ARMADA NACIONAL ESCUELA NAVAL DE SUBOFICIALES ...\n",
       "518                          AGENCIA NACIONAL DE MINERIA\n",
       "519    CONTRALORIA GENERAL DE LA REPUBLICA -CGR- GERE...\n",
       "520                        MINISTERIO DE MINAS Y ENERGIA\n",
       "521                                  MUNICIPIO EL RETIRO\n",
       "522    SUPERINTENDENCIA DE VIGILANCIA Y SEGURIDAD PRI...\n",
       "523    PARQUES NACIONALES NATURALES DE COLOMBIA - DIR...\n",
       "524    INSTITUTO PARA LA RECREACIÓN; EL DEPORTE; LA E...\n",
       "525    CONTRALORIA GENERAL DE LA REPUBLICA-CGR- GEREN...\n",
       "526                               ALCALDIA LOCAL DE BOSA\n",
       "527    UNIDAD ADMINISTRATIVA ESPECIAL JUNTA CENTRAL D...\n",
       "528                 SECRETARIA DE EDUCACION DEL DISTRITO\n",
       "529                 SECRETARIA DE EDUCACION DEL DISTRITO\n",
       "530                                         CLUB MILITAR\n",
       "531                          AGENCIA DE DESARROLLO RURAL\n",
       "532                ALCALDIA MUNICIPAL DE IBAGUE - IBAGUE\n",
       "533    Rama Judicial  Dirección Seccional de Adminis...\n",
       "534                 SECRETARIA DE EDUCACION DEL DISTRITO\n",
       "535                                GOBERNACION DE NARIÑO\n",
       "536    PARQUES NACIONALES NATURALES DE COLOMBIA - DIR...\n",
       "537    Secretaria Distrital de Integración Social - O...\n",
       "538    UNIDAD ADMINISTRATIVA ESPECIAL DE GESTION DE R...\n",
       "539    CONTRALORIA GENERAL DE LA REPUBLICA-CGR- GEREN...\n",
       "540    PARQUES NACIONALES NATURALES DE COLOMBIA - DIR...\n",
       "541    Rama Judicial  Dirección Seccional de Adminis...\n",
       "542                                  MUNICIPIO DE GUARNE\n",
       "543                         MUNICIPIO DE ARMENIA QUINDIO\n",
       "544    CORPORACIÓN AUTÓNOMA REGIONAL PARA LA DEFENSA ...\n",
       "545          DIRECCION DE IMPUESTOS Y ADUANAS NACIONALES\n",
       "546    PARQUES NACIONALES NATURALES DE COLOMBIA - DIR...\n",
       "547                              FUERZA AÉREA COLOMBIANA\n",
       "548           AGENCIA LOGISTICA DE LAS FUERZAS MILITARES\n",
       "549                          JEFATURA SALUD FUERZA AEREA\n",
       "550            SENA DIRECCIÓN GENERAL Dirección Jurídica\n",
       "551    CORPORACIÓN AUTÓNOMA REGIONAL PARA LA DEFENSA ...\n",
       "552             MINISTERIO DE HACIENDA Y CREDITO PUBLICO\n",
       "553    UARIV-UNIDAD PARA LA ATENCION Y REPARACION INT...\n",
       "554    PARQUES NACIONALES NATURALES DE COLOMBIA - DIR...\n",
       "555    DIRECCION DEL VETERANO Y REHABILITACION INCLUSIVA\n",
       "556              CAJA DE RETIRO DE LAS FUERZAS MILITARES\n",
       "557                                   MUNICIPIO DE NEIVA\n",
       "558                                MINISTERIO DE CULTURA\n",
       "559                        MINISTERIO DE MINAS Y ENERGIA\n",
       "560                   SUPERINTENDENCIA NACIONAL DE SALUD\n",
       "561    Rama Judicial  Dirección Seccional de Adminis...\n",
       "562                               MUNICIPIO DE SINCELEJO\n",
       "563                                MUNICIPIO DE ENVIGADO\n",
       "564    UARIV-UNIDAD PARA LA ATENCION Y REPARACION INT...\n",
       "565                     POLICIA METROPOLITANA DE CUCUTA*\n",
       "566    MINISTERIO DEL TRABAJO DIRECCIÓN TERRITORIAL META\n",
       "567    CONTRALORIA GENERAL DE LA REPUBLICA GERENCIA D...\n",
       "568              HOSPITAL UNIVERSITARIO DE SINCELEJO-ESE\n",
       "569                                 GOBERNACION DE SUCRE\n",
       "570            SENA DIRECCIÓN GENERAL Dirección Jurídica\n",
       "571           AGENCIA LOGISTICA DE LAS FUERZAS MILITARES\n",
       "572                                   MUNICIPIO DE YOPAL\n",
       "573            SUPERINTENDENCIA DE LA ECONOMIA SOLIDARIA\n",
       "574    CONTRALORIA GENERAL DE LA REPUBLICA-CGR-GERENC...\n",
       "575            DISPENSARIO MEDICO NIVEL II  BARRANQUILLA\n",
       "576         ALCALDÍA MUNICIPAL DE PUERTO BOYACÁ - BOYACÁ\n",
       "577                       COMANDO AEREO DE COMBATE No. 4\n",
       "578                                               IDIGER\n",
       "579    PARQUES NACIONALES NATURALES DE COLOMBIA - DIR...\n",
       "580                               MUNICIPIO DE CHIGORODO\n",
       "581    CONTRALORIA GENERAL DE LA REPUBLICA-CGR-GERENC...\n",
       "582           AGENCIA LOGISTICA DE LAS FUERZAS MILITARES\n",
       "583                          JEFATURA SALUD FUERZA AEREA\n",
       "584    EMPRESA DE RENOVACION Y DESARROLLO URBANO DE B...\n",
       "585                ALCALDIA MUNICIPAL LA TEBAIDA QUINDIO\n",
       "586    UNIDAD ADMINISTRATIVA ESPECIAL JUNTA CENTRAL D...\n",
       "587    PARQUES NACIONALES NATURALES DE COLOMBIA - DIR...\n",
       "588    INSTITUTO FINANCIERO PARA EL DESARROLLO DE NOR...\n",
       "589    CONTRALORIA GENERAL DE LA REPUBLICA-CGR- GEREN...\n",
       "590                     ASOCIACION CABLE AEREO MANIZALES\n",
       "591    Rama Judicial  Dirección Seccional de Adminis...\n",
       "592    ADMINISTRADORA DE LOS RECURSOS DEL SISTEMA GEN...\n",
       "593          ARMADA NACIONAL HOSPITAL NAVAL DE CARTAGENA\n",
       "594    INSTITUTO NACIONAL PENITENCIARIO Y CARCELARIO ...\n",
       "595    SUPERINTENDENCIA DE VIGILANCIA Y SEGURIDAD PRI...\n",
       "596                     INSTITUTO NACIONAL DE METROLOGIA\n",
       "597                          AGENCIA DE DESARROLLO RURAL\n",
       "598    CONTRALORIA GENERAL DE LA REPUBLICA - CGR-GERE...\n",
       "599    SUPERINTENDENCIA DE VIGILANCIA Y SEGURIDAD PRI...\n",
       "600    Rama Judicial  Dirección Seccional de Adminis...\n",
       "601                            ALCALDIA LOCAL DE KENNEDY\n",
       "602             DIRECCIÓN TERRITORIAL DE SALUD DE CALDAS\n",
       "603            DISPENSARIO MEDICO NIVEL II  BARRANQUILLA\n",
       "604    UNIDAD PARA LAS VÍCTIMAS - FONDO PARA LA REPAR...\n",
       "605     CORPORACION AUTONOMA REGIONAL DEL ALTO MAGDALENA\n",
       "606                             MINISTERIO DE TRANSPORTE\n",
       "607                 SECRETARIA DE EDUCACION DEL DISTRITO\n",
       "608                                 ALCALDIA DE APARTADO\n",
       "609    PARQUES NACIONALES NATURALES DE COLOMBIA - DIR...\n",
       "610    INSTITUTO NACIONAL PENITENCIARIO Y CARCELARIO ...\n",
       "611    PARQUES NACIONALES NATURALES DE COLOMBIA - DIR...\n",
       "612    UNIDAD PARA LAS VÍCTIMAS - FONDO PARA LA REPAR...\n",
       "613            SENA DIRECCIÓN GENERAL Dirección Jurídica\n",
       "614    PARQUES NACIONALES NATURALES DE COLOMBIA - DIR...\n",
       "615    PARQUES NACIONALES NATURALES DE COLOMBIA - DIR...\n",
       "616           CONSEJO PROFESIONAL NACIONAL DE INGENIERIA\n",
       "617                               MUNICIPIO DE SINCELEJO\n",
       "618             PARQUES NACIONALES NATURALES DE COLOMBIA\n",
       "619          DIRECCION DE IMPUESTOS Y ADUANAS NACIONALES\n",
       "620           AGENCIA LOGISTICA DE LAS FUERZAS MILITARES\n",
       "621    PARQUES NACIONALES NATURALES- DIRECCION TERRIT...\n",
       "622    ARMADA NACIONAL ESCUELA NAVAL DE SUBOFICIALES ...\n",
       "623    UNIDAD ADMINISTRATIVA ESPECIAL DE GESTION DE R...\n",
       "624                                   VEEDURIA DISTRITAL\n",
       "625                    PROCURADURIA GENERAL DE LA NACION\n",
       "626            SUPERINTENDENCIA DE LA ECONOMIA SOLIDARIA\n",
       "627    Secretaria Distrital de Integración Social - O...\n",
       "628                         ARCHIVO GENERAL DE LA NACION\n",
       "629            ALCALDIA MUNICIPIO DE PUERTO LOPEZ - META\n",
       "630    Rama Judicial  Dirección Seccional de Adminis...\n",
       "631    CONTRALORIA GENERAL DE LA REPUBLICA - CGR-GERE...\n",
       "632    Empresa Nacional Promotora del Desarrollo Terr...\n",
       "633                                   VEEDURIA DISTRITAL\n",
       "634    DEPARTAMENTO ADMINISTRATIVO DE LA DEFENSORIA D...\n",
       "635                  DEPARTAMENTO NACIONAL DE PLANEACION\n",
       "636         MINISTERIO DE AGRICULTURA Y DESARROLLO RURAL\n",
       "637                  FONDO ROTATORIO DE LA REGISTRADURIA\n",
       "638                                GOBERNACIÓN DEL CAUCA\n",
       "639                 AGENCIA DE RENOVACION DEL TERRITORIO\n",
       "640    PARQUES NACIONALES NATURALES DE COLOMBIA - DIR...\n",
       "641    CONTRALORIA GENERAL DE LA REPUBLICA-CGR- GEREN...\n",
       "642                   SUPERINTENDENCIA NACIONAL DE SALUD\n",
       "643                              GOBERNACION DEL CAQUETA\n",
       "644    UNIDAD ADMINISTRATIVA ESPECIAL DE LA JUSTICIA ...\n",
       "645                     SECRETARIA DISTRITAL DE LA MUJER\n",
       "646                              GOBERNACION DEL CAQUETA\n",
       "647    CONTRALORIA GENERAL DE LA REPUBLICA - CGR - GE...\n",
       "648           FONDO DE DESARROLLO LOCAL DE LA CANDELARIA\n",
       "649    PARQUES NACIONALES NATURALES DE COLOMBIA - DIR...\n",
       "650                                DEPARTAMENTO DEL META\n",
       "651    RAMA JUDICIAL - DIRECCIÓN SECCIONAL DE ADMINIS...\n",
       "652                 AGENCIA DE RENOVACION DEL TERRITORIO\n",
       "653    MINISTERIO DEL TRABAJO DIRECCION TERRITORIAL D...\n",
       "654    SISTEMA ESTRATEGICO DE TRANSPORTE PUBLICO DE P...\n",
       "655            SUPERINTENDENCIA DE LA ECONOMIA SOLIDARIA\n",
       "656    Secretaria Distrital de Integración Social - O...\n",
       "657    DEPARTAMENTO ADMINISTRATIVO DE LA DEFENSORIA D...\n",
       "658    SUBRED INTEGRADA DE SERVICIOS DE SALUD NORTE E...\n",
       "659    UNIDAD ADMINISTRATIVA ESPECIAL DE REHABILITACI...\n",
       "660                     SECRETARIA DISTRITAL DE LA MUJER\n",
       "661    SANTIAGO DE CALI DISTRITO ESPECIAL - SECRETARI...\n",
       "662                        ALCALDÍA MUNICIPIO DE PALMIRA\n",
       "663                                 PERSONERIA DE BOGOTA\n",
       "664    UNIDAD ADMINISTRATIVA ESPECIAL DE REHABILITACI...\n",
       "665    INSTITUTO NACIONAL PENITENCIARIO Y CARCELARIO ...\n",
       "666    DIRECCION TERRITORIAL NARIÑO DEL MINISTERIO DE...\n",
       "667    UNIDAD ADMINISTRATIVA ESPECIAL DE LA JUSTICIA ...\n",
       "668                               GOBERNACIÓN DE BOLÍVAR\n",
       "669                                 GOBERNACION DE SUCRE\n",
       "670    PARQUES NACIONALES NATURALES DE COLOMBIA - DIR...\n",
       "671          ARMADA NACIONAL HOSPITAL NAVAL DE CARTAGENA\n",
       "672    INSTITUTO NACIONAL PENITENCIARIO Y CARCELARIO ...\n",
       "673        BIBLIOTECA DEPARTAMENTAL JORGE GARCES BORRERO\n",
       "674       MINISTERIO DE CIENCIA; TECNOLOGIA E INNOVACION\n",
       "675                          AGENCIA NACIONAL DE MINERIA\n",
       "676                    ALCALDÍA DISTRITAL DE SANTA MARTA\n",
       "677                 DIRECCIÓN GENERAL DE SANIDAD MILITAR\n",
       "678                                MINISTERIO DE CULTURA\n",
       "679                          AGENCIA NACIONAL DE MINERIA\n",
       "680    INSTITUTO DISTRITAL PARA LA PROTECCIÓN DE LA N...\n",
       "681                       Superintendencia de Transporte\n",
       "682                        MINISTERIO DE MINAS Y ENERGIA\n",
       "683    CORPORACION AUTONOMA REGIONAL DE CALDAS CORPOC...\n",
       "684    Rama Judicial  Dirección Seccional de Adminis...\n",
       "685    Secretaria Distrital de Integración Social - O...\n",
       "686    INSTITUTO NACIONAL DE VIGILANCIA DE MEDICAMENT...\n",
       "687          FABRICA DE LICORES Y ALCOHOLES DE ANTIOQUIA\n",
       "688                     SECRETARIA DISTRITAL DE GOBIERNO\n",
       "689                                MINISTERIO DE TRABAJO\n",
       "690    MINISTERIO DEL TRABAJO DIRECCION TERRITORIAL D...\n",
       "691                        PERSONERIA MUNICIPAL DE NEIVA\n",
       "692                      ALCALDIA LOCAL DE SAN CRISTOBAL\n",
       "693    DEPARTAMENTO ADMINISTRATIVO DE LA DEFENSORIA D...\n",
       "694                 DIRECCIÓN GENERAL DE SANIDAD MILITAR\n",
       "695                     DIRECCION GENERAL MARITIMA-DIMAR\n",
       "696           AGENCIA LOGISTICA DE LAS FUERZAS MILITARES\n",
       "697                                DEFENSORÍA DEL PUEBLO\n",
       "698    CONTRALORIA GENERAL DE LA REPÚBLICA - CGR GERE...\n",
       "699    PARQUES NACIONALES NATURALES- DIRECCION TERRIT...\n",
       "700    UNIDAD ADMINISTRATIVA ESPECIAL DE LA JUSTICIA ...\n",
       "701                                               IDIGER\n",
       "702                             MUNICIPIO DE BUCARAMANGA\n",
       "703                           INSTITUTO NACIONAL DE VIAS\n",
       "704                GOBERNACIÓN DEPARTAMENTO DEL PUTUMAYO\n",
       "705    Rama Judicial  Dirección Seccional de Adminis...\n",
       "706                              FUERZA AÉREA COLOMBIANA\n",
       "707    PARQUES NACIONALES NATURALES DE COLOMBIA - DIR...\n",
       "708    Rama Judicial  Dirección Seccional de Adminis...\n",
       "709                                  MUNICIPIO DE ITAGUI\n",
       "710    UNIDAD ADMINISTRATIVA ESPECIAL DE CATASTRO DIS...\n",
       "711                                   MUNICIPIO DE NEIVA\n",
       "712                   SUPERINTENDENCIA NACIONAL DE SALUD\n",
       "713                 COMISIÓN NACIONAL DEL SERVICIO CIVIL\n",
       "714                 DIRECCIÓN GENERAL DE SANIDAD MILITAR\n",
       "715    Secretaria Distrital de Integración Social - O...\n",
       "716    INSTITUTO NACIONAL DE VIGILANCIA DE MEDICAMENT...\n",
       "717    PARQUES NACIONALES NATURALES DE COLOMBIA - DIR...\n",
       "718    MINISTERIO DEL TRABAJO DIRECCION TERRITORIAL G...\n",
       "719                   CONTRALORIA DEPARTAMENTAL DEL META\n",
       "720                   CONTRALORIA DEPARTAMENTAL DEL META\n",
       "721    Rama Judicial  Dirección Seccional de Adminis...\n",
       "722    DEPARTAMENTO DE CUNDINAMARCA-SECRETARIA DE TEC...\n",
       "723    Rama Judicial  Dirección Seccional de Adminis...\n",
       "724    PARQUES NACIONALES NATURALES DE COLOMBIA - DIR...\n",
       "725                              FUERZA AÉREA COLOMBIANA\n",
       "726    SECRETARÍA GENERAL DE LA ALCALDÍA MAYOR DE BOGOTÁ\n",
       "727    UNIDAD ADMINISTRATIVA ESPECIAL DE GESTIÓN PENS...\n",
       "728    CONTRALORIA GENERAL DE LA REPUBLICA-CGR- GEREN...\n",
       "729    FONDO ROTATORIO DEL MINISTERIO DE RELACIONES E...\n",
       "730                                MINISTERIO DE TRABAJO\n",
       "731                          AGENCIA NACIONAL DE MINERIA\n",
       "732    UNIDAD ADMINISTRATIVA ESPECIAL DE GESTIÓN PENS...\n",
       "733                          AGENCIA DE DESARROLLO RURAL\n",
       "734    Rama Judicial  Dirección Seccional de Adminis...\n",
       "735    Secretaria Distrital de Integración Social - O...\n",
       "736    UNIDAD ADMINISTRATIVA ESPECIAL DE GESTION DE R...\n",
       "737    PARQUES NACIONALES NATURALES DE COLOMBIA - DIR...\n",
       "738        DIRECCION DE BIENESTAR DE LA POLICIA NACIONAL\n",
       "739                   SUPERINTENDENCIA NACIONAL DE SALUD\n",
       "740    UARIV-UNIDAD PARA LA ATENCION Y REPARACION INT...\n",
       "741                 DIRECCIÓN GENERAL DE SANIDAD MILITAR\n",
       "742                                 GOBERNACION DE SUCRE\n",
       "743            AUTORIDAD NACIONAL DE ACUICULTURA Y PESCA\n",
       "744    PARQUES NACIONALES NATURALES DE COLOMBIA - DIR...\n",
       "745    Rama Judicial  Dirección Seccional de Adminis...\n",
       "746           AGENCIA LOGISTICA DE LAS FUERZAS MILITARES\n",
       "747    PARQUES NACIONALES NATURALES- DIRECCION TERRIT...\n",
       "748    CONTRALORIA GENERAL DE LA REPUBLICA-CGR- GEREN...\n",
       "749    INSTITUTO NACIONAL PENITENCIARIO Y CARCELARIO ...\n",
       "750    SUPERINTENDENCIA DE VIGILANCIA Y SEGURIDAD PRI...\n",
       "751           AGENCIA LOGISTICA DE LAS FUERZAS MILITARES\n",
       "Name: Entidad, dtype: object>"
      ]
     },
     "execution_count": 14,
     "metadata": {},
     "output_type": "execute_result"
    }
   ],
   "source": [
    "df_SECOP['Entidad'].unique"
   ]
  },
  {
   "cell_type": "code",
   "execution_count": 16,
   "id": "7LYkfOXvqNmj",
   "metadata": {
    "colab": {
     "base_uri": "https://localhost:8080/",
     "height": 515
    },
    "executionInfo": {
     "elapsed": 375,
     "status": "error",
     "timestamp": 1660938270819,
     "user": {
      "displayName": "Luis Gustavo Maldonado Archila",
      "userId": "00154281364666914585"
     },
     "user_tz": 240
    },
    "id": "7LYkfOXvqNmj",
    "outputId": "75d8bad0-81c0-4989-c1f1-7d28817e4d44"
   },
   "outputs": [
    {
     "ename": "KeyError",
     "evalue": "ignored",
     "output_type": "error",
     "traceback": [
      "\u001b[0;31m---------------------------------------------------------------------------\u001b[0m",
      "\u001b[0;31mKeyError\u001b[0m                                  Traceback (most recent call last)",
      "\u001b[0;32m/usr/local/lib/python3.7/dist-packages/pandas/core/indexes/base.py\u001b[0m in \u001b[0;36mget_loc\u001b[0;34m(self, key, method, tolerance)\u001b[0m\n\u001b[1;32m   3360\u001b[0m             \u001b[0;32mtry\u001b[0m\u001b[0;34m:\u001b[0m\u001b[0;34m\u001b[0m\u001b[0;34m\u001b[0m\u001b[0m\n\u001b[0;32m-> 3361\u001b[0;31m                 \u001b[0;32mreturn\u001b[0m \u001b[0mself\u001b[0m\u001b[0;34m.\u001b[0m\u001b[0m_engine\u001b[0m\u001b[0;34m.\u001b[0m\u001b[0mget_loc\u001b[0m\u001b[0;34m(\u001b[0m\u001b[0mcasted_key\u001b[0m\u001b[0;34m)\u001b[0m\u001b[0;34m\u001b[0m\u001b[0;34m\u001b[0m\u001b[0m\n\u001b[0m\u001b[1;32m   3362\u001b[0m             \u001b[0;32mexcept\u001b[0m \u001b[0mKeyError\u001b[0m \u001b[0;32mas\u001b[0m \u001b[0merr\u001b[0m\u001b[0;34m:\u001b[0m\u001b[0;34m\u001b[0m\u001b[0;34m\u001b[0m\u001b[0m\n",
      "\u001b[0;32m/usr/local/lib/python3.7/dist-packages/pandas/_libs/index.pyx\u001b[0m in \u001b[0;36mpandas._libs.index.IndexEngine.get_loc\u001b[0;34m()\u001b[0m\n",
      "\u001b[0;32m/usr/local/lib/python3.7/dist-packages/pandas/_libs/index.pyx\u001b[0m in \u001b[0;36mpandas._libs.index.IndexEngine.get_loc\u001b[0;34m()\u001b[0m\n",
      "\u001b[0;32mpandas/_libs/hashtable_class_helper.pxi\u001b[0m in \u001b[0;36mpandas._libs.hashtable.PyObjectHashTable.get_item\u001b[0;34m()\u001b[0m\n",
      "\u001b[0;32mpandas/_libs/hashtable_class_helper.pxi\u001b[0m in \u001b[0;36mpandas._libs.hashtable.PyObjectHashTable.get_item\u001b[0;34m()\u001b[0m\n",
      "\u001b[0;31mKeyError\u001b[0m: 'Estado del Procedimiento'",
      "\nThe above exception was the direct cause of the following exception:\n",
      "\u001b[0;31mKeyError\u001b[0m                                  Traceback (most recent call last)",
      "\u001b[0;32m<ipython-input-16-b4dff4c9a655>\u001b[0m in \u001b[0;36m<module>\u001b[0;34m\u001b[0m\n\u001b[0;32m----> 1\u001b[0;31m \u001b[0mdf_SECOP\u001b[0m\u001b[0;34m[\u001b[0m\u001b[0;34m'Estado del Procedimiento'\u001b[0m\u001b[0;34m]\u001b[0m\u001b[0;34m.\u001b[0m\u001b[0munique\u001b[0m\u001b[0;34m(\u001b[0m\u001b[0;34m)\u001b[0m\u001b[0;34m\u001b[0m\u001b[0;34m\u001b[0m\u001b[0m\n\u001b[0m",
      "\u001b[0;32m/usr/local/lib/python3.7/dist-packages/pandas/core/frame.py\u001b[0m in \u001b[0;36m__getitem__\u001b[0;34m(self, key)\u001b[0m\n\u001b[1;32m   3456\u001b[0m             \u001b[0;32mif\u001b[0m \u001b[0mself\u001b[0m\u001b[0;34m.\u001b[0m\u001b[0mcolumns\u001b[0m\u001b[0;34m.\u001b[0m\u001b[0mnlevels\u001b[0m \u001b[0;34m>\u001b[0m \u001b[0;36m1\u001b[0m\u001b[0;34m:\u001b[0m\u001b[0;34m\u001b[0m\u001b[0;34m\u001b[0m\u001b[0m\n\u001b[1;32m   3457\u001b[0m                 \u001b[0;32mreturn\u001b[0m \u001b[0mself\u001b[0m\u001b[0;34m.\u001b[0m\u001b[0m_getitem_multilevel\u001b[0m\u001b[0;34m(\u001b[0m\u001b[0mkey\u001b[0m\u001b[0;34m)\u001b[0m\u001b[0;34m\u001b[0m\u001b[0;34m\u001b[0m\u001b[0m\n\u001b[0;32m-> 3458\u001b[0;31m             \u001b[0mindexer\u001b[0m \u001b[0;34m=\u001b[0m \u001b[0mself\u001b[0m\u001b[0;34m.\u001b[0m\u001b[0mcolumns\u001b[0m\u001b[0;34m.\u001b[0m\u001b[0mget_loc\u001b[0m\u001b[0;34m(\u001b[0m\u001b[0mkey\u001b[0m\u001b[0;34m)\u001b[0m\u001b[0;34m\u001b[0m\u001b[0;34m\u001b[0m\u001b[0m\n\u001b[0m\u001b[1;32m   3459\u001b[0m             \u001b[0;32mif\u001b[0m \u001b[0mis_integer\u001b[0m\u001b[0;34m(\u001b[0m\u001b[0mindexer\u001b[0m\u001b[0;34m)\u001b[0m\u001b[0;34m:\u001b[0m\u001b[0;34m\u001b[0m\u001b[0;34m\u001b[0m\u001b[0m\n\u001b[1;32m   3460\u001b[0m                 \u001b[0mindexer\u001b[0m \u001b[0;34m=\u001b[0m \u001b[0;34m[\u001b[0m\u001b[0mindexer\u001b[0m\u001b[0;34m]\u001b[0m\u001b[0;34m\u001b[0m\u001b[0;34m\u001b[0m\u001b[0m\n",
      "\u001b[0;32m/usr/local/lib/python3.7/dist-packages/pandas/core/indexes/base.py\u001b[0m in \u001b[0;36mget_loc\u001b[0;34m(self, key, method, tolerance)\u001b[0m\n\u001b[1;32m   3361\u001b[0m                 \u001b[0;32mreturn\u001b[0m \u001b[0mself\u001b[0m\u001b[0;34m.\u001b[0m\u001b[0m_engine\u001b[0m\u001b[0;34m.\u001b[0m\u001b[0mget_loc\u001b[0m\u001b[0;34m(\u001b[0m\u001b[0mcasted_key\u001b[0m\u001b[0;34m)\u001b[0m\u001b[0;34m\u001b[0m\u001b[0;34m\u001b[0m\u001b[0m\n\u001b[1;32m   3362\u001b[0m             \u001b[0;32mexcept\u001b[0m \u001b[0mKeyError\u001b[0m \u001b[0;32mas\u001b[0m \u001b[0merr\u001b[0m\u001b[0;34m:\u001b[0m\u001b[0;34m\u001b[0m\u001b[0;34m\u001b[0m\u001b[0m\n\u001b[0;32m-> 3363\u001b[0;31m                 \u001b[0;32mraise\u001b[0m \u001b[0mKeyError\u001b[0m\u001b[0;34m(\u001b[0m\u001b[0mkey\u001b[0m\u001b[0;34m)\u001b[0m \u001b[0;32mfrom\u001b[0m \u001b[0merr\u001b[0m\u001b[0;34m\u001b[0m\u001b[0;34m\u001b[0m\u001b[0m\n\u001b[0m\u001b[1;32m   3364\u001b[0m \u001b[0;34m\u001b[0m\u001b[0m\n\u001b[1;32m   3365\u001b[0m         \u001b[0;32mif\u001b[0m \u001b[0mis_scalar\u001b[0m\u001b[0;34m(\u001b[0m\u001b[0mkey\u001b[0m\u001b[0;34m)\u001b[0m \u001b[0;32mand\u001b[0m \u001b[0misna\u001b[0m\u001b[0;34m(\u001b[0m\u001b[0mkey\u001b[0m\u001b[0;34m)\u001b[0m \u001b[0;32mand\u001b[0m \u001b[0;32mnot\u001b[0m \u001b[0mself\u001b[0m\u001b[0;34m.\u001b[0m\u001b[0mhasnans\u001b[0m\u001b[0;34m:\u001b[0m\u001b[0;34m\u001b[0m\u001b[0;34m\u001b[0m\u001b[0m\n",
      "\u001b[0;31mKeyError\u001b[0m: 'Estado del Procedimiento'"
     ]
    }
   ],
   "source": [
    "df_SECOP['Estado del Procedimiento'].unique()"
   ]
  },
  {
   "cell_type": "code",
   "execution_count": 17,
   "id": "tXVLJVce7i05",
   "metadata": {
    "colab": {
     "base_uri": "https://localhost:8080/",
     "height": 515
    },
    "executionInfo": {
     "elapsed": 8,
     "status": "error",
     "timestamp": 1660938271088,
     "user": {
      "displayName": "Luis Gustavo Maldonado Archila",
      "userId": "00154281364666914585"
     },
     "user_tz": 240
    },
    "id": "tXVLJVce7i05",
    "outputId": "7fc13dc8-ea56-40e5-b052-52fd418e1e62"
   },
   "outputs": [
    {
     "ename": "KeyError",
     "evalue": "ignored",
     "output_type": "error",
     "traceback": [
      "\u001b[0;31m---------------------------------------------------------------------------\u001b[0m",
      "\u001b[0;31mKeyError\u001b[0m                                  Traceback (most recent call last)",
      "\u001b[0;32m/usr/local/lib/python3.7/dist-packages/pandas/core/indexes/base.py\u001b[0m in \u001b[0;36mget_loc\u001b[0;34m(self, key, method, tolerance)\u001b[0m\n\u001b[1;32m   3360\u001b[0m             \u001b[0;32mtry\u001b[0m\u001b[0;34m:\u001b[0m\u001b[0;34m\u001b[0m\u001b[0;34m\u001b[0m\u001b[0m\n\u001b[0;32m-> 3361\u001b[0;31m                 \u001b[0;32mreturn\u001b[0m \u001b[0mself\u001b[0m\u001b[0;34m.\u001b[0m\u001b[0m_engine\u001b[0m\u001b[0;34m.\u001b[0m\u001b[0mget_loc\u001b[0m\u001b[0;34m(\u001b[0m\u001b[0mcasted_key\u001b[0m\u001b[0;34m)\u001b[0m\u001b[0;34m\u001b[0m\u001b[0;34m\u001b[0m\u001b[0m\n\u001b[0m\u001b[1;32m   3362\u001b[0m             \u001b[0;32mexcept\u001b[0m \u001b[0mKeyError\u001b[0m \u001b[0;32mas\u001b[0m \u001b[0merr\u001b[0m\u001b[0;34m:\u001b[0m\u001b[0;34m\u001b[0m\u001b[0;34m\u001b[0m\u001b[0m\n",
      "\u001b[0;32m/usr/local/lib/python3.7/dist-packages/pandas/_libs/index.pyx\u001b[0m in \u001b[0;36mpandas._libs.index.IndexEngine.get_loc\u001b[0;34m()\u001b[0m\n",
      "\u001b[0;32m/usr/local/lib/python3.7/dist-packages/pandas/_libs/index.pyx\u001b[0m in \u001b[0;36mpandas._libs.index.IndexEngine.get_loc\u001b[0;34m()\u001b[0m\n",
      "\u001b[0;32mpandas/_libs/hashtable_class_helper.pxi\u001b[0m in \u001b[0;36mpandas._libs.hashtable.PyObjectHashTable.get_item\u001b[0;34m()\u001b[0m\n",
      "\u001b[0;32mpandas/_libs/hashtable_class_helper.pxi\u001b[0m in \u001b[0;36mpandas._libs.hashtable.PyObjectHashTable.get_item\u001b[0;34m()\u001b[0m\n",
      "\u001b[0;31mKeyError\u001b[0m: 'Adjudicado'",
      "\nThe above exception was the direct cause of the following exception:\n",
      "\u001b[0;31mKeyError\u001b[0m                                  Traceback (most recent call last)",
      "\u001b[0;32m<ipython-input-17-d96c24115a12>\u001b[0m in \u001b[0;36m<module>\u001b[0;34m\u001b[0m\n\u001b[0;32m----> 1\u001b[0;31m \u001b[0mdf_SECOP\u001b[0m\u001b[0;34m[\u001b[0m\u001b[0;34m'Adjudicado'\u001b[0m\u001b[0;34m]\u001b[0m\u001b[0;34m.\u001b[0m\u001b[0munique\u001b[0m\u001b[0;34m(\u001b[0m\u001b[0;34m)\u001b[0m\u001b[0;34m\u001b[0m\u001b[0;34m\u001b[0m\u001b[0m\n\u001b[0m",
      "\u001b[0;32m/usr/local/lib/python3.7/dist-packages/pandas/core/frame.py\u001b[0m in \u001b[0;36m__getitem__\u001b[0;34m(self, key)\u001b[0m\n\u001b[1;32m   3456\u001b[0m             \u001b[0;32mif\u001b[0m \u001b[0mself\u001b[0m\u001b[0;34m.\u001b[0m\u001b[0mcolumns\u001b[0m\u001b[0;34m.\u001b[0m\u001b[0mnlevels\u001b[0m \u001b[0;34m>\u001b[0m \u001b[0;36m1\u001b[0m\u001b[0;34m:\u001b[0m\u001b[0;34m\u001b[0m\u001b[0;34m\u001b[0m\u001b[0m\n\u001b[1;32m   3457\u001b[0m                 \u001b[0;32mreturn\u001b[0m \u001b[0mself\u001b[0m\u001b[0;34m.\u001b[0m\u001b[0m_getitem_multilevel\u001b[0m\u001b[0;34m(\u001b[0m\u001b[0mkey\u001b[0m\u001b[0;34m)\u001b[0m\u001b[0;34m\u001b[0m\u001b[0;34m\u001b[0m\u001b[0m\n\u001b[0;32m-> 3458\u001b[0;31m             \u001b[0mindexer\u001b[0m \u001b[0;34m=\u001b[0m \u001b[0mself\u001b[0m\u001b[0;34m.\u001b[0m\u001b[0mcolumns\u001b[0m\u001b[0;34m.\u001b[0m\u001b[0mget_loc\u001b[0m\u001b[0;34m(\u001b[0m\u001b[0mkey\u001b[0m\u001b[0;34m)\u001b[0m\u001b[0;34m\u001b[0m\u001b[0;34m\u001b[0m\u001b[0m\n\u001b[0m\u001b[1;32m   3459\u001b[0m             \u001b[0;32mif\u001b[0m \u001b[0mis_integer\u001b[0m\u001b[0;34m(\u001b[0m\u001b[0mindexer\u001b[0m\u001b[0;34m)\u001b[0m\u001b[0;34m:\u001b[0m\u001b[0;34m\u001b[0m\u001b[0;34m\u001b[0m\u001b[0m\n\u001b[1;32m   3460\u001b[0m                 \u001b[0mindexer\u001b[0m \u001b[0;34m=\u001b[0m \u001b[0;34m[\u001b[0m\u001b[0mindexer\u001b[0m\u001b[0;34m]\u001b[0m\u001b[0;34m\u001b[0m\u001b[0;34m\u001b[0m\u001b[0m\n",
      "\u001b[0;32m/usr/local/lib/python3.7/dist-packages/pandas/core/indexes/base.py\u001b[0m in \u001b[0;36mget_loc\u001b[0;34m(self, key, method, tolerance)\u001b[0m\n\u001b[1;32m   3361\u001b[0m                 \u001b[0;32mreturn\u001b[0m \u001b[0mself\u001b[0m\u001b[0;34m.\u001b[0m\u001b[0m_engine\u001b[0m\u001b[0;34m.\u001b[0m\u001b[0mget_loc\u001b[0m\u001b[0;34m(\u001b[0m\u001b[0mcasted_key\u001b[0m\u001b[0;34m)\u001b[0m\u001b[0;34m\u001b[0m\u001b[0;34m\u001b[0m\u001b[0m\n\u001b[1;32m   3362\u001b[0m             \u001b[0;32mexcept\u001b[0m \u001b[0mKeyError\u001b[0m \u001b[0;32mas\u001b[0m \u001b[0merr\u001b[0m\u001b[0;34m:\u001b[0m\u001b[0;34m\u001b[0m\u001b[0;34m\u001b[0m\u001b[0m\n\u001b[0;32m-> 3363\u001b[0;31m                 \u001b[0;32mraise\u001b[0m \u001b[0mKeyError\u001b[0m\u001b[0;34m(\u001b[0m\u001b[0mkey\u001b[0m\u001b[0;34m)\u001b[0m \u001b[0;32mfrom\u001b[0m \u001b[0merr\u001b[0m\u001b[0;34m\u001b[0m\u001b[0;34m\u001b[0m\u001b[0m\n\u001b[0m\u001b[1;32m   3364\u001b[0m \u001b[0;34m\u001b[0m\u001b[0m\n\u001b[1;32m   3365\u001b[0m         \u001b[0;32mif\u001b[0m \u001b[0mis_scalar\u001b[0m\u001b[0;34m(\u001b[0m\u001b[0mkey\u001b[0m\u001b[0;34m)\u001b[0m \u001b[0;32mand\u001b[0m \u001b[0misna\u001b[0m\u001b[0;34m(\u001b[0m\u001b[0mkey\u001b[0m\u001b[0;34m)\u001b[0m \u001b[0;32mand\u001b[0m \u001b[0;32mnot\u001b[0m \u001b[0mself\u001b[0m\u001b[0;34m.\u001b[0m\u001b[0mhasnans\u001b[0m\u001b[0;34m:\u001b[0m\u001b[0;34m\u001b[0m\u001b[0;34m\u001b[0m\u001b[0m\n",
      "\u001b[0;31mKeyError\u001b[0m: 'Adjudicado'"
     ]
    }
   ],
   "source": [
    "df_SECOP['Adjudicado'].unique()"
   ]
  },
  {
   "cell_type": "code",
   "execution_count": null,
   "id": "CBH5gVXd7rZr",
   "metadata": {
    "executionInfo": {
     "elapsed": 33,
     "status": "aborted",
     "timestamp": 1660938237668,
     "user": {
      "displayName": "Luis Gustavo Maldonado Archila",
      "userId": "00154281364666914585"
     },
     "user_tz": 240
    },
    "id": "CBH5gVXd7rZr"
   },
   "outputs": [],
   "source": [
    "df_adjudicado = df.loc[df['Adjudicado']=='Si']\n",
    "df_adjudicado = pd.concat([df_adjudicado, df.loc[df['Estado del Procedimiento']=='Adjudicado']])\n",
    "df_adjudicado.drop_duplicates(inplace = True)\n",
    "df_adjudicado.shape"
   ]
  },
  {
   "cell_type": "markdown",
   "id": "ROkaHxD7eeBc",
   "metadata": {
    "id": "ROkaHxD7eeBc"
   },
   "source": [
    "## Códigos de Actividad UNSPSC\n",
    "\n",
    "https://www.colombiacompra.gov.co/sites/cce_public/files/cce_clasificador/unspsc_spanish_v14_0801.pdf\n",
    "\n"
   ]
  },
  {
   "cell_type": "code",
   "execution_count": 18,
   "id": "ZQcdeKxj2B_4",
   "metadata": {
    "executionInfo": {
     "elapsed": 1484,
     "status": "ok",
     "timestamp": 1660938295936,
     "user": {
      "displayName": "Luis Gustavo Maldonado Archila",
      "userId": "00154281364666914585"
     },
     "user_tz": 240
    },
    "id": "ZQcdeKxj2B_4"
   },
   "outputs": [],
   "source": [
    "# Diccionario con los códigos UNSPSC de actividades y servicios relevantes para el sector de vigilancia y seguridad privada\n",
    "UNSPSC_servicios_codes = pd.read_excel('/content/drive/MyDrive/Observatorio SPVS/BD SECOP-II - Contratos/clasificacion UNSPSC.xlsx',\n",
    "                                       sheet_name='Servicios de Vigilancia') #dtype={value.dtype} # , dtype='str', sep=',' \n",
    "#UNSPSC_servicios_codes"
   ]
  },
  {
   "cell_type": "code",
   "execution_count": 19,
   "id": "31UJxzxfekBx",
   "metadata": {
    "executionInfo": {
     "elapsed": 12,
     "status": "ok",
     "timestamp": 1660938295937,
     "user": {
      "displayName": "Luis Gustavo Maldonado Archila",
      "userId": "00154281364666914585"
     },
     "user_tz": 240
    },
    "id": "31UJxzxfekBx"
   },
   "outputs": [],
   "source": [
    "# Dataframe con los códigos UNSPSC relevantes para el sector de vigilancia y seguridad privada\n",
    "UNSPSC_equipos_codes = pd.read_excel('/content/drive/MyDrive/Observatorio SPVS/BD SECOP-II - Contratos/clasificacion UNSPSC.xlsx',\n",
    "                                   sheet_name='Eq. Vig. y Seguridad') #dtype={value.dtype} # , dtype='str', sep=',' \n",
    "#UNSPSC_equipos_codes"
   ]
  },
  {
   "cell_type": "code",
   "execution_count": 20,
   "id": "LApkjMUkaEMa",
   "metadata": {
    "executionInfo": {
     "elapsed": 461,
     "status": "ok",
     "timestamp": 1660938296389,
     "user": {
      "displayName": "Luis Gustavo Maldonado Archila",
      "userId": "00154281364666914585"
     },
     "user_tz": 240
    },
    "id": "LApkjMUkaEMa"
   },
   "outputs": [],
   "source": [
    "# Dataframe con los códigos UNSPSC relevantes para el sector de vigilancia y seguridad privada\n",
    "UNSPSC_blindados_codes = pd.read_excel('/content/drive/MyDrive/Observatorio SPVS/BD SECOP-II - Contratos/clasificacion UNSPSC.xlsx',\n",
    "                                   sheet_name='Blindados') #dtype={value.dtype} # , dtype='str', sep=',' \n",
    "#UNSPSC_blindados_codes"
   ]
  },
  {
   "cell_type": "code",
   "execution_count": 21,
   "id": "usHu2zINzp19",
   "metadata": {
    "executionInfo": {
     "elapsed": 345,
     "status": "ok",
     "timestamp": 1660938296730,
     "user": {
      "displayName": "Luis Gustavo Maldonado Archila",
      "userId": "00154281364666914585"
     },
     "user_tz": 240
    },
    "id": "usHu2zINzp19"
   },
   "outputs": [],
   "source": [
    "# Dataframe con los códigos UNSPSC de armas\n",
    "UNSPSC_armas_codes = pd.read_excel('/content/drive/MyDrive/Observatorio SPVS/BD SECOP-II - Contratos/clasificacion UNSPSC.xlsx',\n",
    "                                     sheet_name='Armas') #dtype={value.dtype} # , dtype='str', sep=',' \n",
    "#UNSPSC_armas_codes"
   ]
  },
  {
   "cell_type": "code",
   "execution_count": 22,
   "id": "WjEgqfTgZ6yi",
   "metadata": {
    "executionInfo": {
     "elapsed": 319,
     "status": "ok",
     "timestamp": 1660938297046,
     "user": {
      "displayName": "Luis Gustavo Maldonado Archila",
      "userId": "00154281364666914585"
     },
     "user_tz": 240
    },
    "id": "WjEgqfTgZ6yi"
   },
   "outputs": [],
   "source": [
    "# Dataframe con los códigos UNSPSC relevantes para el sector de vigilancia y seguridad privada\n",
    "UNSPSC_otros_codes = pd.read_excel('/content/drive/MyDrive/Observatorio SPVS/BD SECOP-II - Contratos/clasificacion UNSPSC.xlsx',\n",
    "                                   sheet_name='Serv. Apoyo') #dtype={value.dtype} # , dtype='str', sep=',' \n",
    "#UNSPSC_otros_codes"
   ]
  },
  {
   "cell_type": "code",
   "execution_count": 23,
   "id": "Ws-F63bKOcFQ",
   "metadata": {
    "executionInfo": {
     "elapsed": 27,
     "status": "ok",
     "timestamp": 1660938297046,
     "user": {
      "displayName": "Luis Gustavo Maldonado Archila",
      "userId": "00154281364666914585"
     },
     "user_tz": 240
    },
    "id": "Ws-F63bKOcFQ"
   },
   "outputs": [],
   "source": [
    "UNSPSC_codes = pd.concat([UNSPSC_servicios_codes, UNSPSC_equipos_codes, UNSPSC_blindados_codes, UNSPSC_armas_codes, UNSPSC_otros_codes]) #.reset_index(drop=True)\n",
    "UNSPSC_codes.set_index('UNSPSC', drop = True, inplace = True)\n",
    "#UNSPSC_codes"
   ]
  },
  {
   "cell_type": "code",
   "execution_count": 24,
   "id": "O3Amj7qjbq-j",
   "metadata": {
    "executionInfo": {
     "elapsed": 26,
     "status": "ok",
     "timestamp": 1660938297047,
     "user": {
      "displayName": "Luis Gustavo Maldonado Archila",
      "userId": "00154281364666914585"
     },
     "user_tz": 240
    },
    "id": "O3Amj7qjbq-j"
   },
   "outputs": [],
   "source": [
    "UNSPSC_codes_dict = {\n",
    "'Servicio de Vigilancia y Seguridad Privada' : [ \n",
    "                'V1.92101501', # Servicios de vigilancia\n",
    "                'V1.9212', # Seguridad y protección personal\n",
    "                'V1.921215', # Servicios de guardias\n",
    "                'V1.921217', # Servicios de sistemas de seguridad \n",
    "                'V1.93121503' # Servicios de seguridad para diplomáticos \n",
    "                ],\n",
    "'Servicio de Asesoria, Consultoria e Investigacion' : [\n",
    "                'V1.80111702', # Servicios de comprobación de referencias o antecedentes\n",
    "                'V1.81141801', # Análisis de riesgo o seguridad\n",
    "                'V1.921216', # Servicios de detectives\n",
    "                ],\n",
    "'Servicio de Capacitacion y Entrenamiento en Vigilancia y Seguridad Privada' : [\n",
    "                'V1.86101709', # Servicios de capacitación en seguridad\n",
    "                ],\n",
    "'Fabricacion, Importacion, Comercio, Arriendo e Instalación de Equipos para la Vigilancia y la Seguridad Privada' : [ \n",
    "                'V1.461516', # Equipo de seguridad y control\n",
    "                'V1.461518', # Equipo y accesorios y suministros de control de explosivos\n",
    "                #'V1.461519', # Equipo y accesorios y suministros para el control químico biológico\n",
    "                'V1.4617', # Seguridad, vigilancia y detección\n",
    "                'V1.461715', # Cerraduras y elementos de seguridad y accesorios\n",
    "                'V1.461716', # Equipo de vigilancia y detección\n",
    "                'V1.721517', # Servicios de instalación de sistemas de seguridad física e industrial\n",
    "               ],\n",
    "'Servicio de Transporte de Valores' : [\n",
    "                'V1.78101503', # Transporte aéreo blindado\n",
    "                'V1.78101705', # Transporte marítimo blindado\n",
    "                'V1.921218', # Servicios de Carros blindados y transporte de valores\n",
    "                 #'V1.921219' # Servicios de seguridad marina\n",
    "               ],\n",
    "'Servicio de Fabricación y/o Arrendamiento de Vehículos Blindados' : [ \n",
    "                'V1.25101920' # Carros de Seguridad, Vehículos Comerciales, Militares y Particulares, Accesorios y Componentes\n",
    "               ],\n",
    "'Suministro de Armas': [\n",
    "          'V1.460000', # Equipos y Suministros de Defensa, Orden Publico, Proteccion, Vigilancia y Seguridad\n",
    "          'V1.4610', # Armas ligeras y munición\n",
    "          'V1.461015', # Armas de fuego\n",
    "          'V1.461016', # Munición\n",
    "          'V1.461017', # Sistemas de manipulación de munición\n",
    "          'V1.461018' # Accesorios de armas y municiones\n",
    "          ]\n",
    "}\n",
    "\n",
    "# Se deben quitar 461519 y 921219 porque al revisar los contratos en detalle, se encontró que no corresponden con el sector, son insumos químicos y aseguramiento financiero\n"
   ]
  },
  {
   "cell_type": "code",
   "execution_count": 25,
   "id": "4xD_WxkQv_gC",
   "metadata": {
    "colab": {
     "base_uri": "https://localhost:8080/"
    },
    "executionInfo": {
     "elapsed": 26,
     "status": "ok",
     "timestamp": 1660938297048,
     "user": {
      "displayName": "Luis Gustavo Maldonado Archila",
      "userId": "00154281364666914585"
     },
     "user_tz": 240
    },
    "id": "4xD_WxkQv_gC",
    "outputId": "436a4b49-70bf-4028-8b7a-318b0764f061"
   },
   "outputs": [
    {
     "name": "stdout",
     "output_type": "stream",
     "text": [
      "Servicio de Vigilancia y Seguridad Privada ['V1.92101501', 'V1.9212', 'V1.921215', 'V1.921217', 'V1.93121503']\n",
      "Servicio de Asesoria, Consultoria e Investigacion ['V1.80111702', 'V1.81141801', 'V1.921216']\n",
      "Servicio de Capacitacion y Entrenamiento en Vigilancia y Seguridad Privada ['V1.86101709']\n",
      "Fabricacion, Importacion, Comercio, Arriendo e Instalación de Equipos para la Vigilancia y la Seguridad Privada ['V1.461516', 'V1.461518', 'V1.4617', 'V1.461715', 'V1.461716', 'V1.721517']\n",
      "Servicio de Transporte de Valores ['V1.78101503', 'V1.78101705', 'V1.921218']\n",
      "Servicio de Fabricación y/o Arrendamiento de Vehículos Blindados ['V1.25101920']\n",
      "Suministro de Armas ['V1.460000', 'V1.4610', 'V1.461015', 'V1.461016', 'V1.461017', 'V1.461018']\n"
     ]
    }
   ],
   "source": [
    "for categoria in UNSPSC_codes_dict:\n",
    "    print (categoria, UNSPSC_codes_dict[categoria])"
   ]
  },
  {
   "cell_type": "code",
   "execution_count": 26,
   "id": "ZONkPIrpw4sd",
   "metadata": {
    "colab": {
     "base_uri": "https://localhost:8080/"
    },
    "executionInfo": {
     "elapsed": 22,
     "status": "ok",
     "timestamp": 1660938297049,
     "user": {
      "displayName": "Luis Gustavo Maldonado Archila",
      "userId": "00154281364666914585"
     },
     "user_tz": 240
    },
    "id": "ZONkPIrpw4sd",
    "outputId": "4fda5c8a-6217-49f7-de84-39fca11d9391"
   },
   "outputs": [
    {
     "name": "stdout",
     "output_type": "stream",
     "text": [
      "Servicio de Vigilancia y Seguridad Privada\n",
      "V1.92101501\n",
      "V1.9212\n",
      "V1.921215\n",
      "V1.921217\n",
      "V1.93121503\n",
      "Servicio de Asesoria, Consultoria e Investigacion\n",
      "V1.80111702\n",
      "V1.81141801\n",
      "V1.921216\n",
      "Servicio de Capacitacion y Entrenamiento en Vigilancia y Seguridad Privada\n",
      "V1.86101709\n",
      "Fabricacion, Importacion, Comercio, Arriendo e Instalación de Equipos para la Vigilancia y la Seguridad Privada\n",
      "V1.461516\n",
      "V1.461518\n",
      "V1.4617\n",
      "V1.461715\n",
      "V1.461716\n",
      "V1.721517\n",
      "Servicio de Transporte de Valores\n",
      "V1.78101503\n",
      "V1.78101705\n",
      "V1.921218\n",
      "Servicio de Fabricación y/o Arrendamiento de Vehículos Blindados\n",
      "V1.25101920\n",
      "Suministro de Armas\n",
      "V1.460000\n",
      "V1.4610\n",
      "V1.461015\n",
      "V1.461016\n",
      "V1.461017\n",
      "V1.461018\n"
     ]
    }
   ],
   "source": [
    "for categoria, lista in UNSPSC_codes_dict.items():\n",
    "    print (categoria)\n",
    "    for unspsc in lista:\n",
    "         print(unspsc)"
   ]
  },
  {
   "cell_type": "markdown",
   "id": "RG3ucmjfopFB",
   "metadata": {
    "id": "RG3ucmjfopFB"
   },
   "source": [
    "## Conexión con SOCRATA (datos.gov.co)\n"
   ]
  },
  {
   "cell_type": "code",
   "execution_count": 27,
   "id": "41f41f96",
   "metadata": {
    "colab": {
     "base_uri": "https://localhost:8080/"
    },
    "executionInfo": {
     "elapsed": 4981,
     "status": "ok",
     "timestamp": 1660938302015,
     "user": {
      "displayName": "Luis Gustavo Maldonado Archila",
      "userId": "00154281364666914585"
     },
     "user_tz": 240
    },
    "id": "41f41f96",
    "outputId": "cd37d513-4483-4b00-8dfa-0f1ad99aaf7b"
   },
   "outputs": [
    {
     "name": "stdout",
     "output_type": "stream",
     "text": [
      "Looking in indexes: https://pypi.org/simple, https://us-python.pkg.dev/colab-wheels/public/simple/\n",
      "Collecting sodapy\n",
      "  Downloading sodapy-2.1.1-py2.py3-none-any.whl (14 kB)\n",
      "Requirement already satisfied: requests>=2.20.0 in /usr/local/lib/python3.7/dist-packages (from sodapy) (2.23.0)\n",
      "Requirement already satisfied: idna<3,>=2.5 in /usr/local/lib/python3.7/dist-packages (from requests>=2.20.0->sodapy) (2.10)\n",
      "Requirement already satisfied: urllib3!=1.25.0,!=1.25.1,<1.26,>=1.21.1 in /usr/local/lib/python3.7/dist-packages (from requests>=2.20.0->sodapy) (1.24.3)\n",
      "Requirement already satisfied: chardet<4,>=3.0.2 in /usr/local/lib/python3.7/dist-packages (from requests>=2.20.0->sodapy) (3.0.4)\n",
      "Requirement already satisfied: certifi>=2017.4.17 in /usr/local/lib/python3.7/dist-packages (from requests>=2.20.0->sodapy) (2022.6.15)\n",
      "Installing collected packages: sodapy\n",
      "Successfully installed sodapy-2.1.1\n"
     ]
    }
   ],
   "source": [
    "pip install sodapy"
   ]
  },
  {
   "cell_type": "code",
   "execution_count": 28,
   "id": "73a07ba2",
   "metadata": {
    "executionInfo": {
     "elapsed": 12,
     "status": "ok",
     "timestamp": 1660938302016,
     "user": {
      "displayName": "Luis Gustavo Maldonado Archila",
      "userId": "00154281364666914585"
     },
     "user_tz": 240
    },
    "id": "73a07ba2"
   },
   "outputs": [],
   "source": [
    "from sodapy import Socrata"
   ]
  },
  {
   "cell_type": "code",
   "execution_count": 29,
   "id": "7133591e",
   "metadata": {
    "executionInfo": {
     "elapsed": 13,
     "status": "ok",
     "timestamp": 1660938302018,
     "user": {
      "displayName": "Luis Gustavo Maldonado Archila",
      "userId": "00154281364666914585"
     },
     "user_tz": 240
    },
    "id": "7133591e"
   },
   "outputs": [],
   "source": [
    "client = Socrata(\"www.datos.gov.co\",\n",
    "                 \"TJ4yjQcX9XrhC8MB4EBqnYISj\",## Cambie token_aqui por el token recien creado\n",
    "                 username=\"ma.garzon.ra@gmail.com\", ## Correo electrónico de ingreso a la plataforma de datos abiertos\n",
    "                 password=\"Papas1597\")## Contraseña de ingreso a la plataforma de datos abiertos\n"
   ]
  },
  {
   "cell_type": "markdown",
   "id": "-q5CWaoTfd-H",
   "metadata": {
    "id": "-q5CWaoTfd-H"
   },
   "source": [
    "### TESTS"
   ]
  },
  {
   "cell_type": "code",
   "execution_count": 30,
   "id": "0a5554ad",
   "metadata": {
    "colab": {
     "base_uri": "https://localhost:8080/"
    },
    "executionInfo": {
     "elapsed": 2766,
     "status": "ok",
     "timestamp": 1660938304773,
     "user": {
      "displayName": "Luis Gustavo Maldonado Archila",
      "userId": "00154281364666914585"
     },
     "user_tz": 240
    },
    "id": "0a5554ad",
    "outputId": "f28ac671-e946-4ea3-f97c-9bf6c487ee1d",
    "scrolled": false
   },
   "outputs": [
    {
     "name": "stdout",
     "output_type": "stream",
     "text": [
      "CPU times: user 42.2 ms, sys: 5.28 ms, total: 47.5 ms\n",
      "Wall time: 2.65 s\n"
     ]
    }
   ],
   "source": [
    "#Test SECOP - I\n",
    "%%time\n",
    "socrata_dataset_identifier = \"f789-7hwg\"\n",
    "\n",
    "Query = \"\"\"\n",
    "SELECT * WHERE    fecha_de_firma_del_contrato >= '2018-01-01'\n",
    "LIMIT 100\n",
    "\"\"\"\n",
    "\n",
    "contratos_SI = client.get(socrata_dataset_identifier, content_type=\"json\", query=Query)\n",
    "\n",
    "contratos_SI_DF = pd.DataFrame(pd.DataFrame.from_dict(contratos_SI))"
   ]
  },
  {
   "cell_type": "code",
   "execution_count": 31,
   "id": "7NB7CNOxu7UG",
   "metadata": {
    "colab": {
     "base_uri": "https://localhost:8080/"
    },
    "executionInfo": {
     "elapsed": 653,
     "status": "ok",
     "timestamp": 1660938305420,
     "user": {
      "displayName": "Luis Gustavo Maldonado Archila",
      "userId": "00154281364666914585"
     },
     "user_tz": 240
    },
    "id": "7NB7CNOxu7UG",
    "outputId": "9b4fff3b-557b-4059-da27-06c341b08bcd"
   },
   "outputs": [
    {
     "name": "stdout",
     "output_type": "stream",
     "text": [
      "CPU times: user 17.3 ms, sys: 1.12 ms, total: 18.4 ms\n",
      "Wall time: 557 ms\n"
     ]
    }
   ],
   "source": [
    "# Test  SECOP - II\n",
    "%%time\n",
    "socrata_dataset_identifier = \"jbjy-vk9h\"\n",
    "\n",
    "Query = \"\"\"\n",
    "SELECT * WHERE    fecha_de_firma >= '2018-01-01'\n",
    "LIMIT 100\n",
    "\"\"\"\n",
    "\n",
    "contratos_SII = client.get(socrata_dataset_identifier, content_type=\"json\", query=Query)\n",
    "\n",
    "contratos_SII_df = pd.DataFrame(pd.DataFrame.from_dict(contratos_SII))"
   ]
  },
  {
   "cell_type": "code",
   "execution_count": 32,
   "id": "jpZVzNjaChMH",
   "metadata": {
    "colab": {
     "base_uri": "https://localhost:8080/",
     "height": 346
    },
    "executionInfo": {
     "elapsed": 19,
     "status": "ok",
     "timestamp": 1660938305421,
     "user": {
      "displayName": "Luis Gustavo Maldonado Archila",
      "userId": "00154281364666914585"
     },
     "user_tz": 240
    },
    "id": "jpZVzNjaChMH",
    "outputId": "669be75c-dc0c-4a6d-bdf6-f1ecb22d8e88"
   },
   "outputs": [
    {
     "data": {
      "text/html": [
       "\n",
       "  <div id=\"df-04b35d92-65f2-4e65-8dac-a88a3252e7e1\">\n",
       "    <div class=\"colab-df-container\">\n",
       "      <div>\n",
       "<style scoped>\n",
       "    .dataframe tbody tr th:only-of-type {\n",
       "        vertical-align: middle;\n",
       "    }\n",
       "\n",
       "    .dataframe tbody tr th {\n",
       "        vertical-align: top;\n",
       "    }\n",
       "\n",
       "    .dataframe thead th {\n",
       "        text-align: right;\n",
       "    }\n",
       "</style>\n",
       "<table border=\"1\" class=\"dataframe\">\n",
       "  <thead>\n",
       "    <tr style=\"text-align: right;\">\n",
       "      <th></th>\n",
       "      <th>uid</th>\n",
       "      <th>anno_cargue_secop</th>\n",
       "      <th>anno_firma_contrato</th>\n",
       "      <th>nivel_entidad</th>\n",
       "      <th>orden_entidad</th>\n",
       "      <th>nombre_entidad</th>\n",
       "      <th>nit_de_la_entidad</th>\n",
       "      <th>c_digo_de_la_entidad</th>\n",
       "      <th>id_modalidad</th>\n",
       "      <th>modalidad_de_contratacion</th>\n",
       "      <th>estado_del_proceso</th>\n",
       "      <th>causal_de_otras_formas_de</th>\n",
       "      <th>id_regimen_de_contratacion</th>\n",
       "      <th>nombre_regimen_de_contratacion</th>\n",
       "      <th>id_objeto_a_contratar</th>\n",
       "      <th>objeto_a_contratar</th>\n",
       "      <th>detalle_del_objeto_a_contratar</th>\n",
       "      <th>tipo_de_contrato</th>\n",
       "      <th>municipio_de_obtencion</th>\n",
       "      <th>municipio_de_entrega</th>\n",
       "      <th>municipios_ejecucion</th>\n",
       "      <th>fecha_de_cargue_en_el_secop</th>\n",
       "      <th>numero_de_constancia</th>\n",
       "      <th>numero_de_proceso</th>\n",
       "      <th>numero_de_contrato</th>\n",
       "      <th>cuantia_proceso</th>\n",
       "      <th>id_grupo</th>\n",
       "      <th>nombre_grupo</th>\n",
       "      <th>id_familia</th>\n",
       "      <th>nombre_familia</th>\n",
       "      <th>id_clase</th>\n",
       "      <th>nombre_clase</th>\n",
       "      <th>id_adjudicacion</th>\n",
       "      <th>tipo_identifi_del_contratista</th>\n",
       "      <th>identificacion_del_contratista</th>\n",
       "      <th>nom_razon_social_contratista</th>\n",
       "      <th>dpto_y_muni_contratista</th>\n",
       "      <th>tipo_doc_representante_legal</th>\n",
       "      <th>identific_representante_legal</th>\n",
       "      <th>nombre_del_represen_legal</th>\n",
       "      <th>fecha_de_firma_del_contrato</th>\n",
       "      <th>fecha_ini_ejec_contrato</th>\n",
       "      <th>plazo_de_ejec_del_contrato</th>\n",
       "      <th>rango_de_ejec_del_contrato</th>\n",
       "      <th>tiempo_adiciones_en_dias</th>\n",
       "      <th>tiempo_adiciones_en_meses</th>\n",
       "      <th>fecha_fin_ejec_contrato</th>\n",
       "      <th>compromiso_presupuestal</th>\n",
       "      <th>cuantia_contrato</th>\n",
       "      <th>valor_total_de_adiciones</th>\n",
       "      <th>valor_contrato_con_adiciones</th>\n",
       "      <th>objeto_del_contrato_a_la</th>\n",
       "      <th>proponentes_seleccionados</th>\n",
       "      <th>calificacion_definitiva</th>\n",
       "      <th>id_sub_unidad_ejecutora</th>\n",
       "      <th>nombre_sub_unidad_ejecutora</th>\n",
       "      <th>ruta_proceso_en_secop_i</th>\n",
       "      <th>moneda</th>\n",
       "      <th>es_postconflicto</th>\n",
       "      <th>marcacion_adiciones</th>\n",
       "      <th>posicion_rubro</th>\n",
       "      <th>nombre_rubro</th>\n",
       "      <th>valor_rubro</th>\n",
       "      <th>sexo_replegal</th>\n",
       "      <th>pilar_acuerdo_paz</th>\n",
       "      <th>punto_acuerdo_paz</th>\n",
       "      <th>municipio_entidad</th>\n",
       "      <th>departamento_entidad</th>\n",
       "      <th>ultima_actualizacion</th>\n",
       "      <th>cumpledecreto248</th>\n",
       "      <th>incluyebienesdecreto248</th>\n",
       "      <th>fecha_liquidacion</th>\n",
       "    </tr>\n",
       "  </thead>\n",
       "  <tbody>\n",
       "    <tr>\n",
       "      <th>0</th>\n",
       "      <td>18-12-7863192-7138877</td>\n",
       "      <td>2018</td>\n",
       "      <td>1905</td>\n",
       "      <td>TERRITORIAL</td>\n",
       "      <td>TERRITORIAL DEPARTAMENTAL DESCENTRALIZADO</td>\n",
       "      <td>META  HOSPITAL DE CASTILLA LA NUEVA ESE</td>\n",
       "      <td>900004059</td>\n",
       "      <td>250150017</td>\n",
       "      <td>12</td>\n",
       "      <td>Contratación Directa (Ley 1150 de 2007)</td>\n",
       "      <td>Celebrado</td>\n",
       "      <td>Prestación de Servicios Profesionales y de Apo...</td>\n",
       "      <td>12</td>\n",
       "      <td>Contratación Directa (Ley 1150 de 2007)</td>\n",
       "      <td>85000000</td>\n",
       "      <td>Servicios de Salud</td>\n",
       "      <td>PRESTACION DE SERVICIOS COMO PROFESIONAL EN BA...</td>\n",
       "      <td>Prestación de Servicios</td>\n",
       "      <td>Castilla La Nueva</td>\n",
       "      <td>Castilla La Nueva</td>\n",
       "      <td>Castilla La Nueva, Meta</td>\n",
       "      <td>2018-02-13T00:00:00.000</td>\n",
       "      <td>18-12-7863192</td>\n",
       "      <td>2018059</td>\n",
       "      <td>2018059</td>\n",
       "      <td>14700000</td>\n",
       "      <td>F</td>\n",
       "      <td>[F] Servicios</td>\n",
       "      <td>8510</td>\n",
       "      <td>Servicios integrales de salud</td>\n",
       "      <td>851016</td>\n",
       "      <td>Personas de soporte de prestación de servicios...</td>\n",
       "      <td>7138877</td>\n",
       "      <td>Cédula de Ciudadanía</td>\n",
       "      <td>60376429</td>\n",
       "      <td>EDNA DEICE HURTADO PEREZ</td>\n",
       "      <td>Meta</td>\n",
       "      <td>Cédula de Ciudadanía</td>\n",
       "      <td>60376429</td>\n",
       "      <td>EDNA DEICE HURTADO PEREZ</td>\n",
       "      <td>2018-01-01T00:00:00.000</td>\n",
       "      <td>2018-01-01T00:00:00.000</td>\n",
       "      <td>4</td>\n",
       "      <td>M</td>\n",
       "      <td>0</td>\n",
       "      <td>2</td>\n",
       "      <td>2018-07-01T00:00:00.000</td>\n",
       "      <td>Sn Definir</td>\n",
       "      <td>14700000</td>\n",
       "      <td>7350000</td>\n",
       "      <td>22050000</td>\n",
       "      <td>PRESTACION DE SERVICIOS COMO PROFESIONAL EN BA...</td>\n",
       "      <td>No Definido</td>\n",
       "      <td>No Definido</td>\n",
       "      <td>0</td>\n",
       "      <td>No Definido</td>\n",
       "      <td>{'url': 'https://www.contratos.gov.co/consulta...</td>\n",
       "      <td>Peso Colombiano</td>\n",
       "      <td>0</td>\n",
       "      <td>0</td>\n",
       "      <td>No Definido</td>\n",
       "      <td>No Definido</td>\n",
       "      <td>0</td>\n",
       "      <td>N</td>\n",
       "      <td>No Definido</td>\n",
       "      <td>No Definido</td>\n",
       "      <td>Castilla La Nueva</td>\n",
       "      <td>Meta</td>\n",
       "      <td>2018-02-13T00:00:00.000</td>\n",
       "      <td>N/D</td>\n",
       "      <td>N/D</td>\n",
       "      <td>NaN</td>\n",
       "    </tr>\n",
       "    <tr>\n",
       "      <th>1</th>\n",
       "      <td>18-12-7533198-6845825</td>\n",
       "      <td>2018</td>\n",
       "      <td>1905</td>\n",
       "      <td>TERRITORIAL</td>\n",
       "      <td>TERRITORIAL DEPARTAMENTAL DESCENTRALIZADO</td>\n",
       "      <td>RISARALDA  ESE SALUD PEREIRA</td>\n",
       "      <td>816005003</td>\n",
       "      <td>266001463</td>\n",
       "      <td>12</td>\n",
       "      <td>Contratación Directa (Ley 1150 de 2007)</td>\n",
       "      <td>Celebrado</td>\n",
       "      <td>Prestación de Servicios Profesionales y de Apo...</td>\n",
       "      <td>12</td>\n",
       "      <td>Contratación Directa (Ley 1150 de 2007)</td>\n",
       "      <td>85000000</td>\n",
       "      <td>Servicios de Salud</td>\n",
       "      <td>PRESTACION DE SERVICIOS PROFESIONALES COMO MED...</td>\n",
       "      <td>Prestación de Servicios</td>\n",
       "      <td>No Definido</td>\n",
       "      <td>No Definido</td>\n",
       "      <td>Pereira, Risaralda</td>\n",
       "      <td>2018-01-15T00:00:00.000</td>\n",
       "      <td>18-12-7533198</td>\n",
       "      <td>5918</td>\n",
       "      <td>5918</td>\n",
       "      <td>36400000</td>\n",
       "      <td>F</td>\n",
       "      <td>[F] Servicios</td>\n",
       "      <td>8510</td>\n",
       "      <td>Servicios integrales de salud</td>\n",
       "      <td>851016</td>\n",
       "      <td>Personas de soporte de prestación de servicios...</td>\n",
       "      <td>6845825</td>\n",
       "      <td>Cédula de Ciudadanía</td>\n",
       "      <td>1144133036</td>\n",
       "      <td>VIVIAN ROCIO CORDOBA ALMARIO</td>\n",
       "      <td>Risaralda</td>\n",
       "      <td>Cédula de Ciudadanía</td>\n",
       "      <td>1144133036</td>\n",
       "      <td>VIVIAN ROCIO CORDOBA ALMARIO</td>\n",
       "      <td>2018-01-01T00:00:00.000</td>\n",
       "      <td>2018-01-01T00:00:00.000</td>\n",
       "      <td>7</td>\n",
       "      <td>M</td>\n",
       "      <td>0</td>\n",
       "      <td>0</td>\n",
       "      <td>2018-08-01T00:00:00.000</td>\n",
       "      <td>Sn Definir</td>\n",
       "      <td>36400000</td>\n",
       "      <td>0</td>\n",
       "      <td>36400000</td>\n",
       "      <td>PRESTACION DE SERVICIOS PROFESIONALES COMO MED...</td>\n",
       "      <td>No Definido</td>\n",
       "      <td>No Definido</td>\n",
       "      <td>0</td>\n",
       "      <td>No Definido</td>\n",
       "      <td>{'url': 'https://www.contratos.gov.co/consulta...</td>\n",
       "      <td>Peso Colombiano</td>\n",
       "      <td>0</td>\n",
       "      <td>0</td>\n",
       "      <td>No Definido</td>\n",
       "      <td>No Definido</td>\n",
       "      <td>0</td>\n",
       "      <td>N</td>\n",
       "      <td>No Definido</td>\n",
       "      <td>No Definido</td>\n",
       "      <td>Pereira</td>\n",
       "      <td>Risaralda</td>\n",
       "      <td>2018-01-15T00:00:00.000</td>\n",
       "      <td>N/D</td>\n",
       "      <td>N/D</td>\n",
       "      <td>NaN</td>\n",
       "    </tr>\n",
       "    <tr>\n",
       "      <th>2</th>\n",
       "      <td>18-12-7493899-6810252</td>\n",
       "      <td>2018</td>\n",
       "      <td>1905</td>\n",
       "      <td>TERRITORIAL</td>\n",
       "      <td>TERRITORIAL DEPARTAMENTAL DESCENTRALIZADO</td>\n",
       "      <td>TOLIMA  UNIDAD DE SALUD DE IBAGUÉ</td>\n",
       "      <td>809003590</td>\n",
       "      <td>26617044</td>\n",
       "      <td>12</td>\n",
       "      <td>Contratación Directa (Ley 1150 de 2007)</td>\n",
       "      <td>Celebrado</td>\n",
       "      <td>Prestación de Servicios Profesionales y de Apo...</td>\n",
       "      <td>12</td>\n",
       "      <td>Contratación Directa (Ley 1150 de 2007)</td>\n",
       "      <td>78000000</td>\n",
       "      <td>Servicios de Transporte, Almacenaje y Correo</td>\n",
       "      <td>EJECUCIÓN Y DESARROLLO BAJO SU PROPIO RIESGO Y...</td>\n",
       "      <td>Prestación de Servicios</td>\n",
       "      <td>Ibagué</td>\n",
       "      <td>Ibagué</td>\n",
       "      <td>Ibagué, Tolima</td>\n",
       "      <td>2018-01-05T00:00:00.000</td>\n",
       "      <td>18-12-7493899</td>\n",
       "      <td>013</td>\n",
       "      <td>013</td>\n",
       "      <td>32806200</td>\n",
       "      <td>F</td>\n",
       "      <td>[F] Servicios</td>\n",
       "      <td>7814</td>\n",
       "      <td>Servicios de transporte</td>\n",
       "      <td>781415</td>\n",
       "      <td>Servicios de organización de transportes</td>\n",
       "      <td>6810252</td>\n",
       "      <td>Nit de Persona Jurídica</td>\n",
       "      <td>900318379</td>\n",
       "      <td>SERVICIOS ESPECIALES EL SOL DE LA VARIANTE LTDA</td>\n",
       "      <td>Tolima</td>\n",
       "      <td>Cédula de Ciudadanía</td>\n",
       "      <td>46370868</td>\n",
       "      <td>ALBA LUZ RINCON GARRIDO</td>\n",
       "      <td>2018-01-01T00:00:00.000</td>\n",
       "      <td>2018-01-01T00:00:00.000</td>\n",
       "      <td>2</td>\n",
       "      <td>M</td>\n",
       "      <td>0</td>\n",
       "      <td>0</td>\n",
       "      <td>2018-03-01T00:00:00.000</td>\n",
       "      <td>Sn Definir</td>\n",
       "      <td>32806200</td>\n",
       "      <td>0</td>\n",
       "      <td>32806200</td>\n",
       "      <td>EJECUCIÓN Y DESARROLLO BAJO SU PROPIO RIESGO Y...</td>\n",
       "      <td>No Definido</td>\n",
       "      <td>No Definido</td>\n",
       "      <td>0</td>\n",
       "      <td>No Definido</td>\n",
       "      <td>{'url': 'https://www.contratos.gov.co/consulta...</td>\n",
       "      <td>Peso Colombiano</td>\n",
       "      <td>0</td>\n",
       "      <td>0</td>\n",
       "      <td>No Definido</td>\n",
       "      <td>No Definido</td>\n",
       "      <td>0</td>\n",
       "      <td>N</td>\n",
       "      <td>No Definido</td>\n",
       "      <td>No Definido</td>\n",
       "      <td>Dosquebradas</td>\n",
       "      <td>Risaralda</td>\n",
       "      <td>2018-01-05T00:00:00.000</td>\n",
       "      <td>N/D</td>\n",
       "      <td>N/D</td>\n",
       "      <td>NaN</td>\n",
       "    </tr>\n",
       "  </tbody>\n",
       "</table>\n",
       "</div>\n",
       "      <button class=\"colab-df-convert\" onclick=\"convertToInteractive('df-04b35d92-65f2-4e65-8dac-a88a3252e7e1')\"\n",
       "              title=\"Convert this dataframe to an interactive table.\"\n",
       "              style=\"display:none;\">\n",
       "        \n",
       "  <svg xmlns=\"http://www.w3.org/2000/svg\" height=\"24px\"viewBox=\"0 0 24 24\"\n",
       "       width=\"24px\">\n",
       "    <path d=\"M0 0h24v24H0V0z\" fill=\"none\"/>\n",
       "    <path d=\"M18.56 5.44l.94 2.06.94-2.06 2.06-.94-2.06-.94-.94-2.06-.94 2.06-2.06.94zm-11 1L8.5 8.5l.94-2.06 2.06-.94-2.06-.94L8.5 2.5l-.94 2.06-2.06.94zm10 10l.94 2.06.94-2.06 2.06-.94-2.06-.94-.94-2.06-.94 2.06-2.06.94z\"/><path d=\"M17.41 7.96l-1.37-1.37c-.4-.4-.92-.59-1.43-.59-.52 0-1.04.2-1.43.59L10.3 9.45l-7.72 7.72c-.78.78-.78 2.05 0 2.83L4 21.41c.39.39.9.59 1.41.59.51 0 1.02-.2 1.41-.59l7.78-7.78 2.81-2.81c.8-.78.8-2.07 0-2.86zM5.41 20L4 18.59l7.72-7.72 1.47 1.35L5.41 20z\"/>\n",
       "  </svg>\n",
       "      </button>\n",
       "      \n",
       "  <style>\n",
       "    .colab-df-container {\n",
       "      display:flex;\n",
       "      flex-wrap:wrap;\n",
       "      gap: 12px;\n",
       "    }\n",
       "\n",
       "    .colab-df-convert {\n",
       "      background-color: #E8F0FE;\n",
       "      border: none;\n",
       "      border-radius: 50%;\n",
       "      cursor: pointer;\n",
       "      display: none;\n",
       "      fill: #1967D2;\n",
       "      height: 32px;\n",
       "      padding: 0 0 0 0;\n",
       "      width: 32px;\n",
       "    }\n",
       "\n",
       "    .colab-df-convert:hover {\n",
       "      background-color: #E2EBFA;\n",
       "      box-shadow: 0px 1px 2px rgba(60, 64, 67, 0.3), 0px 1px 3px 1px rgba(60, 64, 67, 0.15);\n",
       "      fill: #174EA6;\n",
       "    }\n",
       "\n",
       "    [theme=dark] .colab-df-convert {\n",
       "      background-color: #3B4455;\n",
       "      fill: #D2E3FC;\n",
       "    }\n",
       "\n",
       "    [theme=dark] .colab-df-convert:hover {\n",
       "      background-color: #434B5C;\n",
       "      box-shadow: 0px 1px 3px 1px rgba(0, 0, 0, 0.15);\n",
       "      filter: drop-shadow(0px 1px 2px rgba(0, 0, 0, 0.3));\n",
       "      fill: #FFFFFF;\n",
       "    }\n",
       "  </style>\n",
       "\n",
       "      <script>\n",
       "        const buttonEl =\n",
       "          document.querySelector('#df-04b35d92-65f2-4e65-8dac-a88a3252e7e1 button.colab-df-convert');\n",
       "        buttonEl.style.display =\n",
       "          google.colab.kernel.accessAllowed ? 'block' : 'none';\n",
       "\n",
       "        async function convertToInteractive(key) {\n",
       "          const element = document.querySelector('#df-04b35d92-65f2-4e65-8dac-a88a3252e7e1');\n",
       "          const dataTable =\n",
       "            await google.colab.kernel.invokeFunction('convertToInteractive',\n",
       "                                                     [key], {});\n",
       "          if (!dataTable) return;\n",
       "\n",
       "          const docLinkHtml = 'Like what you see? Visit the ' +\n",
       "            '<a target=\"_blank\" href=https://colab.research.google.com/notebooks/data_table.ipynb>data table notebook</a>'\n",
       "            + ' to learn more about interactive tables.';\n",
       "          element.innerHTML = '';\n",
       "          dataTable['output_type'] = 'display_data';\n",
       "          await google.colab.output.renderOutput(dataTable, element);\n",
       "          const docLink = document.createElement('div');\n",
       "          docLink.innerHTML = docLinkHtml;\n",
       "          element.appendChild(docLink);\n",
       "        }\n",
       "      </script>\n",
       "    </div>\n",
       "  </div>\n",
       "  "
      ],
      "text/plain": [
       "                     uid anno_cargue_secop anno_firma_contrato nivel_entidad  \\\n",
       "0  18-12-7863192-7138877              2018                1905   TERRITORIAL   \n",
       "1  18-12-7533198-6845825              2018                1905   TERRITORIAL   \n",
       "2  18-12-7493899-6810252              2018                1905   TERRITORIAL   \n",
       "\n",
       "                               orden_entidad  \\\n",
       "0  TERRITORIAL DEPARTAMENTAL DESCENTRALIZADO   \n",
       "1  TERRITORIAL DEPARTAMENTAL DESCENTRALIZADO   \n",
       "2  TERRITORIAL DEPARTAMENTAL DESCENTRALIZADO   \n",
       "\n",
       "                            nombre_entidad nit_de_la_entidad  \\\n",
       "0  META  HOSPITAL DE CASTILLA LA NUEVA ESE         900004059   \n",
       "1             RISARALDA  ESE SALUD PEREIRA         816005003   \n",
       "2        TOLIMA  UNIDAD DE SALUD DE IBAGUÉ         809003590   \n",
       "\n",
       "  c_digo_de_la_entidad id_modalidad                modalidad_de_contratacion  \\\n",
       "0            250150017           12  Contratación Directa (Ley 1150 de 2007)   \n",
       "1            266001463           12  Contratación Directa (Ley 1150 de 2007)   \n",
       "2             26617044           12  Contratación Directa (Ley 1150 de 2007)   \n",
       "\n",
       "  estado_del_proceso                          causal_de_otras_formas_de  \\\n",
       "0          Celebrado  Prestación de Servicios Profesionales y de Apo...   \n",
       "1          Celebrado  Prestación de Servicios Profesionales y de Apo...   \n",
       "2          Celebrado  Prestación de Servicios Profesionales y de Apo...   \n",
       "\n",
       "  id_regimen_de_contratacion           nombre_regimen_de_contratacion  \\\n",
       "0                         12  Contratación Directa (Ley 1150 de 2007)   \n",
       "1                         12  Contratación Directa (Ley 1150 de 2007)   \n",
       "2                         12  Contratación Directa (Ley 1150 de 2007)   \n",
       "\n",
       "  id_objeto_a_contratar                            objeto_a_contratar  \\\n",
       "0              85000000                            Servicios de Salud   \n",
       "1              85000000                            Servicios de Salud   \n",
       "2              78000000  Servicios de Transporte, Almacenaje y Correo   \n",
       "\n",
       "                      detalle_del_objeto_a_contratar         tipo_de_contrato  \\\n",
       "0  PRESTACION DE SERVICIOS COMO PROFESIONAL EN BA...  Prestación de Servicios   \n",
       "1  PRESTACION DE SERVICIOS PROFESIONALES COMO MED...  Prestación de Servicios   \n",
       "2  EJECUCIÓN Y DESARROLLO BAJO SU PROPIO RIESGO Y...  Prestación de Servicios   \n",
       "\n",
       "  municipio_de_obtencion municipio_de_entrega     municipios_ejecucion  \\\n",
       "0      Castilla La Nueva    Castilla La Nueva  Castilla La Nueva, Meta   \n",
       "1            No Definido          No Definido       Pereira, Risaralda   \n",
       "2                 Ibagué               Ibagué           Ibagué, Tolima   \n",
       "\n",
       "  fecha_de_cargue_en_el_secop numero_de_constancia numero_de_proceso  \\\n",
       "0     2018-02-13T00:00:00.000        18-12-7863192           2018059   \n",
       "1     2018-01-15T00:00:00.000        18-12-7533198              5918   \n",
       "2     2018-01-05T00:00:00.000        18-12-7493899               013   \n",
       "\n",
       "  numero_de_contrato cuantia_proceso id_grupo   nombre_grupo id_familia  \\\n",
       "0            2018059        14700000        F  [F] Servicios       8510   \n",
       "1               5918        36400000        F  [F] Servicios       8510   \n",
       "2                013        32806200        F  [F] Servicios       7814   \n",
       "\n",
       "                  nombre_familia id_clase  \\\n",
       "0  Servicios integrales de salud   851016   \n",
       "1  Servicios integrales de salud   851016   \n",
       "2        Servicios de transporte   781415   \n",
       "\n",
       "                                        nombre_clase id_adjudicacion  \\\n",
       "0  Personas de soporte de prestación de servicios...         7138877   \n",
       "1  Personas de soporte de prestación de servicios...         6845825   \n",
       "2           Servicios de organización de transportes         6810252   \n",
       "\n",
       "  tipo_identifi_del_contratista identificacion_del_contratista  \\\n",
       "0          Cédula de Ciudadanía                       60376429   \n",
       "1          Cédula de Ciudadanía                     1144133036   \n",
       "2       Nit de Persona Jurídica                      900318379   \n",
       "\n",
       "                      nom_razon_social_contratista dpto_y_muni_contratista  \\\n",
       "0                         EDNA DEICE HURTADO PEREZ                    Meta   \n",
       "1                     VIVIAN ROCIO CORDOBA ALMARIO               Risaralda   \n",
       "2  SERVICIOS ESPECIALES EL SOL DE LA VARIANTE LTDA                  Tolima   \n",
       "\n",
       "  tipo_doc_representante_legal identific_representante_legal  \\\n",
       "0         Cédula de Ciudadanía                      60376429   \n",
       "1         Cédula de Ciudadanía                    1144133036   \n",
       "2         Cédula de Ciudadanía                      46370868   \n",
       "\n",
       "      nombre_del_represen_legal fecha_de_firma_del_contrato  \\\n",
       "0      EDNA DEICE HURTADO PEREZ     2018-01-01T00:00:00.000   \n",
       "1  VIVIAN ROCIO CORDOBA ALMARIO     2018-01-01T00:00:00.000   \n",
       "2       ALBA LUZ RINCON GARRIDO     2018-01-01T00:00:00.000   \n",
       "\n",
       "   fecha_ini_ejec_contrato plazo_de_ejec_del_contrato  \\\n",
       "0  2018-01-01T00:00:00.000                          4   \n",
       "1  2018-01-01T00:00:00.000                          7   \n",
       "2  2018-01-01T00:00:00.000                          2   \n",
       "\n",
       "  rango_de_ejec_del_contrato tiempo_adiciones_en_dias  \\\n",
       "0                          M                        0   \n",
       "1                          M                        0   \n",
       "2                          M                        0   \n",
       "\n",
       "  tiempo_adiciones_en_meses  fecha_fin_ejec_contrato compromiso_presupuestal  \\\n",
       "0                         2  2018-07-01T00:00:00.000              Sn Definir   \n",
       "1                         0  2018-08-01T00:00:00.000              Sn Definir   \n",
       "2                         0  2018-03-01T00:00:00.000              Sn Definir   \n",
       "\n",
       "  cuantia_contrato valor_total_de_adiciones valor_contrato_con_adiciones  \\\n",
       "0         14700000                  7350000                     22050000   \n",
       "1         36400000                        0                     36400000   \n",
       "2         32806200                        0                     32806200   \n",
       "\n",
       "                            objeto_del_contrato_a_la  \\\n",
       "0  PRESTACION DE SERVICIOS COMO PROFESIONAL EN BA...   \n",
       "1  PRESTACION DE SERVICIOS PROFESIONALES COMO MED...   \n",
       "2  EJECUCIÓN Y DESARROLLO BAJO SU PROPIO RIESGO Y...   \n",
       "\n",
       "  proponentes_seleccionados calificacion_definitiva id_sub_unidad_ejecutora  \\\n",
       "0               No Definido             No Definido                       0   \n",
       "1               No Definido             No Definido                       0   \n",
       "2               No Definido             No Definido                       0   \n",
       "\n",
       "  nombre_sub_unidad_ejecutora  \\\n",
       "0                 No Definido   \n",
       "1                 No Definido   \n",
       "2                 No Definido   \n",
       "\n",
       "                             ruta_proceso_en_secop_i           moneda  \\\n",
       "0  {'url': 'https://www.contratos.gov.co/consulta...  Peso Colombiano   \n",
       "1  {'url': 'https://www.contratos.gov.co/consulta...  Peso Colombiano   \n",
       "2  {'url': 'https://www.contratos.gov.co/consulta...  Peso Colombiano   \n",
       "\n",
       "  es_postconflicto marcacion_adiciones posicion_rubro nombre_rubro  \\\n",
       "0                0                   0    No Definido  No Definido   \n",
       "1                0                   0    No Definido  No Definido   \n",
       "2                0                   0    No Definido  No Definido   \n",
       "\n",
       "  valor_rubro sexo_replegal pilar_acuerdo_paz punto_acuerdo_paz  \\\n",
       "0           0             N       No Definido       No Definido   \n",
       "1           0             N       No Definido       No Definido   \n",
       "2           0             N       No Definido       No Definido   \n",
       "\n",
       "   municipio_entidad departamento_entidad     ultima_actualizacion  \\\n",
       "0  Castilla La Nueva                 Meta  2018-02-13T00:00:00.000   \n",
       "1            Pereira            Risaralda  2018-01-15T00:00:00.000   \n",
       "2       Dosquebradas            Risaralda  2018-01-05T00:00:00.000   \n",
       "\n",
       "  cumpledecreto248 incluyebienesdecreto248 fecha_liquidacion  \n",
       "0              N/D                     N/D               NaN  \n",
       "1              N/D                     N/D               NaN  \n",
       "2              N/D                     N/D               NaN  "
      ]
     },
     "execution_count": 32,
     "metadata": {},
     "output_type": "execute_result"
    }
   ],
   "source": [
    "contratos_SI_DF.head(3)"
   ]
  },
  {
   "cell_type": "code",
   "execution_count": 33,
   "id": "UN3KSvYCCkJc",
   "metadata": {
    "colab": {
     "base_uri": "https://localhost:8080/",
     "height": 346
    },
    "executionInfo": {
     "elapsed": 15,
     "status": "ok",
     "timestamp": 1660938305422,
     "user": {
      "displayName": "Luis Gustavo Maldonado Archila",
      "userId": "00154281364666914585"
     },
     "user_tz": 240
    },
    "id": "UN3KSvYCCkJc",
    "outputId": "43787872-8087-4237-85a9-d9d6981143f6"
   },
   "outputs": [
    {
     "data": {
      "text/html": [
       "\n",
       "  <div id=\"df-b0fecf6b-bc46-4ea9-899a-ba9f552efce5\">\n",
       "    <div class=\"colab-df-container\">\n",
       "      <div>\n",
       "<style scoped>\n",
       "    .dataframe tbody tr th:only-of-type {\n",
       "        vertical-align: middle;\n",
       "    }\n",
       "\n",
       "    .dataframe tbody tr th {\n",
       "        vertical-align: top;\n",
       "    }\n",
       "\n",
       "    .dataframe thead th {\n",
       "        text-align: right;\n",
       "    }\n",
       "</style>\n",
       "<table border=\"1\" class=\"dataframe\">\n",
       "  <thead>\n",
       "    <tr style=\"text-align: right;\">\n",
       "      <th></th>\n",
       "      <th>nombre_entidad</th>\n",
       "      <th>nit_entidad</th>\n",
       "      <th>departamento</th>\n",
       "      <th>ciudad</th>\n",
       "      <th>localizaci_n</th>\n",
       "      <th>orden</th>\n",
       "      <th>sector</th>\n",
       "      <th>rama</th>\n",
       "      <th>entidad_centralizada</th>\n",
       "      <th>proceso_de_compra</th>\n",
       "      <th>id_contrato</th>\n",
       "      <th>referencia_del_contrato</th>\n",
       "      <th>estado_contrato</th>\n",
       "      <th>codigo_de_categoria_principal</th>\n",
       "      <th>descripcion_del_proceso</th>\n",
       "      <th>tipo_de_contrato</th>\n",
       "      <th>modalidad_de_contratacion</th>\n",
       "      <th>justificacion_modalidad_de</th>\n",
       "      <th>fecha_de_firma</th>\n",
       "      <th>fecha_de_inicio_del_contrato</th>\n",
       "      <th>fecha_de_fin_del_contrato</th>\n",
       "      <th>condiciones_de_entrega</th>\n",
       "      <th>tipodocproveedor</th>\n",
       "      <th>documento_proveedor</th>\n",
       "      <th>proveedor_adjudicado</th>\n",
       "      <th>es_grupo</th>\n",
       "      <th>es_pyme</th>\n",
       "      <th>habilita_pago_adelantado</th>\n",
       "      <th>liquidaci_n</th>\n",
       "      <th>obligaci_n_ambiental</th>\n",
       "      <th>obligaciones_postconsumo</th>\n",
       "      <th>reversion</th>\n",
       "      <th>valor_del_contrato</th>\n",
       "      <th>valor_de_pago_adelantado</th>\n",
       "      <th>valor_facturado</th>\n",
       "      <th>valor_pendiente_de_pago</th>\n",
       "      <th>valor_pagado</th>\n",
       "      <th>valor_amortizado</th>\n",
       "      <th>valor_pendiente_de</th>\n",
       "      <th>valor_pendiente_de_ejecucion</th>\n",
       "      <th>estado_bpin</th>\n",
       "      <th>c_digo_bpin</th>\n",
       "      <th>anno_bpin</th>\n",
       "      <th>saldo_cdp</th>\n",
       "      <th>saldo_vigencia</th>\n",
       "      <th>espostconflicto</th>\n",
       "      <th>urlproceso</th>\n",
       "      <th>destino_gasto</th>\n",
       "      <th>origen_de_los_recursos</th>\n",
       "      <th>dias_adicionados</th>\n",
       "      <th>puntos_del_acuerdo</th>\n",
       "      <th>pilares_del_acuerdo</th>\n",
       "      <th>nombre_representante_legal</th>\n",
       "      <th>nacionalidad_representante_legal</th>\n",
       "      <th>tipo_de_identificaci_n_representante_legal</th>\n",
       "      <th>identificaci_n_representante_legal</th>\n",
       "      <th>g_nero_representante_legal</th>\n",
       "      <th>presupuesto_general_de_la_nacion_pgn</th>\n",
       "      <th>sistema_general_de_participaciones</th>\n",
       "      <th>sistema_general_de_regal_as</th>\n",
       "      <th>recursos_propios_alcald_as_gobernaciones_y_resguardos_ind_genas_</th>\n",
       "      <th>recursos_de_credito</th>\n",
       "      <th>recursos_propios</th>\n",
       "      <th>ultima_actualizacion</th>\n",
       "      <th>codigo_entidad</th>\n",
       "      <th>codigo_proveedor</th>\n",
       "      <th>objeto_del_contrato</th>\n",
       "      <th>fecha_de_inicio_de_ejecucion</th>\n",
       "      <th>fecha_de_fin_de_ejecucion</th>\n",
       "      <th>fecha_inicio_liquidacion</th>\n",
       "      <th>fecha_fin_liquidacion</th>\n",
       "    </tr>\n",
       "  </thead>\n",
       "  <tbody>\n",
       "    <tr>\n",
       "      <th>0</th>\n",
       "      <td>JURISDICCION ESPECIAL DE PAZ</td>\n",
       "      <td>901140004</td>\n",
       "      <td>Distrito Capital de Bogotá</td>\n",
       "      <td>Bogotá</td>\n",
       "      <td>Colombia, Bogotá, Bogotá</td>\n",
       "      <td>Nacional</td>\n",
       "      <td>No aplica/No pertenece</td>\n",
       "      <td>Corporación Autónoma</td>\n",
       "      <td>Centralizada</td>\n",
       "      <td>CO1.BDOS.745128</td>\n",
       "      <td>CO1.PCCNTR.835071</td>\n",
       "      <td>JEP - 28 -2019</td>\n",
       "      <td>Activo</td>\n",
       "      <td>V1.93141500</td>\n",
       "      <td>PRESTACIÓN DE SERVICIOS PROFESIONALES ESPECIA...</td>\n",
       "      <td>Prestación de servicios</td>\n",
       "      <td>Contratación directa</td>\n",
       "      <td>ServiciosProfesionales</td>\n",
       "      <td>2019-02-18T08:02:03.000</td>\n",
       "      <td>2019-02-01T00:00:00.000</td>\n",
       "      <td>2019-12-31T00:00:00.000</td>\n",
       "      <td>Como acordado previamente</td>\n",
       "      <td>NIT</td>\n",
       "      <td>79261868</td>\n",
       "      <td>Jose Arles Nova Villanueva</td>\n",
       "      <td>No</td>\n",
       "      <td>No</td>\n",
       "      <td>No</td>\n",
       "      <td>No</td>\n",
       "      <td>No</td>\n",
       "      <td>No</td>\n",
       "      <td>No</td>\n",
       "      <td>114393961</td>\n",
       "      <td>0</td>\n",
       "      <td>0</td>\n",
       "      <td>114393961</td>\n",
       "      <td>0</td>\n",
       "      <td>0</td>\n",
       "      <td>0</td>\n",
       "      <td>114393961</td>\n",
       "      <td>Válido</td>\n",
       "      <td>No Definido</td>\n",
       "      <td>2019</td>\n",
       "      <td>0</td>\n",
       "      <td>0</td>\n",
       "      <td>Si</td>\n",
       "      <td>{'url': 'https://community.secop.gov.co/Public...</td>\n",
       "      <td>Inversión</td>\n",
       "      <td>Distribuido</td>\n",
       "      <td>0</td>\n",
       "      <td>No aplica</td>\n",
       "      <td>No aplica</td>\n",
       "      <td>José Arles Nova Villanueva</td>\n",
       "      <td>Colombiano</td>\n",
       "      <td>No Definido</td>\n",
       "      <td>79261868</td>\n",
       "      <td>No Definido</td>\n",
       "      <td>0</td>\n",
       "      <td>0</td>\n",
       "      <td>0</td>\n",
       "      <td>0</td>\n",
       "      <td>0</td>\n",
       "      <td>0</td>\n",
       "      <td>2022-02-23T00:00:00.000</td>\n",
       "      <td>703840058</td>\n",
       "      <td>706097326</td>\n",
       "      <td>PRESTACIÓN DE SERVICIOS PROFESIONALES ESPECIAL...</td>\n",
       "      <td>NaN</td>\n",
       "      <td>NaN</td>\n",
       "      <td>NaN</td>\n",
       "      <td>NaN</td>\n",
       "    </tr>\n",
       "    <tr>\n",
       "      <th>1</th>\n",
       "      <td>Secretaria Distrital de Integración Social - O...</td>\n",
       "      <td>8999990611</td>\n",
       "      <td>Distrito Capital de Bogotá</td>\n",
       "      <td>No Definido</td>\n",
       "      <td>Colombia, Bogotá, Bogotá</td>\n",
       "      <td>Territorial</td>\n",
       "      <td>Inclusión Social y Reconciliación</td>\n",
       "      <td>Ejecutivo</td>\n",
       "      <td>Centralizada</td>\n",
       "      <td>CO1.BDOS.1241507</td>\n",
       "      <td>CO1.PCCNTR.1571334</td>\n",
       "      <td>4552-2020</td>\n",
       "      <td>terminado</td>\n",
       "      <td>V1.80111500</td>\n",
       "      <td>PRESTAR SERVICIOS PARA LA ATENCIÓN INTEGRAL A ...</td>\n",
       "      <td>Prestación de servicios</td>\n",
       "      <td>Contratación directa</td>\n",
       "      <td>ServiciosProfesionales</td>\n",
       "      <td>2020-05-18T11:05:14.000</td>\n",
       "      <td>2020-06-01T00:00:00.000</td>\n",
       "      <td>2020-10-30T00:00:00.000</td>\n",
       "      <td>No Definido</td>\n",
       "      <td>Cédula de Ciudadanía</td>\n",
       "      <td>52548024</td>\n",
       "      <td>JIMENA VERGARA GARNICA</td>\n",
       "      <td>No</td>\n",
       "      <td>No</td>\n",
       "      <td>No</td>\n",
       "      <td>No</td>\n",
       "      <td>No</td>\n",
       "      <td>No</td>\n",
       "      <td>No</td>\n",
       "      <td>16390000</td>\n",
       "      <td>0</td>\n",
       "      <td>15297333</td>\n",
       "      <td>1092667</td>\n",
       "      <td>15297333</td>\n",
       "      <td>0</td>\n",
       "      <td>0</td>\n",
       "      <td>16390000</td>\n",
       "      <td>Válido</td>\n",
       "      <td>No Definido</td>\n",
       "      <td>2020</td>\n",
       "      <td>16390000</td>\n",
       "      <td>0</td>\n",
       "      <td>No</td>\n",
       "      <td>{'url': 'https://community.secop.gov.co/Public...</td>\n",
       "      <td>Inversión</td>\n",
       "      <td>Distribuido</td>\n",
       "      <td>0</td>\n",
       "      <td>No aplica</td>\n",
       "      <td>No aplica</td>\n",
       "      <td>JIMENA VERGARA GARNICA</td>\n",
       "      <td>COLOMBIANA</td>\n",
       "      <td>No Definido</td>\n",
       "      <td>52548024</td>\n",
       "      <td>No Definido</td>\n",
       "      <td>0</td>\n",
       "      <td>0</td>\n",
       "      <td>0</td>\n",
       "      <td>16390000</td>\n",
       "      <td>0</td>\n",
       "      <td>0</td>\n",
       "      <td>2020-11-03T00:00:00.000</td>\n",
       "      <td>702271321</td>\n",
       "      <td>705386662</td>\n",
       "      <td>PRESTAR SERVICIOS PARA LA ATENCIÓN INTEGRAL A ...</td>\n",
       "      <td>NaN</td>\n",
       "      <td>NaN</td>\n",
       "      <td>NaN</td>\n",
       "      <td>NaN</td>\n",
       "    </tr>\n",
       "    <tr>\n",
       "      <th>2</th>\n",
       "      <td>SERVICIO GEOLOGICO COLOMBIANO</td>\n",
       "      <td>899999294</td>\n",
       "      <td>Distrito Capital de Bogotá</td>\n",
       "      <td>Bogotá</td>\n",
       "      <td>Colombia, Bogotá, Bogotá</td>\n",
       "      <td>Nacional</td>\n",
       "      <td>Minas y Energía</td>\n",
       "      <td>Ejecutivo</td>\n",
       "      <td>Centralizada</td>\n",
       "      <td>CO1.BDOS.638101</td>\n",
       "      <td>CO1.PCCNTR.696402</td>\n",
       "      <td>CONTRATO 885 DE 2018</td>\n",
       "      <td>Activo</td>\n",
       "      <td>V1.81151901</td>\n",
       "      <td>El Contratista se compromete para con el Servi...</td>\n",
       "      <td>Prestación de servicios</td>\n",
       "      <td>Contratación directa</td>\n",
       "      <td>ServiciosProfesionales</td>\n",
       "      <td>2018-12-19T21:12:01.000</td>\n",
       "      <td>2018-12-19T00:00:00.000</td>\n",
       "      <td>2019-08-31T00:00:00.000</td>\n",
       "      <td>A convenir</td>\n",
       "      <td>Cédula de Ciudadanía</td>\n",
       "      <td>12749676</td>\n",
       "      <td>Dario Fernando Arcos Guerrero</td>\n",
       "      <td>No</td>\n",
       "      <td>No</td>\n",
       "      <td>No</td>\n",
       "      <td>No</td>\n",
       "      <td>No</td>\n",
       "      <td>No</td>\n",
       "      <td>No</td>\n",
       "      <td>59259607</td>\n",
       "      <td>0</td>\n",
       "      <td>0</td>\n",
       "      <td>59259607</td>\n",
       "      <td>0</td>\n",
       "      <td>0</td>\n",
       "      <td>0</td>\n",
       "      <td>59259607</td>\n",
       "      <td>Válido</td>\n",
       "      <td>No Definido</td>\n",
       "      <td>N/D</td>\n",
       "      <td>0</td>\n",
       "      <td>0</td>\n",
       "      <td>No</td>\n",
       "      <td>{'url': 'https://community.secop.gov.co/Public...</td>\n",
       "      <td>No Definido</td>\n",
       "      <td>Distribuido</td>\n",
       "      <td>0</td>\n",
       "      <td>No aplica</td>\n",
       "      <td>No aplica</td>\n",
       "      <td>Dario Fernando Arcos Guerrero</td>\n",
       "      <td>Colombiano</td>\n",
       "      <td>No Definido</td>\n",
       "      <td>12749676</td>\n",
       "      <td>No Definido</td>\n",
       "      <td>0</td>\n",
       "      <td>0</td>\n",
       "      <td>0</td>\n",
       "      <td>0</td>\n",
       "      <td>0</td>\n",
       "      <td>0</td>\n",
       "      <td>2022-03-25T00:00:00.000</td>\n",
       "      <td>700765068</td>\n",
       "      <td>702875451</td>\n",
       "      <td>El Contratista se compromete para con el SERVI...</td>\n",
       "      <td>2018-12-19T00:00:00.000</td>\n",
       "      <td>2019-08-31T00:00:00.000</td>\n",
       "      <td>NaN</td>\n",
       "      <td>NaN</td>\n",
       "    </tr>\n",
       "  </tbody>\n",
       "</table>\n",
       "</div>\n",
       "      <button class=\"colab-df-convert\" onclick=\"convertToInteractive('df-b0fecf6b-bc46-4ea9-899a-ba9f552efce5')\"\n",
       "              title=\"Convert this dataframe to an interactive table.\"\n",
       "              style=\"display:none;\">\n",
       "        \n",
       "  <svg xmlns=\"http://www.w3.org/2000/svg\" height=\"24px\"viewBox=\"0 0 24 24\"\n",
       "       width=\"24px\">\n",
       "    <path d=\"M0 0h24v24H0V0z\" fill=\"none\"/>\n",
       "    <path d=\"M18.56 5.44l.94 2.06.94-2.06 2.06-.94-2.06-.94-.94-2.06-.94 2.06-2.06.94zm-11 1L8.5 8.5l.94-2.06 2.06-.94-2.06-.94L8.5 2.5l-.94 2.06-2.06.94zm10 10l.94 2.06.94-2.06 2.06-.94-2.06-.94-.94-2.06-.94 2.06-2.06.94z\"/><path d=\"M17.41 7.96l-1.37-1.37c-.4-.4-.92-.59-1.43-.59-.52 0-1.04.2-1.43.59L10.3 9.45l-7.72 7.72c-.78.78-.78 2.05 0 2.83L4 21.41c.39.39.9.59 1.41.59.51 0 1.02-.2 1.41-.59l7.78-7.78 2.81-2.81c.8-.78.8-2.07 0-2.86zM5.41 20L4 18.59l7.72-7.72 1.47 1.35L5.41 20z\"/>\n",
       "  </svg>\n",
       "      </button>\n",
       "      \n",
       "  <style>\n",
       "    .colab-df-container {\n",
       "      display:flex;\n",
       "      flex-wrap:wrap;\n",
       "      gap: 12px;\n",
       "    }\n",
       "\n",
       "    .colab-df-convert {\n",
       "      background-color: #E8F0FE;\n",
       "      border: none;\n",
       "      border-radius: 50%;\n",
       "      cursor: pointer;\n",
       "      display: none;\n",
       "      fill: #1967D2;\n",
       "      height: 32px;\n",
       "      padding: 0 0 0 0;\n",
       "      width: 32px;\n",
       "    }\n",
       "\n",
       "    .colab-df-convert:hover {\n",
       "      background-color: #E2EBFA;\n",
       "      box-shadow: 0px 1px 2px rgba(60, 64, 67, 0.3), 0px 1px 3px 1px rgba(60, 64, 67, 0.15);\n",
       "      fill: #174EA6;\n",
       "    }\n",
       "\n",
       "    [theme=dark] .colab-df-convert {\n",
       "      background-color: #3B4455;\n",
       "      fill: #D2E3FC;\n",
       "    }\n",
       "\n",
       "    [theme=dark] .colab-df-convert:hover {\n",
       "      background-color: #434B5C;\n",
       "      box-shadow: 0px 1px 3px 1px rgba(0, 0, 0, 0.15);\n",
       "      filter: drop-shadow(0px 1px 2px rgba(0, 0, 0, 0.3));\n",
       "      fill: #FFFFFF;\n",
       "    }\n",
       "  </style>\n",
       "\n",
       "      <script>\n",
       "        const buttonEl =\n",
       "          document.querySelector('#df-b0fecf6b-bc46-4ea9-899a-ba9f552efce5 button.colab-df-convert');\n",
       "        buttonEl.style.display =\n",
       "          google.colab.kernel.accessAllowed ? 'block' : 'none';\n",
       "\n",
       "        async function convertToInteractive(key) {\n",
       "          const element = document.querySelector('#df-b0fecf6b-bc46-4ea9-899a-ba9f552efce5');\n",
       "          const dataTable =\n",
       "            await google.colab.kernel.invokeFunction('convertToInteractive',\n",
       "                                                     [key], {});\n",
       "          if (!dataTable) return;\n",
       "\n",
       "          const docLinkHtml = 'Like what you see? Visit the ' +\n",
       "            '<a target=\"_blank\" href=https://colab.research.google.com/notebooks/data_table.ipynb>data table notebook</a>'\n",
       "            + ' to learn more about interactive tables.';\n",
       "          element.innerHTML = '';\n",
       "          dataTable['output_type'] = 'display_data';\n",
       "          await google.colab.output.renderOutput(dataTable, element);\n",
       "          const docLink = document.createElement('div');\n",
       "          docLink.innerHTML = docLinkHtml;\n",
       "          element.appendChild(docLink);\n",
       "        }\n",
       "      </script>\n",
       "    </div>\n",
       "  </div>\n",
       "  "
      ],
      "text/plain": [
       "                                      nombre_entidad nit_entidad  \\\n",
       "0                       JURISDICCION ESPECIAL DE PAZ   901140004   \n",
       "1  Secretaria Distrital de Integración Social - O...  8999990611   \n",
       "2                      SERVICIO GEOLOGICO COLOMBIANO   899999294   \n",
       "\n",
       "                 departamento       ciudad              localizaci_n  \\\n",
       "0  Distrito Capital de Bogotá       Bogotá  Colombia, Bogotá, Bogotá   \n",
       "1  Distrito Capital de Bogotá  No Definido  Colombia, Bogotá, Bogotá   \n",
       "2  Distrito Capital de Bogotá       Bogotá  Colombia, Bogotá, Bogotá   \n",
       "\n",
       "         orden                             sector                  rama  \\\n",
       "0     Nacional             No aplica/No pertenece  Corporación Autónoma   \n",
       "1  Territorial  Inclusión Social y Reconciliación             Ejecutivo   \n",
       "2     Nacional                    Minas y Energía             Ejecutivo   \n",
       "\n",
       "  entidad_centralizada proceso_de_compra         id_contrato  \\\n",
       "0         Centralizada   CO1.BDOS.745128   CO1.PCCNTR.835071   \n",
       "1         Centralizada  CO1.BDOS.1241507  CO1.PCCNTR.1571334   \n",
       "2         Centralizada   CO1.BDOS.638101   CO1.PCCNTR.696402   \n",
       "\n",
       "  referencia_del_contrato estado_contrato codigo_de_categoria_principal  \\\n",
       "0          JEP - 28 -2019          Activo                   V1.93141500   \n",
       "1               4552-2020       terminado                   V1.80111500   \n",
       "2    CONTRATO 885 DE 2018          Activo                   V1.81151901   \n",
       "\n",
       "                             descripcion_del_proceso         tipo_de_contrato  \\\n",
       "0  PRESTACIÓN DE SERVICIOS PROFESIONALES ESPECIA...  Prestación de servicios   \n",
       "1  PRESTAR SERVICIOS PARA LA ATENCIÓN INTEGRAL A ...  Prestación de servicios   \n",
       "2  El Contratista se compromete para con el Servi...  Prestación de servicios   \n",
       "\n",
       "  modalidad_de_contratacion justificacion_modalidad_de  \\\n",
       "0      Contratación directa     ServiciosProfesionales   \n",
       "1      Contratación directa     ServiciosProfesionales   \n",
       "2      Contratación directa     ServiciosProfesionales   \n",
       "\n",
       "            fecha_de_firma fecha_de_inicio_del_contrato  \\\n",
       "0  2019-02-18T08:02:03.000      2019-02-01T00:00:00.000   \n",
       "1  2020-05-18T11:05:14.000      2020-06-01T00:00:00.000   \n",
       "2  2018-12-19T21:12:01.000      2018-12-19T00:00:00.000   \n",
       "\n",
       "  fecha_de_fin_del_contrato     condiciones_de_entrega      tipodocproveedor  \\\n",
       "0   2019-12-31T00:00:00.000  Como acordado previamente                   NIT   \n",
       "1   2020-10-30T00:00:00.000                No Definido  Cédula de Ciudadanía   \n",
       "2   2019-08-31T00:00:00.000                 A convenir  Cédula de Ciudadanía   \n",
       "\n",
       "  documento_proveedor           proveedor_adjudicado es_grupo es_pyme  \\\n",
       "0            79261868     Jose Arles Nova Villanueva       No      No   \n",
       "1            52548024         JIMENA VERGARA GARNICA       No      No   \n",
       "2            12749676  Dario Fernando Arcos Guerrero       No      No   \n",
       "\n",
       "  habilita_pago_adelantado liquidaci_n obligaci_n_ambiental  \\\n",
       "0                       No          No                   No   \n",
       "1                       No          No                   No   \n",
       "2                       No          No                   No   \n",
       "\n",
       "  obligaciones_postconsumo reversion valor_del_contrato  \\\n",
       "0                       No        No          114393961   \n",
       "1                       No        No           16390000   \n",
       "2                       No        No           59259607   \n",
       "\n",
       "  valor_de_pago_adelantado valor_facturado valor_pendiente_de_pago  \\\n",
       "0                        0               0               114393961   \n",
       "1                        0        15297333                 1092667   \n",
       "2                        0               0                59259607   \n",
       "\n",
       "  valor_pagado valor_amortizado valor_pendiente_de  \\\n",
       "0            0                0                  0   \n",
       "1     15297333                0                  0   \n",
       "2            0                0                  0   \n",
       "\n",
       "  valor_pendiente_de_ejecucion estado_bpin  c_digo_bpin anno_bpin saldo_cdp  \\\n",
       "0                    114393961      Válido  No Definido      2019         0   \n",
       "1                     16390000      Válido  No Definido      2020  16390000   \n",
       "2                     59259607      Válido  No Definido       N/D         0   \n",
       "\n",
       "  saldo_vigencia espostconflicto  \\\n",
       "0              0              Si   \n",
       "1              0              No   \n",
       "2              0              No   \n",
       "\n",
       "                                          urlproceso destino_gasto  \\\n",
       "0  {'url': 'https://community.secop.gov.co/Public...     Inversión   \n",
       "1  {'url': 'https://community.secop.gov.co/Public...     Inversión   \n",
       "2  {'url': 'https://community.secop.gov.co/Public...   No Definido   \n",
       "\n",
       "  origen_de_los_recursos dias_adicionados puntos_del_acuerdo  \\\n",
       "0            Distribuido                0          No aplica   \n",
       "1            Distribuido                0          No aplica   \n",
       "2            Distribuido                0          No aplica   \n",
       "\n",
       "  pilares_del_acuerdo     nombre_representante_legal  \\\n",
       "0           No aplica     José Arles Nova Villanueva   \n",
       "1           No aplica         JIMENA VERGARA GARNICA   \n",
       "2           No aplica  Dario Fernando Arcos Guerrero   \n",
       "\n",
       "  nacionalidad_representante_legal tipo_de_identificaci_n_representante_legal  \\\n",
       "0                       Colombiano                                No Definido   \n",
       "1                       COLOMBIANA                                No Definido   \n",
       "2                       Colombiano                                No Definido   \n",
       "\n",
       "  identificaci_n_representante_legal g_nero_representante_legal  \\\n",
       "0                           79261868                No Definido   \n",
       "1                           52548024                No Definido   \n",
       "2                           12749676                No Definido   \n",
       "\n",
       "  presupuesto_general_de_la_nacion_pgn sistema_general_de_participaciones  \\\n",
       "0                                    0                                  0   \n",
       "1                                    0                                  0   \n",
       "2                                    0                                  0   \n",
       "\n",
       "  sistema_general_de_regal_as  \\\n",
       "0                           0   \n",
       "1                           0   \n",
       "2                           0   \n",
       "\n",
       "  recursos_propios_alcald_as_gobernaciones_y_resguardos_ind_genas_  \\\n",
       "0                                                  0                 \n",
       "1                                           16390000                 \n",
       "2                                                  0                 \n",
       "\n",
       "  recursos_de_credito recursos_propios     ultima_actualizacion  \\\n",
       "0                   0                0  2022-02-23T00:00:00.000   \n",
       "1                   0                0  2020-11-03T00:00:00.000   \n",
       "2                   0                0  2022-03-25T00:00:00.000   \n",
       "\n",
       "  codigo_entidad codigo_proveedor  \\\n",
       "0      703840058        706097326   \n",
       "1      702271321        705386662   \n",
       "2      700765068        702875451   \n",
       "\n",
       "                                 objeto_del_contrato  \\\n",
       "0  PRESTACIÓN DE SERVICIOS PROFESIONALES ESPECIAL...   \n",
       "1  PRESTAR SERVICIOS PARA LA ATENCIÓN INTEGRAL A ...   \n",
       "2  El Contratista se compromete para con el SERVI...   \n",
       "\n",
       "  fecha_de_inicio_de_ejecucion fecha_de_fin_de_ejecucion  \\\n",
       "0                          NaN                       NaN   \n",
       "1                          NaN                       NaN   \n",
       "2      2018-12-19T00:00:00.000   2019-08-31T00:00:00.000   \n",
       "\n",
       "  fecha_inicio_liquidacion fecha_fin_liquidacion  \n",
       "0                      NaN                   NaN  \n",
       "1                      NaN                   NaN  \n",
       "2                      NaN                   NaN  "
      ]
     },
     "execution_count": 33,
     "metadata": {},
     "output_type": "execute_result"
    }
   ],
   "source": [
    "contratos_SII_df.head(3)"
   ]
  },
  {
   "cell_type": "code",
   "execution_count": 34,
   "id": "06KpPI5kDUCh",
   "metadata": {
    "colab": {
     "base_uri": "https://localhost:8080/"
    },
    "executionInfo": {
     "elapsed": 350,
     "status": "ok",
     "timestamp": 1660938305760,
     "user": {
      "displayName": "Luis Gustavo Maldonado Archila",
      "userId": "00154281364666914585"
     },
     "user_tz": 240
    },
    "id": "06KpPI5kDUCh",
    "outputId": "39c2e795-9d71-4b24-f958-d719b8e662cc"
   },
   "outputs": [
    {
     "data": {
      "text/plain": [
       "Index(['nombre_entidad', 'nit_entidad', 'departamento', 'ciudad',\n",
       "       'localizaci_n', 'orden', 'sector', 'rama', 'entidad_centralizada',\n",
       "       'proceso_de_compra', 'id_contrato', 'referencia_del_contrato',\n",
       "       'estado_contrato', 'codigo_de_categoria_principal',\n",
       "       'descripcion_del_proceso', 'tipo_de_contrato',\n",
       "       'modalidad_de_contratacion', 'justificacion_modalidad_de',\n",
       "       'fecha_de_firma', 'fecha_de_inicio_del_contrato',\n",
       "       'fecha_de_fin_del_contrato', 'condiciones_de_entrega',\n",
       "       'tipodocproveedor', 'documento_proveedor', 'proveedor_adjudicado',\n",
       "       'es_grupo', 'es_pyme', 'habilita_pago_adelantado', 'liquidaci_n',\n",
       "       'obligaci_n_ambiental', 'obligaciones_postconsumo', 'reversion',\n",
       "       'valor_del_contrato', 'valor_de_pago_adelantado', 'valor_facturado',\n",
       "       'valor_pendiente_de_pago', 'valor_pagado', 'valor_amortizado',\n",
       "       'valor_pendiente_de', 'valor_pendiente_de_ejecucion', 'estado_bpin',\n",
       "       'c_digo_bpin', 'anno_bpin', 'saldo_cdp', 'saldo_vigencia',\n",
       "       'espostconflicto', 'urlproceso', 'destino_gasto',\n",
       "       'origen_de_los_recursos', 'dias_adicionados', 'puntos_del_acuerdo',\n",
       "       'pilares_del_acuerdo', 'nombre_representante_legal',\n",
       "       'nacionalidad_representante_legal',\n",
       "       'tipo_de_identificaci_n_representante_legal',\n",
       "       'identificaci_n_representante_legal', 'g_nero_representante_legal',\n",
       "       'presupuesto_general_de_la_nacion_pgn',\n",
       "       'sistema_general_de_participaciones', 'sistema_general_de_regal_as',\n",
       "       'recursos_propios_alcald_as_gobernaciones_y_resguardos_ind_genas_',\n",
       "       'recursos_de_credito', 'recursos_propios', 'ultima_actualizacion',\n",
       "       'codigo_entidad', 'codigo_proveedor', 'objeto_del_contrato',\n",
       "       'fecha_de_inicio_de_ejecucion', 'fecha_de_fin_de_ejecucion',\n",
       "       'fecha_inicio_liquidacion', 'fecha_fin_liquidacion'],\n",
       "      dtype='object')"
      ]
     },
     "execution_count": 34,
     "metadata": {},
     "output_type": "execute_result"
    }
   ],
   "source": [
    "contratos_SII_df.columns"
   ]
  },
  {
   "cell_type": "code",
   "execution_count": 35,
   "id": "YKkv7ccJAvj9",
   "metadata": {
    "colab": {
     "base_uri": "https://localhost:8080/",
     "height": 125
    },
    "executionInfo": {
     "elapsed": 20,
     "status": "ok",
     "timestamp": 1660938305761,
     "user": {
      "displayName": "Luis Gustavo Maldonado Archila",
      "userId": "00154281364666914585"
     },
     "user_tz": 240
    },
    "id": "YKkv7ccJAvj9",
    "outputId": "79079cf3-53c7-45af-ec37-5469e8b0072a"
   },
   "outputs": [
    {
     "data": {
      "application/vnd.google.colaboratory.intrinsic+json": {
       "type": "string"
      },
      "text/plain": [
       "' uid,anno_cargue_secop,anno_firma_contrato,nivel_entidad,orden_entidad,nombre_entidad,nit_de_la_entidad,\\nc_digo_de_la_entidad,id_modalidad,modalidad_de_contratacion,estado_del_proceso,causal_de_otras_formas_de,\\nid_regimen_de_contratacion,nombre_regimen_de_contratacion,id_objeto_a_contratar,objeto_a_contratar,\\ndetalle_del_objeto_a_contratar,tipo_de_contrato,municipio_de_obtencion,municipio_de_entrega,municipios_ejecucion,\\nfecha_de_cargue_en_el_secop,numero_de_constancia,numero_de_proceso,numero_de_contrato,cuantia_proceso,id_grupo,nombre_grupo,\\nid_familia,nombre_familia,id_clase,nombre_clase,id_adjudicacion,tipo_identifi_del_contratista,identificacion_del_contratista,\\nnom_razon_social_contratista,dpto_y_muni_contratista,tipo_doc_representante_legal,identific_representante_legal,\\nnombre_del_represen_legal,fecha_de_firma_del_contrato,fecha_ini_ejec_contrato,plazo_de_ejec_del_contrato,\\nrango_de_ejec_del_contrato,tiempo_adiciones_en_dias,tiempo_adiciones_en_meses,fecha_fin_ejec_contrato,\\ncompromiso_presupuestal,cuantia_contrato,valor_total_de_adiciones,valor_contrato_con_adiciones,objeto_del_contrato_a_la,\\nproponentes_seleccionados,calificacion_definitiva,id_sub_unidad_ejecutora,nombre_sub_unidad_ejecutora,\\nruta_proceso_en_secop_i,moneda,es_postconflicto,marcacion_adiciones,posicion_rubro,nombre_rubro,valor_rubro,\\nsexo_replegal,pilar_acuerdo_paz,punto_acuerdo_paz,municipio_entidad,departamento_entidad,ultima_actualizacion,fecha_liquidacion,'"
      ]
     },
     "execution_count": 35,
     "metadata": {},
     "output_type": "execute_result"
    }
   ],
   "source": [
    "# Columnas disponibles en el dataset SECOP - I\n",
    "contratos_SI_DF.columns\n",
    "len(contratos_SI_DF.columns)\n",
    "# Todas las columnas, para copiar en el query\n",
    "\"\"\" uid,anno_cargue_secop,anno_firma_contrato,nivel_entidad,orden_entidad,nombre_entidad,nit_de_la_entidad,\n",
    "c_digo_de_la_entidad,id_modalidad,modalidad_de_contratacion,estado_del_proceso,causal_de_otras_formas_de,\n",
    "id_regimen_de_contratacion,nombre_regimen_de_contratacion,id_objeto_a_contratar,objeto_a_contratar,\n",
    "detalle_del_objeto_a_contratar,tipo_de_contrato,municipio_de_obtencion,municipio_de_entrega,municipios_ejecucion,\n",
    "fecha_de_cargue_en_el_secop,numero_de_constancia,numero_de_proceso,numero_de_contrato,cuantia_proceso,id_grupo,nombre_grupo,\n",
    "id_familia,nombre_familia,id_clase,nombre_clase,id_adjudicacion,tipo_identifi_del_contratista,identificacion_del_contratista,\n",
    "nom_razon_social_contratista,dpto_y_muni_contratista,tipo_doc_representante_legal,identific_representante_legal,\n",
    "nombre_del_represen_legal,fecha_de_firma_del_contrato,fecha_ini_ejec_contrato,plazo_de_ejec_del_contrato,\n",
    "rango_de_ejec_del_contrato,tiempo_adiciones_en_dias,tiempo_adiciones_en_meses,fecha_fin_ejec_contrato,\n",
    "compromiso_presupuestal,cuantia_contrato,valor_total_de_adiciones,valor_contrato_con_adiciones,objeto_del_contrato_a_la,\n",
    "proponentes_seleccionados,calificacion_definitiva,id_sub_unidad_ejecutora,nombre_sub_unidad_ejecutora,\n",
    "ruta_proceso_en_secop_i,moneda,es_postconflicto,marcacion_adiciones,posicion_rubro,nombre_rubro,valor_rubro,\n",
    "sexo_replegal,pilar_acuerdo_paz,punto_acuerdo_paz,municipio_entidad,departamento_entidad,ultima_actualizacion,fecha_liquidacion,\"\"\""
   ]
  },
  {
   "cell_type": "code",
   "execution_count": 36,
   "id": "bdBpH79EBIZk",
   "metadata": {
    "executionInfo": {
     "elapsed": 17,
     "status": "ok",
     "timestamp": 1660938305761,
     "user": {
      "displayName": "Luis Gustavo Maldonado Archila",
      "userId": "00154281364666914585"
     },
     "user_tz": 240
    },
    "id": "bdBpH79EBIZk"
   },
   "outputs": [],
   "source": [
    "columnas_SI = ['uid',\n",
    "'numero_de_constancia',\n",
    "'numero_de_proceso',\n",
    "'numero_de_contrato',\n",
    "'anno_firma_contrato',\n",
    "'anno_cargue_secop',\n",
    "'nivel_entidad',\n",
    "'orden_entidad',\n",
    "'nombre_entidad',\n",
    "'nit_de_la_entidad',\n",
    "'c_digo_de_la_entidad',\n",
    "'modalidad_de_contratacion',\n",
    "'estado_del_proceso',\n",
    "'objeto_a_contratar',\n",
    "'objeto_del_contrato_a_la',\n",
    "'detalle_del_objeto_a_contratar',\n",
    "'tipo_de_contrato',\n",
    "'municipio_entidad',\n",
    "'departamento_entidad',\n",
    "'id_grupo',\n",
    "'nombre_grupo',\n",
    "'id_familia',\n",
    "'nombre_familia',\n",
    "'id_clase',\n",
    "'id_clase',\n",
    "'nombre_clase',\n",
    "'tipo_identifi_del_contratista',\n",
    "'identificacion_del_contratista',\n",
    "'nom_razon_social_contratista',\n",
    "'tipo_doc_representante_legal',\n",
    "'identific_representante_legal',\n",
    "'nombre_del_represen_legal',\n",
    "'sexo_replegal',\n",
    "'fecha_de_firma_del_contrato',\n",
    "'fecha_ini_ejec_contrato',\n",
    "'plazo_de_ejec_del_contrato',\n",
    "'rango_de_ejec_del_contrato',\n",
    "'tiempo_adiciones_en_dias',\n",
    "'tiempo_adiciones_en_meses',\n",
    "'fecha_fin_ejec_contrato',\n",
    "'fecha_liquidacion'\n",
    "'cuantia_contrato',\n",
    "'valor_total_de_adiciones',\n",
    "'valor_contrato_con_adiciones',\n",
    "'moneda']"
   ]
  },
  {
   "cell_type": "code",
   "execution_count": 37,
   "id": "VmOPXhfMuQDH",
   "metadata": {
    "colab": {
     "base_uri": "https://localhost:8080/",
     "height": 125
    },
    "executionInfo": {
     "elapsed": 18,
     "status": "ok",
     "timestamp": 1660938305762,
     "user": {
      "displayName": "Luis Gustavo Maldonado Archila",
      "userId": "00154281364666914585"
     },
     "user_tz": 240
    },
    "id": "VmOPXhfMuQDH",
    "outputId": "d6d615fd-c0f1-446c-9889-0c4fe8feb42a"
   },
   "outputs": [
    {
     "data": {
      "application/vnd.google.colaboratory.intrinsic+json": {
       "type": "string"
      },
      "text/plain": [
       "'nombre_entidad, nit_entidad, departamento, ciudad,localizaci_n, orden, sector, rama, \\n      entidad_centralizada,proceso_de_compra, id_contrato, referencia_del_contrato, estado_contrato, \\n      codigo_de_categoria_principal, descripcion_del_proceso, tipo_de_contrato, modalidad_de_contratacion, \\n      justificacion_modalidad_de, fecha_de_firma, fecha_de_inicio_del_contrato, fecha_de_fin_del_contrato, \\n      fecha_de_inicio_de_ejecucion, fecha_de_fin_de_ejecucion, condiciones_de_entrega, tipodocproveedor, \\n      documento_proveedor, proveedor_adjudicado, es_grupo, es_pyme, habilita_pago_adelantado, liquidaci_n, \\n      obligaci_n_ambiental, obligaciones_postconsumo, reversion, valor_del_contrato, valor_de_pago_adelantado, \\n      valor_facturado, valor_pendiente_de_pago, valor_pagado, valor_amortizado, valor_pendiente_de, \\n      valor_pendiente_de_ejecucion, estado_bpin, c_digo_bpin, anno_bpin, saldo_cdp, saldo_vigencia, \\n      espostconflicto, urlproceso, destino_gasto, origen_de_los_recursos, dias_adicionados, puntos_del_acuerdo, \\n      pilares_del_acuerdo, nombre_representante_legal, nacionalidad_representante_legal, \\n      tipo_de_identificaci_n_representante_legal, identificaci_n_representante_legal, g_nero_representante_legal, \\n      presupuesto_general_de_la_nacion_pgn, sistema_general_de_participaciones, sistema_general_de_regal_as, \\n      recursos_propios_alcald_as_gobernaciones_y_resguardos_ind_genas_, recursos_de_credito, recursos_propios, \\n      ultima_actualizacion, codigo_entidad, fecha_inicio_liquidacion, fecha_fin_liquidacion, codigo_proveedor'"
      ]
     },
     "execution_count": 37,
     "metadata": {},
     "output_type": "execute_result"
    }
   ],
   "source": [
    "# Columnas disponibles en el dataset\n",
    "contratos_SII_df.columns\n",
    "len(contratos_SII_df.columns)\n",
    "# Todas las columnas, para copiar en el query\n",
    "\"\"\"nombre_entidad, nit_entidad, departamento, ciudad,localizaci_n, orden, sector, rama, \n",
    "      entidad_centralizada,proceso_de_compra, id_contrato, referencia_del_contrato, estado_contrato, \n",
    "      codigo_de_categoria_principal, descripcion_del_proceso, tipo_de_contrato, modalidad_de_contratacion, \n",
    "      justificacion_modalidad_de, fecha_de_firma, fecha_de_inicio_del_contrato, fecha_de_fin_del_contrato, \n",
    "      fecha_de_inicio_de_ejecucion, fecha_de_fin_de_ejecucion, condiciones_de_entrega, tipodocproveedor, \n",
    "      documento_proveedor, proveedor_adjudicado, es_grupo, es_pyme, habilita_pago_adelantado, liquidaci_n, \n",
    "      obligaci_n_ambiental, obligaciones_postconsumo, reversion, valor_del_contrato, valor_de_pago_adelantado, \n",
    "      valor_facturado, valor_pendiente_de_pago, valor_pagado, valor_amortizado, valor_pendiente_de, \n",
    "      valor_pendiente_de_ejecucion, estado_bpin, c_digo_bpin, anno_bpin, saldo_cdp, saldo_vigencia, \n",
    "      espostconflicto, urlproceso, destino_gasto, origen_de_los_recursos, dias_adicionados, puntos_del_acuerdo, \n",
    "      pilares_del_acuerdo, nombre_representante_legal, nacionalidad_representante_legal, \n",
    "      tipo_de_identificaci_n_representante_legal, identificaci_n_representante_legal, g_nero_representante_legal, \n",
    "      presupuesto_general_de_la_nacion_pgn, sistema_general_de_participaciones, sistema_general_de_regal_as, \n",
    "      recursos_propios_alcald_as_gobernaciones_y_resguardos_ind_genas_, recursos_de_credito, recursos_propios, \n",
    "      ultima_actualizacion, codigo_entidad, fecha_inicio_liquidacion, fecha_fin_liquidacion, codigo_proveedor\"\"\""
   ]
  },
  {
   "cell_type": "code",
   "execution_count": 38,
   "id": "xyKC1M-Nd4TX",
   "metadata": {
    "executionInfo": {
     "elapsed": 16,
     "status": "ok",
     "timestamp": 1660938305762,
     "user": {
      "displayName": "Luis Gustavo Maldonado Archila",
      "userId": "00154281364666914585"
     },
     "user_tz": 240
    },
    "id": "xyKC1M-Nd4TX"
   },
   "outputs": [],
   "source": [
    "columnas_SII = ['orden',\n",
    "'entidad_centralizada',\n",
    "'sector',\n",
    "'rama',\n",
    "'nombre_entidad',\n",
    "'nit_entidad',\n",
    "'codigo_entidad',\n",
    "'modalidad_de_contratacion',\n",
    "'estado_contrato',\n",
    "'justificacion_modalidad_de',\n",
    "'objeto_del_contrato',\n",
    "'descripcion_del_proceso',\n",
    "'tipo_de_contrato',\n",
    "'ciudad',\n",
    "'departamento',\n",
    "'localizaci_n',\n",
    "'codigo_de_categoria_principal',\n",
    "'tipodocproveedor',\n",
    "'documento_proveedor',\n",
    "'proveedor_adjudicado',\n",
    "'tipo_de_identificaci_n_representante_legal',\n",
    "'identificaci_n_representante_legal',\n",
    "'nombre_representante_legal',\n",
    "'g_nero_representante_legal',\n",
    "'nacionalidad_representante_legal',\n",
    "'es_grupo', \n",
    "'es_pyme',\n",
    "'fecha_de_firma',\n",
    "'fecha_de_inicio_del_contrato',\n",
    "'dias_adicionados',\n",
    "'fecha_de_fin_del_contrato',\n",
    "'fecha_fin_liquidacion',\n",
    "'valor_del_contrato']"
   ]
  },
  {
   "cell_type": "code",
   "execution_count": 39,
   "id": "h5iLzJEXBBBi",
   "metadata": {
    "colab": {
     "base_uri": "https://localhost:8080/"
    },
    "executionInfo": {
     "elapsed": 308,
     "status": "ok",
     "timestamp": 1660938306055,
     "user": {
      "displayName": "Luis Gustavo Maldonado Archila",
      "userId": "00154281364666914585"
     },
     "user_tz": 240
    },
    "id": "h5iLzJEXBBBi",
    "outputId": "612795b7-782d-419d-e688-4592a11cc091"
   },
   "outputs": [
    {
     "name": "stdout",
     "output_type": "stream",
     "text": [
      "CPU times: user 6.7 ms, sys: 893 µs, total: 7.6 ms\n",
      "Wall time: 426 ms\n"
     ]
    }
   ],
   "source": [
    "#Test descargar solo las columnas que son utiles y estan en ambos datasets\n",
    "%%time\n",
    "socrata_dataset_identifier = \"f789-7hwg\"\n",
    "\n",
    "Query = \"\"\"\n",
    "SELECT \n",
    "    uid, numero_de_constancia, numero_de_proceso, numero_de_contrato, anno_firma_contrato,\n",
    "    anno_cargue_secop, nivel_entidad,orden_entidad, nombre_entidad, nit_de_la_entidad,\n",
    "    c_digo_de_la_entidad, modalidad_de_contratacion, estado_del_proceso, objeto_a_contratar,\n",
    "    objeto_del_contrato_a_la, detalle_del_objeto_a_contratar, tipo_de_contrato, municipio_entidad,\n",
    "    departamento_entidad, id_grupo, nombre_grupo, id_familia, nombre_familia, id_clase, nombre_clase, \n",
    "    tipo_identifi_del_contratista, identificacion_del_contratista,\n",
    "    nom_razon_social_contratista,  tipo_doc_representante_legal, identific_representante_legal,\n",
    "    nombre_del_represen_legal, sexo_replegal, fecha_de_firma_del_contrato, fecha_ini_ejec_contrato,\n",
    "    plazo_de_ejec_del_contrato, rango_de_ejec_del_contrato, tiempo_adiciones_en_dias,\n",
    "    tiempo_adiciones_en_meses, fecha_fin_ejec_contrato, fecha_liquidacion, cuantia_contrato,\n",
    "    valor_total_de_adiciones, valor_contrato_con_adiciones, moneda\n",
    "WHERE\n",
    "    fecha_de_firma_del_contrato >= '2018-01-01'\n",
    "LIMIT \n",
    "    6\n",
    "\"\"\"\n",
    "\n",
    "contratos_SI = client.get(socrata_dataset_identifier, content_type=\"json\", query=Query)\n",
    "\n",
    "contratos_SI_DF = pd.DataFrame(pd.DataFrame.from_dict(contratos_SI))"
   ]
  },
  {
   "cell_type": "code",
   "execution_count": 40,
   "id": "27d99f1d",
   "metadata": {
    "colab": {
     "base_uri": "https://localhost:8080/"
    },
    "executionInfo": {
     "elapsed": 315,
     "status": "ok",
     "timestamp": 1660938306364,
     "user": {
      "displayName": "Luis Gustavo Maldonado Archila",
      "userId": "00154281364666914585"
     },
     "user_tz": 240
    },
    "id": "27d99f1d",
    "outputId": "7d843b67-69ac-4413-caf2-e84feff1a99d",
    "scrolled": true
   },
   "outputs": [
    {
     "name": "stdout",
     "output_type": "stream",
     "text": [
      "CPU times: user 11.7 ms, sys: 940 µs, total: 12.6 ms\n",
      "Wall time: 387 ms\n"
     ]
    }
   ],
   "source": [
    "#Test descargar solo las columnas que son utiles y estan en ambos datasets\n",
    "%%time\n",
    "socrata_dataset_identifier = \"jbjy-vk9h\"\n",
    "\n",
    "Query = \"\"\"\n",
    "SELECT \n",
    "    orden, entidad_centralizada, sector, rama, nombre_entidad, nit_entidad, codigo_entidad,\n",
    "    modalidad_de_contratacion, estado_contrato, justificacion_modalidad_de, objeto_del_contrato,\n",
    "    descripcion_del_proceso, tipo_de_contrato, ciudad, departamento, localizaci_n, codigo_de_categoria_principal,\n",
    "    tipodocproveedor, documento_proveedor, proveedor_adjudicado, tipo_de_identificaci_n_representante_legal,\n",
    "    identificaci_n_representante_legal, nombre_representante_legal, g_nero_representante_legal,\n",
    "    nacionalidad_representante_legal, es_grupo, es_pyme, fecha_de_firma, fecha_de_inicio_del_contrato,\n",
    "    dias_adicionados, fecha_de_fin_del_contrato, fecha_fin_liquidacion, valor_del_contrato\n",
    "WHERE\n",
    "    fecha_de_firma >= '2018-01-01'\n",
    "LIMIT\n",
    "    100\n",
    "\"\"\"\n",
    "\n",
    "contratos_SII = client.get(socrata_dataset_identifier, content_type=\"json\", query=Query)\n",
    "\n",
    "contratos_SII_df = pd.DataFrame(pd.DataFrame.from_dict(contratos_SII))"
   ]
  },
  {
   "cell_type": "code",
   "execution_count": 41,
   "id": "vocGc6VlWOWV",
   "metadata": {
    "colab": {
     "base_uri": "https://localhost:8080/",
     "height": 346
    },
    "executionInfo": {
     "elapsed": 13,
     "status": "ok",
     "timestamp": 1660938306365,
     "user": {
      "displayName": "Luis Gustavo Maldonado Archila",
      "userId": "00154281364666914585"
     },
     "user_tz": 240
    },
    "id": "vocGc6VlWOWV",
    "outputId": "5bfdd59c-e2b6-4ccc-cb27-14f9859d75e3"
   },
   "outputs": [
    {
     "data": {
      "text/html": [
       "\n",
       "  <div id=\"df-6f3605ba-5f98-4e71-8f1f-c858a1f257d0\">\n",
       "    <div class=\"colab-df-container\">\n",
       "      <div>\n",
       "<style scoped>\n",
       "    .dataframe tbody tr th:only-of-type {\n",
       "        vertical-align: middle;\n",
       "    }\n",
       "\n",
       "    .dataframe tbody tr th {\n",
       "        vertical-align: top;\n",
       "    }\n",
       "\n",
       "    .dataframe thead th {\n",
       "        text-align: right;\n",
       "    }\n",
       "</style>\n",
       "<table border=\"1\" class=\"dataframe\">\n",
       "  <thead>\n",
       "    <tr style=\"text-align: right;\">\n",
       "      <th></th>\n",
       "      <th>uid</th>\n",
       "      <th>numero_de_constancia</th>\n",
       "      <th>numero_de_proceso</th>\n",
       "      <th>numero_de_contrato</th>\n",
       "      <th>anno_firma_contrato</th>\n",
       "      <th>anno_cargue_secop</th>\n",
       "      <th>nivel_entidad</th>\n",
       "      <th>orden_entidad</th>\n",
       "      <th>nombre_entidad</th>\n",
       "      <th>nit_de_la_entidad</th>\n",
       "      <th>c_digo_de_la_entidad</th>\n",
       "      <th>modalidad_de_contratacion</th>\n",
       "      <th>estado_del_proceso</th>\n",
       "      <th>objeto_a_contratar</th>\n",
       "      <th>objeto_del_contrato_a_la</th>\n",
       "      <th>detalle_del_objeto_a_contratar</th>\n",
       "      <th>tipo_de_contrato</th>\n",
       "      <th>municipio_entidad</th>\n",
       "      <th>departamento_entidad</th>\n",
       "      <th>id_grupo</th>\n",
       "      <th>nombre_grupo</th>\n",
       "      <th>id_familia</th>\n",
       "      <th>nombre_familia</th>\n",
       "      <th>id_clase</th>\n",
       "      <th>nombre_clase</th>\n",
       "      <th>tipo_identifi_del_contratista</th>\n",
       "      <th>identificacion_del_contratista</th>\n",
       "      <th>nom_razon_social_contratista</th>\n",
       "      <th>tipo_doc_representante_legal</th>\n",
       "      <th>identific_representante_legal</th>\n",
       "      <th>nombre_del_represen_legal</th>\n",
       "      <th>sexo_replegal</th>\n",
       "      <th>fecha_de_firma_del_contrato</th>\n",
       "      <th>fecha_ini_ejec_contrato</th>\n",
       "      <th>plazo_de_ejec_del_contrato</th>\n",
       "      <th>rango_de_ejec_del_contrato</th>\n",
       "      <th>tiempo_adiciones_en_dias</th>\n",
       "      <th>tiempo_adiciones_en_meses</th>\n",
       "      <th>fecha_fin_ejec_contrato</th>\n",
       "      <th>cuantia_contrato</th>\n",
       "      <th>valor_total_de_adiciones</th>\n",
       "      <th>valor_contrato_con_adiciones</th>\n",
       "      <th>moneda</th>\n",
       "      <th>fecha_liquidacion</th>\n",
       "    </tr>\n",
       "  </thead>\n",
       "  <tbody>\n",
       "    <tr>\n",
       "      <th>0</th>\n",
       "      <td>18-12-7863192-7138877</td>\n",
       "      <td>18-12-7863192</td>\n",
       "      <td>2018059</td>\n",
       "      <td>2018059</td>\n",
       "      <td>1905</td>\n",
       "      <td>2018</td>\n",
       "      <td>TERRITORIAL</td>\n",
       "      <td>TERRITORIAL DEPARTAMENTAL DESCENTRALIZADO</td>\n",
       "      <td>META  HOSPITAL DE CASTILLA LA NUEVA ESE</td>\n",
       "      <td>900004059</td>\n",
       "      <td>250150017</td>\n",
       "      <td>Contratación Directa (Ley 1150 de 2007)</td>\n",
       "      <td>Celebrado</td>\n",
       "      <td>Servicios de Salud</td>\n",
       "      <td>PRESTACION DE SERVICIOS COMO PROFESIONAL EN BA...</td>\n",
       "      <td>PRESTACION DE SERVICIOS COMO PROFESIONAL EN BA...</td>\n",
       "      <td>Prestación de Servicios</td>\n",
       "      <td>Castilla La Nueva</td>\n",
       "      <td>Meta</td>\n",
       "      <td>F</td>\n",
       "      <td>[F] Servicios</td>\n",
       "      <td>8510</td>\n",
       "      <td>Servicios integrales de salud</td>\n",
       "      <td>851016</td>\n",
       "      <td>Personas de soporte de prestación de servicios...</td>\n",
       "      <td>Cédula de Ciudadanía</td>\n",
       "      <td>60376429</td>\n",
       "      <td>EDNA DEICE HURTADO PEREZ</td>\n",
       "      <td>Cédula de Ciudadanía</td>\n",
       "      <td>60376429</td>\n",
       "      <td>EDNA DEICE HURTADO PEREZ</td>\n",
       "      <td>N</td>\n",
       "      <td>2018-01-01T00:00:00.000</td>\n",
       "      <td>2018-01-01T00:00:00.000</td>\n",
       "      <td>4</td>\n",
       "      <td>M</td>\n",
       "      <td>0</td>\n",
       "      <td>2</td>\n",
       "      <td>2018-07-01T00:00:00.000</td>\n",
       "      <td>14700000</td>\n",
       "      <td>7350000</td>\n",
       "      <td>22050000</td>\n",
       "      <td>Peso Colombiano</td>\n",
       "      <td>NaN</td>\n",
       "    </tr>\n",
       "    <tr>\n",
       "      <th>1</th>\n",
       "      <td>18-12-7533198-6845825</td>\n",
       "      <td>18-12-7533198</td>\n",
       "      <td>5918</td>\n",
       "      <td>5918</td>\n",
       "      <td>1905</td>\n",
       "      <td>2018</td>\n",
       "      <td>TERRITORIAL</td>\n",
       "      <td>TERRITORIAL DEPARTAMENTAL DESCENTRALIZADO</td>\n",
       "      <td>RISARALDA  ESE SALUD PEREIRA</td>\n",
       "      <td>816005003</td>\n",
       "      <td>266001463</td>\n",
       "      <td>Contratación Directa (Ley 1150 de 2007)</td>\n",
       "      <td>Celebrado</td>\n",
       "      <td>Servicios de Salud</td>\n",
       "      <td>PRESTACION DE SERVICIOS PROFESIONALES COMO MED...</td>\n",
       "      <td>PRESTACION DE SERVICIOS PROFESIONALES COMO MED...</td>\n",
       "      <td>Prestación de Servicios</td>\n",
       "      <td>Pereira</td>\n",
       "      <td>Risaralda</td>\n",
       "      <td>F</td>\n",
       "      <td>[F] Servicios</td>\n",
       "      <td>8510</td>\n",
       "      <td>Servicios integrales de salud</td>\n",
       "      <td>851016</td>\n",
       "      <td>Personas de soporte de prestación de servicios...</td>\n",
       "      <td>Cédula de Ciudadanía</td>\n",
       "      <td>1144133036</td>\n",
       "      <td>VIVIAN ROCIO CORDOBA ALMARIO</td>\n",
       "      <td>Cédula de Ciudadanía</td>\n",
       "      <td>1144133036</td>\n",
       "      <td>VIVIAN ROCIO CORDOBA ALMARIO</td>\n",
       "      <td>N</td>\n",
       "      <td>2018-01-01T00:00:00.000</td>\n",
       "      <td>2018-01-01T00:00:00.000</td>\n",
       "      <td>7</td>\n",
       "      <td>M</td>\n",
       "      <td>0</td>\n",
       "      <td>0</td>\n",
       "      <td>2018-08-01T00:00:00.000</td>\n",
       "      <td>36400000</td>\n",
       "      <td>0</td>\n",
       "      <td>36400000</td>\n",
       "      <td>Peso Colombiano</td>\n",
       "      <td>NaN</td>\n",
       "    </tr>\n",
       "    <tr>\n",
       "      <th>2</th>\n",
       "      <td>18-12-7493899-6810252</td>\n",
       "      <td>18-12-7493899</td>\n",
       "      <td>013</td>\n",
       "      <td>013</td>\n",
       "      <td>1905</td>\n",
       "      <td>2018</td>\n",
       "      <td>TERRITORIAL</td>\n",
       "      <td>TERRITORIAL DEPARTAMENTAL DESCENTRALIZADO</td>\n",
       "      <td>TOLIMA  UNIDAD DE SALUD DE IBAGUÉ</td>\n",
       "      <td>809003590</td>\n",
       "      <td>26617044</td>\n",
       "      <td>Contratación Directa (Ley 1150 de 2007)</td>\n",
       "      <td>Celebrado</td>\n",
       "      <td>Servicios de Transporte, Almacenaje y Correo</td>\n",
       "      <td>EJECUCIÓN Y DESARROLLO BAJO SU PROPIO RIESGO Y...</td>\n",
       "      <td>EJECUCIÓN Y DESARROLLO BAJO SU PROPIO RIESGO Y...</td>\n",
       "      <td>Prestación de Servicios</td>\n",
       "      <td>Dosquebradas</td>\n",
       "      <td>Risaralda</td>\n",
       "      <td>F</td>\n",
       "      <td>[F] Servicios</td>\n",
       "      <td>7814</td>\n",
       "      <td>Servicios de transporte</td>\n",
       "      <td>781415</td>\n",
       "      <td>Servicios de organización de transportes</td>\n",
       "      <td>Nit de Persona Jurídica</td>\n",
       "      <td>900318379</td>\n",
       "      <td>SERVICIOS ESPECIALES EL SOL DE LA VARIANTE LTDA</td>\n",
       "      <td>Cédula de Ciudadanía</td>\n",
       "      <td>46370868</td>\n",
       "      <td>ALBA LUZ RINCON GARRIDO</td>\n",
       "      <td>N</td>\n",
       "      <td>2018-01-01T00:00:00.000</td>\n",
       "      <td>2018-01-01T00:00:00.000</td>\n",
       "      <td>2</td>\n",
       "      <td>M</td>\n",
       "      <td>0</td>\n",
       "      <td>0</td>\n",
       "      <td>2018-03-01T00:00:00.000</td>\n",
       "      <td>32806200</td>\n",
       "      <td>0</td>\n",
       "      <td>32806200</td>\n",
       "      <td>Peso Colombiano</td>\n",
       "      <td>NaN</td>\n",
       "    </tr>\n",
       "  </tbody>\n",
       "</table>\n",
       "</div>\n",
       "      <button class=\"colab-df-convert\" onclick=\"convertToInteractive('df-6f3605ba-5f98-4e71-8f1f-c858a1f257d0')\"\n",
       "              title=\"Convert this dataframe to an interactive table.\"\n",
       "              style=\"display:none;\">\n",
       "        \n",
       "  <svg xmlns=\"http://www.w3.org/2000/svg\" height=\"24px\"viewBox=\"0 0 24 24\"\n",
       "       width=\"24px\">\n",
       "    <path d=\"M0 0h24v24H0V0z\" fill=\"none\"/>\n",
       "    <path d=\"M18.56 5.44l.94 2.06.94-2.06 2.06-.94-2.06-.94-.94-2.06-.94 2.06-2.06.94zm-11 1L8.5 8.5l.94-2.06 2.06-.94-2.06-.94L8.5 2.5l-.94 2.06-2.06.94zm10 10l.94 2.06.94-2.06 2.06-.94-2.06-.94-.94-2.06-.94 2.06-2.06.94z\"/><path d=\"M17.41 7.96l-1.37-1.37c-.4-.4-.92-.59-1.43-.59-.52 0-1.04.2-1.43.59L10.3 9.45l-7.72 7.72c-.78.78-.78 2.05 0 2.83L4 21.41c.39.39.9.59 1.41.59.51 0 1.02-.2 1.41-.59l7.78-7.78 2.81-2.81c.8-.78.8-2.07 0-2.86zM5.41 20L4 18.59l7.72-7.72 1.47 1.35L5.41 20z\"/>\n",
       "  </svg>\n",
       "      </button>\n",
       "      \n",
       "  <style>\n",
       "    .colab-df-container {\n",
       "      display:flex;\n",
       "      flex-wrap:wrap;\n",
       "      gap: 12px;\n",
       "    }\n",
       "\n",
       "    .colab-df-convert {\n",
       "      background-color: #E8F0FE;\n",
       "      border: none;\n",
       "      border-radius: 50%;\n",
       "      cursor: pointer;\n",
       "      display: none;\n",
       "      fill: #1967D2;\n",
       "      height: 32px;\n",
       "      padding: 0 0 0 0;\n",
       "      width: 32px;\n",
       "    }\n",
       "\n",
       "    .colab-df-convert:hover {\n",
       "      background-color: #E2EBFA;\n",
       "      box-shadow: 0px 1px 2px rgba(60, 64, 67, 0.3), 0px 1px 3px 1px rgba(60, 64, 67, 0.15);\n",
       "      fill: #174EA6;\n",
       "    }\n",
       "\n",
       "    [theme=dark] .colab-df-convert {\n",
       "      background-color: #3B4455;\n",
       "      fill: #D2E3FC;\n",
       "    }\n",
       "\n",
       "    [theme=dark] .colab-df-convert:hover {\n",
       "      background-color: #434B5C;\n",
       "      box-shadow: 0px 1px 3px 1px rgba(0, 0, 0, 0.15);\n",
       "      filter: drop-shadow(0px 1px 2px rgba(0, 0, 0, 0.3));\n",
       "      fill: #FFFFFF;\n",
       "    }\n",
       "  </style>\n",
       "\n",
       "      <script>\n",
       "        const buttonEl =\n",
       "          document.querySelector('#df-6f3605ba-5f98-4e71-8f1f-c858a1f257d0 button.colab-df-convert');\n",
       "        buttonEl.style.display =\n",
       "          google.colab.kernel.accessAllowed ? 'block' : 'none';\n",
       "\n",
       "        async function convertToInteractive(key) {\n",
       "          const element = document.querySelector('#df-6f3605ba-5f98-4e71-8f1f-c858a1f257d0');\n",
       "          const dataTable =\n",
       "            await google.colab.kernel.invokeFunction('convertToInteractive',\n",
       "                                                     [key], {});\n",
       "          if (!dataTable) return;\n",
       "\n",
       "          const docLinkHtml = 'Like what you see? Visit the ' +\n",
       "            '<a target=\"_blank\" href=https://colab.research.google.com/notebooks/data_table.ipynb>data table notebook</a>'\n",
       "            + ' to learn more about interactive tables.';\n",
       "          element.innerHTML = '';\n",
       "          dataTable['output_type'] = 'display_data';\n",
       "          await google.colab.output.renderOutput(dataTable, element);\n",
       "          const docLink = document.createElement('div');\n",
       "          docLink.innerHTML = docLinkHtml;\n",
       "          element.appendChild(docLink);\n",
       "        }\n",
       "      </script>\n",
       "    </div>\n",
       "  </div>\n",
       "  "
      ],
      "text/plain": [
       "                     uid numero_de_constancia numero_de_proceso  \\\n",
       "0  18-12-7863192-7138877        18-12-7863192           2018059   \n",
       "1  18-12-7533198-6845825        18-12-7533198              5918   \n",
       "2  18-12-7493899-6810252        18-12-7493899               013   \n",
       "\n",
       "  numero_de_contrato anno_firma_contrato anno_cargue_secop nivel_entidad  \\\n",
       "0            2018059                1905              2018   TERRITORIAL   \n",
       "1               5918                1905              2018   TERRITORIAL   \n",
       "2                013                1905              2018   TERRITORIAL   \n",
       "\n",
       "                               orden_entidad  \\\n",
       "0  TERRITORIAL DEPARTAMENTAL DESCENTRALIZADO   \n",
       "1  TERRITORIAL DEPARTAMENTAL DESCENTRALIZADO   \n",
       "2  TERRITORIAL DEPARTAMENTAL DESCENTRALIZADO   \n",
       "\n",
       "                            nombre_entidad nit_de_la_entidad  \\\n",
       "0  META  HOSPITAL DE CASTILLA LA NUEVA ESE         900004059   \n",
       "1             RISARALDA  ESE SALUD PEREIRA         816005003   \n",
       "2        TOLIMA  UNIDAD DE SALUD DE IBAGUÉ         809003590   \n",
       "\n",
       "  c_digo_de_la_entidad                modalidad_de_contratacion  \\\n",
       "0            250150017  Contratación Directa (Ley 1150 de 2007)   \n",
       "1            266001463  Contratación Directa (Ley 1150 de 2007)   \n",
       "2             26617044  Contratación Directa (Ley 1150 de 2007)   \n",
       "\n",
       "  estado_del_proceso                            objeto_a_contratar  \\\n",
       "0          Celebrado                            Servicios de Salud   \n",
       "1          Celebrado                            Servicios de Salud   \n",
       "2          Celebrado  Servicios de Transporte, Almacenaje y Correo   \n",
       "\n",
       "                            objeto_del_contrato_a_la  \\\n",
       "0  PRESTACION DE SERVICIOS COMO PROFESIONAL EN BA...   \n",
       "1  PRESTACION DE SERVICIOS PROFESIONALES COMO MED...   \n",
       "2  EJECUCIÓN Y DESARROLLO BAJO SU PROPIO RIESGO Y...   \n",
       "\n",
       "                      detalle_del_objeto_a_contratar         tipo_de_contrato  \\\n",
       "0  PRESTACION DE SERVICIOS COMO PROFESIONAL EN BA...  Prestación de Servicios   \n",
       "1  PRESTACION DE SERVICIOS PROFESIONALES COMO MED...  Prestación de Servicios   \n",
       "2  EJECUCIÓN Y DESARROLLO BAJO SU PROPIO RIESGO Y...  Prestación de Servicios   \n",
       "\n",
       "   municipio_entidad departamento_entidad id_grupo   nombre_grupo id_familia  \\\n",
       "0  Castilla La Nueva                 Meta        F  [F] Servicios       8510   \n",
       "1            Pereira            Risaralda        F  [F] Servicios       8510   \n",
       "2       Dosquebradas            Risaralda        F  [F] Servicios       7814   \n",
       "\n",
       "                  nombre_familia id_clase  \\\n",
       "0  Servicios integrales de salud   851016   \n",
       "1  Servicios integrales de salud   851016   \n",
       "2        Servicios de transporte   781415   \n",
       "\n",
       "                                        nombre_clase  \\\n",
       "0  Personas de soporte de prestación de servicios...   \n",
       "1  Personas de soporte de prestación de servicios...   \n",
       "2           Servicios de organización de transportes   \n",
       "\n",
       "  tipo_identifi_del_contratista identificacion_del_contratista  \\\n",
       "0          Cédula de Ciudadanía                       60376429   \n",
       "1          Cédula de Ciudadanía                     1144133036   \n",
       "2       Nit de Persona Jurídica                      900318379   \n",
       "\n",
       "                      nom_razon_social_contratista  \\\n",
       "0                         EDNA DEICE HURTADO PEREZ   \n",
       "1                     VIVIAN ROCIO CORDOBA ALMARIO   \n",
       "2  SERVICIOS ESPECIALES EL SOL DE LA VARIANTE LTDA   \n",
       "\n",
       "  tipo_doc_representante_legal identific_representante_legal  \\\n",
       "0         Cédula de Ciudadanía                      60376429   \n",
       "1         Cédula de Ciudadanía                    1144133036   \n",
       "2         Cédula de Ciudadanía                      46370868   \n",
       "\n",
       "      nombre_del_represen_legal sexo_replegal fecha_de_firma_del_contrato  \\\n",
       "0      EDNA DEICE HURTADO PEREZ             N     2018-01-01T00:00:00.000   \n",
       "1  VIVIAN ROCIO CORDOBA ALMARIO             N     2018-01-01T00:00:00.000   \n",
       "2       ALBA LUZ RINCON GARRIDO             N     2018-01-01T00:00:00.000   \n",
       "\n",
       "   fecha_ini_ejec_contrato plazo_de_ejec_del_contrato  \\\n",
       "0  2018-01-01T00:00:00.000                          4   \n",
       "1  2018-01-01T00:00:00.000                          7   \n",
       "2  2018-01-01T00:00:00.000                          2   \n",
       "\n",
       "  rango_de_ejec_del_contrato tiempo_adiciones_en_dias  \\\n",
       "0                          M                        0   \n",
       "1                          M                        0   \n",
       "2                          M                        0   \n",
       "\n",
       "  tiempo_adiciones_en_meses  fecha_fin_ejec_contrato cuantia_contrato  \\\n",
       "0                         2  2018-07-01T00:00:00.000         14700000   \n",
       "1                         0  2018-08-01T00:00:00.000         36400000   \n",
       "2                         0  2018-03-01T00:00:00.000         32806200   \n",
       "\n",
       "  valor_total_de_adiciones valor_contrato_con_adiciones           moneda  \\\n",
       "0                  7350000                     22050000  Peso Colombiano   \n",
       "1                        0                     36400000  Peso Colombiano   \n",
       "2                        0                     32806200  Peso Colombiano   \n",
       "\n",
       "  fecha_liquidacion  \n",
       "0               NaN  \n",
       "1               NaN  \n",
       "2               NaN  "
      ]
     },
     "execution_count": 41,
     "metadata": {},
     "output_type": "execute_result"
    }
   ],
   "source": [
    "contratos_SI_DF.head(3)"
   ]
  },
  {
   "cell_type": "code",
   "execution_count": 42,
   "id": "bKgV_CkGsb_L",
   "metadata": {
    "colab": {
     "base_uri": "https://localhost:8080/",
     "height": 346
    },
    "executionInfo": {
     "elapsed": 12,
     "status": "ok",
     "timestamp": 1660938306366,
     "user": {
      "displayName": "Luis Gustavo Maldonado Archila",
      "userId": "00154281364666914585"
     },
     "user_tz": 240
    },
    "id": "bKgV_CkGsb_L",
    "outputId": "c0e4c7d4-17d7-41da-be84-7ec6aac08389"
   },
   "outputs": [
    {
     "data": {
      "text/html": [
       "\n",
       "  <div id=\"df-1b7259a4-98e2-4590-9b2a-1feff7be2237\">\n",
       "    <div class=\"colab-df-container\">\n",
       "      <div>\n",
       "<style scoped>\n",
       "    .dataframe tbody tr th:only-of-type {\n",
       "        vertical-align: middle;\n",
       "    }\n",
       "\n",
       "    .dataframe tbody tr th {\n",
       "        vertical-align: top;\n",
       "    }\n",
       "\n",
       "    .dataframe thead th {\n",
       "        text-align: right;\n",
       "    }\n",
       "</style>\n",
       "<table border=\"1\" class=\"dataframe\">\n",
       "  <thead>\n",
       "    <tr style=\"text-align: right;\">\n",
       "      <th></th>\n",
       "      <th>orden</th>\n",
       "      <th>entidad_centralizada</th>\n",
       "      <th>sector</th>\n",
       "      <th>rama</th>\n",
       "      <th>nombre_entidad</th>\n",
       "      <th>nit_entidad</th>\n",
       "      <th>codigo_entidad</th>\n",
       "      <th>modalidad_de_contratacion</th>\n",
       "      <th>estado_contrato</th>\n",
       "      <th>justificacion_modalidad_de</th>\n",
       "      <th>objeto_del_contrato</th>\n",
       "      <th>descripcion_del_proceso</th>\n",
       "      <th>tipo_de_contrato</th>\n",
       "      <th>ciudad</th>\n",
       "      <th>departamento</th>\n",
       "      <th>localizaci_n</th>\n",
       "      <th>codigo_de_categoria_principal</th>\n",
       "      <th>tipodocproveedor</th>\n",
       "      <th>documento_proveedor</th>\n",
       "      <th>proveedor_adjudicado</th>\n",
       "      <th>tipo_de_identificaci_n_representante_legal</th>\n",
       "      <th>identificaci_n_representante_legal</th>\n",
       "      <th>nombre_representante_legal</th>\n",
       "      <th>g_nero_representante_legal</th>\n",
       "      <th>nacionalidad_representante_legal</th>\n",
       "      <th>es_grupo</th>\n",
       "      <th>es_pyme</th>\n",
       "      <th>fecha_de_firma</th>\n",
       "      <th>fecha_de_inicio_del_contrato</th>\n",
       "      <th>dias_adicionados</th>\n",
       "      <th>fecha_de_fin_del_contrato</th>\n",
       "      <th>valor_del_contrato</th>\n",
       "      <th>fecha_fin_liquidacion</th>\n",
       "    </tr>\n",
       "  </thead>\n",
       "  <tbody>\n",
       "    <tr>\n",
       "      <th>0</th>\n",
       "      <td>Nacional</td>\n",
       "      <td>Centralizada</td>\n",
       "      <td>No aplica/No pertenece</td>\n",
       "      <td>Corporación Autónoma</td>\n",
       "      <td>JURISDICCION ESPECIAL DE PAZ</td>\n",
       "      <td>901140004</td>\n",
       "      <td>703840058</td>\n",
       "      <td>Contratación directa</td>\n",
       "      <td>Activo</td>\n",
       "      <td>ServiciosProfesionales</td>\n",
       "      <td>PRESTACIÓN DE SERVICIOS PROFESIONALES ESPECIAL...</td>\n",
       "      <td>PRESTACIÓN DE SERVICIOS PROFESIONALES ESPECIA...</td>\n",
       "      <td>Prestación de servicios</td>\n",
       "      <td>Bogotá</td>\n",
       "      <td>Distrito Capital de Bogotá</td>\n",
       "      <td>Colombia, Bogotá, Bogotá</td>\n",
       "      <td>V1.93141500</td>\n",
       "      <td>NIT</td>\n",
       "      <td>79261868</td>\n",
       "      <td>Jose Arles Nova Villanueva</td>\n",
       "      <td>No Definido</td>\n",
       "      <td>79261868</td>\n",
       "      <td>José Arles Nova Villanueva</td>\n",
       "      <td>No Definido</td>\n",
       "      <td>Colombiano</td>\n",
       "      <td>No</td>\n",
       "      <td>No</td>\n",
       "      <td>2019-02-18T08:02:03.000</td>\n",
       "      <td>2019-02-01T00:00:00.000</td>\n",
       "      <td>0</td>\n",
       "      <td>2019-12-31T00:00:00.000</td>\n",
       "      <td>114393961</td>\n",
       "      <td>NaN</td>\n",
       "    </tr>\n",
       "    <tr>\n",
       "      <th>1</th>\n",
       "      <td>Territorial</td>\n",
       "      <td>Centralizada</td>\n",
       "      <td>Inclusión Social y Reconciliación</td>\n",
       "      <td>Ejecutivo</td>\n",
       "      <td>Secretaria Distrital de Integración Social - O...</td>\n",
       "      <td>8999990611</td>\n",
       "      <td>702271321</td>\n",
       "      <td>Contratación directa</td>\n",
       "      <td>terminado</td>\n",
       "      <td>ServiciosProfesionales</td>\n",
       "      <td>PRESTAR SERVICIOS PARA LA ATENCIÓN INTEGRAL A ...</td>\n",
       "      <td>PRESTAR SERVICIOS PARA LA ATENCIÓN INTEGRAL A ...</td>\n",
       "      <td>Prestación de servicios</td>\n",
       "      <td>No Definido</td>\n",
       "      <td>Distrito Capital de Bogotá</td>\n",
       "      <td>Colombia, Bogotá, Bogotá</td>\n",
       "      <td>V1.80111500</td>\n",
       "      <td>Cédula de Ciudadanía</td>\n",
       "      <td>52548024</td>\n",
       "      <td>JIMENA VERGARA GARNICA</td>\n",
       "      <td>No Definido</td>\n",
       "      <td>52548024</td>\n",
       "      <td>JIMENA VERGARA GARNICA</td>\n",
       "      <td>No Definido</td>\n",
       "      <td>COLOMBIANA</td>\n",
       "      <td>No</td>\n",
       "      <td>No</td>\n",
       "      <td>2020-05-18T11:05:14.000</td>\n",
       "      <td>2020-06-01T00:00:00.000</td>\n",
       "      <td>0</td>\n",
       "      <td>2020-10-30T00:00:00.000</td>\n",
       "      <td>16390000</td>\n",
       "      <td>NaN</td>\n",
       "    </tr>\n",
       "    <tr>\n",
       "      <th>2</th>\n",
       "      <td>Nacional</td>\n",
       "      <td>Centralizada</td>\n",
       "      <td>Minas y Energía</td>\n",
       "      <td>Ejecutivo</td>\n",
       "      <td>SERVICIO GEOLOGICO COLOMBIANO</td>\n",
       "      <td>899999294</td>\n",
       "      <td>700765068</td>\n",
       "      <td>Contratación directa</td>\n",
       "      <td>Activo</td>\n",
       "      <td>ServiciosProfesionales</td>\n",
       "      <td>El Contratista se compromete para con el SERVI...</td>\n",
       "      <td>El Contratista se compromete para con el Servi...</td>\n",
       "      <td>Prestación de servicios</td>\n",
       "      <td>Bogotá</td>\n",
       "      <td>Distrito Capital de Bogotá</td>\n",
       "      <td>Colombia, Bogotá, Bogotá</td>\n",
       "      <td>V1.81151901</td>\n",
       "      <td>Cédula de Ciudadanía</td>\n",
       "      <td>12749676</td>\n",
       "      <td>Dario Fernando Arcos Guerrero</td>\n",
       "      <td>No Definido</td>\n",
       "      <td>12749676</td>\n",
       "      <td>Dario Fernando Arcos Guerrero</td>\n",
       "      <td>No Definido</td>\n",
       "      <td>Colombiano</td>\n",
       "      <td>No</td>\n",
       "      <td>No</td>\n",
       "      <td>2018-12-19T21:12:01.000</td>\n",
       "      <td>2018-12-19T00:00:00.000</td>\n",
       "      <td>0</td>\n",
       "      <td>2019-08-31T00:00:00.000</td>\n",
       "      <td>59259607</td>\n",
       "      <td>NaN</td>\n",
       "    </tr>\n",
       "  </tbody>\n",
       "</table>\n",
       "</div>\n",
       "      <button class=\"colab-df-convert\" onclick=\"convertToInteractive('df-1b7259a4-98e2-4590-9b2a-1feff7be2237')\"\n",
       "              title=\"Convert this dataframe to an interactive table.\"\n",
       "              style=\"display:none;\">\n",
       "        \n",
       "  <svg xmlns=\"http://www.w3.org/2000/svg\" height=\"24px\"viewBox=\"0 0 24 24\"\n",
       "       width=\"24px\">\n",
       "    <path d=\"M0 0h24v24H0V0z\" fill=\"none\"/>\n",
       "    <path d=\"M18.56 5.44l.94 2.06.94-2.06 2.06-.94-2.06-.94-.94-2.06-.94 2.06-2.06.94zm-11 1L8.5 8.5l.94-2.06 2.06-.94-2.06-.94L8.5 2.5l-.94 2.06-2.06.94zm10 10l.94 2.06.94-2.06 2.06-.94-2.06-.94-.94-2.06-.94 2.06-2.06.94z\"/><path d=\"M17.41 7.96l-1.37-1.37c-.4-.4-.92-.59-1.43-.59-.52 0-1.04.2-1.43.59L10.3 9.45l-7.72 7.72c-.78.78-.78 2.05 0 2.83L4 21.41c.39.39.9.59 1.41.59.51 0 1.02-.2 1.41-.59l7.78-7.78 2.81-2.81c.8-.78.8-2.07 0-2.86zM5.41 20L4 18.59l7.72-7.72 1.47 1.35L5.41 20z\"/>\n",
       "  </svg>\n",
       "      </button>\n",
       "      \n",
       "  <style>\n",
       "    .colab-df-container {\n",
       "      display:flex;\n",
       "      flex-wrap:wrap;\n",
       "      gap: 12px;\n",
       "    }\n",
       "\n",
       "    .colab-df-convert {\n",
       "      background-color: #E8F0FE;\n",
       "      border: none;\n",
       "      border-radius: 50%;\n",
       "      cursor: pointer;\n",
       "      display: none;\n",
       "      fill: #1967D2;\n",
       "      height: 32px;\n",
       "      padding: 0 0 0 0;\n",
       "      width: 32px;\n",
       "    }\n",
       "\n",
       "    .colab-df-convert:hover {\n",
       "      background-color: #E2EBFA;\n",
       "      box-shadow: 0px 1px 2px rgba(60, 64, 67, 0.3), 0px 1px 3px 1px rgba(60, 64, 67, 0.15);\n",
       "      fill: #174EA6;\n",
       "    }\n",
       "\n",
       "    [theme=dark] .colab-df-convert {\n",
       "      background-color: #3B4455;\n",
       "      fill: #D2E3FC;\n",
       "    }\n",
       "\n",
       "    [theme=dark] .colab-df-convert:hover {\n",
       "      background-color: #434B5C;\n",
       "      box-shadow: 0px 1px 3px 1px rgba(0, 0, 0, 0.15);\n",
       "      filter: drop-shadow(0px 1px 2px rgba(0, 0, 0, 0.3));\n",
       "      fill: #FFFFFF;\n",
       "    }\n",
       "  </style>\n",
       "\n",
       "      <script>\n",
       "        const buttonEl =\n",
       "          document.querySelector('#df-1b7259a4-98e2-4590-9b2a-1feff7be2237 button.colab-df-convert');\n",
       "        buttonEl.style.display =\n",
       "          google.colab.kernel.accessAllowed ? 'block' : 'none';\n",
       "\n",
       "        async function convertToInteractive(key) {\n",
       "          const element = document.querySelector('#df-1b7259a4-98e2-4590-9b2a-1feff7be2237');\n",
       "          const dataTable =\n",
       "            await google.colab.kernel.invokeFunction('convertToInteractive',\n",
       "                                                     [key], {});\n",
       "          if (!dataTable) return;\n",
       "\n",
       "          const docLinkHtml = 'Like what you see? Visit the ' +\n",
       "            '<a target=\"_blank\" href=https://colab.research.google.com/notebooks/data_table.ipynb>data table notebook</a>'\n",
       "            + ' to learn more about interactive tables.';\n",
       "          element.innerHTML = '';\n",
       "          dataTable['output_type'] = 'display_data';\n",
       "          await google.colab.output.renderOutput(dataTable, element);\n",
       "          const docLink = document.createElement('div');\n",
       "          docLink.innerHTML = docLinkHtml;\n",
       "          element.appendChild(docLink);\n",
       "        }\n",
       "      </script>\n",
       "    </div>\n",
       "  </div>\n",
       "  "
      ],
      "text/plain": [
       "         orden entidad_centralizada                             sector  \\\n",
       "0     Nacional         Centralizada             No aplica/No pertenece   \n",
       "1  Territorial         Centralizada  Inclusión Social y Reconciliación   \n",
       "2     Nacional         Centralizada                    Minas y Energía   \n",
       "\n",
       "                   rama                                     nombre_entidad  \\\n",
       "0  Corporación Autónoma                       JURISDICCION ESPECIAL DE PAZ   \n",
       "1             Ejecutivo  Secretaria Distrital de Integración Social - O...   \n",
       "2             Ejecutivo                      SERVICIO GEOLOGICO COLOMBIANO   \n",
       "\n",
       "  nit_entidad codigo_entidad modalidad_de_contratacion estado_contrato  \\\n",
       "0   901140004      703840058      Contratación directa          Activo   \n",
       "1  8999990611      702271321      Contratación directa       terminado   \n",
       "2   899999294      700765068      Contratación directa          Activo   \n",
       "\n",
       "  justificacion_modalidad_de  \\\n",
       "0     ServiciosProfesionales   \n",
       "1     ServiciosProfesionales   \n",
       "2     ServiciosProfesionales   \n",
       "\n",
       "                                 objeto_del_contrato  \\\n",
       "0  PRESTACIÓN DE SERVICIOS PROFESIONALES ESPECIAL...   \n",
       "1  PRESTAR SERVICIOS PARA LA ATENCIÓN INTEGRAL A ...   \n",
       "2  El Contratista se compromete para con el SERVI...   \n",
       "\n",
       "                             descripcion_del_proceso         tipo_de_contrato  \\\n",
       "0  PRESTACIÓN DE SERVICIOS PROFESIONALES ESPECIA...  Prestación de servicios   \n",
       "1  PRESTAR SERVICIOS PARA LA ATENCIÓN INTEGRAL A ...  Prestación de servicios   \n",
       "2  El Contratista se compromete para con el Servi...  Prestación de servicios   \n",
       "\n",
       "        ciudad                departamento              localizaci_n  \\\n",
       "0       Bogotá  Distrito Capital de Bogotá  Colombia, Bogotá, Bogotá   \n",
       "1  No Definido  Distrito Capital de Bogotá  Colombia, Bogotá, Bogotá   \n",
       "2       Bogotá  Distrito Capital de Bogotá  Colombia, Bogotá, Bogotá   \n",
       "\n",
       "  codigo_de_categoria_principal      tipodocproveedor documento_proveedor  \\\n",
       "0                   V1.93141500                   NIT            79261868   \n",
       "1                   V1.80111500  Cédula de Ciudadanía            52548024   \n",
       "2                   V1.81151901  Cédula de Ciudadanía            12749676   \n",
       "\n",
       "            proveedor_adjudicado tipo_de_identificaci_n_representante_legal  \\\n",
       "0     Jose Arles Nova Villanueva                                No Definido   \n",
       "1         JIMENA VERGARA GARNICA                                No Definido   \n",
       "2  Dario Fernando Arcos Guerrero                                No Definido   \n",
       "\n",
       "  identificaci_n_representante_legal     nombre_representante_legal  \\\n",
       "0                           79261868     José Arles Nova Villanueva   \n",
       "1                           52548024         JIMENA VERGARA GARNICA   \n",
       "2                           12749676  Dario Fernando Arcos Guerrero   \n",
       "\n",
       "  g_nero_representante_legal nacionalidad_representante_legal es_grupo  \\\n",
       "0                No Definido                       Colombiano       No   \n",
       "1                No Definido                       COLOMBIANA       No   \n",
       "2                No Definido                       Colombiano       No   \n",
       "\n",
       "  es_pyme           fecha_de_firma fecha_de_inicio_del_contrato  \\\n",
       "0      No  2019-02-18T08:02:03.000      2019-02-01T00:00:00.000   \n",
       "1      No  2020-05-18T11:05:14.000      2020-06-01T00:00:00.000   \n",
       "2      No  2018-12-19T21:12:01.000      2018-12-19T00:00:00.000   \n",
       "\n",
       "  dias_adicionados fecha_de_fin_del_contrato valor_del_contrato  \\\n",
       "0                0   2019-12-31T00:00:00.000          114393961   \n",
       "1                0   2020-10-30T00:00:00.000           16390000   \n",
       "2                0   2019-08-31T00:00:00.000           59259607   \n",
       "\n",
       "  fecha_fin_liquidacion  \n",
       "0                   NaN  \n",
       "1                   NaN  \n",
       "2                   NaN  "
      ]
     },
     "execution_count": 42,
     "metadata": {},
     "output_type": "execute_result"
    }
   ],
   "source": [
    "contratos_SII_df.head(3)"
   ]
  },
  {
   "cell_type": "code",
   "execution_count": 43,
   "id": "OREtxEKy1ywa",
   "metadata": {
    "colab": {
     "base_uri": "https://localhost:8080/",
     "height": 151
    },
    "executionInfo": {
     "elapsed": 341,
     "status": "ok",
     "timestamp": 1660938306698,
     "user": {
      "displayName": "Luis Gustavo Maldonado Archila",
      "userId": "00154281364666914585"
     },
     "user_tz": 240
    },
    "id": "OREtxEKy1ywa",
    "outputId": "aa37d8aa-7275-466f-c2b0-34b22bf3e51a"
   },
   "outputs": [
    {
     "ename": "NameError",
     "evalue": "ignored",
     "output_type": "error",
     "traceback": [
      "\u001b[0;31m---------------------------------------------------------------------------\u001b[0m",
      "\u001b[0;31mNameError\u001b[0m                                 Traceback (most recent call last)",
      "\u001b[0;32m<timed exec>\u001b[0m in \u001b[0;36m<module>\u001b[0;34m\u001b[0m\n",
      "\u001b[0;31mNameError\u001b[0m: name 'Query1' is not defined"
     ]
    }
   ],
   "source": [
    "# # Descargar todos los contratos relacionados con Servicios de Seguridad\n",
    "%%time\n",
    "contratos_SI_Servicios_df = pd.DataFrame()\n",
    "\n",
    "for unspsc in UNSPSC_servicios_codes['UNSPSC'].str[3:-2].drop_duplicates().values:\n",
    "    Query = Query1 + unspsc[3:] + Query2\n",
    "    try:\n",
    "        Aux_json = client.get(socrata_dataset_identifier, content_type=\"json\", query=Query)\n",
    "        Aux_df = pd.DataFrame(pd.DataFrame.from_dict(Aux_json))\n",
    "        contratos_SI_Servicios_df = pd.concat([contratos_SI_Servicios_df, Aux_df])\n",
    "        print('Added: ', unspsc, Aux_df.shape)\n",
    "    except:\n",
    "        print(\"Fail:  \", unspsc)\n",
    "\n",
    "contratos_SI_Servicios_df.shape"
   ]
  },
  {
   "cell_type": "code",
   "execution_count": 44,
   "id": "UutIH7ltJPKg",
   "metadata": {
    "colab": {
     "base_uri": "https://localhost:8080/",
     "height": 151
    },
    "executionInfo": {
     "elapsed": 40,
     "status": "ok",
     "timestamp": 1660938306699,
     "user": {
      "displayName": "Luis Gustavo Maldonado Archila",
      "userId": "00154281364666914585"
     },
     "user_tz": 240
    },
    "id": "UutIH7ltJPKg",
    "outputId": "afb92cea-b8c1-4f33-e1e8-67bcaccf2974"
   },
   "outputs": [
    {
     "ename": "NameError",
     "evalue": "ignored",
     "output_type": "error",
     "traceback": [
      "\u001b[0;31m---------------------------------------------------------------------------\u001b[0m",
      "\u001b[0;31mNameError\u001b[0m                                 Traceback (most recent call last)",
      "\u001b[0;32m<timed exec>\u001b[0m in \u001b[0;36m<module>\u001b[0;34m\u001b[0m\n",
      "\u001b[0;31mNameError\u001b[0m: name 'Query1' is not defined"
     ]
    }
   ],
   "source": [
    "# Descargar todos los contratos relacionados con proveedores de tecnologia, Equipos, comercializadores, importadores, etc.\n",
    "%%time\n",
    "contratos_SI_Equipos_df = pd.DataFrame()\n",
    "\n",
    "for unspsc in UNSPSC_equipos_codes:\n",
    "    Query = Query1 + unspsc[3:] + Query2\n",
    "    try:\n",
    "        Aux_json = client.get(socrata_dataset_identifier, content_type=\"json\", query=Query)\n",
    "        Aux_df = pd.DataFrame(pd.DataFrame.from_dict(Aux_json))\n",
    "        contratos_SI_Equipos_df = pd.concat([contratos_SI_Equipos_df, Aux_df])\n",
    "        print(unspsc, Aux_df.shape)\n",
    "    except:\n",
    "        print(\"Fail\")\n",
    "\n",
    "contratos_SI_Equipos_df.shape"
   ]
  },
  {
   "cell_type": "code",
   "execution_count": 45,
   "id": "lYEs-X_PJPKj",
   "metadata": {
    "colab": {
     "base_uri": "https://localhost:8080/",
     "height": 151
    },
    "executionInfo": {
     "elapsed": 38,
     "status": "ok",
     "timestamp": 1660938306699,
     "user": {
      "displayName": "Luis Gustavo Maldonado Archila",
      "userId": "00154281364666914585"
     },
     "user_tz": 240
    },
    "id": "lYEs-X_PJPKj",
    "outputId": "9caf0f6a-7669-4e0a-98dc-2e109b067d2c"
   },
   "outputs": [
    {
     "ename": "NameError",
     "evalue": "ignored",
     "output_type": "error",
     "traceback": [
      "\u001b[0;31m---------------------------------------------------------------------------\u001b[0m",
      "\u001b[0;31mNameError\u001b[0m                                 Traceback (most recent call last)",
      "\u001b[0;32m<timed exec>\u001b[0m in \u001b[0;36m<module>\u001b[0;34m\u001b[0m\n",
      "\u001b[0;31mNameError\u001b[0m: name 'Query1' is not defined"
     ]
    }
   ],
   "source": [
    "# Descargar todos los contratos relacionados con Blindados\n",
    "%%time\n",
    "contratos_SI_Blindados_df = pd.DataFrame()\n",
    "\n",
    "for unspsc in UNSPSC_blindados_codes:\n",
    "    Query = Query1 + unspsc[3:] + Query2\n",
    "    try:\n",
    "        Aux_json = client.get(socrata_dataset_identifier, content_type=\"json\", query=Query)\n",
    "        Aux_df = pd.DataFrame(pd.DataFrame.from_dict(Aux_json))\n",
    "        contratos_SI_Blindados_df = pd.concat([contratos_SI_Blindados_df, Aux_df])\n",
    "        print(unspsc, Aux_df.shape)\n",
    "    except:\n",
    "        print(\"Fail\")\n",
    "\n",
    "contratos_SI_Blindados_df.shape"
   ]
  },
  {
   "cell_type": "code",
   "execution_count": 46,
   "id": "C5sWxljeJPKl",
   "metadata": {
    "colab": {
     "base_uri": "https://localhost:8080/",
     "height": 151
    },
    "executionInfo": {
     "elapsed": 37,
     "status": "ok",
     "timestamp": 1660938306700,
     "user": {
      "displayName": "Luis Gustavo Maldonado Archila",
      "userId": "00154281364666914585"
     },
     "user_tz": 240
    },
    "id": "C5sWxljeJPKl",
    "outputId": "1116f734-b5db-4f0f-c7c5-7a8992e0e8ed"
   },
   "outputs": [
    {
     "ename": "NameError",
     "evalue": "ignored",
     "output_type": "error",
     "traceback": [
      "\u001b[0;31m---------------------------------------------------------------------------\u001b[0m",
      "\u001b[0;31mNameError\u001b[0m                                 Traceback (most recent call last)",
      "\u001b[0;32m<timed exec>\u001b[0m in \u001b[0;36m<module>\u001b[0;34m\u001b[0m\n",
      "\u001b[0;31mNameError\u001b[0m: name 'Query1' is not defined"
     ]
    }
   ],
   "source": [
    "# Descargar todos los contratos relacionados con Armas\n",
    "%%time\n",
    "contratos_SI_Armas_df = pd.DataFrame()\n",
    "\n",
    "for unspsc in UNSPSC_armas_codes:\n",
    "    Query = Query1 + unspsc[3:] + Query2\n",
    "    try:\n",
    "        Aux_json = client.get(socrata_dataset_identifier, content_type=\"json\", query=Query)\n",
    "        Aux_df = pd.DataFrame(pd.DataFrame.from_dict(Aux_json))\n",
    "        contratos_SI_Armas_df = pd.concat([contratos_SI_Armas_df, Aux_df])\n",
    "        print(unspsc, Aux_df.shape)\n",
    "    except:\n",
    "        print(\"Fail\")\n",
    "\n",
    "contratos_SI_Armas_df.shape"
   ]
  },
  {
   "cell_type": "code",
   "execution_count": 47,
   "id": "3tVdoSI8sqsf",
   "metadata": {
    "colab": {
     "base_uri": "https://localhost:8080/",
     "height": 151
    },
    "executionInfo": {
     "elapsed": 35,
     "status": "ok",
     "timestamp": 1660938306700,
     "user": {
      "displayName": "Luis Gustavo Maldonado Archila",
      "userId": "00154281364666914585"
     },
     "user_tz": 240
    },
    "id": "3tVdoSI8sqsf",
    "outputId": "7a902b8b-5d2a-42da-99a7-8a13813ee82d"
   },
   "outputs": [
    {
     "ename": "NameError",
     "evalue": "ignored",
     "output_type": "error",
     "traceback": [
      "\u001b[0;31m---------------------------------------------------------------------------\u001b[0m",
      "\u001b[0;31mNameError\u001b[0m                                 Traceback (most recent call last)",
      "\u001b[0;32m<timed exec>\u001b[0m in \u001b[0;36m<module>\u001b[0;34m\u001b[0m\n",
      "\u001b[0;31mNameError\u001b[0m: name 'Query1' is not defined"
     ]
    }
   ],
   "source": [
    "# Descargar todos los contratos relacionados con Servicios de Seguridad\n",
    "%%time\n",
    "contratos_SII_Servicios_df = pd.DataFrame()\n",
    "\n",
    "for unspsc in UNSPSC_servicios_codes:\n",
    "    Query = Query1 + unspsc + Query2\n",
    "    try:\n",
    "        Aux_json = client.get(socrata_dataset_identifier, content_type=\"json\", query=Query)\n",
    "        Aux_df = pd.DataFrame(pd.DataFrame.from_dict(Aux_json))\n",
    "        contratos_SII_Servicios_df = pd.concat([contratos_SII_Servicios_df, Aux_df])\n",
    "        print(unspsc, Aux_df.shape)\n",
    "    except:\n",
    "        print(\"Fail\")\n",
    "\n",
    "contratos_SII_Servicios_df.shape"
   ]
  },
  {
   "cell_type": "code",
   "execution_count": 48,
   "id": "tK_4jcbyI99H",
   "metadata": {
    "colab": {
     "base_uri": "https://localhost:8080/",
     "height": 151
    },
    "executionInfo": {
     "elapsed": 35,
     "status": "ok",
     "timestamp": 1660938306701,
     "user": {
      "displayName": "Luis Gustavo Maldonado Archila",
      "userId": "00154281364666914585"
     },
     "user_tz": 240
    },
    "id": "tK_4jcbyI99H",
    "outputId": "6d04aca3-c6b6-4853-e6e0-b7db55041f50"
   },
   "outputs": [
    {
     "ename": "NameError",
     "evalue": "ignored",
     "output_type": "error",
     "traceback": [
      "\u001b[0;31m---------------------------------------------------------------------------\u001b[0m",
      "\u001b[0;31mNameError\u001b[0m                                 Traceback (most recent call last)",
      "\u001b[0;32m<timed exec>\u001b[0m in \u001b[0;36m<module>\u001b[0;34m\u001b[0m\n",
      "\u001b[0;31mNameError\u001b[0m: name 'Query1' is not defined"
     ]
    }
   ],
   "source": [
    "# Descargar todos los contratos relacionados con proveedores de tecnologia, Equipos, comercializadores, importadores, etc.\n",
    "%%time\n",
    "contratos_SII_Equipos_df = pd.DataFrame()\n",
    "\n",
    "for unspsc in UNSPSC_equipos_codes:\n",
    "    Query = Query1 + unspsc + Query2\n",
    "    try:\n",
    "        Aux_json = client.get(socrata_dataset_identifier, content_type=\"json\", query=Query)\n",
    "        Aux_df = pd.DataFrame(pd.DataFrame.from_dict(Aux_json))\n",
    "        contratos_SII_Equipos_df = pd.concat([contratos_SII_Equipos_df, Aux_df])\n",
    "        print(unspsc, Aux_df.shape)\n",
    "    except:\n",
    "        print(\"Fail\")\n",
    "\n",
    "contratos_SII_Equipos_df.shape"
   ]
  },
  {
   "cell_type": "code",
   "execution_count": 49,
   "id": "Dtg4suXEvhcw",
   "metadata": {
    "colab": {
     "base_uri": "https://localhost:8080/",
     "height": 151
    },
    "executionInfo": {
     "elapsed": 32,
     "status": "ok",
     "timestamp": 1660938306702,
     "user": {
      "displayName": "Luis Gustavo Maldonado Archila",
      "userId": "00154281364666914585"
     },
     "user_tz": 240
    },
    "id": "Dtg4suXEvhcw",
    "outputId": "57a0f853-b59e-4cb7-dbc5-21333a6b0587"
   },
   "outputs": [
    {
     "ename": "NameError",
     "evalue": "ignored",
     "output_type": "error",
     "traceback": [
      "\u001b[0;31m---------------------------------------------------------------------------\u001b[0m",
      "\u001b[0;31mNameError\u001b[0m                                 Traceback (most recent call last)",
      "\u001b[0;32m<timed exec>\u001b[0m in \u001b[0;36m<module>\u001b[0;34m\u001b[0m\n",
      "\u001b[0;31mNameError\u001b[0m: name 'Query1' is not defined"
     ]
    }
   ],
   "source": [
    "# Descargar todos los contratos relacionados con Blindados\n",
    "%%time\n",
    "contratos_SII_Blindados_df = pd.DataFrame()\n",
    "\n",
    "for unspsc in UNSPSC_blindados_codes:\n",
    "    Query = Query1 + unspsc + Query2\n",
    "    try:\n",
    "        Aux_json = client.get(socrata_dataset_identifier, content_type=\"json\", query=Query)\n",
    "        Aux_df = pd.DataFrame(pd.DataFrame.from_dict(Aux_json))\n",
    "        contratos_SII_Blindados_df = pd.concat([contratos_SII_Blindados_df, Aux_df])\n",
    "        print(unspsc, Aux_df.shape)\n",
    "    except:\n",
    "        print(\"Fail\")\n",
    "\n",
    "contratos_SII_Blindados_df.shape"
   ]
  },
  {
   "cell_type": "code",
   "execution_count": 50,
   "id": "uiw50d-KydtK",
   "metadata": {
    "colab": {
     "base_uri": "https://localhost:8080/",
     "height": 151
    },
    "executionInfo": {
     "elapsed": 31,
     "status": "ok",
     "timestamp": 1660938306702,
     "user": {
      "displayName": "Luis Gustavo Maldonado Archila",
      "userId": "00154281364666914585"
     },
     "user_tz": 240
    },
    "id": "uiw50d-KydtK",
    "outputId": "1e2a6092-d467-4c0f-92ae-a88a047d46a6"
   },
   "outputs": [
    {
     "ename": "NameError",
     "evalue": "ignored",
     "output_type": "error",
     "traceback": [
      "\u001b[0;31m---------------------------------------------------------------------------\u001b[0m",
      "\u001b[0;31mNameError\u001b[0m                                 Traceback (most recent call last)",
      "\u001b[0;32m<timed exec>\u001b[0m in \u001b[0;36m<module>\u001b[0;34m\u001b[0m\n",
      "\u001b[0;31mNameError\u001b[0m: name 'Query1' is not defined"
     ]
    }
   ],
   "source": [
    "# Descargar todos los contratos relacionados con Armas\n",
    "%%time\n",
    "contratos_SII_Armas_df = pd.DataFrame()\n",
    "\n",
    "for unspsc in UNSPSC_armas_codes:\n",
    "    Query = Query1 + unspsc + Query2\n",
    "    try:\n",
    "        Aux_json = client.get(socrata_dataset_identifier, content_type=\"json\", query=Query)\n",
    "        Aux_df = pd.DataFrame(pd.DataFrame.from_dict(Aux_json))\n",
    "        contratos_SII_Armas_df = pd.concat([contratos_SII_Armas_df, Aux_df])\n",
    "        print(unspsc, Aux_df.shape)\n",
    "    except:\n",
    "        print(\"Fail\")\n",
    "\n",
    "contratos_SII_Armas_df.shape"
   ]
  },
  {
   "cell_type": "markdown",
   "id": "3b238979",
   "metadata": {
    "id": "3b238979"
   },
   "source": [
    "## Descargar SECOP_I"
   ]
  },
  {
   "cell_type": "code",
   "execution_count": null,
   "id": "gQfl10fPHVK-",
   "metadata": {
    "executionInfo": {
     "elapsed": 686481,
     "status": "aborted",
     "timestamp": 1660939014789,
     "user": {
      "displayName": "Luis Gustavo Maldonado Archila",
      "userId": "00154281364666914585"
     },
     "user_tz": 240
    },
    "id": "gQfl10fPHVK-"
   },
   "outputs": [],
   "source": [
    "socrata_dataset_identifier = \"f789-7hwg\"\n",
    "\n",
    "Query1 = \"\"\"\n",
    "SELECT \n",
    "    uid, numero_de_constancia, numero_de_proceso, numero_de_contrato, anno_firma_contrato,\n",
    "    anno_cargue_secop, nivel_entidad,orden_entidad, nombre_entidad, nit_de_la_entidad,\n",
    "    c_digo_de_la_entidad, modalidad_de_contratacion, estado_del_proceso, objeto_a_contratar,\n",
    "    objeto_del_contrato_a_la, detalle_del_objeto_a_contratar, tipo_de_contrato, municipio_entidad,\n",
    "    departamento_entidad, id_grupo, nombre_grupo, id_familia, nombre_familia, id_clase, nombre_clase, \n",
    "    tipo_identifi_del_contratista, identificacion_del_contratista,\n",
    "    nom_razon_social_contratista,  tipo_doc_representante_legal, identific_representante_legal,\n",
    "    nombre_del_represen_legal, sexo_replegal, fecha_de_firma_del_contrato, fecha_ini_ejec_contrato,\n",
    "    plazo_de_ejec_del_contrato, rango_de_ejec_del_contrato, tiempo_adiciones_en_dias,\n",
    "    tiempo_adiciones_en_meses, fecha_fin_ejec_contrato, fecha_liquidacion, cuantia_contrato,\n",
    "    valor_total_de_adiciones, valor_contrato_con_adiciones, moneda\n",
    "WHERE \n",
    "    fecha_de_firma_del_contrato >= '2000-01-01'\n",
    "AND \n",
    "    id_clase LIKE '\"\"\"\n",
    "\n",
    "Query2 = \"\"\"%' LIMIT 25000\"\"\""
   ]
  },
  {
   "cell_type": "code",
   "execution_count": 52,
   "id": "zNWgO1RFHVLA",
   "metadata": {
    "colab": {
     "base_uri": "https://localhost:8080/"
    },
    "executionInfo": {
     "elapsed": 302490,
     "status": "ok",
     "timestamp": 1660938609163,
     "user": {
      "displayName": "Luis Gustavo Maldonado Archila",
      "userId": "00154281364666914585"
     },
     "user_tz": 240
    },
    "id": "zNWgO1RFHVLA",
    "outputId": "6c5eb9ee-85f1-4b12-931c-9e4f0fcdabac"
   },
   "outputs": [
    {
     "name": "stdout",
     "output_type": "stream",
     "text": [
      "Servicio de Vigilancia y Seguridad Privada\n",
      "Fail:   92101501\n",
      "Added:  9212 (22492, 45)     total:  (22492, 45)\n",
      "Added:  921215 (16634, 45)     total:  (39126, 45)\n",
      "Added:  921217 (5224, 45)     total:  (44350, 45)\n",
      "Fail:   93121503\n",
      "Servicio de Asesoria, Consultoria e Investigacion\n",
      "Fail:   80111702\n",
      "Fail:   81141801\n",
      "Fail:   921216\n",
      "Servicio de Capacitacion y Entrenamiento en Vigilancia y Seguridad Privada\n",
      "Fail:   86101709\n",
      "Fabricacion, Importacion, Comercio, Arriendo e Instalación de Equipos para la Vigilancia y la Seguridad Privada\n",
      "Fail:   461516\n",
      "Fail:   461518\n",
      "Added:  4617 (4179, 45)     total:  (48529, 45)\n",
      "Fail:   461715\n",
      "Added:  461716 (3484, 45)     total:  (52013, 45)\n",
      "Fail:   721517\n",
      "Servicio de Transporte de Valores\n",
      "Fail:   78101503\n",
      "Fail:   78101705\n",
      "Fail:   921218\n",
      "Servicio de Fabricación y/o Arrendamiento de Vehículos Blindados\n",
      "Fail:   25101920\n",
      "Suministro de Armas\n",
      "Fail:   460000\n",
      "Fail:   4610\n",
      "Fail:   461015\n",
      "Fail:   461016\n",
      "Fail:   461017\n",
      "Fail:   461018\n",
      "CPU times: user 4.26 s, sys: 564 ms, total: 4.83 s\n",
      "Wall time: 5min 2s\n"
     ]
    }
   ],
   "source": [
    "# Descargar todos los contratosde SECOP-I que nos interesan:\n",
    "%%time\n",
    "contratos_SI_df = pd.DataFrame()\n",
    "\n",
    "for tipo_servicio, lista in UNSPSC_codes_dict.items():\n",
    "    print (tipo_servicio)\n",
    "    for unspsc in lista:\n",
    "        Query = Query1 + unspsc[3:] + Query2\n",
    "        try:\n",
    "            Aux_json = client.get(socrata_dataset_identifier, content_type=\"json\", query=Query)\n",
    "            Aux_df = pd.DataFrame(pd.DataFrame.from_dict(Aux_json))\n",
    "            Aux_df['Tipo_servicio'] = tipo_servicio\n",
    "            contratos_SI_df = pd.concat([contratos_SI_df, Aux_df])\n",
    "            print('Added: ', unspsc[3:], Aux_df.shape, '    total: ', contratos_SI_df.shape)\n",
    "        except:\n",
    "            print(\"Fail:  \", unspsc[3:])\n"
   ]
  },
  {
   "cell_type": "code",
   "execution_count": 53,
   "id": "fjvxNUJk9Yd1",
   "metadata": {
    "executionInfo": {
     "elapsed": 13,
     "status": "ok",
     "timestamp": 1660938609165,
     "user": {
      "displayName": "Luis Gustavo Maldonado Archila",
      "userId": "00154281364666914585"
     },
     "user_tz": 240
    },
    "id": "fjvxNUJk9Yd1"
   },
   "outputs": [],
   "source": [
    "Query2 = \"\"\"%' LIMIT 10000\"\"\""
   ]
  },
  {
   "cell_type": "code",
   "execution_count": 54,
   "id": "0ZBpbZfS9Yd4",
   "metadata": {
    "colab": {
     "base_uri": "https://localhost:8080/"
    },
    "executionInfo": {
     "elapsed": 268197,
     "status": "ok",
     "timestamp": 1660938877352,
     "user": {
      "displayName": "Luis Gustavo Maldonado Archila",
      "userId": "00154281364666914585"
     },
     "user_tz": 240
    },
    "id": "0ZBpbZfS9Yd4",
    "outputId": "c9dd194f-6eb2-46b9-a6de-a28eb644e863"
   },
   "outputs": [
    {
     "name": "stdout",
     "output_type": "stream",
     "text": [
      "Servicio de Vigilancia y Seguridad Privada\n",
      "Fail:   92101501\n",
      "Added:  9212 (10000, 45)     total:  (62013, 45)\n",
      "Added:  921215 (10000, 45)     total:  (72013, 45)\n",
      "Added:  921217 (5224, 45)     total:  (77237, 45)\n",
      "Fail:   93121503\n",
      "Servicio de Asesoria, Consultoria e Investigacion\n",
      "Fail:   80111702\n",
      "Fail:   81141801\n",
      "Fail:   921216\n",
      "Servicio de Capacitacion y Entrenamiento en Vigilancia y Seguridad Privada\n",
      "Fail:   86101709\n",
      "Fabricacion, Importacion, Comercio, Arriendo e Instalación de Equipos para la Vigilancia y la Seguridad Privada\n",
      "Fail:   461516\n",
      "Fail:   461518\n",
      "Added:  4617 (4179, 45)     total:  (81416, 45)\n",
      "Fail:   461715\n",
      "Added:  461716 (3484, 45)     total:  (84900, 45)\n",
      "Fail:   721517\n",
      "Servicio de Transporte de Valores\n",
      "Fail:   78101503\n",
      "Fail:   78101705\n",
      "Fail:   921218\n",
      "Servicio de Fabricación y/o Arrendamiento de Vehículos Blindados\n",
      "Fail:   25101920\n",
      "Suministro de Armas\n",
      "Fail:   460000\n",
      "Fail:   4610\n",
      "Fail:   461015\n",
      "Fail:   461016\n",
      "Fail:   461017\n",
      "Fail:   461018\n",
      "CPU times: user 3.66 s, sys: 298 ms, total: 3.96 s\n",
      "Wall time: 4min 28s\n"
     ]
    }
   ],
   "source": [
    "%%time\n",
    "for tipo_servicio, lista in UNSPSC_codes_dict.items():\n",
    "    print (tipo_servicio)\n",
    "    for unspsc in lista:\n",
    "        Query = Query1 + unspsc[3:] + Query2\n",
    "        try:\n",
    "            Aux_json = client.get(socrata_dataset_identifier, content_type=\"json\", query=Query)\n",
    "            Aux_df = pd.DataFrame(pd.DataFrame.from_dict(Aux_json))\n",
    "            Aux_df['Tipo_servicio'] = tipo_servicio\n",
    "            contratos_SI_df = pd.concat([contratos_SI_df, Aux_df])  #ignore_index=True\n",
    "            print('Added: ', unspsc[3:], Aux_df.shape, '    total: ', contratos_SI_df.shape)\n",
    "        except:\n",
    "            print(\"Fail:  \", unspsc[3:])"
   ]
  },
  {
   "cell_type": "code",
   "execution_count": 55,
   "id": "CukzJVUP65os",
   "metadata": {
    "executionInfo": {
     "elapsed": 16,
     "status": "ok",
     "timestamp": 1660938877354,
     "user": {
      "displayName": "Luis Gustavo Maldonado Archila",
      "userId": "00154281364666914585"
     },
     "user_tz": 240
    },
    "id": "CukzJVUP65os"
   },
   "outputs": [],
   "source": [
    "Query2 = \"\"\"%' LIMIT 1000\"\"\""
   ]
  },
  {
   "cell_type": "code",
   "execution_count": 56,
   "id": "YqzfIMWo66Vd",
   "metadata": {
    "colab": {
     "base_uri": "https://localhost:8080/"
    },
    "executionInfo": {
     "elapsed": 93478,
     "status": "ok",
     "timestamp": 1660938970820,
     "user": {
      "displayName": "Luis Gustavo Maldonado Archila",
      "userId": "00154281364666914585"
     },
     "user_tz": 240
    },
    "id": "YqzfIMWo66Vd",
    "outputId": "c859ac48-e55e-41a4-cc0e-db4ac7d4cac9"
   },
   "outputs": [
    {
     "name": "stdout",
     "output_type": "stream",
     "text": [
      "Servicio de Vigilancia y Seguridad Privada\n",
      "Added:  92101501 (0, 1)     total:  (84900, 45)\n",
      "Added:  9212 (1000, 45)     total:  (85900, 45)\n",
      "Added:  921215 (1000, 45)     total:  (86900, 45)\n",
      "Added:  921217 (1000, 45)     total:  (87900, 45)\n",
      "Added:  93121503 (0, 1)     total:  (87900, 45)\n",
      "Servicio de Asesoria, Consultoria e Investigacion\n",
      "Added:  80111702 (0, 1)     total:  (87900, 45)\n",
      "Added:  81141801 (0, 1)     total:  (87900, 45)\n",
      "Fail:   921216\n",
      "Servicio de Capacitacion y Entrenamiento en Vigilancia y Seguridad Privada\n",
      "Added:  86101709 (0, 1)     total:  (87900, 45)\n",
      "Fabricacion, Importacion, Comercio, Arriendo e Instalación de Equipos para la Vigilancia y la Seguridad Privada\n",
      "Fail:   461516\n",
      "Added:  461518 (29, 45)     total:  (87929, 45)\n",
      "Added:  4617 (1000, 45)     total:  (88929, 45)\n",
      "Added:  461715 (695, 45)     total:  (89624, 45)\n",
      "Added:  461716 (1000, 45)     total:  (90624, 45)\n",
      "Added:  721517 (770, 45)     total:  (91394, 45)\n",
      "Servicio de Transporte de Valores\n",
      "Added:  78101503 (0, 1)     total:  (91394, 45)\n",
      "Added:  78101705 (0, 1)     total:  (91394, 45)\n",
      "Added:  921218 (140, 45)     total:  (91534, 45)\n",
      "Servicio de Fabricación y/o Arrendamiento de Vehículos Blindados\n",
      "Added:  25101920 (0, 1)     total:  (91534, 45)\n",
      "Suministro de Armas\n",
      "Added:  460000 (0, 1)     total:  (91534, 45)\n",
      "Fail:   4610\n",
      "Added:  461015 (57, 45)     total:  (91591, 45)\n",
      "Added:  461016 (50, 45)     total:  (91641, 45)\n",
      "Added:  461017 (8, 45)     total:  (91649, 45)\n",
      "Added:  461018 (61, 45)     total:  (91710, 45)\n",
      "CPU times: user 4.63 s, sys: 102 ms, total: 4.73 s\n",
      "Wall time: 1min 33s\n"
     ]
    }
   ],
   "source": [
    "%%time\n",
    "for tipo_servicio, lista in UNSPSC_codes_dict.items():\n",
    "    print (tipo_servicio)\n",
    "    for unspsc in lista:\n",
    "        Query = Query1 + unspsc[3:] + Query2\n",
    "        try:\n",
    "            Aux_json = client.get(socrata_dataset_identifier, content_type=\"json\", query=Query)\n",
    "            Aux_df = pd.DataFrame(pd.DataFrame.from_dict(Aux_json))\n",
    "            Aux_df['Tipo_servicio'] = tipo_servicio\n",
    "            contratos_SI_df = pd.concat([contratos_SI_df, Aux_df])\n",
    "            print('Added: ', unspsc[3:], Aux_df.shape, '    total: ', contratos_SI_df.shape)\n",
    "        except:\n",
    "            print(\"Fail:  \", unspsc[3:])"
   ]
  },
  {
   "cell_type": "code",
   "execution_count": 57,
   "id": "l4jMc9d--kEu",
   "metadata": {
    "colab": {
     "base_uri": "https://localhost:8080/"
    },
    "executionInfo": {
     "elapsed": 1730,
     "status": "ok",
     "timestamp": 1660938972544,
     "user": {
      "displayName": "Luis Gustavo Maldonado Archila",
      "userId": "00154281364666914585"
     },
     "user_tz": 240
    },
    "id": "l4jMc9d--kEu",
    "outputId": "7c75fd99-bc0d-46e5-c081-ee952d8a1ee0"
   },
   "outputs": [
    {
     "data": {
      "text/plain": [
       "(27786, 45)"
      ]
     },
     "execution_count": 57,
     "metadata": {},
     "output_type": "execute_result"
    }
   ],
   "source": [
    "contratos_SI_df = contratos_SI_df.drop_duplicates(ignore_index=True)\n",
    "contratos_SI_df.shape"
   ]
  },
  {
   "cell_type": "code",
   "execution_count": 58,
   "id": "jaDhNBp6KSW2",
   "metadata": {
    "colab": {
     "base_uri": "https://localhost:8080/"
    },
    "executionInfo": {
     "elapsed": 306,
     "status": "ok",
     "timestamp": 1660938972845,
     "user": {
      "displayName": "Luis Gustavo Maldonado Archila",
      "userId": "00154281364666914585"
     },
     "user_tz": 240
    },
    "id": "jaDhNBp6KSW2",
    "outputId": "55f7f60c-9f36-48da-b2be-929f676b777d"
   },
   "outputs": [
    {
     "data": {
      "text/plain": [
       "(27646, 45)"
      ]
     },
     "execution_count": 58,
     "metadata": {},
     "output_type": "execute_result"
    }
   ],
   "source": [
    "contratos_SI_df = contratos_SI_df.sort_values(by = 'cuantia_contrato', ascending = False)\n",
    "contratos_SI_df = contratos_SI_df.drop_duplicates(subset = ['uid', 'numero_de_constancia', 'numero_de_proceso','numero_de_contrato',\n",
    "                                          'anno_firma_contrato', 'anno_cargue_secop', 'nit_de_la_entidad', 'identificacion_del_contratista', \n",
    "                                          'identific_representante_legal', 'fecha_de_firma_del_contrato'], keep='first', ignore_index=True)\n",
    "contratos_SI_df.shape"
   ]
  },
  {
   "cell_type": "markdown",
   "id": "kiPLTSDYtXN0",
   "metadata": {
    "id": "kiPLTSDYtXN0"
   },
   "source": [
    "## Descargar SECOP_II"
   ]
  },
  {
   "cell_type": "code",
   "execution_count": 59,
   "id": "HFb-ICXZG0Qj",
   "metadata": {
    "executionInfo": {
     "elapsed": 6,
     "status": "ok",
     "timestamp": 1660938972847,
     "user": {
      "displayName": "Luis Gustavo Maldonado Archila",
      "userId": "00154281364666914585"
     },
     "user_tz": 240
    },
    "id": "HFb-ICXZG0Qj"
   },
   "outputs": [],
   "source": [
    "socrata_dataset_identifier = \"jbjy-vk9h\"\n",
    "\n",
    "Query3 = \"\"\"\n",
    "SELECT \n",
    "    proceso_de_compra, id_contrato, referencia_del_contrato, anno_bpin, orden, \n",
    "    entidad_centralizada, sector, rama, nombre_entidad, nit_entidad, codigo_entidad,\n",
    "    modalidad_de_contratacion, estado_contrato, justificacion_modalidad_de, objeto_del_contrato,\n",
    "    descripcion_del_proceso, tipo_de_contrato, ciudad, departamento, localizaci_n, codigo_de_categoria_principal,\n",
    "    tipodocproveedor, documento_proveedor, proveedor_adjudicado, tipo_de_identificaci_n_representante_legal,\n",
    "    identificaci_n_representante_legal, nombre_representante_legal, g_nero_representante_legal,\n",
    "    nacionalidad_representante_legal, es_grupo, es_pyme, fecha_de_firma, fecha_de_inicio_del_contrato, fecha_de_inicio_de_ejecucion, \n",
    "    fecha_de_fin_de_ejecucion, dias_adicionados, fecha_de_fin_del_contrato, fecha_fin_liquidacion, valor_del_contrato\n",
    "WHERE \n",
    "    fecha_de_firma >= '2000-01-01' \n",
    "AND \n",
    "    codigo_de_categoria_principal LIKE '\"\"\"\n",
    "\n",
    "Query4 = \"\"\"%' LIMIT 10000\"\"\""
   ]
  },
  {
   "cell_type": "code",
   "execution_count": 60,
   "id": "q0Bq8thU4SkD",
   "metadata": {
    "colab": {
     "base_uri": "https://localhost:8080/"
    },
    "executionInfo": {
     "elapsed": 40062,
     "status": "ok",
     "timestamp": 1660939012905,
     "user": {
      "displayName": "Luis Gustavo Maldonado Archila",
      "userId": "00154281364666914585"
     },
     "user_tz": 240
    },
    "id": "q0Bq8thU4SkD",
    "outputId": "efb09c72-4791-4787-aaee-ae15cf878bb6"
   },
   "outputs": [
    {
     "name": "stdout",
     "output_type": "stream",
     "text": [
      "Servicio de Vigilancia y Seguridad Privada\n",
      "Added:  V1.92101501 (455, 40)     total:  (455, 40)\n",
      "Added:  V1.9212 (2159, 40)     total:  (2614, 40)\n",
      "Added:  V1.921215 (1610, 40)     total:  (4224, 40)\n",
      "Added:  V1.921217 (393, 40)     total:  (4617, 40)\n",
      "Added:  V1.93121503 (0, 1)     total:  (4617, 40)\n",
      "Servicio de Asesoria, Consultoria e Investigacion\n",
      "Added:  V1.80111702 (40, 40)     total:  (4657, 40)\n",
      "Added:  V1.81141801 (51, 40)     total:  (4708, 40)\n",
      "Added:  V1.921216 (25, 40)     total:  (4733, 40)\n",
      "Servicio de Capacitacion y Entrenamiento en Vigilancia y Seguridad Privada\n",
      "Added:  V1.86101709 (125, 40)     total:  (4858, 40)\n",
      "Fabricacion, Importacion, Comercio, Arriendo e Instalación de Equipos para la Vigilancia y la Seguridad Privada\n",
      "Added:  V1.461516 (59, 40)     total:  (4917, 40)\n",
      "Added:  V1.461518 (7, 40)     total:  (4924, 40)\n",
      "Added:  V1.4617 (806, 40)     total:  (5730, 40)\n",
      "Added:  V1.461715 (121, 40)     total:  (5851, 40)\n",
      "Added:  V1.461716 (685, 40)     total:  (6536, 40)\n",
      "Added:  V1.721517 (170, 40)     total:  (6706, 40)\n",
      "Servicio de Transporte de Valores\n",
      "Added:  V1.78101503 (0, 1)     total:  (6706, 40)\n",
      "Added:  V1.78101705 (0, 1)     total:  (6706, 40)\n",
      "Added:  V1.921218 (131, 40)     total:  (6837, 40)\n",
      "Servicio de Fabricación y/o Arrendamiento de Vehículos Blindados\n",
      "Added:  V1.25101920 (6, 37)     total:  (6843, 40)\n",
      "Suministro de Armas\n",
      "Added:  V1.460000 (0, 1)     total:  (6843, 40)\n",
      "Added:  V1.4610 (92, 40)     total:  (6935, 40)\n",
      "Added:  V1.461015 (39, 40)     total:  (6974, 40)\n",
      "Added:  V1.461016 (26, 40)     total:  (7000, 40)\n",
      "Added:  V1.461017 (1, 37)     total:  (7001, 40)\n",
      "Added:  V1.461018 (26, 40)     total:  (7027, 40)\n",
      "CPU times: user 970 ms, sys: 50.9 ms, total: 1.02 s\n",
      "Wall time: 39.9 s\n"
     ]
    }
   ],
   "source": [
    "# Descargar todos los contratosde SECOP-II que nos interesan:\n",
    "%%time\n",
    "contratos_SII_df = pd.DataFrame()\n",
    "\n",
    "for tipo_servicio, lista in UNSPSC_codes_dict.items():\n",
    "    print (tipo_servicio)\n",
    "    for unspsc in lista:\n",
    "        Query = Query3 + unspsc + Query4\n",
    "        try:\n",
    "            Aux_json = client.get(socrata_dataset_identifier, content_type=\"json\", query=Query)\n",
    "            Aux_df = pd.DataFrame(pd.DataFrame.from_dict(Aux_json))\n",
    "            Aux_df['Tipo_servicio'] = tipo_servicio\n",
    "            contratos_SII_df = pd.concat([contratos_SII_df, Aux_df])   #ignore_index=True\n",
    "            print('Added: ', unspsc, Aux_df.shape, '    total: ', contratos_SII_df.shape)\n",
    "        except:\n",
    "            print(\"Fail:  \", unspsc)"
   ]
  },
  {
   "cell_type": "code",
   "execution_count": 61,
   "id": "vpyyczDB-9an",
   "metadata": {
    "colab": {
     "base_uri": "https://localhost:8080/"
    },
    "executionInfo": {
     "elapsed": 28,
     "status": "ok",
     "timestamp": 1660939012908,
     "user": {
      "displayName": "Luis Gustavo Maldonado Archila",
      "userId": "00154281364666914585"
     },
     "user_tz": 240
    },
    "id": "vpyyczDB-9an",
    "outputId": "d8739548-cbc8-4b43-afde-e6f97118e303"
   },
   "outputs": [
    {
     "data": {
      "text/plain": [
       "(4126, 40)"
      ]
     },
     "execution_count": 61,
     "metadata": {},
     "output_type": "execute_result"
    }
   ],
   "source": [
    "contratos_SII_df = contratos_SII_df.drop_duplicates(ignore_index=True)\n",
    "contratos_SII_df.shape"
   ]
  },
  {
   "cell_type": "code",
   "execution_count": 62,
   "id": "KRr8RUBpH6-N",
   "metadata": {
    "colab": {
     "base_uri": "https://localhost:8080/"
    },
    "executionInfo": {
     "elapsed": 25,
     "status": "ok",
     "timestamp": 1660939012910,
     "user": {
      "displayName": "Luis Gustavo Maldonado Archila",
      "userId": "00154281364666914585"
     },
     "user_tz": 240
    },
    "id": "KRr8RUBpH6-N",
    "outputId": "4fd13725-27e7-4729-d672-7229070f1569"
   },
   "outputs": [
    {
     "data": {
      "text/plain": [
       "(3970, 40)"
      ]
     },
     "execution_count": 62,
     "metadata": {},
     "output_type": "execute_result"
    }
   ],
   "source": [
    "contratos_SII_df.drop_duplicates(subset = ['proceso_de_compra', 'referencia_del_contrato', 'nit_entidad', 'documento_proveedor', 'identificaci_n_representante_legal', 'fecha_de_firma']).shape"
   ]
  },
  {
   "cell_type": "code",
   "execution_count": 63,
   "id": "Yr0vgLSjK607",
   "metadata": {
    "colab": {
     "base_uri": "https://localhost:8080/"
    },
    "executionInfo": {
     "elapsed": 397,
     "status": "ok",
     "timestamp": 1660939013289,
     "user": {
      "displayName": "Luis Gustavo Maldonado Archila",
      "userId": "00154281364666914585"
     },
     "user_tz": 240
    },
    "id": "Yr0vgLSjK607",
    "outputId": "42816ba1-11fb-46ae-d3ad-69c661b7c477"
   },
   "outputs": [
    {
     "data": {
      "text/plain": [
       "(3970, 40)"
      ]
     },
     "execution_count": 63,
     "metadata": {},
     "output_type": "execute_result"
    }
   ],
   "source": [
    "contratos_SII_df = contratos_SII_df.sort_values(by = 'valor_del_contrato', ascending = False)\n",
    "contratos_SII_df = contratos_SII_df.drop_duplicates(subset = ['proceso_de_compra', 'referencia_del_contrato', 'nit_entidad', 'documento_proveedor', 'identificaci_n_representante_legal', 'fecha_de_firma'], keep='first', ignore_index=True)\n",
    "contratos_SII_df.shape"
   ]
  },
  {
   "cell_type": "code",
   "execution_count": 64,
   "id": "P69LLOzaeYtw",
   "metadata": {
    "colab": {
     "base_uri": "https://localhost:8080/"
    },
    "executionInfo": {
     "elapsed": 24,
     "status": "ok",
     "timestamp": 1660939013290,
     "user": {
      "displayName": "Luis Gustavo Maldonado Archila",
      "userId": "00154281364666914585"
     },
     "user_tz": 240
    },
    "id": "P69LLOzaeYtw",
    "outputId": "75d21db7-e28a-4dd9-c7a5-76418fe7c20b"
   },
   "outputs": [
    {
     "data": {
      "text/plain": [
       "array(['Equipo de vigilancia y detección',\n",
       "       'Cerraduras elementos de seguridad y accesorios',\n",
       "       'Servicios de instalación de sistemas de seguridad física e industrial',\n",
       "       'Servicios de sistemas de seguridad', 'Servicios de guardias',\n",
       "       'Servicios de seguridad marina',\n",
       "       'Sistemas de manipulación de munición',\n",
       "       'Servicios de Carros blindados y transporte de valores',\n",
       "       'Armas de fuego', 'Servicios de detectives', 'Munición',\n",
       "       'Accesorios de armas y municiones',\n",
       "       'Equipo y accesorios y suministros de control de explosivos'],\n",
       "      dtype=object)"
      ]
     },
     "execution_count": 64,
     "metadata": {},
     "output_type": "execute_result"
    }
   ],
   "source": [
    "contratos_SI_df['nombre_clase'].unique()"
   ]
  },
  {
   "cell_type": "markdown",
   "id": "410b68f0",
   "metadata": {
    "id": "410b68f0"
   },
   "source": [
    "# Step 2: Consolidar SECOP_I y SECOP_II"
   ]
  },
  {
   "cell_type": "code",
   "execution_count": 65,
   "id": "FkwaHR81CKd4",
   "metadata": {
    "executionInfo": {
     "elapsed": 23,
     "status": "ok",
     "timestamp": 1660939013292,
     "user": {
      "displayName": "Luis Gustavo Maldonado Archila",
      "userId": "00154281364666914585"
     },
     "user_tz": 240
    },
    "id": "FkwaHR81CKd4"
   },
   "outputs": [],
   "source": [
    "SI_df = contratos_SI_df.copy()\n",
    "SII_df = contratos_SII_df.copy()"
   ]
  },
  {
   "cell_type": "markdown",
   "id": "RKolV0LodISS",
   "metadata": {
    "id": "RKolV0LodISS"
   },
   "source": [
    "### Eliminar Contratos que no sirven para este caso"
   ]
  },
  {
   "cell_type": "code",
   "execution_count": 66,
   "id": "CNjS3mD1aiVn",
   "metadata": {
    "executionInfo": {
     "elapsed": 21,
     "status": "ok",
     "timestamp": 1660939013293,
     "user": {
      "displayName": "Luis Gustavo Maldonado Archila",
      "userId": "00154281364666914585"
     },
     "user_tz": 240
    },
    "id": "CNjS3mD1aiVn"
   },
   "outputs": [],
   "source": [
    "#SII_df.reset_index(drop=True)"
   ]
  },
  {
   "cell_type": "code",
   "execution_count": 67,
   "id": "wgivrEgsVoIZ",
   "metadata": {
    "colab": {
     "base_uri": "https://localhost:8080/"
    },
    "executionInfo": {
     "elapsed": 20,
     "status": "ok",
     "timestamp": 1660939013293,
     "user": {
      "displayName": "Luis Gustavo Maldonado Archila",
      "userId": "00154281364666914585"
     },
     "user_tz": 240
    },
    "id": "wgivrEgsVoIZ",
    "outputId": "779f7daf-fd3e-463d-8971-0be27b7fb1f4"
   },
   "outputs": [
    {
     "data": {
      "text/plain": [
       "Series([], Name: detalle_del_objeto_a_contratar, dtype: object)"
      ]
     },
     "execution_count": 67,
     "metadata": {},
     "output_type": "execute_result"
    }
   ],
   "source": [
    "SI_df.drop(SI_df[SI_df['id_clase'].str.contains('721516')].index, inplace = True)\n",
    "SI_df[SI_df['id_clase'].str.contains('721516')]['detalle_del_objeto_a_contratar']"
   ]
  },
  {
   "cell_type": "code",
   "execution_count": 68,
   "id": "9Lhbip_4SVTT",
   "metadata": {
    "colab": {
     "base_uri": "https://localhost:8080/",
     "height": 113
    },
    "executionInfo": {
     "elapsed": 16,
     "status": "ok",
     "timestamp": 1660939013294,
     "user": {
      "displayName": "Luis Gustavo Maldonado Archila",
      "userId": "00154281364666914585"
     },
     "user_tz": 240
    },
    "id": "9Lhbip_4SVTT",
    "outputId": "1160e7df-7848-4c63-e69b-55aeb3faa657"
   },
   "outputs": [
    {
     "data": {
      "text/html": [
       "\n",
       "  <div id=\"df-2f01e290-78dd-4ad7-9e4f-8a7c2da636d1\">\n",
       "    <div class=\"colab-df-container\">\n",
       "      <div>\n",
       "<style scoped>\n",
       "    .dataframe tbody tr th:only-of-type {\n",
       "        vertical-align: middle;\n",
       "    }\n",
       "\n",
       "    .dataframe tbody tr th {\n",
       "        vertical-align: top;\n",
       "    }\n",
       "\n",
       "    .dataframe thead th {\n",
       "        text-align: right;\n",
       "    }\n",
       "</style>\n",
       "<table border=\"1\" class=\"dataframe\">\n",
       "  <thead>\n",
       "    <tr style=\"text-align: right;\">\n",
       "      <th></th>\n",
       "      <th>proceso_de_compra</th>\n",
       "      <th>id_contrato</th>\n",
       "      <th>referencia_del_contrato</th>\n",
       "      <th>anno_bpin</th>\n",
       "      <th>orden</th>\n",
       "      <th>entidad_centralizada</th>\n",
       "      <th>sector</th>\n",
       "      <th>rama</th>\n",
       "      <th>nombre_entidad</th>\n",
       "      <th>nit_entidad</th>\n",
       "      <th>codigo_entidad</th>\n",
       "      <th>modalidad_de_contratacion</th>\n",
       "      <th>estado_contrato</th>\n",
       "      <th>justificacion_modalidad_de</th>\n",
       "      <th>objeto_del_contrato</th>\n",
       "      <th>descripcion_del_proceso</th>\n",
       "      <th>tipo_de_contrato</th>\n",
       "      <th>ciudad</th>\n",
       "      <th>departamento</th>\n",
       "      <th>localizaci_n</th>\n",
       "      <th>codigo_de_categoria_principal</th>\n",
       "      <th>tipodocproveedor</th>\n",
       "      <th>documento_proveedor</th>\n",
       "      <th>proveedor_adjudicado</th>\n",
       "      <th>tipo_de_identificaci_n_representante_legal</th>\n",
       "      <th>identificaci_n_representante_legal</th>\n",
       "      <th>nombre_representante_legal</th>\n",
       "      <th>g_nero_representante_legal</th>\n",
       "      <th>nacionalidad_representante_legal</th>\n",
       "      <th>es_grupo</th>\n",
       "      <th>es_pyme</th>\n",
       "      <th>fecha_de_firma</th>\n",
       "      <th>fecha_de_inicio_del_contrato</th>\n",
       "      <th>fecha_de_inicio_de_ejecucion</th>\n",
       "      <th>fecha_de_fin_de_ejecucion</th>\n",
       "      <th>dias_adicionados</th>\n",
       "      <th>fecha_de_fin_del_contrato</th>\n",
       "      <th>fecha_fin_liquidacion</th>\n",
       "      <th>valor_del_contrato</th>\n",
       "      <th>Tipo_servicio</th>\n",
       "    </tr>\n",
       "  </thead>\n",
       "  <tbody>\n",
       "  </tbody>\n",
       "</table>\n",
       "</div>\n",
       "      <button class=\"colab-df-convert\" onclick=\"convertToInteractive('df-2f01e290-78dd-4ad7-9e4f-8a7c2da636d1')\"\n",
       "              title=\"Convert this dataframe to an interactive table.\"\n",
       "              style=\"display:none;\">\n",
       "        \n",
       "  <svg xmlns=\"http://www.w3.org/2000/svg\" height=\"24px\"viewBox=\"0 0 24 24\"\n",
       "       width=\"24px\">\n",
       "    <path d=\"M0 0h24v24H0V0z\" fill=\"none\"/>\n",
       "    <path d=\"M18.56 5.44l.94 2.06.94-2.06 2.06-.94-2.06-.94-.94-2.06-.94 2.06-2.06.94zm-11 1L8.5 8.5l.94-2.06 2.06-.94-2.06-.94L8.5 2.5l-.94 2.06-2.06.94zm10 10l.94 2.06.94-2.06 2.06-.94-2.06-.94-.94-2.06-.94 2.06-2.06.94z\"/><path d=\"M17.41 7.96l-1.37-1.37c-.4-.4-.92-.59-1.43-.59-.52 0-1.04.2-1.43.59L10.3 9.45l-7.72 7.72c-.78.78-.78 2.05 0 2.83L4 21.41c.39.39.9.59 1.41.59.51 0 1.02-.2 1.41-.59l7.78-7.78 2.81-2.81c.8-.78.8-2.07 0-2.86zM5.41 20L4 18.59l7.72-7.72 1.47 1.35L5.41 20z\"/>\n",
       "  </svg>\n",
       "      </button>\n",
       "      \n",
       "  <style>\n",
       "    .colab-df-container {\n",
       "      display:flex;\n",
       "      flex-wrap:wrap;\n",
       "      gap: 12px;\n",
       "    }\n",
       "\n",
       "    .colab-df-convert {\n",
       "      background-color: #E8F0FE;\n",
       "      border: none;\n",
       "      border-radius: 50%;\n",
       "      cursor: pointer;\n",
       "      display: none;\n",
       "      fill: #1967D2;\n",
       "      height: 32px;\n",
       "      padding: 0 0 0 0;\n",
       "      width: 32px;\n",
       "    }\n",
       "\n",
       "    .colab-df-convert:hover {\n",
       "      background-color: #E2EBFA;\n",
       "      box-shadow: 0px 1px 2px rgba(60, 64, 67, 0.3), 0px 1px 3px 1px rgba(60, 64, 67, 0.15);\n",
       "      fill: #174EA6;\n",
       "    }\n",
       "\n",
       "    [theme=dark] .colab-df-convert {\n",
       "      background-color: #3B4455;\n",
       "      fill: #D2E3FC;\n",
       "    }\n",
       "\n",
       "    [theme=dark] .colab-df-convert:hover {\n",
       "      background-color: #434B5C;\n",
       "      box-shadow: 0px 1px 3px 1px rgba(0, 0, 0, 0.15);\n",
       "      filter: drop-shadow(0px 1px 2px rgba(0, 0, 0, 0.3));\n",
       "      fill: #FFFFFF;\n",
       "    }\n",
       "  </style>\n",
       "\n",
       "      <script>\n",
       "        const buttonEl =\n",
       "          document.querySelector('#df-2f01e290-78dd-4ad7-9e4f-8a7c2da636d1 button.colab-df-convert');\n",
       "        buttonEl.style.display =\n",
       "          google.colab.kernel.accessAllowed ? 'block' : 'none';\n",
       "\n",
       "        async function convertToInteractive(key) {\n",
       "          const element = document.querySelector('#df-2f01e290-78dd-4ad7-9e4f-8a7c2da636d1');\n",
       "          const dataTable =\n",
       "            await google.colab.kernel.invokeFunction('convertToInteractive',\n",
       "                                                     [key], {});\n",
       "          if (!dataTable) return;\n",
       "\n",
       "          const docLinkHtml = 'Like what you see? Visit the ' +\n",
       "            '<a target=\"_blank\" href=https://colab.research.google.com/notebooks/data_table.ipynb>data table notebook</a>'\n",
       "            + ' to learn more about interactive tables.';\n",
       "          element.innerHTML = '';\n",
       "          dataTable['output_type'] = 'display_data';\n",
       "          await google.colab.output.renderOutput(dataTable, element);\n",
       "          const docLink = document.createElement('div');\n",
       "          docLink.innerHTML = docLinkHtml;\n",
       "          element.appendChild(docLink);\n",
       "        }\n",
       "      </script>\n",
       "    </div>\n",
       "  </div>\n",
       "  "
      ],
      "text/plain": [
       "Empty DataFrame\n",
       "Columns: [proceso_de_compra, id_contrato, referencia_del_contrato, anno_bpin, orden, entidad_centralizada, sector, rama, nombre_entidad, nit_entidad, codigo_entidad, modalidad_de_contratacion, estado_contrato, justificacion_modalidad_de, objeto_del_contrato, descripcion_del_proceso, tipo_de_contrato, ciudad, departamento, localizaci_n, codigo_de_categoria_principal, tipodocproveedor, documento_proveedor, proveedor_adjudicado, tipo_de_identificaci_n_representante_legal, identificaci_n_representante_legal, nombre_representante_legal, g_nero_representante_legal, nacionalidad_representante_legal, es_grupo, es_pyme, fecha_de_firma, fecha_de_inicio_del_contrato, fecha_de_inicio_de_ejecucion, fecha_de_fin_de_ejecucion, dias_adicionados, fecha_de_fin_del_contrato, fecha_fin_liquidacion, valor_del_contrato, Tipo_servicio]\n",
       "Index: []"
      ]
     },
     "execution_count": 68,
     "metadata": {},
     "output_type": "execute_result"
    }
   ],
   "source": [
    "SII_df.drop(SII_df[SII_df['codigo_de_categoria_principal'].str.contains('V1.721516')].index, inplace = True)\n",
    "SII_df[SII_df['codigo_de_categoria_principal'].str.contains('V1.721516')]"
   ]
  },
  {
   "cell_type": "code",
   "execution_count": 69,
   "id": "HxXUGyilTLLr",
   "metadata": {
    "colab": {
     "base_uri": "https://localhost:8080/"
    },
    "executionInfo": {
     "elapsed": 414,
     "status": "ok",
     "timestamp": 1660939013696,
     "user": {
      "displayName": "Luis Gustavo Maldonado Archila",
      "userId": "00154281364666914585"
     },
     "user_tz": 240
    },
    "id": "HxXUGyilTLLr",
    "outputId": "d0ce8048-ba4c-4f8a-b596-dea51e6a49fd"
   },
   "outputs": [
    {
     "data": {
      "text/plain": [
       "Series([], Name: detalle_del_objeto_a_contratar, dtype: object)"
      ]
     },
     "execution_count": 69,
     "metadata": {},
     "output_type": "execute_result"
    }
   ],
   "source": [
    "SI_df.drop(SI_df[SI_df['id_clase'].str.contains('841220')].index, inplace = True)\n",
    "SI_df[SI_df['id_clase'].str.contains('841220')]['detalle_del_objeto_a_contratar']"
   ]
  },
  {
   "cell_type": "code",
   "execution_count": 70,
   "id": "bO0s2o5WT7kO",
   "metadata": {
    "colab": {
     "base_uri": "https://localhost:8080/"
    },
    "executionInfo": {
     "elapsed": 48,
     "status": "ok",
     "timestamp": 1660939013697,
     "user": {
      "displayName": "Luis Gustavo Maldonado Archila",
      "userId": "00154281364666914585"
     },
     "user_tz": 240
    },
    "id": "bO0s2o5WT7kO",
    "outputId": "d5d6abe4-1aef-4373-a24f-cabe3c8bc86a"
   },
   "outputs": [
    {
     "data": {
      "text/plain": [
       "Series([], Name: descripcion_del_proceso, dtype: object)"
      ]
     },
     "execution_count": 70,
     "metadata": {},
     "output_type": "execute_result"
    }
   ],
   "source": [
    "SII_df.drop(SII_df[SII_df['codigo_de_categoria_principal'].str.contains('V1.841220')].index, inplace = True)\n",
    "SII_df[SII_df['codigo_de_categoria_principal'].str.contains('V1.841220')]['descripcion_del_proceso']"
   ]
  },
  {
   "cell_type": "code",
   "execution_count": 71,
   "id": "ayJu5BACpM3Y",
   "metadata": {
    "colab": {
     "base_uri": "https://localhost:8080/",
     "height": 113
    },
    "executionInfo": {
     "elapsed": 40,
     "status": "ok",
     "timestamp": 1660939013698,
     "user": {
      "displayName": "Luis Gustavo Maldonado Archila",
      "userId": "00154281364666914585"
     },
     "user_tz": 240
    },
    "id": "ayJu5BACpM3Y",
    "outputId": "8aabcef1-3e3f-4698-c775-7174ca1830b4"
   },
   "outputs": [
    {
     "data": {
      "text/html": [
       "\n",
       "  <div id=\"df-c3a59d5b-0264-48cd-b28b-5506e25fb2f8\">\n",
       "    <div class=\"colab-df-container\">\n",
       "      <div>\n",
       "<style scoped>\n",
       "    .dataframe tbody tr th:only-of-type {\n",
       "        vertical-align: middle;\n",
       "    }\n",
       "\n",
       "    .dataframe tbody tr th {\n",
       "        vertical-align: top;\n",
       "    }\n",
       "\n",
       "    .dataframe thead th {\n",
       "        text-align: right;\n",
       "    }\n",
       "</style>\n",
       "<table border=\"1\" class=\"dataframe\">\n",
       "  <thead>\n",
       "    <tr style=\"text-align: right;\">\n",
       "      <th></th>\n",
       "      <th>proceso_de_compra</th>\n",
       "      <th>id_contrato</th>\n",
       "      <th>referencia_del_contrato</th>\n",
       "      <th>anno_bpin</th>\n",
       "      <th>orden</th>\n",
       "      <th>entidad_centralizada</th>\n",
       "      <th>sector</th>\n",
       "      <th>rama</th>\n",
       "      <th>nombre_entidad</th>\n",
       "      <th>nit_entidad</th>\n",
       "      <th>codigo_entidad</th>\n",
       "      <th>modalidad_de_contratacion</th>\n",
       "      <th>estado_contrato</th>\n",
       "      <th>justificacion_modalidad_de</th>\n",
       "      <th>objeto_del_contrato</th>\n",
       "      <th>descripcion_del_proceso</th>\n",
       "      <th>tipo_de_contrato</th>\n",
       "      <th>ciudad</th>\n",
       "      <th>departamento</th>\n",
       "      <th>localizaci_n</th>\n",
       "      <th>codigo_de_categoria_principal</th>\n",
       "      <th>tipodocproveedor</th>\n",
       "      <th>documento_proveedor</th>\n",
       "      <th>proveedor_adjudicado</th>\n",
       "      <th>tipo_de_identificaci_n_representante_legal</th>\n",
       "      <th>identificaci_n_representante_legal</th>\n",
       "      <th>nombre_representante_legal</th>\n",
       "      <th>g_nero_representante_legal</th>\n",
       "      <th>nacionalidad_representante_legal</th>\n",
       "      <th>es_grupo</th>\n",
       "      <th>es_pyme</th>\n",
       "      <th>fecha_de_firma</th>\n",
       "      <th>fecha_de_inicio_del_contrato</th>\n",
       "      <th>fecha_de_inicio_de_ejecucion</th>\n",
       "      <th>fecha_de_fin_de_ejecucion</th>\n",
       "      <th>dias_adicionados</th>\n",
       "      <th>fecha_de_fin_del_contrato</th>\n",
       "      <th>fecha_fin_liquidacion</th>\n",
       "      <th>valor_del_contrato</th>\n",
       "      <th>Tipo_servicio</th>\n",
       "    </tr>\n",
       "  </thead>\n",
       "  <tbody>\n",
       "  </tbody>\n",
       "</table>\n",
       "</div>\n",
       "      <button class=\"colab-df-convert\" onclick=\"convertToInteractive('df-c3a59d5b-0264-48cd-b28b-5506e25fb2f8')\"\n",
       "              title=\"Convert this dataframe to an interactive table.\"\n",
       "              style=\"display:none;\">\n",
       "        \n",
       "  <svg xmlns=\"http://www.w3.org/2000/svg\" height=\"24px\"viewBox=\"0 0 24 24\"\n",
       "       width=\"24px\">\n",
       "    <path d=\"M0 0h24v24H0V0z\" fill=\"none\"/>\n",
       "    <path d=\"M18.56 5.44l.94 2.06.94-2.06 2.06-.94-2.06-.94-.94-2.06-.94 2.06-2.06.94zm-11 1L8.5 8.5l.94-2.06 2.06-.94-2.06-.94L8.5 2.5l-.94 2.06-2.06.94zm10 10l.94 2.06.94-2.06 2.06-.94-2.06-.94-.94-2.06-.94 2.06-2.06.94z\"/><path d=\"M17.41 7.96l-1.37-1.37c-.4-.4-.92-.59-1.43-.59-.52 0-1.04.2-1.43.59L10.3 9.45l-7.72 7.72c-.78.78-.78 2.05 0 2.83L4 21.41c.39.39.9.59 1.41.59.51 0 1.02-.2 1.41-.59l7.78-7.78 2.81-2.81c.8-.78.8-2.07 0-2.86zM5.41 20L4 18.59l7.72-7.72 1.47 1.35L5.41 20z\"/>\n",
       "  </svg>\n",
       "      </button>\n",
       "      \n",
       "  <style>\n",
       "    .colab-df-container {\n",
       "      display:flex;\n",
       "      flex-wrap:wrap;\n",
       "      gap: 12px;\n",
       "    }\n",
       "\n",
       "    .colab-df-convert {\n",
       "      background-color: #E8F0FE;\n",
       "      border: none;\n",
       "      border-radius: 50%;\n",
       "      cursor: pointer;\n",
       "      display: none;\n",
       "      fill: #1967D2;\n",
       "      height: 32px;\n",
       "      padding: 0 0 0 0;\n",
       "      width: 32px;\n",
       "    }\n",
       "\n",
       "    .colab-df-convert:hover {\n",
       "      background-color: #E2EBFA;\n",
       "      box-shadow: 0px 1px 2px rgba(60, 64, 67, 0.3), 0px 1px 3px 1px rgba(60, 64, 67, 0.15);\n",
       "      fill: #174EA6;\n",
       "    }\n",
       "\n",
       "    [theme=dark] .colab-df-convert {\n",
       "      background-color: #3B4455;\n",
       "      fill: #D2E3FC;\n",
       "    }\n",
       "\n",
       "    [theme=dark] .colab-df-convert:hover {\n",
       "      background-color: #434B5C;\n",
       "      box-shadow: 0px 1px 3px 1px rgba(0, 0, 0, 0.15);\n",
       "      filter: drop-shadow(0px 1px 2px rgba(0, 0, 0, 0.3));\n",
       "      fill: #FFFFFF;\n",
       "    }\n",
       "  </style>\n",
       "\n",
       "      <script>\n",
       "        const buttonEl =\n",
       "          document.querySelector('#df-c3a59d5b-0264-48cd-b28b-5506e25fb2f8 button.colab-df-convert');\n",
       "        buttonEl.style.display =\n",
       "          google.colab.kernel.accessAllowed ? 'block' : 'none';\n",
       "\n",
       "        async function convertToInteractive(key) {\n",
       "          const element = document.querySelector('#df-c3a59d5b-0264-48cd-b28b-5506e25fb2f8');\n",
       "          const dataTable =\n",
       "            await google.colab.kernel.invokeFunction('convertToInteractive',\n",
       "                                                     [key], {});\n",
       "          if (!dataTable) return;\n",
       "\n",
       "          const docLinkHtml = 'Like what you see? Visit the ' +\n",
       "            '<a target=\"_blank\" href=https://colab.research.google.com/notebooks/data_table.ipynb>data table notebook</a>'\n",
       "            + ' to learn more about interactive tables.';\n",
       "          element.innerHTML = '';\n",
       "          dataTable['output_type'] = 'display_data';\n",
       "          await google.colab.output.renderOutput(dataTable, element);\n",
       "          const docLink = document.createElement('div');\n",
       "          docLink.innerHTML = docLinkHtml;\n",
       "          element.appendChild(docLink);\n",
       "        }\n",
       "      </script>\n",
       "    </div>\n",
       "  </div>\n",
       "  "
      ],
      "text/plain": [
       "Empty DataFrame\n",
       "Columns: [proceso_de_compra, id_contrato, referencia_del_contrato, anno_bpin, orden, entidad_centralizada, sector, rama, nombre_entidad, nit_entidad, codigo_entidad, modalidad_de_contratacion, estado_contrato, justificacion_modalidad_de, objeto_del_contrato, descripcion_del_proceso, tipo_de_contrato, ciudad, departamento, localizaci_n, codigo_de_categoria_principal, tipodocproveedor, documento_proveedor, proveedor_adjudicado, tipo_de_identificaci_n_representante_legal, identificaci_n_representante_legal, nombre_representante_legal, g_nero_representante_legal, nacionalidad_representante_legal, es_grupo, es_pyme, fecha_de_firma, fecha_de_inicio_del_contrato, fecha_de_inicio_de_ejecucion, fecha_de_fin_de_ejecucion, dias_adicionados, fecha_de_fin_del_contrato, fecha_fin_liquidacion, valor_del_contrato, Tipo_servicio]\n",
       "Index: []"
      ]
     },
     "execution_count": 71,
     "metadata": {},
     "output_type": "execute_result"
    }
   ],
   "source": [
    "SII_df[SII_df['codigo_de_categoria_principal']=='V1.921215']"
   ]
  },
  {
   "cell_type": "code",
   "execution_count": 72,
   "id": "v71VZZk1prPh",
   "metadata": {
    "colab": {
     "base_uri": "https://localhost:8080/"
    },
    "executionInfo": {
     "elapsed": 37,
     "status": "ok",
     "timestamp": 1660939013698,
     "user": {
      "displayName": "Luis Gustavo Maldonado Archila",
      "userId": "00154281364666914585"
     },
     "user_tz": 240
    },
    "id": "v71VZZk1prPh",
    "outputId": "724a39f0-89b4-4ca1-89e1-fa8c93a97051"
   },
   "outputs": [
    {
     "data": {
      "text/plain": [
       "922     Aunar esfuerzos humanos técnicos logísticos y ...\n",
       "2815    Aunar esfuerzos humanos técnicos logísticos y ...\n",
       "Name: objeto_del_contrato, dtype: object"
      ]
     },
     "execution_count": 72,
     "metadata": {},
     "output_type": "execute_result"
    }
   ],
   "source": [
    "SII_df[SII_df['sector']=='Inteligencia Estratégica y Contrainteligencia'][ 'objeto_del_contrato']"
   ]
  },
  {
   "cell_type": "markdown",
   "id": "Gl5SPeMvYPUI",
   "metadata": {
    "id": "Gl5SPeMvYPUI"
   },
   "source": [
    "## Ajustar Nombre, Formato y Consistencia de variables"
   ]
  },
  {
   "cell_type": "code",
   "execution_count": 73,
   "id": "B4e-NYZmWvvN",
   "metadata": {
    "executionInfo": {
     "elapsed": 33,
     "status": "ok",
     "timestamp": 1660939013699,
     "user": {
      "displayName": "Luis Gustavo Maldonado Archila",
      "userId": "00154281364666914585"
     },
     "user_tz": 240
    },
    "id": "B4e-NYZmWvvN"
   },
   "outputs": [],
   "source": [
    "SII_df.rename(columns = {\n",
    "    'anno_bpin' : 'anno_cargue_secop',\n",
    "    'ciudad' : 'municipio_entidad',\n",
    "    'departamento' : 'departamento_entidad',\n",
    "    'tipodocproveedor' : 'tipo_doc_contratista',\n",
    "    'documento_proveedor' : 'identificacion_contratista',\n",
    "    'proveedor_adjudicado' : 'nom_razon_social_contratista',\n",
    "    'tipo_de_identificaci_n_representante_legal' : 'tipo_doc_representante_legal',\n",
    "    'identificaci_n_representante_legal' : 'identificacion_representante_legal',\n",
    "    'fecha_de_firma' : 'fecha_de_firma_del_contrato',\n",
    "    'dias_adicionados' : 'tiempo_adiciones_en_dias',\n",
    "    'g_nero_representante_legal' : 'genero_representante_legal'\n",
    "    }, inplace = True)"
   ]
  },
  {
   "cell_type": "code",
   "execution_count": 74,
   "id": "06rL5lpTWv6j",
   "metadata": {
    "executionInfo": {
     "elapsed": 33,
     "status": "ok",
     "timestamp": 1660939013701,
     "user": {
      "displayName": "Luis Gustavo Maldonado Archila",
      "userId": "00154281364666914585"
     },
     "user_tz": 240
    },
    "id": "06rL5lpTWv6j"
   },
   "outputs": [],
   "source": [
    "SI_df.rename(columns = {\n",
    "    'nivel_entidad' : 'orden',\n",
    "    'orden_entidad' : 'entidad_centralizada',\n",
    "    'nit_de_la_entidad' : 'nit_entidad',\n",
    "    'c_digo_de_la_entidad' : 'codigo_entidad',\n",
    "    'estado_del_proceso' : 'estado_contrato',\n",
    "    'objeto_a_contratar' : 'justificacion_modalidad_de',\n",
    "    'objeto_del_contrato_a_la' : 'objeto_del_contrato',\n",
    "    'detalle_del_objeto_a_contratar' : 'descripcion_del_proceso',\n",
    "    'tipo_identifi_del_contratista' : 'tipo_doc_contratista',\n",
    "    'identificacion_del_contratista' : 'identificacion_contratista',\n",
    "    'identific_representante_legal' : 'identificacion_representante_legal',\n",
    "    'nombre_del_represen_legal' : 'nombre_representante_legal',\n",
    "    'sexo_replegal' : 'genero_representante_legal',\n",
    "    'fecha_ini_ejec_contrato' : 'fecha_de_inicio_del_contrato',\n",
    "    'fecha_fin_ejec_contrato' : 'fecha_de_fin_del_contrato',\n",
    "    'cuantia_contrato' : 'valor_del_contrato',\n",
    "    }, inplace = True)"
   ]
  },
  {
   "cell_type": "markdown",
   "id": "50ae81bd",
   "metadata": {
    "id": "50ae81bd"
   },
   "source": [
    "### Variable orden entidad y otros descriptores"
   ]
  },
  {
   "cell_type": "code",
   "execution_count": 75,
   "id": "61ab72ba",
   "metadata": {
    "executionInfo": {
     "elapsed": 33,
     "status": "ok",
     "timestamp": 1660939013703,
     "user": {
      "displayName": "Luis Gustavo Maldonado Archila",
      "userId": "00154281364666914585"
     },
     "user_tz": 240
    },
    "id": "61ab72ba"
   },
   "outputs": [],
   "source": [
    "SI_df['orden'] = SI_df['orden'].replace(['NACIONAL','TERRITORIAL'],['Nacional','Territorial'])"
   ]
  },
  {
   "cell_type": "code",
   "execution_count": 76,
   "id": "Btz1bdkLpRcY",
   "metadata": {
    "colab": {
     "base_uri": "https://localhost:8080/"
    },
    "executionInfo": {
     "elapsed": 33,
     "status": "ok",
     "timestamp": 1660939013705,
     "user": {
      "displayName": "Luis Gustavo Maldonado Archila",
      "userId": "00154281364666914585"
     },
     "user_tz": 240
    },
    "id": "Btz1bdkLpRcY",
    "outputId": "8498ba76-bb24-4fa4-9e24-198a76ddfbc5"
   },
   "outputs": [
    {
     "data": {
      "text/plain": [
       "array(['Territorial', 'Nacional', 'No Definido'], dtype=object)"
      ]
     },
     "execution_count": 76,
     "metadata": {},
     "output_type": "execute_result"
    }
   ],
   "source": [
    "SI_df['orden'].unique()"
   ]
  },
  {
   "cell_type": "code",
   "execution_count": 77,
   "id": "9_TSBiryrnSK",
   "metadata": {
    "executionInfo": {
     "elapsed": 27,
     "status": "ok",
     "timestamp": 1660939013707,
     "user": {
      "displayName": "Luis Gustavo Maldonado Archila",
      "userId": "00154281364666914585"
     },
     "user_tz": 240
    },
    "id": "9_TSBiryrnSK"
   },
   "outputs": [],
   "source": [
    "SI_df.loc[SI_df['entidad_centralizada'].str.contains('TERRITORIAL '),'entidad_centralizada'] = SI_df['entidad_centralizada'].str[12:]\n",
    "SI_df.loc[SI_df['entidad_centralizada'].str.contains('NACIONAL '),'entidad_centralizada'] = SI_df['entidad_centralizada'].str[9:]"
   ]
  },
  {
   "cell_type": "code",
   "execution_count": 78,
   "id": "JQ3nwvWgwMdO",
   "metadata": {
    "executionInfo": {
     "elapsed": 27,
     "status": "ok",
     "timestamp": 1660939013708,
     "user": {
      "displayName": "Luis Gustavo Maldonado Archila",
      "userId": "00154281364666914585"
     },
     "user_tz": 240
    },
    "id": "JQ3nwvWgwMdO"
   },
   "outputs": [],
   "source": [
    "SI_df.loc[SI_df['modalidad_de_contratacion']=='Régimen Especial' ,'modalidad_de_contratacion'] = 'Contratación régimen especial'\n",
    "SI_df.loc[SI_df['modalidad_de_contratacion']=='Licitación obra pública' ,'modalidad_de_contratacion'] = 'Licitación Obra pública'\n",
    "SII_df.loc[SII_df['modalidad_de_contratacion']=='Licitación pública Obra Publica' ,'modalidad_de_contratacion'] = 'Licitación Obra pública'\n",
    "SII_df.loc[SII_df['modalidad_de_contratacion']=='Licitación pública' ,'modalidad_de_contratacion'] = 'Licitación Pública'\n",
    "SII_df.loc[SII_df['modalidad_de_contratacion']=='Contratación directa' ,'modalidad_de_contratacion'] = 'Contratación Directa (Ley 1150 de 2007)'\n",
    "SII_df.loc[SII_df['modalidad_de_contratacion']=='Concurso de méritos abierto' ,'modalidad_de_contratacion'] = 'Concurso de Méritos Abierto'\n",
    "SII_df.loc[SII_df['modalidad_de_contratacion']=='Selección Abreviada de Menor Cuantía' ,'modalidad_de_contratacion'] = 'Selección Abreviada de Menor Cuantía (Ley 1150 de 2007)'"
   ]
  },
  {
   "cell_type": "code",
   "execution_count": 79,
   "id": "sBY9kqbQ0oXh",
   "metadata": {
    "executionInfo": {
     "elapsed": 29,
     "status": "ok",
     "timestamp": 1660939013711,
     "user": {
      "displayName": "Luis Gustavo Maldonado Archila",
      "userId": "00154281364666914585"
     },
     "user_tz": 240
    },
    "id": "sBY9kqbQ0oXh"
   },
   "outputs": [],
   "source": [
    "SI_df.loc[SI_df['tipo_de_contrato']=='Suministro' ,'tipo_de_contrato'] = 'Suministros'\n",
    "SII_df.loc[SII_df['tipo_de_contrato']=='Prestación de servicios' ,'tipo_de_contrato'] = 'Prestación de Servicios'"
   ]
  },
  {
   "cell_type": "code",
   "execution_count": 80,
   "id": "30rzRBwe1NYy",
   "metadata": {
    "executionInfo": {
     "elapsed": 444,
     "status": "ok",
     "timestamp": 1660939014127,
     "user": {
      "displayName": "Luis Gustavo Maldonado Archila",
      "userId": "00154281364666914585"
     },
     "user_tz": 240
    },
    "id": "30rzRBwe1NYy"
   },
   "outputs": [],
   "source": [
    "SII_df.loc[SII_df['departamento_entidad']=='Distrito Capital de Bogotá' ,'departamento_entidad'] = 'Bogotá D.C.'"
   ]
  },
  {
   "cell_type": "code",
   "execution_count": 81,
   "id": "V4xzb5iu3AC9",
   "metadata": {
    "executionInfo": {
     "elapsed": 87,
     "status": "ok",
     "timestamp": 1660939014128,
     "user": {
      "displayName": "Luis Gustavo Maldonado Archila",
      "userId": "00154281364666914585"
     },
     "user_tz": 240
    },
    "id": "V4xzb5iu3AC9"
   },
   "outputs": [],
   "source": [
    "SI_df['genero_representante_legal'] = SI_df['genero_representante_legal'].replace(['N','2', '1', '3'],['No Definido','Hombre', 'Mujer', 'Otro'])"
   ]
  },
  {
   "cell_type": "code",
   "execution_count": 82,
   "id": "kSzMk-Na56cN",
   "metadata": {
    "executionInfo": {
     "elapsed": 87,
     "status": "ok",
     "timestamp": 1660939014129,
     "user": {
      "displayName": "Luis Gustavo Maldonado Archila",
      "userId": "00154281364666914585"
     },
     "user_tz": 240
    },
    "id": "kSzMk-Na56cN"
   },
   "outputs": [],
   "source": [
    "SII_df['nacionalidad_representante_legal'] = SII_df['nacionalidad_representante_legal'].str.lower()\n",
    "SII_df.loc[SII_df['nacionalidad_representante_legal'].str.contains('olombia'),'nacionalidad_representante_legal'] = 'colombiana'\n",
    "SII_df.loc[SII_df['nacionalidad_representante_legal'].str.contains('col|pasca|bogota|cucuta|barranquilla'),'nacionalidad_representante_legal'] = 'colombiana'\n",
    "SII_df.loc[SII_df['nacionalidad_representante_legal'].str.contains('estado|america'),'nacionalidad_representante_legal'] = 'estadounidense'"
   ]
  },
  {
   "cell_type": "markdown",
   "id": "75e27f14",
   "metadata": {
    "id": "75e27f14"
   },
   "source": [
    "### Variable UNSPSC"
   ]
  },
  {
   "cell_type": "code",
   "execution_count": 83,
   "id": "rd_4QXwDfmHW",
   "metadata": {
    "colab": {
     "base_uri": "https://localhost:8080/",
     "height": 35
    },
    "executionInfo": {
     "elapsed": 87,
     "status": "ok",
     "timestamp": 1660939014130,
     "user": {
      "displayName": "Luis Gustavo Maldonado Archila",
      "userId": "00154281364666914585"
     },
     "user_tz": 240
    },
    "id": "rd_4QXwDfmHW",
    "outputId": "b114152b-fd63-406e-be9e-6d6424eb74be"
   },
   "outputs": [
    {
     "data": {
      "application/vnd.google.colaboratory.intrinsic+json": {
       "type": "string"
      },
      "text/plain": [
       "'Servicio de botes de seguridad'"
      ]
     },
     "execution_count": 83,
     "metadata": {},
     "output_type": "execute_result"
    }
   ],
   "source": [
    "#UNSPSC_codes.loc['V1.92101501', 'Descripcion']\n",
    "UNSPSC_codes_dict2 = UNSPSC_codes.to_dict()\n",
    "#UNSPSC_codes_dict2\n",
    "UNSPSC_codes_dict2['Descripcion']['V1.92121901']"
   ]
  },
  {
   "cell_type": "code",
   "execution_count": 84,
   "id": "LGx5yNSgAx0H",
   "metadata": {
    "colab": {
     "base_uri": "https://localhost:8080/"
    },
    "executionInfo": {
     "elapsed": 86,
     "status": "ok",
     "timestamp": 1660939014131,
     "user": {
      "displayName": "Luis Gustavo Maldonado Archila",
      "userId": "00154281364666914585"
     },
     "user_tz": 240
    },
    "id": "LGx5yNSgAx0H",
    "outputId": "171fa916-109a-47b3-b46b-00b845423de2"
   },
   "outputs": [
    {
     "data": {
      "text/plain": [
       "array(['V1.46171600', 'V1.46171500', 'V1.72151700', 'V1.92121700',\n",
       "       'V1.92121500', 'V1.92121900', 'V1.46101700', 'V1.92121800',\n",
       "       'V1.46101500', 'V1.92121600', 'V1.46101600', 'V1.46101800',\n",
       "       'V1.46151800'], dtype=object)"
      ]
     },
     "execution_count": 84,
     "metadata": {},
     "output_type": "execute_result"
    }
   ],
   "source": [
    "#pd.Series('V1.'+SI_df['id_clase'].add('00')) #.add_prefix('V1.') # doesnt work,  only modifies the index\n",
    "#UNSPSC_codes.loc[UNSPSC_codes['UNSPSC'] == 'V1.' + '921200' + '00', 'Descripcion'] #it doesnt work without assigning first\n",
    "#series1  = SI_df['codigo_de_categoria_principal'].map(lambda x: UNSPSC_codes.loc[x]) #No funciona, devuelve todas las filas de UNSPSC_codes\n",
    "#series1 = [col[3:] for col in UNSPSC_servicios_codes]  #this is a list (iterable)\n",
    "\n",
    "SI_df['codigo_de_categoria_principal'] = 'V1.' + SI_df['id_clase'] + '00'\n",
    "SI_df['codigo_de_categoria_principal'].unique()"
   ]
  },
  {
   "cell_type": "code",
   "execution_count": 85,
   "id": "n5x7OaZCedBN",
   "metadata": {
    "colab": {
     "base_uri": "https://localhost:8080/"
    },
    "executionInfo": {
     "elapsed": 81,
     "status": "ok",
     "timestamp": 1660939014132,
     "user": {
      "displayName": "Luis Gustavo Maldonado Archila",
      "userId": "00154281364666914585"
     },
     "user_tz": 240
    },
    "id": "n5x7OaZCedBN",
    "outputId": "f7bfb286-bc39-47df-f47a-ff7f279ca002"
   },
   "outputs": [
    {
     "data": {
      "text/plain": [
       "array(['921217', '461716', '461018', '921015', '721517', '921215',\n",
       "       '461715', '461015', '861017', '921218', '461016', '921216',\n",
       "       '461516', '811418', '801117', '251019', '461518', '461017'],\n",
       "      dtype=object)"
      ]
     },
     "execution_count": 85,
     "metadata": {},
     "output_type": "execute_result"
    }
   ],
   "source": [
    "SII_df['id_clase'] = SII_df['codigo_de_categoria_principal'].str[3:-2]    #= SII_DF['codigo_de_categoria_principal'].str[-8:]\n",
    "SII_df['nombre_clase'] = SII_df['codigo_de_categoria_principal'].map(lambda x: UNSPSC_codes_dict2['Descripcion'][x])     \n",
    "SII_df['id_clase'].unique()"
   ]
  },
  {
   "cell_type": "code",
   "execution_count": 86,
   "id": "HQxyMQpJASCW",
   "metadata": {
    "colab": {
     "base_uri": "https://localhost:8080/"
    },
    "executionInfo": {
     "elapsed": 75,
     "status": "ok",
     "timestamp": 1660939014133,
     "user": {
      "displayName": "Luis Gustavo Maldonado Archila",
      "userId": "00154281364666914585"
     },
     "user_tz": 240
    },
    "id": "HQxyMQpJASCW",
    "outputId": "ac0c8989-b6f3-4d1c-c372-9e9d52a2aeed"
   },
   "outputs": [
    {
     "data": {
      "text/plain": [
       "array(['461716', '461715', '721517', '921217', '921215', '921219',\n",
       "       '461017', '921218', '461015', '921216', '461016', '461018',\n",
       "       '461518'], dtype=object)"
      ]
     },
     "execution_count": 86,
     "metadata": {},
     "output_type": "execute_result"
    }
   ],
   "source": [
    "SI_df['id_clase'].unique()"
   ]
  },
  {
   "cell_type": "code",
   "execution_count": 87,
   "id": "OYyh6KaxHIa2",
   "metadata": {
    "colab": {
     "base_uri": "https://localhost:8080/"
    },
    "executionInfo": {
     "elapsed": 71,
     "status": "ok",
     "timestamp": 1660939014134,
     "user": {
      "displayName": "Luis Gustavo Maldonado Archila",
      "userId": "00154281364666914585"
     },
     "user_tz": 240
    },
    "id": "OYyh6KaxHIa2",
    "outputId": "e421c5c8-4746-44d7-d960-c56551e29db9"
   },
   "outputs": [
    {
     "data": {
      "text/plain": [
       "array(['921217', '461716', '461018', '921015', '721517', '921215',\n",
       "       '461715', '461015', '861017', '921218', '461016', '921216',\n",
       "       '461516', '811418', '801117', '251019', '461518', '461017'],\n",
       "      dtype=object)"
      ]
     },
     "execution_count": 87,
     "metadata": {},
     "output_type": "execute_result"
    }
   ],
   "source": [
    "SII_df['id_clase'].unique()"
   ]
  },
  {
   "cell_type": "code",
   "execution_count": 88,
   "id": "tge4dkC7AN73",
   "metadata": {
    "colab": {
     "base_uri": "https://localhost:8080/"
    },
    "executionInfo": {
     "elapsed": 66,
     "status": "ok",
     "timestamp": 1660939014135,
     "user": {
      "displayName": "Luis Gustavo Maldonado Archila",
      "userId": "00154281364666914585"
     },
     "user_tz": 240
    },
    "id": "tge4dkC7AN73",
    "outputId": "4fbce850-97e9-4abf-98b8-42b95b445000"
   },
   "outputs": [
    {
     "data": {
      "text/plain": [
       "array(['V1.92121704', 'V1.46171625', 'V1.46101800', 'V1.46171610',\n",
       "       'V1.46171604', 'V1.92101501', 'V1.46171619', 'V1.92121700',\n",
       "       'V1.72151704', 'V1.92121504', 'V1.92121500', 'V1.46171511',\n",
       "       'V1.46171602', 'V1.72151700', 'V1.46101505', 'V1.46171501',\n",
       "       'V1.46171600', 'V1.86101709', 'V1.92121701', 'V1.46171622',\n",
       "       'V1.46171621', 'V1.46171506', 'V1.92121800', 'V1.72151702',\n",
       "       'V1.72151701', 'V1.46171509', 'V1.46101600', 'V1.92121502',\n",
       "       'V1.92121604', 'V1.92121801', 'V1.92121600', 'V1.46151600',\n",
       "       'V1.46171633', 'V1.46101500', 'V1.81141801', 'V1.46101503',\n",
       "       'V1.46171624', 'V1.46151608', 'V1.46101501', 'V1.92121702',\n",
       "       'V1.92121601', 'V1.46171507', 'V1.80111702', 'V1.46101601',\n",
       "       'V1.46171514', 'V1.46171612', 'V1.72151703', 'V1.46171637',\n",
       "       'V1.25101920', 'V1.46151800', 'V1.46171606', 'V1.46151604',\n",
       "       'V1.46171500', 'V1.92121503', 'V1.46101802', 'V1.46171636',\n",
       "       'V1.46171616', 'V1.46101801', 'V1.46171626', 'V1.46171640',\n",
       "       'V1.46101504', 'V1.46171609', 'V1.46151609', 'V1.46171611',\n",
       "       'V1.46171613', 'V1.46171505', 'V1.46151605', 'V1.46171522',\n",
       "       'V1.46151606', 'V1.46171508', 'V1.46171620', 'V1.92121603',\n",
       "       'V1.46101700', 'V1.46171608', 'V1.46151601', 'V1.46171627'],\n",
       "      dtype=object)"
      ]
     },
     "execution_count": 88,
     "metadata": {},
     "output_type": "execute_result"
    }
   ],
   "source": [
    "SII_df['codigo_de_categoria_principal'].unique()"
   ]
  },
  {
   "cell_type": "markdown",
   "id": "3T3Xr2GsLVc5",
   "metadata": {
    "id": "3T3Xr2GsLVc5"
   },
   "source": [
    "### Variable mes y año"
   ]
  },
  {
   "cell_type": "code",
   "execution_count": 89,
   "id": "-QMfiZ_EJHM5",
   "metadata": {
    "colab": {
     "base_uri": "https://localhost:8080/"
    },
    "executionInfo": {
     "elapsed": 62,
     "status": "ok",
     "timestamp": 1660939014136,
     "user": {
      "displayName": "Luis Gustavo Maldonado Archila",
      "userId": "00154281364666914585"
     },
     "user_tz": 240
    },
    "id": "-QMfiZ_EJHM5",
    "outputId": "5b9858f8-b2e5-45bc-fe82-f0406accade4"
   },
   "outputs": [
    {
     "data": {
      "text/plain": [
       "array(['2019', '2021', '2018', '2022', '2017', '2015', '2016', '2020',\n",
       "       '2014', '2005', '2009', '2013', '2012', '2008', '2010', '2003',\n",
       "       '2002'], dtype=object)"
      ]
     },
     "execution_count": 89,
     "metadata": {},
     "output_type": "execute_result"
    }
   ],
   "source": [
    "SI_df['fecha_de_firma_del_contrato'].str[:4].unique()"
   ]
  },
  {
   "cell_type": "code",
   "execution_count": 90,
   "id": "Sp3SdQvjJLdM",
   "metadata": {
    "colab": {
     "base_uri": "https://localhost:8080/"
    },
    "executionInfo": {
     "elapsed": 56,
     "status": "ok",
     "timestamp": 1660939014137,
     "user": {
      "displayName": "Luis Gustavo Maldonado Archila",
      "userId": "00154281364666914585"
     },
     "user_tz": 240
    },
    "id": "Sp3SdQvjJLdM",
    "outputId": "4350cbf4-95f4-444d-f635-0066d85d67bc"
   },
   "outputs": [
    {
     "data": {
      "text/plain": [
       "array(['1905'], dtype=object)"
      ]
     },
     "execution_count": 90,
     "metadata": {},
     "output_type": "execute_result"
    }
   ],
   "source": [
    "SI_df['anno_firma_contrato'].unique()"
   ]
  },
  {
   "cell_type": "code",
   "execution_count": 91,
   "id": "jFKDOtOPJdT1",
   "metadata": {
    "colab": {
     "base_uri": "https://localhost:8080/"
    },
    "executionInfo": {
     "elapsed": 53,
     "status": "ok",
     "timestamp": 1660939014139,
     "user": {
      "displayName": "Luis Gustavo Maldonado Archila",
      "userId": "00154281364666914585"
     },
     "user_tz": 240
    },
    "id": "jFKDOtOPJdT1",
    "outputId": "bdb3b8d4-3f5e-4fa8-917d-0a29499bd372"
   },
   "outputs": [
    {
     "data": {
      "text/plain": [
       "array(['2019', '2021', '2018', '2022', '2017', '2015', '2016', '2020',\n",
       "       '2014', '2005', '2009', '2013', '2012', '2008', '2010', '2003',\n",
       "       '2002'], dtype=object)"
      ]
     },
     "execution_count": 91,
     "metadata": {},
     "output_type": "execute_result"
    }
   ],
   "source": [
    "SI_df['anno_firma_contrato'] = SI_df['fecha_de_firma_del_contrato'].str[:4]\n",
    "SI_df['anno_firma_contrato'].unique()"
   ]
  },
  {
   "cell_type": "code",
   "execution_count": 92,
   "id": "sIVRJIJrG58R",
   "metadata": {
    "colab": {
     "base_uri": "https://localhost:8080/"
    },
    "executionInfo": {
     "elapsed": 49,
     "status": "ok",
     "timestamp": 1660939014141,
     "user": {
      "displayName": "Luis Gustavo Maldonado Archila",
      "userId": "00154281364666914585"
     },
     "user_tz": 240
    },
    "id": "sIVRJIJrG58R",
    "outputId": "181a79fe-88ce-4d6f-a3d1-a48bbca923ae"
   },
   "outputs": [
    {
     "data": {
      "text/plain": [
       "array(['2021', '2022', '2019', '2018', '2020', '2017', '2016'],\n",
       "      dtype=object)"
      ]
     },
     "execution_count": 92,
     "metadata": {},
     "output_type": "execute_result"
    }
   ],
   "source": [
    "SII_df['fecha_de_firma_del_contrato'].str[:4].unique()"
   ]
  },
  {
   "cell_type": "code",
   "execution_count": 93,
   "id": "Ke7WS0eFQJMI",
   "metadata": {
    "colab": {
     "base_uri": "https://localhost:8080/"
    },
    "executionInfo": {
     "elapsed": 44,
     "status": "ok",
     "timestamp": 1660939014142,
     "user": {
      "displayName": "Luis Gustavo Maldonado Archila",
      "userId": "00154281364666914585"
     },
     "user_tz": 240
    },
    "id": "Ke7WS0eFQJMI",
    "outputId": "99057d75-15ac-4066-fbb0-fb51b27d5673"
   },
   "outputs": [
    {
     "data": {
      "text/plain": [
       "2021    1079\n",
       "2022     962\n",
       "2020     732\n",
       "2018     551\n",
       "2019     525\n",
       "2017     113\n",
       "2016       8\n",
       "Name: fecha_de_firma_del_contrato, dtype: int64"
      ]
     },
     "execution_count": 93,
     "metadata": {},
     "output_type": "execute_result"
    }
   ],
   "source": [
    "SII_df['fecha_de_firma_del_contrato'].str[:4].value_counts()"
   ]
  },
  {
   "cell_type": "code",
   "execution_count": 94,
   "id": "V1BvjXarnwyN",
   "metadata": {
    "colab": {
     "base_uri": "https://localhost:8080/"
    },
    "executionInfo": {
     "elapsed": 39,
     "status": "ok",
     "timestamp": 1660939014142,
     "user": {
      "displayName": "Luis Gustavo Maldonado Archila",
      "userId": "00154281364666914585"
     },
     "user_tz": 240
    },
    "id": "V1BvjXarnwyN",
    "outputId": "ab2cb831-1368-4a10-a30d-062d15b57c1f"
   },
   "outputs": [
    {
     "data": {
      "text/plain": [
       "array(['2021', '2022', '2019', '2018', '2020', '2017', '2016'],\n",
       "      dtype=object)"
      ]
     },
     "execution_count": 94,
     "metadata": {},
     "output_type": "execute_result"
    }
   ],
   "source": [
    "SII_df['anno_firma_contrato'] = SII_df['fecha_de_firma_del_contrato'].str[:4]\n",
    "SII_df['anno_firma_contrato'].unique()"
   ]
  },
  {
   "cell_type": "code",
   "execution_count": 95,
   "id": "UPUxAycZB5lV",
   "metadata": {
    "executionInfo": {
     "elapsed": 34,
     "status": "ok",
     "timestamp": 1660939014143,
     "user": {
      "displayName": "Luis Gustavo Maldonado Archila",
      "userId": "00154281364666914585"
     },
     "user_tz": 240
    },
    "id": "UPUxAycZB5lV"
   },
   "outputs": [],
   "source": [
    "# Investigar la duración de los contratos\n",
    "#series2 =  pd.to_datetime(SII_df['fecha_de_fin_de_ejecucion']).dt.day - pd.to_datetime(SII_df['fecha_de_inicio_de_ejecucion']).dt.day\n",
    "#series2.value_counts()\n",
    "#series1 =  pd.to_datetime(SII_df['fecha_de_fin_del_contrato']).dt.day - pd.to_datetime(SII_df['fecha_de_inicio_del_contrato']).dt.day\n",
    "#series1.value_counts()\n",
    "#SII_df['dias_adicionados']\n",
    "#SII_df['dias_adicionados'].astype + pd.to_datetime(SII_df['fecha_de_fin_del_contrato']).dt.day - pd.to_datetime(SII_df['fecha_de_inicio_del_contrato']).dt.day\n",
    "#SII_df['tiempo_adiciones_en_meses'] = abs(SII_df['dias_adicionados'].astype(int)/30)"
   ]
  },
  {
   "cell_type": "code",
   "execution_count": 96,
   "id": "AZ2ofAMkrZao",
   "metadata": {
    "colab": {
     "base_uri": "https://localhost:8080/"
    },
    "executionInfo": {
     "elapsed": 34,
     "status": "ok",
     "timestamp": 1660939014144,
     "user": {
      "displayName": "Luis Gustavo Maldonado Archila",
      "userId": "00154281364666914585"
     },
     "user_tz": 240
    },
    "id": "AZ2ofAMkrZao",
    "outputId": "06adcda6-a4fd-4e1d-cba9-0a240e993a98"
   },
   "outputs": [
    {
     "data": {
      "text/plain": [
       "count   3,859.00\n",
       "mean      229.17\n",
       "std       224.56\n",
       "min         1.00\n",
       "25%        64.00\n",
       "50%       192.00\n",
       "75%       324.50\n",
       "max     1,827.00\n",
       "Name: plazo_de_ejec_del_contrato, dtype: float64"
      ]
     },
     "execution_count": 96,
     "metadata": {},
     "output_type": "execute_result"
    }
   ],
   "source": [
    "# Asignar el plazo de ejecución de contratos para los contratos que no lo tienen:\n",
    "\n",
    "SII_df['fecha_de_fin_del_contrato'] = pd.to_datetime(SII_df['fecha_de_fin_del_contrato'])\n",
    "SII_df['fecha_de_inicio_del_contrato'] = pd.to_datetime(SII_df['fecha_de_inicio_del_contrato'])\n",
    "SII_df['plazo_de_ejec_del_contrato'] = pd.to_numeric(1 + (SII_df['fecha_de_fin_del_contrato'] - SII_df['fecha_de_inicio_del_contrato']).dt.days)\n",
    "SII_df['plazo_de_ejec_del_contrato'].describe()"
   ]
  },
  {
   "cell_type": "code",
   "execution_count": 97,
   "id": "KSQ5zZH2NVLf",
   "metadata": {
    "executionInfo": {
     "elapsed": 333,
     "status": "ok",
     "timestamp": 1660939014447,
     "user": {
      "displayName": "Luis Gustavo Maldonado Archila",
      "userId": "00154281364666914585"
     },
     "user_tz": 240
    },
    "id": "KSQ5zZH2NVLf"
   },
   "outputs": [],
   "source": [
    "SII_df.loc[SII_df['plazo_de_ejec_del_contrato'].isna(), 'plazo_de_ejec_del_contrato'] = 1 + (pd.to_datetime(SII_df['fecha_de_fin_del_contrato']) - pd.to_datetime(SII_df['fecha_de_firma_del_contrato'].str[:10])).dt.days\n"
   ]
  },
  {
   "cell_type": "code",
   "execution_count": 98,
   "id": "yV9c3IfZsg5-",
   "metadata": {
    "executionInfo": {
     "elapsed": 40,
     "status": "ok",
     "timestamp": 1660939014448,
     "user": {
      "displayName": "Luis Gustavo Maldonado Archila",
      "userId": "00154281364666914585"
     },
     "user_tz": 240
    },
    "id": "yV9c3IfZsg5-"
   },
   "outputs": [],
   "source": [
    "SII_df['rango_de_ejec_del_contrato'] = 'D'"
   ]
  },
  {
   "cell_type": "code",
   "execution_count": 99,
   "id": "9NEeyN-yqGMK",
   "metadata": {
    "executionInfo": {
     "elapsed": 40,
     "status": "ok",
     "timestamp": 1660939014449,
     "user": {
      "displayName": "Luis Gustavo Maldonado Archila",
      "userId": "00154281364666914585"
     },
     "user_tz": 240
    },
    "id": "9NEeyN-yqGMK"
   },
   "outputs": [],
   "source": [
    "# arreglar valores extraños de los plazos de ejecución. Se asignó el máximo plazo como 72 meses.\n",
    "\n",
    "#SI_df['plazo_de_ejec_del_contrato']\n",
    "#SI_df['rango_de_ejec_del_contrato'].unique()\n",
    "#SI_df[(SI_df['rango_de_ejec_del_contrato']=='M')]['plazo_de_ejec_del_contrato'].value_counts()\n",
    "\n",
    "SI_df.loc[(SI_df['rango_de_ejec_del_contrato']=='M') & (SI_df['plazo_de_ejec_del_contrato'].astype(int)>72), 'rango_de_ejec_del_contrato'] = 'D'"
   ]
  },
  {
   "cell_type": "code",
   "execution_count": 99,
   "id": "CPKU91XFYUt1",
   "metadata": {
    "executionInfo": {
     "elapsed": 40,
     "status": "ok",
     "timestamp": 1660939014450,
     "user": {
      "displayName": "Luis Gustavo Maldonado Archila",
      "userId": "00154281364666914585"
     },
     "user_tz": 240
    },
    "id": "CPKU91XFYUt1"
   },
   "outputs": [],
   "source": []
  },
  {
   "cell_type": "code",
   "execution_count": 100,
   "id": "3ng1VGhgY2A9",
   "metadata": {
    "colab": {
     "base_uri": "https://localhost:8080/"
    },
    "executionInfo": {
     "elapsed": 41,
     "status": "ok",
     "timestamp": 1660939014451,
     "user": {
      "displayName": "Luis Gustavo Maldonado Archila",
      "userId": "00154281364666914585"
     },
     "user_tz": 240
    },
    "id": "3ng1VGhgY2A9",
    "outputId": "365a7758-f678-4122-ff96-fdb1a0666aa6"
   },
   "outputs": [
    {
     "data": {
      "text/plain": [
       "array([90, 2, 30, 5, 60, 15, 20, 128, 180, 300, 3, 1, 10, 31, 270, 13,\n",
       "       353, 150, 8, 711, 151, 21, 360, 140, 210, 109, 164, 33, 345, 240,\n",
       "       22, 276, 25, 307, 103, 330, 4, 116, 236, 78, 130, 44, 225, 6, 324,\n",
       "       69, 72, 450, 89, 0, 120, 115, 165, 3350, 12, 40, 339, 365, 42,\n",
       "       1230, 302, 229, 26, 265, 43, 84, 729, 237, 19, 228, 315, 264, 38,\n",
       "       319, 316, 245, 14, 285, 263, 75, 425, 47, 35, 129, 295, 45, 18,\n",
       "       720, 176, 366, 27, 16, 80, 540, 321, 368, 351, 23, 86, 327, 174,\n",
       "       252, 340, 1440, 173, 178, 274, 76, 85, 201, 348, 34, 202, 7, 219,\n",
       "       77, 117, 298, 39, 333, 172, 136, 190, 28, 267, 58, 900, 292, 175,\n",
       "       250, 24, 216, 36, 338, 97, 145, 329, 317, 87, 323, 390, 48, 100,\n",
       "       205, 11, 166, 290, 358, 474, 204, 170, 54, 92, 126, 169, 183, 179,\n",
       "       221, 161, 29, 127, 334, 288, 9, 233, 50, 195, 17, 304, 114, 1800,\n",
       "       70, 62, 359, 275, 99, 163, 162, 105, 66, 301, 110, 279, 220, 155,\n",
       "       570, 152, 299, 108, 171, 344, 364, 185, 51, 253, 347, 251, 314,\n",
       "       206, 1050, 375, 312, 137, 280, 135, 119, 260, 337, 91, 123, 56,\n",
       "       262, 158, 168, 230, 61, 196, 389, 668, 188, 88, 200, 106, 32, 192,\n",
       "       101, 118, 41, 269, 281, 1080, 232, 271, 248, 309, 600, 241, 65,\n",
       "       112, 79, 55, 134, 96, 186, 1350, 184, 331, 121, 255, 234, 231, 149,\n",
       "       235, 57, 294, 157, 138, 182, 350, 305, 71, 356, 258, 142, 286, 214,\n",
       "       177, 203, 346, 1095, 132, 67, 125, 49, 167, 273, 243, 82, 98, 313,\n",
       "       283, 244, 227, 470, 218, 960, 213, 352, 124, 293, 667, 308, 141,\n",
       "       224, 291, 146, 750, 198, 247, 83, 349, 212, 373, 122, 322, 113,\n",
       "       326, 53, 156, 46, 223, 63, 335, 74, 361, 341, 277, 102, 239, 660,\n",
       "       131, 320, 318, 297, 217, 254, 181, 289, 59, 147, 278, 64, 1475,\n",
       "       189, 930, 73, 284, 52, 363, 187, 261, 153, 342, 197, 287, 1110,\n",
       "       154, 480, 343, 1140, 491, 37, 1165, 104, 143, 107, 310, 160, 1200,\n",
       "       420, 144, 383, 306, 249, 111, 369, 990, 442, 266, 211, 847, 386,\n",
       "       222, 215, 800, 94, 95, 303, 139, 148, 1980, 268, 68, 208, 336, 355,\n",
       "       690, 81, 5153, 354, 311, 272, 226, 357, 256, 1290, 730, 435, 93,\n",
       "       611, 599, 325, 397, 575, 207, 328, 282, 487, 1096, 919, 296, 381,\n",
       "       915, 789, 591, 332, 238, 630, 1320, 1005, 1650, 159, 133, 590, 525,\n",
       "       370, 209, 405, 1090, 1130, 1860, 199, 510, 840, 1091, 191, 426,\n",
       "       1275, 780, 614, 632, 1244, 423, 193, 380, 414, 542, 377, 362, 194,\n",
       "       1680, 367, 424, 242, 871, 1260, 577, 503, 598, 259, 739, 246, 969,\n",
       "       672, 939, 1214, 608, 1325, 257, 433, 825, 841, 743, 1825, 928, 496,\n",
       "       1712, 810, 705, 888], dtype=object)"
      ]
     },
     "execution_count": 100,
     "metadata": {},
     "output_type": "execute_result"
    }
   ],
   "source": [
    "# Arreglar la consistencia de la variable \"Plazo de Ejecución\" para que toda esté en dias\n",
    "\n",
    "SI_df.loc[SI_df['rango_de_ejec_del_contrato']== 'M', 'plazo_de_ejec_del_contrato'] = SI_df['plazo_de_ejec_del_contrato'].astype(int)*30\n",
    "SI_df.loc[SI_df['rango_de_ejec_del_contrato']== 'D', 'plazo_de_ejec_del_contrato'] = pd.to_numeric(SI_df['plazo_de_ejec_del_contrato'])\n",
    "SI_df.loc[SI_df['rango_de_ejec_del_contrato']== 'M', 'rango_de_ejec_del_contrato'] = 'D'\n",
    "SI_df['plazo_de_ejec_del_contrato'].unique()"
   ]
  },
  {
   "cell_type": "markdown",
   "id": "PHJwNEv-lO6w",
   "metadata": {
    "id": "PHJwNEv-lO6w"
   },
   "source": [
    "### Variable Departamento"
   ]
  },
  {
   "cell_type": "code",
   "execution_count": null,
   "id": "kbjDXblqlOWg",
   "metadata": {
    "id": "kbjDXblqlOWg"
   },
   "outputs": [],
   "source": [
    "contratos_SECOP_df.loc[contratos_SECOP_df['departamento_entidad']=='Bogotá DC', 'departamento_entidad'] = 'Bogotá D.C.'\n",
    "contratos_SECOP_df.loc[contratos_SECOP_df['departamento_entidad']=='Norte de Santander', 'departamento_entidad'] =  'Norte De Santander'\n",
    "contratos_SECOP_df.loc[contratos_SECOP_df['departamento_entidad']=='San Andrés, Providencia y Santa Catalina', 'departamento_entidad'] = 'San Andrés Providencia y Santa Catalina'\n",
    "contratos_SECOP_df.loc[contratos_SECOP_df['departamento_entidad']=='Colombia', 'departamento_entidad'] = 'No Definido'\n",
    "len(contratos_SECOP_df['departamento_entidad'].unique())"
   ]
  },
  {
   "cell_type": "markdown",
   "id": "27uFOdl7R5wv",
   "metadata": {
    "id": "27uFOdl7R5wv"
   },
   "source": [
    "## Concatenar dataframes"
   ]
  },
  {
   "cell_type": "code",
   "execution_count": 101,
   "id": "cFoyu9jsWwFS",
   "metadata": {
    "colab": {
     "base_uri": "https://localhost:8080/"
    },
    "executionInfo": {
     "elapsed": 39,
     "status": "ok",
     "timestamp": 1660939014452,
     "user": {
      "displayName": "Luis Gustavo Maldonado Archila",
      "userId": "00154281364666914585"
     },
     "user_tz": 240
    },
    "id": "cFoyu9jsWwFS",
    "outputId": "ff1941ed-1299-44b9-97f3-614b02563168"
   },
   "outputs": [
    {
     "data": {
      "text/plain": [
       "['uid',\n",
       " 'numero_de_constancia',\n",
       " 'numero_de_proceso',\n",
       " 'numero_de_contrato',\n",
       " 'id_grupo',\n",
       " 'nombre_grupo',\n",
       " 'id_familia',\n",
       " 'nombre_familia',\n",
       " 'tiempo_adiciones_en_meses',\n",
       " 'valor_total_de_adiciones',\n",
       " 'valor_contrato_con_adiciones',\n",
       " 'moneda',\n",
       " 'fecha_liquidacion']"
      ]
     },
     "execution_count": 101,
     "metadata": {},
     "output_type": "execute_result"
    }
   ],
   "source": [
    "[ col for col in SI_df.columns if col not in SII_df.columns ]"
   ]
  },
  {
   "cell_type": "code",
   "execution_count": 102,
   "id": "q8PTqddTHbvi",
   "metadata": {
    "colab": {
     "base_uri": "https://localhost:8080/"
    },
    "executionInfo": {
     "elapsed": 31,
     "status": "ok",
     "timestamp": 1660939014452,
     "user": {
      "displayName": "Luis Gustavo Maldonado Archila",
      "userId": "00154281364666914585"
     },
     "user_tz": 240
    },
    "id": "q8PTqddTHbvi",
    "outputId": "3614db03-2392-46ec-b7af-103dff344a02"
   },
   "outputs": [
    {
     "data": {
      "text/plain": [
       "['proceso_de_compra',\n",
       " 'id_contrato',\n",
       " 'referencia_del_contrato',\n",
       " 'sector',\n",
       " 'rama',\n",
       " 'localizaci_n',\n",
       " 'nacionalidad_representante_legal',\n",
       " 'es_grupo',\n",
       " 'es_pyme',\n",
       " 'fecha_de_inicio_de_ejecucion',\n",
       " 'fecha_de_fin_de_ejecucion',\n",
       " 'fecha_fin_liquidacion']"
      ]
     },
     "execution_count": 102,
     "metadata": {},
     "output_type": "execute_result"
    }
   ],
   "source": [
    "[ col for col in SII_df.columns if col not in SI_df.columns ]"
   ]
  },
  {
   "cell_type": "code",
   "execution_count": 103,
   "id": "CFxFiT5uNsIU",
   "metadata": {
    "executionInfo": {
     "elapsed": 25,
     "status": "ok",
     "timestamp": 1660939014453,
     "user": {
      "displayName": "Luis Gustavo Maldonado Archila",
      "userId": "00154281364666914585"
     },
     "user_tz": 240
    },
    "id": "CFxFiT5uNsIU"
   },
   "outputs": [],
   "source": [
    "SI_df['Database']=\"SECOP_I\"\n",
    "SII_df['Database']=\"SECOP_II\""
   ]
  },
  {
   "cell_type": "code",
   "execution_count": 160,
   "id": "buzaByrqJfxP",
   "metadata": {
    "colab": {
     "base_uri": "https://localhost:8080/"
    },
    "executionInfo": {
     "elapsed": 329,
     "status": "ok",
     "timestamp": 1660940656622,
     "user": {
      "displayName": "Luis Gustavo Maldonado Archila",
      "userId": "00154281364666914585"
     },
     "user_tz": 240
    },
    "id": "buzaByrqJfxP",
    "outputId": "cd9fb992-f87e-44a6-f37a-4dd29ddf1c2b"
   },
   "outputs": [
    {
     "data": {
      "text/plain": [
       "(31616, 59)"
      ]
     },
     "execution_count": 160,
     "metadata": {},
     "output_type": "execute_result"
    }
   ],
   "source": [
    "cols = [ col for col in SI_df.columns if col in SII_df.columns ]\n",
    "SECOP_df = pd.concat([SI_df, SII_df], verify_integrity=True, ignore_index=1)\n",
    "SECOP_df.shape"
   ]
  },
  {
   "cell_type": "code",
   "execution_count": null,
   "id": "5qDqp522xywt",
   "metadata": {
    "id": "5qDqp522xywt"
   },
   "outputs": [],
   "source": [
    "Armas_df = SECOP_df[SECOP_df['Tipo_servicio']=='Suministro de Armas']\n",
    "Armas_df.shape"
   ]
  },
  {
   "cell_type": "code",
   "execution_count": 166,
   "id": "8HcEmFPUx7El",
   "metadata": {
    "colab": {
     "base_uri": "https://localhost:8080/",
     "height": 1000
    },
    "executionInfo": {
     "elapsed": 314,
     "status": "ok",
     "timestamp": 1660940881614,
     "user": {
      "displayName": "Luis Gustavo Maldonado Archila",
      "userId": "00154281364666914585"
     },
     "user_tz": 240
    },
    "id": "8HcEmFPUx7El",
    "outputId": "8c405ca8-86ad-4455-cdc4-97ed7200b314"
   },
   "outputs": [
    {
     "data": {
      "text/html": [
       "\n",
       "  <div id=\"df-21fc40ca-b130-40df-9c29-4c93f02a8522\">\n",
       "    <div class=\"colab-df-container\">\n",
       "      <div>\n",
       "<style scoped>\n",
       "    .dataframe tbody tr th:only-of-type {\n",
       "        vertical-align: middle;\n",
       "    }\n",
       "\n",
       "    .dataframe tbody tr th {\n",
       "        vertical-align: top;\n",
       "    }\n",
       "\n",
       "    .dataframe thead th {\n",
       "        text-align: right;\n",
       "    }\n",
       "</style>\n",
       "<table border=\"1\" class=\"dataframe\">\n",
       "  <thead>\n",
       "    <tr style=\"text-align: right;\">\n",
       "      <th></th>\n",
       "      <th>uid</th>\n",
       "      <th>numero_de_constancia</th>\n",
       "      <th>numero_de_proceso</th>\n",
       "      <th>numero_de_contrato</th>\n",
       "      <th>anno_firma_contrato</th>\n",
       "      <th>anno_cargue_secop</th>\n",
       "      <th>orden</th>\n",
       "      <th>entidad_centralizada</th>\n",
       "      <th>nombre_entidad</th>\n",
       "      <th>nit_entidad</th>\n",
       "      <th>codigo_entidad</th>\n",
       "      <th>modalidad_de_contratacion</th>\n",
       "      <th>estado_contrato</th>\n",
       "      <th>justificacion_modalidad_de</th>\n",
       "      <th>objeto_del_contrato</th>\n",
       "      <th>descripcion_del_proceso</th>\n",
       "      <th>tipo_de_contrato</th>\n",
       "      <th>municipio_entidad</th>\n",
       "      <th>departamento_entidad</th>\n",
       "      <th>id_grupo</th>\n",
       "      <th>nombre_grupo</th>\n",
       "      <th>id_familia</th>\n",
       "      <th>nombre_familia</th>\n",
       "      <th>id_clase</th>\n",
       "      <th>nombre_clase</th>\n",
       "      <th>tipo_doc_contratista</th>\n",
       "      <th>identificacion_contratista</th>\n",
       "      <th>nom_razon_social_contratista</th>\n",
       "      <th>tipo_doc_representante_legal</th>\n",
       "      <th>identificacion_representante_legal</th>\n",
       "      <th>nombre_representante_legal</th>\n",
       "      <th>genero_representante_legal</th>\n",
       "      <th>fecha_de_firma_del_contrato</th>\n",
       "      <th>fecha_de_inicio_del_contrato</th>\n",
       "      <th>plazo_de_ejec_del_contrato</th>\n",
       "      <th>rango_de_ejec_del_contrato</th>\n",
       "      <th>tiempo_adiciones_en_dias</th>\n",
       "      <th>tiempo_adiciones_en_meses</th>\n",
       "      <th>fecha_de_fin_del_contrato</th>\n",
       "      <th>valor_del_contrato</th>\n",
       "      <th>valor_total_de_adiciones</th>\n",
       "      <th>valor_contrato_con_adiciones</th>\n",
       "      <th>moneda</th>\n",
       "      <th>fecha_liquidacion</th>\n",
       "      <th>Tipo_servicio</th>\n",
       "      <th>codigo_de_categoria_principal</th>\n",
       "      <th>Database</th>\n",
       "      <th>proceso_de_compra</th>\n",
       "      <th>id_contrato</th>\n",
       "      <th>referencia_del_contrato</th>\n",
       "      <th>sector</th>\n",
       "      <th>rama</th>\n",
       "      <th>localizaci_n</th>\n",
       "      <th>nacionalidad_representante_legal</th>\n",
       "      <th>es_grupo</th>\n",
       "      <th>es_pyme</th>\n",
       "      <th>fecha_de_inicio_de_ejecucion</th>\n",
       "      <th>fecha_de_fin_de_ejecucion</th>\n",
       "      <th>fecha_fin_liquidacion</th>\n",
       "    </tr>\n",
       "  </thead>\n",
       "  <tbody>\n",
       "    <tr>\n",
       "      <th>71</th>\n",
       "      <td>21-4-12044316-11157010</td>\n",
       "      <td>21-4-12044316</td>\n",
       "      <td>CFLSPCMC00202021</td>\n",
       "      <td>20</td>\n",
       "      <td>2021</td>\n",
       "      <td>2021</td>\n",
       "      <td>Territorial</td>\n",
       "      <td>DISTRITO CAPITAL</td>\n",
       "      <td>BOGOTÁ DC  IED FABIO LOZANO SIMONELLI</td>\n",
       "      <td>No Definido</td>\n",
       "      <td>01002071</td>\n",
       "      <td>Contratación régimen especial</td>\n",
       "      <td>Celebrado</td>\n",
       "      <td>Equipos y Suministros de Defensa, Orden Public...</td>\n",
       "      <td>SEGUN LOS APROBADO EN EL CONSEJO DIRECTIVO DE ...</td>\n",
       "      <td>SEGUN LOS APROBADO EN EL CONSEJO DIRECTIVO DE ...</td>\n",
       "      <td>Suministros</td>\n",
       "      <td>Bogotá DC</td>\n",
       "      <td>Bogotá DC</td>\n",
       "      <td>E</td>\n",
       "      <td>[E] Productos de Uso Final</td>\n",
       "      <td>4610</td>\n",
       "      <td>Armas ligeras y munición</td>\n",
       "      <td>461017</td>\n",
       "      <td>Sistemas de manipulación de munición</td>\n",
       "      <td>Nit de Persona Jurídica</td>\n",
       "      <td>900387129</td>\n",
       "      <td>SOLUCIONES ISSO SAS</td>\n",
       "      <td>Cédula de Ciudadanía</td>\n",
       "      <td>79523229</td>\n",
       "      <td>FRANCISCO JAVIER GAMBOA PEDRAZA</td>\n",
       "      <td>Hombre</td>\n",
       "      <td>2021-06-11T00:00:00.000</td>\n",
       "      <td>2021-06-11T00:00:00.000</td>\n",
       "      <td>30</td>\n",
       "      <td>D</td>\n",
       "      <td>0</td>\n",
       "      <td>0</td>\n",
       "      <td>2021-07-11T00:00:00.000</td>\n",
       "      <td>993650</td>\n",
       "      <td>0</td>\n",
       "      <td>993650</td>\n",
       "      <td>Peso Colombiano</td>\n",
       "      <td>NaN</td>\n",
       "      <td>Suministro de Armas</td>\n",
       "      <td>V1.46101700</td>\n",
       "      <td>SECOP_I</td>\n",
       "      <td>NaN</td>\n",
       "      <td>NaN</td>\n",
       "      <td>NaN</td>\n",
       "      <td>NaN</td>\n",
       "      <td>NaN</td>\n",
       "      <td>NaN</td>\n",
       "      <td>NaN</td>\n",
       "      <td>NaN</td>\n",
       "      <td>NaN</td>\n",
       "      <td>NaN</td>\n",
       "      <td>NaN</td>\n",
       "      <td>NaN</td>\n",
       "    </tr>\n",
       "    <tr>\n",
       "      <th>202</th>\n",
       "      <td>18-13-7889356-7195387</td>\n",
       "      <td>18-13-7889356</td>\n",
       "      <td>IPMCSG0172018</td>\n",
       "      <td>017</td>\n",
       "      <td>2018</td>\n",
       "      <td>2018</td>\n",
       "      <td>Territorial</td>\n",
       "      <td>DEPARTAMENTAL DESCENTRALIZADO</td>\n",
       "      <td>GUAINÍA  GOBERNACIÓN</td>\n",
       "      <td>No Definido</td>\n",
       "      <td>294000001</td>\n",
       "      <td>Contratación Mínima Cuantía</td>\n",
       "      <td>Liquidado</td>\n",
       "      <td>Equipos y Suministros de Defensa, Orden Public...</td>\n",
       "      <td>SUMINISTRO Y MANTENIMIENTO DE LAS INSTALACIONE...</td>\n",
       "      <td>SUMINISTRO Y MANTENIMIENTO DE LAS INSTALACIONE...</td>\n",
       "      <td>Suministros</td>\n",
       "      <td>Inírida</td>\n",
       "      <td>Guainía</td>\n",
       "      <td>E</td>\n",
       "      <td>[E] Productos de Uso Final</td>\n",
       "      <td>4610</td>\n",
       "      <td>Armas ligeras y munición</td>\n",
       "      <td>461017</td>\n",
       "      <td>Sistemas de manipulación de munición</td>\n",
       "      <td>Nit de Persona Natural</td>\n",
       "      <td>19002620</td>\n",
       "      <td>FRANCISCO IVAN AGUDELO OSPINA</td>\n",
       "      <td>Cédula de Ciudadanía</td>\n",
       "      <td>19002620</td>\n",
       "      <td>FRANCISCO IVAN AGUDELO OSPINA</td>\n",
       "      <td>No Definido</td>\n",
       "      <td>2018-02-23T00:00:00.000</td>\n",
       "      <td>2018-02-27T00:00:00.000</td>\n",
       "      <td>10</td>\n",
       "      <td>D</td>\n",
       "      <td>0</td>\n",
       "      <td>0</td>\n",
       "      <td>2018-03-09T00:00:00.000</td>\n",
       "      <td>9792777</td>\n",
       "      <td>0</td>\n",
       "      <td>9792777</td>\n",
       "      <td>Peso Colombiano</td>\n",
       "      <td>2018-06-29T00:00:00.000</td>\n",
       "      <td>Suministro de Armas</td>\n",
       "      <td>V1.46101700</td>\n",
       "      <td>SECOP_I</td>\n",
       "      <td>NaN</td>\n",
       "      <td>NaN</td>\n",
       "      <td>NaN</td>\n",
       "      <td>NaN</td>\n",
       "      <td>NaN</td>\n",
       "      <td>NaN</td>\n",
       "      <td>NaN</td>\n",
       "      <td>NaN</td>\n",
       "      <td>NaN</td>\n",
       "      <td>NaN</td>\n",
       "      <td>NaN</td>\n",
       "      <td>NaN</td>\n",
       "    </tr>\n",
       "    <tr>\n",
       "      <th>235</th>\n",
       "      <td>18-13-8026374-7307874</td>\n",
       "      <td>18-13-8026374</td>\n",
       "      <td>IP No0232018</td>\n",
       "      <td>CV No0062018</td>\n",
       "      <td>2018</td>\n",
       "      <td>2018</td>\n",
       "      <td>Territorial</td>\n",
       "      <td>DISTRITAL MUNICIPAL NIVEL 6</td>\n",
       "      <td>CUNDINAMARCA  ALCALDÍA MUNICIPIO DE TIBACUY</td>\n",
       "      <td>800097176-6</td>\n",
       "      <td>225805011</td>\n",
       "      <td>Contratación Mínima Cuantía</td>\n",
       "      <td>Liquidado</td>\n",
       "      <td>Equipos y Suministros de Defensa, Orden Public...</td>\n",
       "      <td>ADQUISICION DE PISTOLA NOQUEADORA DE GANADO CA...</td>\n",
       "      <td>ADQUISICION DE PISTOLA NOQUEADORA DE GANADO CA...</td>\n",
       "      <td>Compraventa</td>\n",
       "      <td>Tibacuy</td>\n",
       "      <td>Cundinamarca</td>\n",
       "      <td>E</td>\n",
       "      <td>[E] Productos de Uso Final</td>\n",
       "      <td>4610</td>\n",
       "      <td>Armas ligeras y munición</td>\n",
       "      <td>461015</td>\n",
       "      <td>Armas de fuego</td>\n",
       "      <td>Nit de Persona Jurídica</td>\n",
       "      <td>900481210</td>\n",
       "      <td>SOCIEDAD AGROPECOL DE COLOMBIA SAS</td>\n",
       "      <td>Cédula de Ciudadanía</td>\n",
       "      <td>2965727</td>\n",
       "      <td>CARLOS GIOVANNY GUTIERREZ CHARRY</td>\n",
       "      <td>No Definido</td>\n",
       "      <td>2018-04-23T00:00:00.000</td>\n",
       "      <td>2018-06-19T00:00:00.000</td>\n",
       "      <td>20</td>\n",
       "      <td>D</td>\n",
       "      <td>0</td>\n",
       "      <td>0</td>\n",
       "      <td>2018-07-09T00:00:00.000</td>\n",
       "      <td>9750000</td>\n",
       "      <td>0</td>\n",
       "      <td>9750000</td>\n",
       "      <td>Peso Colombiano</td>\n",
       "      <td>2018-08-13T00:00:00.000</td>\n",
       "      <td>Suministro de Armas</td>\n",
       "      <td>V1.46101500</td>\n",
       "      <td>SECOP_I</td>\n",
       "      <td>NaN</td>\n",
       "      <td>NaN</td>\n",
       "      <td>NaN</td>\n",
       "      <td>NaN</td>\n",
       "      <td>NaN</td>\n",
       "      <td>NaN</td>\n",
       "      <td>NaN</td>\n",
       "      <td>NaN</td>\n",
       "      <td>NaN</td>\n",
       "      <td>NaN</td>\n",
       "      <td>NaN</td>\n",
       "      <td>NaN</td>\n",
       "    </tr>\n",
       "    <tr>\n",
       "      <th>650</th>\n",
       "      <td>18-4-7610075-6921291</td>\n",
       "      <td>18-4-7610075</td>\n",
       "      <td>1032017</td>\n",
       "      <td>10922017</td>\n",
       "      <td>2017</td>\n",
       "      <td>2018</td>\n",
       "      <td>Nacional</td>\n",
       "      <td>CENTRALIZADO</td>\n",
       "      <td>INDUMIL  INDUSTRIA MILITAR</td>\n",
       "      <td>899999044</td>\n",
       "      <td>115014003</td>\n",
       "      <td>Contratación régimen especial</td>\n",
       "      <td>Liquidado</td>\n",
       "      <td>Equipos y Suministros de Defensa, Orden Public...</td>\n",
       "      <td>Adquisición munición de escopeta deportiva var...</td>\n",
       "      <td>Adquisición munición de escopeta deportiva var...</td>\n",
       "      <td>Compraventa</td>\n",
       "      <td>Bogotá DC</td>\n",
       "      <td>Bogotá DC</td>\n",
       "      <td>E</td>\n",
       "      <td>[E] Productos de Uso Final</td>\n",
       "      <td>4610</td>\n",
       "      <td>Armas ligeras y munición</td>\n",
       "      <td>461016</td>\n",
       "      <td>Munición</td>\n",
       "      <td>Nit de Persona Natural</td>\n",
       "      <td>19123158</td>\n",
       "      <td>FERNANDO MILLAN PEREZ</td>\n",
       "      <td>Cédula de Ciudadanía</td>\n",
       "      <td>19123158</td>\n",
       "      <td>FERNANDO MILLAN PEREZ</td>\n",
       "      <td>No Definido</td>\n",
       "      <td>2017-09-15T00:00:00.000</td>\n",
       "      <td>2017-09-15T00:00:00.000</td>\n",
       "      <td>75</td>\n",
       "      <td>D</td>\n",
       "      <td>45</td>\n",
       "      <td>0</td>\n",
       "      <td>2018-01-13T00:00:00.000</td>\n",
       "      <td>935539084</td>\n",
       "      <td>0</td>\n",
       "      <td>935539084</td>\n",
       "      <td>Dólar de EE.UU.</td>\n",
       "      <td>2019-09-10T00:00:00.000</td>\n",
       "      <td>Suministro de Armas</td>\n",
       "      <td>V1.46101600</td>\n",
       "      <td>SECOP_I</td>\n",
       "      <td>NaN</td>\n",
       "      <td>NaN</td>\n",
       "      <td>NaN</td>\n",
       "      <td>NaN</td>\n",
       "      <td>NaN</td>\n",
       "      <td>NaN</td>\n",
       "      <td>NaN</td>\n",
       "      <td>NaN</td>\n",
       "      <td>NaN</td>\n",
       "      <td>NaN</td>\n",
       "      <td>NaN</td>\n",
       "      <td>NaN</td>\n",
       "    </tr>\n",
       "    <tr>\n",
       "      <th>770</th>\n",
       "      <td>19-4-9629790-8930109</td>\n",
       "      <td>19-4-9629790</td>\n",
       "      <td>86442019</td>\n",
       "      <td>4500004780</td>\n",
       "      <td>2019</td>\n",
       "      <td>2019</td>\n",
       "      <td>Nacional</td>\n",
       "      <td>CENTRALIZADO</td>\n",
       "      <td>INDUMIL  INDUSTRIA MILITAR</td>\n",
       "      <td>899999044</td>\n",
       "      <td>115014003</td>\n",
       "      <td>Contratación régimen especial</td>\n",
       "      <td>Celebrado</td>\n",
       "      <td>Equipos y Suministros de Defensa, Orden Public...</td>\n",
       "      <td>ADQUISICIÓN DE SODA CAUSTICA EN ESCAMAS</td>\n",
       "      <td>ADQUISICIÓN DE SODA CAUSTICA EN ESCAMAS</td>\n",
       "      <td>Compraventa</td>\n",
       "      <td>Bogotá DC</td>\n",
       "      <td>Bogotá DC</td>\n",
       "      <td>E</td>\n",
       "      <td>[E] Productos de Uso Final</td>\n",
       "      <td>4610</td>\n",
       "      <td>Armas ligeras y munición</td>\n",
       "      <td>461018</td>\n",
       "      <td>Accesorios de armas y municiones</td>\n",
       "      <td>Nit de Persona Jurídica</td>\n",
       "      <td>890906525</td>\n",
       "      <td>BYCSA SA</td>\n",
       "      <td>Cédula de Ciudadanía</td>\n",
       "      <td>42875852</td>\n",
       "      <td>ISABEL CRISTINA LOPEZ ARTEAGA</td>\n",
       "      <td>No Definido</td>\n",
       "      <td>2019-08-09T00:00:00.000</td>\n",
       "      <td>2019-08-09T00:00:00.000</td>\n",
       "      <td>35</td>\n",
       "      <td>D</td>\n",
       "      <td>0</td>\n",
       "      <td>0</td>\n",
       "      <td>2019-09-13T00:00:00.000</td>\n",
       "      <td>9282000</td>\n",
       "      <td>0</td>\n",
       "      <td>9282000</td>\n",
       "      <td>Peso Colombiano</td>\n",
       "      <td>NaN</td>\n",
       "      <td>Suministro de Armas</td>\n",
       "      <td>V1.46101800</td>\n",
       "      <td>SECOP_I</td>\n",
       "      <td>NaN</td>\n",
       "      <td>NaN</td>\n",
       "      <td>NaN</td>\n",
       "      <td>NaN</td>\n",
       "      <td>NaN</td>\n",
       "      <td>NaN</td>\n",
       "      <td>NaN</td>\n",
       "      <td>NaN</td>\n",
       "      <td>NaN</td>\n",
       "      <td>NaN</td>\n",
       "      <td>NaN</td>\n",
       "      <td>NaN</td>\n",
       "    </tr>\n",
       "    <tr>\n",
       "      <th>837</th>\n",
       "      <td>17-4-6128460-5613348</td>\n",
       "      <td>17-4-6128460</td>\n",
       "      <td>CMC0142017</td>\n",
       "      <td>CMC0142017</td>\n",
       "      <td>2017</td>\n",
       "      <td>2017</td>\n",
       "      <td>Territorial</td>\n",
       "      <td>DEPARTAMENTAL CENTRALIZADO</td>\n",
       "      <td>CÓRDOBA  JAGUAZUL SA ESP  MONTELÍBANO</td>\n",
       "      <td>900258155-6</td>\n",
       "      <td>223466021</td>\n",
       "      <td>Contratación régimen especial</td>\n",
       "      <td>Celebrado</td>\n",
       "      <td>Equipos y Suministros de Defensa, Orden Public...</td>\n",
       "      <td>COMPRAVENTA MUNICIONES E INSUMOS PARA EL DESAR...</td>\n",
       "      <td>COMPRAVENTA MUNICIONES E INSUMOS PARA EL DESAR...</td>\n",
       "      <td>Compraventa</td>\n",
       "      <td>Montelíbano</td>\n",
       "      <td>Córdoba</td>\n",
       "      <td>E</td>\n",
       "      <td>[E] Productos de Uso Final</td>\n",
       "      <td>4610</td>\n",
       "      <td>Armas ligeras y munición</td>\n",
       "      <td>461016</td>\n",
       "      <td>Munición</td>\n",
       "      <td>Nit de Persona Jurídica</td>\n",
       "      <td>811040462</td>\n",
       "      <td>ASESORIAS Y REPRESENTACIONES AGROINDUSTRIALES SAS</td>\n",
       "      <td>Cédula de Ciudadanía</td>\n",
       "      <td>98639562</td>\n",
       "      <td>JHON ALBERTO AGUIRRE SEPULVEDA</td>\n",
       "      <td>No Definido</td>\n",
       "      <td>2017-01-23T00:00:00.000</td>\n",
       "      <td>2017-01-23T00:00:00.000</td>\n",
       "      <td>2</td>\n",
       "      <td>D</td>\n",
       "      <td>0</td>\n",
       "      <td>0</td>\n",
       "      <td>2017-01-25T00:00:00.000</td>\n",
       "      <td>921833</td>\n",
       "      <td>0</td>\n",
       "      <td>921833</td>\n",
       "      <td>No Definido</td>\n",
       "      <td>NaN</td>\n",
       "      <td>Suministro de Armas</td>\n",
       "      <td>V1.46101600</td>\n",
       "      <td>SECOP_I</td>\n",
       "      <td>NaN</td>\n",
       "      <td>NaN</td>\n",
       "      <td>NaN</td>\n",
       "      <td>NaN</td>\n",
       "      <td>NaN</td>\n",
       "      <td>NaN</td>\n",
       "      <td>NaN</td>\n",
       "      <td>NaN</td>\n",
       "      <td>NaN</td>\n",
       "      <td>NaN</td>\n",
       "      <td>NaN</td>\n",
       "      <td>NaN</td>\n",
       "    </tr>\n",
       "    <tr>\n",
       "      <th>1286</th>\n",
       "      <td>18-4-8567728-8204226</td>\n",
       "      <td>18-4-8567728</td>\n",
       "      <td>1312018</td>\n",
       "      <td>11332018</td>\n",
       "      <td>2018</td>\n",
       "      <td>2018</td>\n",
       "      <td>Nacional</td>\n",
       "      <td>CENTRALIZADO</td>\n",
       "      <td>INDUMIL  INDUSTRIA MILITAR</td>\n",
       "      <td>899999044</td>\n",
       "      <td>115014003</td>\n",
       "      <td>Contratación régimen especial</td>\n",
       "      <td>Liquidado</td>\n",
       "      <td>Equipos y Suministros de Defensa, Orden Public...</td>\n",
       "      <td>ADQUISCIÓN DE ESCOPETAS HATSAN CAL 12 7T</td>\n",
       "      <td>Adquisición Escopetas Hatsan Cal 12 7T</td>\n",
       "      <td>Compraventa</td>\n",
       "      <td>Bogotá DC</td>\n",
       "      <td>Bogotá DC</td>\n",
       "      <td>E</td>\n",
       "      <td>[E] Productos de Uso Final</td>\n",
       "      <td>4610</td>\n",
       "      <td>Armas ligeras y munición</td>\n",
       "      <td>461015</td>\n",
       "      <td>Armas de fuego</td>\n",
       "      <td>Nit de Persona Jurídica</td>\n",
       "      <td>830007780</td>\n",
       "      <td>PRODEFENSA COLOMBIA SA</td>\n",
       "      <td>Cédula de Ciudadanía</td>\n",
       "      <td>17144686</td>\n",
       "      <td>ARMANDO FRANCISCO FANDIÑO SAN MIGUEL</td>\n",
       "      <td>No Definido</td>\n",
       "      <td>2018-12-31T00:00:00.000</td>\n",
       "      <td>2019-02-11T00:00:00.000</td>\n",
       "      <td>120</td>\n",
       "      <td>D</td>\n",
       "      <td>0</td>\n",
       "      <td>0</td>\n",
       "      <td>2019-06-11T00:00:00.000</td>\n",
       "      <td>88689191</td>\n",
       "      <td>0</td>\n",
       "      <td>88689191</td>\n",
       "      <td>Dólar de EE.UU.</td>\n",
       "      <td>2019-07-09T00:00:00.000</td>\n",
       "      <td>Suministro de Armas</td>\n",
       "      <td>V1.46101500</td>\n",
       "      <td>SECOP_I</td>\n",
       "      <td>NaN</td>\n",
       "      <td>NaN</td>\n",
       "      <td>NaN</td>\n",
       "      <td>NaN</td>\n",
       "      <td>NaN</td>\n",
       "      <td>NaN</td>\n",
       "      <td>NaN</td>\n",
       "      <td>NaN</td>\n",
       "      <td>NaN</td>\n",
       "      <td>NaN</td>\n",
       "      <td>NaN</td>\n",
       "      <td>NaN</td>\n",
       "    </tr>\n",
       "    <tr>\n",
       "      <th>1670</th>\n",
       "      <td>19-4-10056461-9422518</td>\n",
       "      <td>19-4-10056461</td>\n",
       "      <td>89492019</td>\n",
       "      <td>4500005407</td>\n",
       "      <td>2019</td>\n",
       "      <td>2019</td>\n",
       "      <td>Nacional</td>\n",
       "      <td>CENTRALIZADO</td>\n",
       "      <td>INDUMIL  INDUSTRIA MILITAR</td>\n",
       "      <td>899999044</td>\n",
       "      <td>115014003</td>\n",
       "      <td>Contratación régimen especial</td>\n",
       "      <td>Celebrado</td>\n",
       "      <td>Equipos y Suministros de Defensa, Orden Public...</td>\n",
       "      <td>ADQUISICION BASE TAPA DEL CARGADOR PARA FUSIL</td>\n",
       "      <td>ADQUISICIÓN BASE TAPA DEL CARGADOR PARA FUSIL</td>\n",
       "      <td>Compraventa</td>\n",
       "      <td>Bogotá DC</td>\n",
       "      <td>Bogotá DC</td>\n",
       "      <td>E</td>\n",
       "      <td>[E] Productos de Uso Final</td>\n",
       "      <td>4610</td>\n",
       "      <td>Armas ligeras y munición</td>\n",
       "      <td>461018</td>\n",
       "      <td>Accesorios de armas y municiones</td>\n",
       "      <td>Nit de Persona Jurídica</td>\n",
       "      <td>860515518</td>\n",
       "      <td>COMPAÑIA DE PARTES Y ACCESORIOS SAS COMPAC SAS</td>\n",
       "      <td>Cédula de Ciudadanía</td>\n",
       "      <td>3044516</td>\n",
       "      <td>EDMUNDO NAVARRO ACEVEDO</td>\n",
       "      <td>Hombre</td>\n",
       "      <td>2019-12-10T00:00:00.000</td>\n",
       "      <td>2019-12-10T00:00:00.000</td>\n",
       "      <td>25</td>\n",
       "      <td>D</td>\n",
       "      <td>0</td>\n",
       "      <td>0</td>\n",
       "      <td>2020-01-04T00:00:00.000</td>\n",
       "      <td>8657250</td>\n",
       "      <td>0</td>\n",
       "      <td>8657250</td>\n",
       "      <td>Peso Colombiano</td>\n",
       "      <td>NaN</td>\n",
       "      <td>Suministro de Armas</td>\n",
       "      <td>V1.46101800</td>\n",
       "      <td>SECOP_I</td>\n",
       "      <td>NaN</td>\n",
       "      <td>NaN</td>\n",
       "      <td>NaN</td>\n",
       "      <td>NaN</td>\n",
       "      <td>NaN</td>\n",
       "      <td>NaN</td>\n",
       "      <td>NaN</td>\n",
       "      <td>NaN</td>\n",
       "      <td>NaN</td>\n",
       "      <td>NaN</td>\n",
       "      <td>NaN</td>\n",
       "      <td>NaN</td>\n",
       "    </tr>\n",
       "    <tr>\n",
       "      <th>2287</th>\n",
       "      <td>17-4-6046072-5505059</td>\n",
       "      <td>17-4-6046072</td>\n",
       "      <td>2082015</td>\n",
       "      <td>21502015</td>\n",
       "      <td>2015</td>\n",
       "      <td>2017</td>\n",
       "      <td>Nacional</td>\n",
       "      <td>CENTRALIZADO</td>\n",
       "      <td>INDUMIL  INDUSTRIA MILITAR</td>\n",
       "      <td>899999044</td>\n",
       "      <td>115014003</td>\n",
       "      <td>Contratación régimen especial</td>\n",
       "      <td>Celebrado</td>\n",
       "      <td>Equipos y Suministros de Defensa, Orden Public...</td>\n",
       "      <td>ADQUISICION DE COMPONENTES PARA MUNICION 9MM</td>\n",
       "      <td>Adquisición de componentes para munición 9mm</td>\n",
       "      <td>Compraventa</td>\n",
       "      <td>Bogotá DC</td>\n",
       "      <td>Bogotá DC</td>\n",
       "      <td>E</td>\n",
       "      <td>[E] Productos de Uso Final</td>\n",
       "      <td>4610</td>\n",
       "      <td>Armas ligeras y munición</td>\n",
       "      <td>461016</td>\n",
       "      <td>Munición</td>\n",
       "      <td>Nit de Persona Jurídica</td>\n",
       "      <td>860090291</td>\n",
       "      <td>COMPANHIA BRASILERA DE CARTUCHOS CBC REPRESENT...</td>\n",
       "      <td>Cédula de Ciudadanía</td>\n",
       "      <td>39787768</td>\n",
       "      <td>MARTHA IZQUIERDA MACHADO</td>\n",
       "      <td>No Definido</td>\n",
       "      <td>2015-12-15T00:00:00.000</td>\n",
       "      <td>2015-12-21T00:00:00.000</td>\n",
       "      <td>180</td>\n",
       "      <td>D</td>\n",
       "      <td>0</td>\n",
       "      <td>0</td>\n",
       "      <td>2016-06-18T00:00:00.000</td>\n",
       "      <td>824469435</td>\n",
       "      <td>0</td>\n",
       "      <td>824469435</td>\n",
       "      <td>No Definido</td>\n",
       "      <td>NaN</td>\n",
       "      <td>Suministro de Armas</td>\n",
       "      <td>V1.46101600</td>\n",
       "      <td>SECOP_I</td>\n",
       "      <td>NaN</td>\n",
       "      <td>NaN</td>\n",
       "      <td>NaN</td>\n",
       "      <td>NaN</td>\n",
       "      <td>NaN</td>\n",
       "      <td>NaN</td>\n",
       "      <td>NaN</td>\n",
       "      <td>NaN</td>\n",
       "      <td>NaN</td>\n",
       "      <td>NaN</td>\n",
       "      <td>NaN</td>\n",
       "      <td>NaN</td>\n",
       "    </tr>\n",
       "    <tr>\n",
       "      <th>2435</th>\n",
       "      <td>19-4-10012400-9394797</td>\n",
       "      <td>19-4-10012400</td>\n",
       "      <td>89082019</td>\n",
       "      <td>4500005317</td>\n",
       "      <td>2019</td>\n",
       "      <td>2019</td>\n",
       "      <td>Nacional</td>\n",
       "      <td>CENTRALIZADO</td>\n",
       "      <td>INDUMIL  INDUSTRIA MILITAR</td>\n",
       "      <td>899999044</td>\n",
       "      <td>115014003</td>\n",
       "      <td>Contratación régimen especial</td>\n",
       "      <td>Celebrado</td>\n",
       "      <td>Equipos y Suministros de Defensa, Orden Public...</td>\n",
       "      <td>ADQUISICIÓN INSERTO CUERPO GUÍA CULATA PARA FUSIL</td>\n",
       "      <td>ADQUISICIÓN INSERTO CUERPO GUÍA CULATA PARA FUSIL</td>\n",
       "      <td>Compraventa</td>\n",
       "      <td>Bogotá DC</td>\n",
       "      <td>Bogotá DC</td>\n",
       "      <td>E</td>\n",
       "      <td>[E] Productos de Uso Final</td>\n",
       "      <td>4610</td>\n",
       "      <td>Armas ligeras y munición</td>\n",
       "      <td>461018</td>\n",
       "      <td>Accesorios de armas y municiones</td>\n",
       "      <td>Nit de Persona Jurídica</td>\n",
       "      <td>900211361</td>\n",
       "      <td>INGENIERIA Y MECANIZADOS CNC DE COLOMBIA LTDA ...</td>\n",
       "      <td>Cédula de Ciudadanía</td>\n",
       "      <td>79508504</td>\n",
       "      <td>MANUEL ALBERTO MORENO MORENO</td>\n",
       "      <td>Hombre</td>\n",
       "      <td>2019-11-25T00:00:00.000</td>\n",
       "      <td>2019-12-12T00:00:00.000</td>\n",
       "      <td>30</td>\n",
       "      <td>D</td>\n",
       "      <td>0</td>\n",
       "      <td>0</td>\n",
       "      <td>2020-01-11T00:00:00.000</td>\n",
       "      <td>81396000</td>\n",
       "      <td>0</td>\n",
       "      <td>81396000</td>\n",
       "      <td>Peso Colombiano</td>\n",
       "      <td>NaN</td>\n",
       "      <td>Suministro de Armas</td>\n",
       "      <td>V1.46101800</td>\n",
       "      <td>SECOP_I</td>\n",
       "      <td>NaN</td>\n",
       "      <td>NaN</td>\n",
       "      <td>NaN</td>\n",
       "      <td>NaN</td>\n",
       "      <td>NaN</td>\n",
       "      <td>NaN</td>\n",
       "      <td>NaN</td>\n",
       "      <td>NaN</td>\n",
       "      <td>NaN</td>\n",
       "      <td>NaN</td>\n",
       "      <td>NaN</td>\n",
       "      <td>NaN</td>\n",
       "    </tr>\n",
       "    <tr>\n",
       "      <th>2950</th>\n",
       "      <td>17-4-6046072-5505014</td>\n",
       "      <td>17-4-6046072</td>\n",
       "      <td>2082015</td>\n",
       "      <td>21512015</td>\n",
       "      <td>2015</td>\n",
       "      <td>2017</td>\n",
       "      <td>Nacional</td>\n",
       "      <td>CENTRALIZADO</td>\n",
       "      <td>INDUMIL  INDUSTRIA MILITAR</td>\n",
       "      <td>899999044</td>\n",
       "      <td>115014003</td>\n",
       "      <td>Contratación régimen especial</td>\n",
       "      <td>Celebrado</td>\n",
       "      <td>Equipos y Suministros de Defensa, Orden Public...</td>\n",
       "      <td>Adquisicion de componentes para municion 9mm</td>\n",
       "      <td>Adquisición de componentes para munición 9mm</td>\n",
       "      <td>Compraventa</td>\n",
       "      <td>Bogotá DC</td>\n",
       "      <td>Bogotá DC</td>\n",
       "      <td>E</td>\n",
       "      <td>[E] Productos de Uso Final</td>\n",
       "      <td>4610</td>\n",
       "      <td>Armas ligeras y munición</td>\n",
       "      <td>461016</td>\n",
       "      <td>Munición</td>\n",
       "      <td>Nit de Persona Jurídica</td>\n",
       "      <td>900506094</td>\n",
       "      <td>POONGSAN CORPORATION REPRESENTADA EN COLOMBIA ...</td>\n",
       "      <td>Cédula de Ciudadanía</td>\n",
       "      <td>8264619</td>\n",
       "      <td>JOSE HUBER NEY ESPINAL ZAPATA</td>\n",
       "      <td>No Definido</td>\n",
       "      <td>2015-12-15T00:00:00.000</td>\n",
       "      <td>2015-12-23T00:00:00.000</td>\n",
       "      <td>120</td>\n",
       "      <td>D</td>\n",
       "      <td>0</td>\n",
       "      <td>0</td>\n",
       "      <td>2016-04-21T00:00:00.000</td>\n",
       "      <td>782537033</td>\n",
       "      <td>0</td>\n",
       "      <td>782537033</td>\n",
       "      <td>No Definido</td>\n",
       "      <td>NaN</td>\n",
       "      <td>Suministro de Armas</td>\n",
       "      <td>V1.46101600</td>\n",
       "      <td>SECOP_I</td>\n",
       "      <td>NaN</td>\n",
       "      <td>NaN</td>\n",
       "      <td>NaN</td>\n",
       "      <td>NaN</td>\n",
       "      <td>NaN</td>\n",
       "      <td>NaN</td>\n",
       "      <td>NaN</td>\n",
       "      <td>NaN</td>\n",
       "      <td>NaN</td>\n",
       "      <td>NaN</td>\n",
       "      <td>NaN</td>\n",
       "      <td>NaN</td>\n",
       "    </tr>\n",
       "    <tr>\n",
       "      <th>3226</th>\n",
       "      <td>17-12-7471399-6788199</td>\n",
       "      <td>17-12-7471399</td>\n",
       "      <td>USPECCT1832017</td>\n",
       "      <td>1832017</td>\n",
       "      <td>2017</td>\n",
       "      <td>2017</td>\n",
       "      <td>Nacional</td>\n",
       "      <td>DEPARTAMENTAL CENTRALIZADO</td>\n",
       "      <td>UNIDAD DE SERVICIOS PENITENCIARIOS Y CARCELARI...</td>\n",
       "      <td>900523392</td>\n",
       "      <td>111001395</td>\n",
       "      <td>Contratación Directa (Ley 1150 de 2007)</td>\n",
       "      <td>Liquidado</td>\n",
       "      <td>Equipos y Suministros de Defensa, Orden Public...</td>\n",
       "      <td>Adquisición de pistolas Córdova calibre 9 mm3r...</td>\n",
       "      <td>Adquisición de pistolas Córdova calibre 9 mm3r...</td>\n",
       "      <td>Otro Tipo de Contrato</td>\n",
       "      <td>Bogotá DC</td>\n",
       "      <td>Bogotá DC</td>\n",
       "      <td>E</td>\n",
       "      <td>[E] Productos de Uso Final</td>\n",
       "      <td>4610</td>\n",
       "      <td>Armas ligeras y munición</td>\n",
       "      <td>461015</td>\n",
       "      <td>Armas de fuego</td>\n",
       "      <td>Nit de Persona Jurídica</td>\n",
       "      <td>899999044</td>\n",
       "      <td>INDUSTRIA MILITAR DE COLOMBIA  INDUMIL</td>\n",
       "      <td>Cédula de Ciudadanía</td>\n",
       "      <td>3181530</td>\n",
       "      <td>ALEJANDRO MIGUEL NAVAS RAMOS</td>\n",
       "      <td>No Definido</td>\n",
       "      <td>2017-12-27T00:00:00.000</td>\n",
       "      <td>2017-12-28T00:00:00.000</td>\n",
       "      <td>3</td>\n",
       "      <td>D</td>\n",
       "      <td>0</td>\n",
       "      <td>5</td>\n",
       "      <td>2018-05-30T00:00:00.000</td>\n",
       "      <td>7617409795</td>\n",
       "      <td>0</td>\n",
       "      <td>7617409795</td>\n",
       "      <td>Peso Colombiano</td>\n",
       "      <td>2019-08-15T00:00:00.000</td>\n",
       "      <td>Suministro de Armas</td>\n",
       "      <td>V1.46101500</td>\n",
       "      <td>SECOP_I</td>\n",
       "      <td>NaN</td>\n",
       "      <td>NaN</td>\n",
       "      <td>NaN</td>\n",
       "      <td>NaN</td>\n",
       "      <td>NaN</td>\n",
       "      <td>NaN</td>\n",
       "      <td>NaN</td>\n",
       "      <td>NaN</td>\n",
       "      <td>NaN</td>\n",
       "      <td>NaN</td>\n",
       "      <td>NaN</td>\n",
       "      <td>NaN</td>\n",
       "    </tr>\n",
       "    <tr>\n",
       "      <th>3299</th>\n",
       "      <td>15-12-4085889-3779803</td>\n",
       "      <td>15-12-4085889</td>\n",
       "      <td>13242015</td>\n",
       "      <td>13242015</td>\n",
       "      <td>2015</td>\n",
       "      <td>2015</td>\n",
       "      <td>Territorial</td>\n",
       "      <td>DISTRITO CAPITAL</td>\n",
       "      <td>BOGOTÁ DC  SECRETARÍA DE GOBIERNO</td>\n",
       "      <td>899999061</td>\n",
       "      <td>01002002</td>\n",
       "      <td>Contratación Directa (Ley 1150 de 2007)</td>\n",
       "      <td>Liquidado</td>\n",
       "      <td>Equipos y Suministros de Defensa, Orden Public...</td>\n",
       "      <td>ADQUISICIÓN DE ELEMENTOS DE SEGURIDAD ARMAS Y ...</td>\n",
       "      <td>ADQUISICIÓN DE ELEMENTOS DE SEGURIDAD ARMAS Y ...</td>\n",
       "      <td>Otro Tipo de Contrato</td>\n",
       "      <td>Bogotá DC</td>\n",
       "      <td>Bogotá DC</td>\n",
       "      <td>E</td>\n",
       "      <td>[E] Productos de Uso Final</td>\n",
       "      <td>4610</td>\n",
       "      <td>Armas ligeras y munición</td>\n",
       "      <td>461015</td>\n",
       "      <td>Armas de fuego</td>\n",
       "      <td>Nit de Persona Jurídica</td>\n",
       "      <td>8999990443</td>\n",
       "      <td>INDUSTRIA MILITAR INDUMIL</td>\n",
       "      <td>Cédula de Ciudadanía</td>\n",
       "      <td>80410835</td>\n",
       "      <td>JUAN MANUEL PADILLA CEPEDA</td>\n",
       "      <td>No Definido</td>\n",
       "      <td>2015-06-19T00:00:00.000</td>\n",
       "      <td>2015-06-19T00:00:00.000</td>\n",
       "      <td>90</td>\n",
       "      <td>D</td>\n",
       "      <td>0</td>\n",
       "      <td>0</td>\n",
       "      <td>2015-09-19T00:00:00.000</td>\n",
       "      <td>75356906</td>\n",
       "      <td>0</td>\n",
       "      <td>75356906</td>\n",
       "      <td>No Definido</td>\n",
       "      <td>2017-11-30T00:00:00.000</td>\n",
       "      <td>Suministro de Armas</td>\n",
       "      <td>V1.46101500</td>\n",
       "      <td>SECOP_I</td>\n",
       "      <td>NaN</td>\n",
       "      <td>NaN</td>\n",
       "      <td>NaN</td>\n",
       "      <td>NaN</td>\n",
       "      <td>NaN</td>\n",
       "      <td>NaN</td>\n",
       "      <td>NaN</td>\n",
       "      <td>NaN</td>\n",
       "      <td>NaN</td>\n",
       "      <td>NaN</td>\n",
       "      <td>NaN</td>\n",
       "      <td>NaN</td>\n",
       "    </tr>\n",
       "    <tr>\n",
       "      <th>3494</th>\n",
       "      <td>18-4-8307968-7595918</td>\n",
       "      <td>18-4-8307968</td>\n",
       "      <td>CMC0672018</td>\n",
       "      <td>CMC0672018</td>\n",
       "      <td>2018</td>\n",
       "      <td>2018</td>\n",
       "      <td>Territorial</td>\n",
       "      <td>DEPARTAMENTAL CENTRALIZADO</td>\n",
       "      <td>CÓRDOBA  JAGUAZUL SA ESP  MONTELÍBANO</td>\n",
       "      <td>900258155-6</td>\n",
       "      <td>223466021</td>\n",
       "      <td>Contratación régimen especial</td>\n",
       "      <td>Celebrado</td>\n",
       "      <td>Equipos y Suministros de Defensa, Orden Public...</td>\n",
       "      <td>SUMINISTRO DE INSUMOS Y MUNICIONES PARA EL DES...</td>\n",
       "      <td>SUMINISTRO DE INSUMOS Y MUNICIONES PARA EL DES...</td>\n",
       "      <td>Suministros</td>\n",
       "      <td>Montelíbano</td>\n",
       "      <td>Córdoba</td>\n",
       "      <td>E</td>\n",
       "      <td>[E] Productos de Uso Final</td>\n",
       "      <td>4610</td>\n",
       "      <td>Armas ligeras y munición</td>\n",
       "      <td>461016</td>\n",
       "      <td>Munición</td>\n",
       "      <td>Nit de Persona Jurídica</td>\n",
       "      <td>811040462</td>\n",
       "      <td>ASESORÍA Y REPRESENTACIONES AGROINDUSTRIALES SAS</td>\n",
       "      <td>Cédula de Ciudadanía</td>\n",
       "      <td>98639562</td>\n",
       "      <td>JHON ALBERTO AGUIRRE SEPULVEDA</td>\n",
       "      <td>No Definido</td>\n",
       "      <td>2018-08-08T00:00:00.000</td>\n",
       "      <td>2018-08-08T00:00:00.000</td>\n",
       "      <td>150</td>\n",
       "      <td>D</td>\n",
       "      <td>0</td>\n",
       "      <td>0</td>\n",
       "      <td>2019-01-08T00:00:00.000</td>\n",
       "      <td>7435164</td>\n",
       "      <td>0</td>\n",
       "      <td>7435164</td>\n",
       "      <td>Peso Colombiano</td>\n",
       "      <td>NaN</td>\n",
       "      <td>Suministro de Armas</td>\n",
       "      <td>V1.46101600</td>\n",
       "      <td>SECOP_I</td>\n",
       "      <td>NaN</td>\n",
       "      <td>NaN</td>\n",
       "      <td>NaN</td>\n",
       "      <td>NaN</td>\n",
       "      <td>NaN</td>\n",
       "      <td>NaN</td>\n",
       "      <td>NaN</td>\n",
       "      <td>NaN</td>\n",
       "      <td>NaN</td>\n",
       "      <td>NaN</td>\n",
       "      <td>NaN</td>\n",
       "      <td>NaN</td>\n",
       "    </tr>\n",
       "    <tr>\n",
       "      <th>3705</th>\n",
       "      <td>19-4-10070933-9420786</td>\n",
       "      <td>19-4-10070933</td>\n",
       "      <td>89432019</td>\n",
       "      <td>4500005402  03</td>\n",
       "      <td>2019</td>\n",
       "      <td>2019</td>\n",
       "      <td>Nacional</td>\n",
       "      <td>CENTRALIZADO</td>\n",
       "      <td>INDUMIL  INDUSTRIA MILITAR</td>\n",
       "      <td>899999044</td>\n",
       "      <td>115014003</td>\n",
       "      <td>Contratación régimen especial</td>\n",
       "      <td>Celebrado</td>\n",
       "      <td>Equipos y Suministros de Defensa, Orden Public...</td>\n",
       "      <td>ADQUISICION PIEZAS SEMIELABORADAS PARA PISTOLA...</td>\n",
       "      <td>ADQUISICION PIEZAS SEMIELABORADAS PARA PISTOLA...</td>\n",
       "      <td>Compraventa</td>\n",
       "      <td>Bogotá DC</td>\n",
       "      <td>Bogotá DC</td>\n",
       "      <td>E</td>\n",
       "      <td>[E] Productos de Uso Final</td>\n",
       "      <td>4610</td>\n",
       "      <td>Armas ligeras y munición</td>\n",
       "      <td>461015</td>\n",
       "      <td>Armas de fuego</td>\n",
       "      <td>Nit de Persona Jurídica</td>\n",
       "      <td>901170640</td>\n",
       "      <td>INGENIERIA Y MECANIZADOS CNC DE COLOMBIA LTDA ...</td>\n",
       "      <td>Cédula de Ciudadanía</td>\n",
       "      <td>79508504</td>\n",
       "      <td>MANUEL ALBERTO MORENO MORENO</td>\n",
       "      <td>Hombre</td>\n",
       "      <td>2019-12-10T00:00:00.000</td>\n",
       "      <td>2020-01-09T00:00:00.000</td>\n",
       "      <td>65</td>\n",
       "      <td>D</td>\n",
       "      <td>0</td>\n",
       "      <td>0</td>\n",
       "      <td>2020-03-14T00:00:00.000</td>\n",
       "      <td>72923200</td>\n",
       "      <td>0</td>\n",
       "      <td>72923200</td>\n",
       "      <td>Peso Colombiano</td>\n",
       "      <td>NaN</td>\n",
       "      <td>Suministro de Armas</td>\n",
       "      <td>V1.46101500</td>\n",
       "      <td>SECOP_I</td>\n",
       "      <td>NaN</td>\n",
       "      <td>NaN</td>\n",
       "      <td>NaN</td>\n",
       "      <td>NaN</td>\n",
       "      <td>NaN</td>\n",
       "      <td>NaN</td>\n",
       "      <td>NaN</td>\n",
       "      <td>NaN</td>\n",
       "      <td>NaN</td>\n",
       "      <td>NaN</td>\n",
       "      <td>NaN</td>\n",
       "      <td>NaN</td>\n",
       "    </tr>\n",
       "    <tr>\n",
       "      <th>3757</th>\n",
       "      <td>20-9-468717-10543507</td>\n",
       "      <td>20-9-468717</td>\n",
       "      <td>MMSASISGOB0122020</td>\n",
       "      <td>4422020</td>\n",
       "      <td>2020</td>\n",
       "      <td>2020</td>\n",
       "      <td>Territorial</td>\n",
       "      <td>DISTRITAL MUNICIPAL NIVEL 4</td>\n",
       "      <td>CASANARE  ALCALDÍA MUNICIPIO DE MONTERREY</td>\n",
       "      <td>891857824-3</td>\n",
       "      <td>223001061</td>\n",
       "      <td>Subasta</td>\n",
       "      <td>Liquidado</td>\n",
       "      <td>Equipos y Suministros de Defensa, Orden Public...</td>\n",
       "      <td>ADQUISICIÓN DE MATERIAL DE INTENDENCIA PARA EL...</td>\n",
       "      <td>ADQUISICIÓN DE MATERIAL DE INTENDENCIA PARA EL...</td>\n",
       "      <td>Compraventa</td>\n",
       "      <td>Monterrey</td>\n",
       "      <td>Casanare</td>\n",
       "      <td>E</td>\n",
       "      <td>[E] Productos de Uso Final</td>\n",
       "      <td>4610</td>\n",
       "      <td>Armas ligeras y munición</td>\n",
       "      <td>461018</td>\n",
       "      <td>Accesorios de armas y municiones</td>\n",
       "      <td>Nit de Persona Natural</td>\n",
       "      <td>74856324</td>\n",
       "      <td>PUBLIO ERNESTO PARRA CARDOZO</td>\n",
       "      <td>Cédula de Ciudadanía</td>\n",
       "      <td>74856324</td>\n",
       "      <td>PUBLIO ERNESTO PARRA CARDOZO</td>\n",
       "      <td>Hombre</td>\n",
       "      <td>2020-12-03T00:00:00.000</td>\n",
       "      <td>2020-12-07T00:00:00.000</td>\n",
       "      <td>15</td>\n",
       "      <td>D</td>\n",
       "      <td>0</td>\n",
       "      <td>0</td>\n",
       "      <td>2020-12-22T00:00:00.000</td>\n",
       "      <td>72422048</td>\n",
       "      <td>0</td>\n",
       "      <td>72422048</td>\n",
       "      <td>Peso Colombiano</td>\n",
       "      <td>2020-12-23T00:00:00.000</td>\n",
       "      <td>Suministro de Armas</td>\n",
       "      <td>V1.46101800</td>\n",
       "      <td>SECOP_I</td>\n",
       "      <td>NaN</td>\n",
       "      <td>NaN</td>\n",
       "      <td>NaN</td>\n",
       "      <td>NaN</td>\n",
       "      <td>NaN</td>\n",
       "      <td>NaN</td>\n",
       "      <td>NaN</td>\n",
       "      <td>NaN</td>\n",
       "      <td>NaN</td>\n",
       "      <td>NaN</td>\n",
       "      <td>NaN</td>\n",
       "      <td>NaN</td>\n",
       "    </tr>\n",
       "    <tr>\n",
       "      <th>3944</th>\n",
       "      <td>18-4-8672610-8348669</td>\n",
       "      <td>18-4-8672610</td>\n",
       "      <td>1472018</td>\n",
       "      <td>21392018</td>\n",
       "      <td>2018</td>\n",
       "      <td>2018</td>\n",
       "      <td>Nacional</td>\n",
       "      <td>CENTRALIZADO</td>\n",
       "      <td>INDUMIL  INDUSTRIA MILITAR</td>\n",
       "      <td>899999044</td>\n",
       "      <td>115014003</td>\n",
       "      <td>Contratación régimen especial</td>\n",
       "      <td>Liquidado</td>\n",
       "      <td>Equipos y Suministros de Defensa, Orden Public...</td>\n",
       "      <td>adquisición componentes para munición 765 mm</td>\n",
       "      <td>COMPONENTES MUNICIÓN 765 MM</td>\n",
       "      <td>Compraventa</td>\n",
       "      <td>Bogotá DC</td>\n",
       "      <td>Bogotá DC</td>\n",
       "      <td>E</td>\n",
       "      <td>[E] Productos de Uso Final</td>\n",
       "      <td>4610</td>\n",
       "      <td>Armas ligeras y munición</td>\n",
       "      <td>461016</td>\n",
       "      <td>Munición</td>\n",
       "      <td>Nit de Persona Jurídica</td>\n",
       "      <td>860090291</td>\n",
       "      <td>IZMA SAS</td>\n",
       "      <td>Nit de Persona Jurídica</td>\n",
       "      <td>80419108</td>\n",
       "      <td>ANDRES REYES SMITH</td>\n",
       "      <td>No Definido</td>\n",
       "      <td>2018-12-31T00:00:00.000</td>\n",
       "      <td>2019-02-28T00:00:00.000</td>\n",
       "      <td>210</td>\n",
       "      <td>D</td>\n",
       "      <td>0</td>\n",
       "      <td>0</td>\n",
       "      <td>2019-09-26T00:00:00.000</td>\n",
       "      <td>715180732</td>\n",
       "      <td>0</td>\n",
       "      <td>715180732</td>\n",
       "      <td>Dólar de EE.UU.</td>\n",
       "      <td>2019-12-11T00:00:00.000</td>\n",
       "      <td>Suministro de Armas</td>\n",
       "      <td>V1.46101600</td>\n",
       "      <td>SECOP_I</td>\n",
       "      <td>NaN</td>\n",
       "      <td>NaN</td>\n",
       "      <td>NaN</td>\n",
       "      <td>NaN</td>\n",
       "      <td>NaN</td>\n",
       "      <td>NaN</td>\n",
       "      <td>NaN</td>\n",
       "      <td>NaN</td>\n",
       "      <td>NaN</td>\n",
       "      <td>NaN</td>\n",
       "      <td>NaN</td>\n",
       "      <td>NaN</td>\n",
       "    </tr>\n",
       "    <tr>\n",
       "      <th>4284</th>\n",
       "      <td>17-13-6397509-5922788</td>\n",
       "      <td>17-13-6397509</td>\n",
       "      <td>070CGFM DEL 2017</td>\n",
       "      <td>ACEPTACIÓN DE OFERTA 18717</td>\n",
       "      <td>2017</td>\n",
       "      <td>2017</td>\n",
       "      <td>Nacional</td>\n",
       "      <td>CENTRALIZADO</td>\n",
       "      <td>COMANDO GENERAL DE LAS FUERZAS MILITARES</td>\n",
       "      <td>800230729</td>\n",
       "      <td>115004003</td>\n",
       "      <td>Contratación Mínima Cuantía</td>\n",
       "      <td>Liquidado</td>\n",
       "      <td>Equipos y Suministros de Defensa, Orden Public...</td>\n",
       "      <td>ADQUIRIR DOTACIÓN PARA LAS OLIMPIADAS MILITARE...</td>\n",
       "      <td>requiere adquirir dotación para las olimpiadas...</td>\n",
       "      <td>Compraventa</td>\n",
       "      <td>Bogotá DC</td>\n",
       "      <td>Bogotá DC</td>\n",
       "      <td>E</td>\n",
       "      <td>[E] Productos de Uso Final</td>\n",
       "      <td>4610</td>\n",
       "      <td>Armas ligeras y munición</td>\n",
       "      <td>461018</td>\n",
       "      <td>Accesorios de armas y municiones</td>\n",
       "      <td>Nit de Persona Jurídica</td>\n",
       "      <td>830113762</td>\n",
       "      <td>REPRESENTACIONES CS SAS</td>\n",
       "      <td>Cédula de Ciudadanía</td>\n",
       "      <td>51713046</td>\n",
       "      <td>CLAUDIA LILIANA SERRANO PINZON</td>\n",
       "      <td>No Definido</td>\n",
       "      <td>2017-04-06T00:00:00.000</td>\n",
       "      <td>2017-04-20T00:00:00.000</td>\n",
       "      <td>60</td>\n",
       "      <td>D</td>\n",
       "      <td>21</td>\n",
       "      <td>0</td>\n",
       "      <td>2017-06-20T00:00:00.000</td>\n",
       "      <td>69687590</td>\n",
       "      <td>19926550</td>\n",
       "      <td>89614140</td>\n",
       "      <td>No Definido</td>\n",
       "      <td>2018-06-20T00:00:00.000</td>\n",
       "      <td>Suministro de Armas</td>\n",
       "      <td>V1.46101800</td>\n",
       "      <td>SECOP_I</td>\n",
       "      <td>NaN</td>\n",
       "      <td>NaN</td>\n",
       "      <td>NaN</td>\n",
       "      <td>NaN</td>\n",
       "      <td>NaN</td>\n",
       "      <td>NaN</td>\n",
       "      <td>NaN</td>\n",
       "      <td>NaN</td>\n",
       "      <td>NaN</td>\n",
       "      <td>NaN</td>\n",
       "      <td>NaN</td>\n",
       "      <td>NaN</td>\n",
       "    </tr>\n",
       "    <tr>\n",
       "      <th>4285</th>\n",
       "      <td>19-12-10218367-9342310</td>\n",
       "      <td>19-12-10218367</td>\n",
       "      <td>04252019</td>\n",
       "      <td>04252019</td>\n",
       "      <td>2019</td>\n",
       "      <td>2019</td>\n",
       "      <td>Territorial</td>\n",
       "      <td>DISTRITAL MUNICIPAL NIVEL 6</td>\n",
       "      <td>CASANARE  ALCALDÍA MUNICIPIO DE MANI</td>\n",
       "      <td>892301761-5</td>\n",
       "      <td>285139011</td>\n",
       "      <td>Contratación Directa (Ley 1150 de 2007)</td>\n",
       "      <td>Liquidado</td>\n",
       "      <td>Equipos y Suministros de Defensa, Orden Public...</td>\n",
       "      <td>ADQUISICIÓN DE ARMAS NO LETALES DISPOSITIVOS D...</td>\n",
       "      <td>ADQUISICIÓN DE ARMAS NO LETALES DISPOSITIVOS D...</td>\n",
       "      <td>Compraventa</td>\n",
       "      <td>Maní</td>\n",
       "      <td>Casanare</td>\n",
       "      <td>E</td>\n",
       "      <td>[E] Productos de Uso Final</td>\n",
       "      <td>4610</td>\n",
       "      <td>Armas ligeras y munición</td>\n",
       "      <td>461018</td>\n",
       "      <td>Accesorios de armas y municiones</td>\n",
       "      <td>Nit de Persona Jurídica</td>\n",
       "      <td>830040391</td>\n",
       "      <td>EAGLE COMMERCIAL SA</td>\n",
       "      <td>Cédula de Ciudadanía</td>\n",
       "      <td>19496715</td>\n",
       "      <td>ARQUIMEDES SEGUNDO BONILLA VEGA</td>\n",
       "      <td>Hombre</td>\n",
       "      <td>2019-12-09T00:00:00.000</td>\n",
       "      <td>2019-12-12T00:00:00.000</td>\n",
       "      <td>20</td>\n",
       "      <td>D</td>\n",
       "      <td>0</td>\n",
       "      <td>0</td>\n",
       "      <td>2020-01-01T00:00:00.000</td>\n",
       "      <td>69675068</td>\n",
       "      <td>0</td>\n",
       "      <td>69675068</td>\n",
       "      <td>Peso Colombiano</td>\n",
       "      <td>2019-12-31T00:00:00.000</td>\n",
       "      <td>Suministro de Armas</td>\n",
       "      <td>V1.46101800</td>\n",
       "      <td>SECOP_I</td>\n",
       "      <td>NaN</td>\n",
       "      <td>NaN</td>\n",
       "      <td>NaN</td>\n",
       "      <td>NaN</td>\n",
       "      <td>NaN</td>\n",
       "      <td>NaN</td>\n",
       "      <td>NaN</td>\n",
       "      <td>NaN</td>\n",
       "      <td>NaN</td>\n",
       "      <td>NaN</td>\n",
       "      <td>NaN</td>\n",
       "      <td>NaN</td>\n",
       "    </tr>\n",
       "    <tr>\n",
       "      <th>4452</th>\n",
       "      <td>19-4-9227467-8879937</td>\n",
       "      <td>19-4-9227467</td>\n",
       "      <td>0442019</td>\n",
       "      <td>10582019</td>\n",
       "      <td>2019</td>\n",
       "      <td>2019</td>\n",
       "      <td>Nacional</td>\n",
       "      <td>CENTRALIZADO</td>\n",
       "      <td>INDUMIL  INDUSTRIA MILITAR</td>\n",
       "      <td>899999044</td>\n",
       "      <td>115014003</td>\n",
       "      <td>Contratación régimen especial</td>\n",
       "      <td>Liquidado</td>\n",
       "      <td>Equipos y Suministros de Defensa, Orden Public...</td>\n",
       "      <td>ADQUISICICIÓN DE MUNICIÓN IMPORTADA VARIAS REF...</td>\n",
       "      <td>Adquisición munición importada varias referencias</td>\n",
       "      <td>Compraventa</td>\n",
       "      <td>Bogotá DC</td>\n",
       "      <td>Bogotá DC</td>\n",
       "      <td>E</td>\n",
       "      <td>[E] Productos de Uso Final</td>\n",
       "      <td>4610</td>\n",
       "      <td>Armas ligeras y munición</td>\n",
       "      <td>461016</td>\n",
       "      <td>Munición</td>\n",
       "      <td>Nit de Persona Jurídica</td>\n",
       "      <td>900022799</td>\n",
       "      <td>GLOBAL MARK SAS</td>\n",
       "      <td>Cédula de Ciudadanía</td>\n",
       "      <td>79530405</td>\n",
       "      <td>RICARDO FACIO LINCE 79530405</td>\n",
       "      <td>No Definido</td>\n",
       "      <td>2019-07-15T00:00:00.000</td>\n",
       "      <td>2019-07-22T00:00:00.000</td>\n",
       "      <td>90</td>\n",
       "      <td>D</td>\n",
       "      <td>0</td>\n",
       "      <td>0</td>\n",
       "      <td>2019-10-20T00:00:00.000</td>\n",
       "      <td>687803280</td>\n",
       "      <td>0</td>\n",
       "      <td>687803280</td>\n",
       "      <td>Dólar de EE.UU.</td>\n",
       "      <td>2020-06-24T00:00:00.000</td>\n",
       "      <td>Suministro de Armas</td>\n",
       "      <td>V1.46101600</td>\n",
       "      <td>SECOP_I</td>\n",
       "      <td>NaN</td>\n",
       "      <td>NaN</td>\n",
       "      <td>NaN</td>\n",
       "      <td>NaN</td>\n",
       "      <td>NaN</td>\n",
       "      <td>NaN</td>\n",
       "      <td>NaN</td>\n",
       "      <td>NaN</td>\n",
       "      <td>NaN</td>\n",
       "      <td>NaN</td>\n",
       "      <td>NaN</td>\n",
       "      <td>NaN</td>\n",
       "    </tr>\n",
       "  </tbody>\n",
       "</table>\n",
       "</div>\n",
       "      <button class=\"colab-df-convert\" onclick=\"convertToInteractive('df-21fc40ca-b130-40df-9c29-4c93f02a8522')\"\n",
       "              title=\"Convert this dataframe to an interactive table.\"\n",
       "              style=\"display:none;\">\n",
       "        \n",
       "  <svg xmlns=\"http://www.w3.org/2000/svg\" height=\"24px\"viewBox=\"0 0 24 24\"\n",
       "       width=\"24px\">\n",
       "    <path d=\"M0 0h24v24H0V0z\" fill=\"none\"/>\n",
       "    <path d=\"M18.56 5.44l.94 2.06.94-2.06 2.06-.94-2.06-.94-.94-2.06-.94 2.06-2.06.94zm-11 1L8.5 8.5l.94-2.06 2.06-.94-2.06-.94L8.5 2.5l-.94 2.06-2.06.94zm10 10l.94 2.06.94-2.06 2.06-.94-2.06-.94-.94-2.06-.94 2.06-2.06.94z\"/><path d=\"M17.41 7.96l-1.37-1.37c-.4-.4-.92-.59-1.43-.59-.52 0-1.04.2-1.43.59L10.3 9.45l-7.72 7.72c-.78.78-.78 2.05 0 2.83L4 21.41c.39.39.9.59 1.41.59.51 0 1.02-.2 1.41-.59l7.78-7.78 2.81-2.81c.8-.78.8-2.07 0-2.86zM5.41 20L4 18.59l7.72-7.72 1.47 1.35L5.41 20z\"/>\n",
       "  </svg>\n",
       "      </button>\n",
       "      \n",
       "  <style>\n",
       "    .colab-df-container {\n",
       "      display:flex;\n",
       "      flex-wrap:wrap;\n",
       "      gap: 12px;\n",
       "    }\n",
       "\n",
       "    .colab-df-convert {\n",
       "      background-color: #E8F0FE;\n",
       "      border: none;\n",
       "      border-radius: 50%;\n",
       "      cursor: pointer;\n",
       "      display: none;\n",
       "      fill: #1967D2;\n",
       "      height: 32px;\n",
       "      padding: 0 0 0 0;\n",
       "      width: 32px;\n",
       "    }\n",
       "\n",
       "    .colab-df-convert:hover {\n",
       "      background-color: #E2EBFA;\n",
       "      box-shadow: 0px 1px 2px rgba(60, 64, 67, 0.3), 0px 1px 3px 1px rgba(60, 64, 67, 0.15);\n",
       "      fill: #174EA6;\n",
       "    }\n",
       "\n",
       "    [theme=dark] .colab-df-convert {\n",
       "      background-color: #3B4455;\n",
       "      fill: #D2E3FC;\n",
       "    }\n",
       "\n",
       "    [theme=dark] .colab-df-convert:hover {\n",
       "      background-color: #434B5C;\n",
       "      box-shadow: 0px 1px 3px 1px rgba(0, 0, 0, 0.15);\n",
       "      filter: drop-shadow(0px 1px 2px rgba(0, 0, 0, 0.3));\n",
       "      fill: #FFFFFF;\n",
       "    }\n",
       "  </style>\n",
       "\n",
       "      <script>\n",
       "        const buttonEl =\n",
       "          document.querySelector('#df-21fc40ca-b130-40df-9c29-4c93f02a8522 button.colab-df-convert');\n",
       "        buttonEl.style.display =\n",
       "          google.colab.kernel.accessAllowed ? 'block' : 'none';\n",
       "\n",
       "        async function convertToInteractive(key) {\n",
       "          const element = document.querySelector('#df-21fc40ca-b130-40df-9c29-4c93f02a8522');\n",
       "          const dataTable =\n",
       "            await google.colab.kernel.invokeFunction('convertToInteractive',\n",
       "                                                     [key], {});\n",
       "          if (!dataTable) return;\n",
       "\n",
       "          const docLinkHtml = 'Like what you see? Visit the ' +\n",
       "            '<a target=\"_blank\" href=https://colab.research.google.com/notebooks/data_table.ipynb>data table notebook</a>'\n",
       "            + ' to learn more about interactive tables.';\n",
       "          element.innerHTML = '';\n",
       "          dataTable['output_type'] = 'display_data';\n",
       "          await google.colab.output.renderOutput(dataTable, element);\n",
       "          const docLink = document.createElement('div');\n",
       "          docLink.innerHTML = docLinkHtml;\n",
       "          element.appendChild(docLink);\n",
       "        }\n",
       "      </script>\n",
       "    </div>\n",
       "  </div>\n",
       "  "
      ],
      "text/plain": [
       "                         uid numero_de_constancia  numero_de_proceso  \\\n",
       "71    21-4-12044316-11157010        21-4-12044316   CFLSPCMC00202021   \n",
       "202    18-13-7889356-7195387        18-13-7889356      IPMCSG0172018   \n",
       "235    18-13-8026374-7307874        18-13-8026374       IP No0232018   \n",
       "650     18-4-7610075-6921291         18-4-7610075            1032017   \n",
       "770     19-4-9629790-8930109         19-4-9629790           86442019   \n",
       "837     17-4-6128460-5613348         17-4-6128460         CMC0142017   \n",
       "1286    18-4-8567728-8204226         18-4-8567728            1312018   \n",
       "1670   19-4-10056461-9422518        19-4-10056461           89492019   \n",
       "2287    17-4-6046072-5505059         17-4-6046072            2082015   \n",
       "2435   19-4-10012400-9394797        19-4-10012400           89082019   \n",
       "2950    17-4-6046072-5505014         17-4-6046072            2082015   \n",
       "3226   17-12-7471399-6788199        17-12-7471399     USPECCT1832017   \n",
       "3299   15-12-4085889-3779803        15-12-4085889           13242015   \n",
       "3494    18-4-8307968-7595918         18-4-8307968         CMC0672018   \n",
       "3705   19-4-10070933-9420786        19-4-10070933           89432019   \n",
       "3757    20-9-468717-10543507          20-9-468717  MMSASISGOB0122020   \n",
       "3944    18-4-8672610-8348669         18-4-8672610            1472018   \n",
       "4284   17-13-6397509-5922788        17-13-6397509   070CGFM DEL 2017   \n",
       "4285  19-12-10218367-9342310       19-12-10218367           04252019   \n",
       "4452    19-4-9227467-8879937         19-4-9227467            0442019   \n",
       "\n",
       "              numero_de_contrato anno_firma_contrato anno_cargue_secop  \\\n",
       "71                            20                2021              2021   \n",
       "202                          017                2018              2018   \n",
       "235                 CV No0062018                2018              2018   \n",
       "650                     10922017                2017              2018   \n",
       "770                   4500004780                2019              2019   \n",
       "837                   CMC0142017                2017              2017   \n",
       "1286                    11332018                2018              2018   \n",
       "1670                  4500005407                2019              2019   \n",
       "2287                    21502015                2015              2017   \n",
       "2435                  4500005317                2019              2019   \n",
       "2950                    21512015                2015              2017   \n",
       "3226                     1832017                2017              2017   \n",
       "3299                    13242015                2015              2015   \n",
       "3494                  CMC0672018                2018              2018   \n",
       "3705              4500005402  03                2019              2019   \n",
       "3757                     4422020                2020              2020   \n",
       "3944                    21392018                2018              2018   \n",
       "4284  ACEPTACIÓN DE OFERTA 18717                2017              2017   \n",
       "4285                    04252019                2019              2019   \n",
       "4452                    10582019                2019              2019   \n",
       "\n",
       "            orden           entidad_centralizada  \\\n",
       "71    Territorial               DISTRITO CAPITAL   \n",
       "202   Territorial  DEPARTAMENTAL DESCENTRALIZADO   \n",
       "235   Territorial    DISTRITAL MUNICIPAL NIVEL 6   \n",
       "650      Nacional                   CENTRALIZADO   \n",
       "770      Nacional                   CENTRALIZADO   \n",
       "837   Territorial     DEPARTAMENTAL CENTRALIZADO   \n",
       "1286     Nacional                   CENTRALIZADO   \n",
       "1670     Nacional                   CENTRALIZADO   \n",
       "2287     Nacional                   CENTRALIZADO   \n",
       "2435     Nacional                   CENTRALIZADO   \n",
       "2950     Nacional                   CENTRALIZADO   \n",
       "3226     Nacional     DEPARTAMENTAL CENTRALIZADO   \n",
       "3299  Territorial               DISTRITO CAPITAL   \n",
       "3494  Territorial     DEPARTAMENTAL CENTRALIZADO   \n",
       "3705     Nacional                   CENTRALIZADO   \n",
       "3757  Territorial    DISTRITAL MUNICIPAL NIVEL 4   \n",
       "3944     Nacional                   CENTRALIZADO   \n",
       "4284     Nacional                   CENTRALIZADO   \n",
       "4285  Territorial    DISTRITAL MUNICIPAL NIVEL 6   \n",
       "4452     Nacional                   CENTRALIZADO   \n",
       "\n",
       "                                         nombre_entidad  nit_entidad  \\\n",
       "71                BOGOTÁ DC  IED FABIO LOZANO SIMONELLI  No Definido   \n",
       "202                                GUAINÍA  GOBERNACIÓN  No Definido   \n",
       "235         CUNDINAMARCA  ALCALDÍA MUNICIPIO DE TIBACUY  800097176-6   \n",
       "650                          INDUMIL  INDUSTRIA MILITAR    899999044   \n",
       "770                          INDUMIL  INDUSTRIA MILITAR    899999044   \n",
       "837               CÓRDOBA  JAGUAZUL SA ESP  MONTELÍBANO  900258155-6   \n",
       "1286                         INDUMIL  INDUSTRIA MILITAR    899999044   \n",
       "1670                         INDUMIL  INDUSTRIA MILITAR    899999044   \n",
       "2287                         INDUMIL  INDUSTRIA MILITAR    899999044   \n",
       "2435                         INDUMIL  INDUSTRIA MILITAR    899999044   \n",
       "2950                         INDUMIL  INDUSTRIA MILITAR    899999044   \n",
       "3226  UNIDAD DE SERVICIOS PENITENCIARIOS Y CARCELARI...    900523392   \n",
       "3299                  BOGOTÁ DC  SECRETARÍA DE GOBIERNO    899999061   \n",
       "3494              CÓRDOBA  JAGUAZUL SA ESP  MONTELÍBANO  900258155-6   \n",
       "3705                         INDUMIL  INDUSTRIA MILITAR    899999044   \n",
       "3757          CASANARE  ALCALDÍA MUNICIPIO DE MONTERREY  891857824-3   \n",
       "3944                         INDUMIL  INDUSTRIA MILITAR    899999044   \n",
       "4284           COMANDO GENERAL DE LAS FUERZAS MILITARES    800230729   \n",
       "4285               CASANARE  ALCALDÍA MUNICIPIO DE MANI  892301761-5   \n",
       "4452                         INDUMIL  INDUSTRIA MILITAR    899999044   \n",
       "\n",
       "     codigo_entidad                modalidad_de_contratacion estado_contrato  \\\n",
       "71         01002071            Contratación régimen especial       Celebrado   \n",
       "202       294000001              Contratación Mínima Cuantía       Liquidado   \n",
       "235       225805011              Contratación Mínima Cuantía       Liquidado   \n",
       "650       115014003            Contratación régimen especial       Liquidado   \n",
       "770       115014003            Contratación régimen especial       Celebrado   \n",
       "837       223466021            Contratación régimen especial       Celebrado   \n",
       "1286      115014003            Contratación régimen especial       Liquidado   \n",
       "1670      115014003            Contratación régimen especial       Celebrado   \n",
       "2287      115014003            Contratación régimen especial       Celebrado   \n",
       "2435      115014003            Contratación régimen especial       Celebrado   \n",
       "2950      115014003            Contratación régimen especial       Celebrado   \n",
       "3226      111001395  Contratación Directa (Ley 1150 de 2007)       Liquidado   \n",
       "3299       01002002  Contratación Directa (Ley 1150 de 2007)       Liquidado   \n",
       "3494      223466021            Contratación régimen especial       Celebrado   \n",
       "3705      115014003            Contratación régimen especial       Celebrado   \n",
       "3757      223001061                                  Subasta       Liquidado   \n",
       "3944      115014003            Contratación régimen especial       Liquidado   \n",
       "4284      115004003              Contratación Mínima Cuantía       Liquidado   \n",
       "4285      285139011  Contratación Directa (Ley 1150 de 2007)       Liquidado   \n",
       "4452      115014003            Contratación régimen especial       Liquidado   \n",
       "\n",
       "                             justificacion_modalidad_de  \\\n",
       "71    Equipos y Suministros de Defensa, Orden Public...   \n",
       "202   Equipos y Suministros de Defensa, Orden Public...   \n",
       "235   Equipos y Suministros de Defensa, Orden Public...   \n",
       "650   Equipos y Suministros de Defensa, Orden Public...   \n",
       "770   Equipos y Suministros de Defensa, Orden Public...   \n",
       "837   Equipos y Suministros de Defensa, Orden Public...   \n",
       "1286  Equipos y Suministros de Defensa, Orden Public...   \n",
       "1670  Equipos y Suministros de Defensa, Orden Public...   \n",
       "2287  Equipos y Suministros de Defensa, Orden Public...   \n",
       "2435  Equipos y Suministros de Defensa, Orden Public...   \n",
       "2950  Equipos y Suministros de Defensa, Orden Public...   \n",
       "3226  Equipos y Suministros de Defensa, Orden Public...   \n",
       "3299  Equipos y Suministros de Defensa, Orden Public...   \n",
       "3494  Equipos y Suministros de Defensa, Orden Public...   \n",
       "3705  Equipos y Suministros de Defensa, Orden Public...   \n",
       "3757  Equipos y Suministros de Defensa, Orden Public...   \n",
       "3944  Equipos y Suministros de Defensa, Orden Public...   \n",
       "4284  Equipos y Suministros de Defensa, Orden Public...   \n",
       "4285  Equipos y Suministros de Defensa, Orden Public...   \n",
       "4452  Equipos y Suministros de Defensa, Orden Public...   \n",
       "\n",
       "                                    objeto_del_contrato  \\\n",
       "71    SEGUN LOS APROBADO EN EL CONSEJO DIRECTIVO DE ...   \n",
       "202   SUMINISTRO Y MANTENIMIENTO DE LAS INSTALACIONE...   \n",
       "235   ADQUISICION DE PISTOLA NOQUEADORA DE GANADO CA...   \n",
       "650   Adquisición munición de escopeta deportiva var...   \n",
       "770             ADQUISICIÓN DE SODA CAUSTICA EN ESCAMAS   \n",
       "837   COMPRAVENTA MUNICIONES E INSUMOS PARA EL DESAR...   \n",
       "1286           ADQUISCIÓN DE ESCOPETAS HATSAN CAL 12 7T   \n",
       "1670      ADQUISICION BASE TAPA DEL CARGADOR PARA FUSIL   \n",
       "2287       ADQUISICION DE COMPONENTES PARA MUNICION 9MM   \n",
       "2435  ADQUISICIÓN INSERTO CUERPO GUÍA CULATA PARA FUSIL   \n",
       "2950       Adquisicion de componentes para municion 9mm   \n",
       "3226  Adquisición de pistolas Córdova calibre 9 mm3r...   \n",
       "3299  ADQUISICIÓN DE ELEMENTOS DE SEGURIDAD ARMAS Y ...   \n",
       "3494  SUMINISTRO DE INSUMOS Y MUNICIONES PARA EL DES...   \n",
       "3705  ADQUISICION PIEZAS SEMIELABORADAS PARA PISTOLA...   \n",
       "3757  ADQUISICIÓN DE MATERIAL DE INTENDENCIA PARA EL...   \n",
       "3944       adquisición componentes para munición 765 mm   \n",
       "4284  ADQUIRIR DOTACIÓN PARA LAS OLIMPIADAS MILITARE...   \n",
       "4285  ADQUISICIÓN DE ARMAS NO LETALES DISPOSITIVOS D...   \n",
       "4452  ADQUISICICIÓN DE MUNICIÓN IMPORTADA VARIAS REF...   \n",
       "\n",
       "                                descripcion_del_proceso  \\\n",
       "71    SEGUN LOS APROBADO EN EL CONSEJO DIRECTIVO DE ...   \n",
       "202   SUMINISTRO Y MANTENIMIENTO DE LAS INSTALACIONE...   \n",
       "235   ADQUISICION DE PISTOLA NOQUEADORA DE GANADO CA...   \n",
       "650   Adquisición munición de escopeta deportiva var...   \n",
       "770             ADQUISICIÓN DE SODA CAUSTICA EN ESCAMAS   \n",
       "837   COMPRAVENTA MUNICIONES E INSUMOS PARA EL DESAR...   \n",
       "1286             Adquisición Escopetas Hatsan Cal 12 7T   \n",
       "1670      ADQUISICIÓN BASE TAPA DEL CARGADOR PARA FUSIL   \n",
       "2287       Adquisición de componentes para munición 9mm   \n",
       "2435  ADQUISICIÓN INSERTO CUERPO GUÍA CULATA PARA FUSIL   \n",
       "2950       Adquisición de componentes para munición 9mm   \n",
       "3226  Adquisición de pistolas Córdova calibre 9 mm3r...   \n",
       "3299  ADQUISICIÓN DE ELEMENTOS DE SEGURIDAD ARMAS Y ...   \n",
       "3494  SUMINISTRO DE INSUMOS Y MUNICIONES PARA EL DES...   \n",
       "3705  ADQUISICION PIEZAS SEMIELABORADAS PARA PISTOLA...   \n",
       "3757  ADQUISICIÓN DE MATERIAL DE INTENDENCIA PARA EL...   \n",
       "3944                        COMPONENTES MUNICIÓN 765 MM   \n",
       "4284  requiere adquirir dotación para las olimpiadas...   \n",
       "4285  ADQUISICIÓN DE ARMAS NO LETALES DISPOSITIVOS D...   \n",
       "4452  Adquisición munición importada varias referencias   \n",
       "\n",
       "           tipo_de_contrato municipio_entidad departamento_entidad id_grupo  \\\n",
       "71              Suministros         Bogotá DC            Bogotá DC        E   \n",
       "202             Suministros           Inírida              Guainía        E   \n",
       "235             Compraventa           Tibacuy         Cundinamarca        E   \n",
       "650             Compraventa         Bogotá DC            Bogotá DC        E   \n",
       "770             Compraventa         Bogotá DC            Bogotá DC        E   \n",
       "837             Compraventa       Montelíbano              Córdoba        E   \n",
       "1286            Compraventa         Bogotá DC            Bogotá DC        E   \n",
       "1670            Compraventa         Bogotá DC            Bogotá DC        E   \n",
       "2287            Compraventa         Bogotá DC            Bogotá DC        E   \n",
       "2435            Compraventa         Bogotá DC            Bogotá DC        E   \n",
       "2950            Compraventa         Bogotá DC            Bogotá DC        E   \n",
       "3226  Otro Tipo de Contrato         Bogotá DC            Bogotá DC        E   \n",
       "3299  Otro Tipo de Contrato         Bogotá DC            Bogotá DC        E   \n",
       "3494            Suministros       Montelíbano              Córdoba        E   \n",
       "3705            Compraventa         Bogotá DC            Bogotá DC        E   \n",
       "3757            Compraventa         Monterrey             Casanare        E   \n",
       "3944            Compraventa         Bogotá DC            Bogotá DC        E   \n",
       "4284            Compraventa         Bogotá DC            Bogotá DC        E   \n",
       "4285            Compraventa              Maní             Casanare        E   \n",
       "4452            Compraventa         Bogotá DC            Bogotá DC        E   \n",
       "\n",
       "                    nombre_grupo id_familia            nombre_familia  \\\n",
       "71    [E] Productos de Uso Final       4610  Armas ligeras y munición   \n",
       "202   [E] Productos de Uso Final       4610  Armas ligeras y munición   \n",
       "235   [E] Productos de Uso Final       4610  Armas ligeras y munición   \n",
       "650   [E] Productos de Uso Final       4610  Armas ligeras y munición   \n",
       "770   [E] Productos de Uso Final       4610  Armas ligeras y munición   \n",
       "837   [E] Productos de Uso Final       4610  Armas ligeras y munición   \n",
       "1286  [E] Productos de Uso Final       4610  Armas ligeras y munición   \n",
       "1670  [E] Productos de Uso Final       4610  Armas ligeras y munición   \n",
       "2287  [E] Productos de Uso Final       4610  Armas ligeras y munición   \n",
       "2435  [E] Productos de Uso Final       4610  Armas ligeras y munición   \n",
       "2950  [E] Productos de Uso Final       4610  Armas ligeras y munición   \n",
       "3226  [E] Productos de Uso Final       4610  Armas ligeras y munición   \n",
       "3299  [E] Productos de Uso Final       4610  Armas ligeras y munición   \n",
       "3494  [E] Productos de Uso Final       4610  Armas ligeras y munición   \n",
       "3705  [E] Productos de Uso Final       4610  Armas ligeras y munición   \n",
       "3757  [E] Productos de Uso Final       4610  Armas ligeras y munición   \n",
       "3944  [E] Productos de Uso Final       4610  Armas ligeras y munición   \n",
       "4284  [E] Productos de Uso Final       4610  Armas ligeras y munición   \n",
       "4285  [E] Productos de Uso Final       4610  Armas ligeras y munición   \n",
       "4452  [E] Productos de Uso Final       4610  Armas ligeras y munición   \n",
       "\n",
       "     id_clase                          nombre_clase     tipo_doc_contratista  \\\n",
       "71     461017  Sistemas de manipulación de munición  Nit de Persona Jurídica   \n",
       "202    461017  Sistemas de manipulación de munición   Nit de Persona Natural   \n",
       "235    461015                        Armas de fuego  Nit de Persona Jurídica   \n",
       "650    461016                              Munición   Nit de Persona Natural   \n",
       "770    461018      Accesorios de armas y municiones  Nit de Persona Jurídica   \n",
       "837    461016                              Munición  Nit de Persona Jurídica   \n",
       "1286   461015                        Armas de fuego  Nit de Persona Jurídica   \n",
       "1670   461018      Accesorios de armas y municiones  Nit de Persona Jurídica   \n",
       "2287   461016                              Munición  Nit de Persona Jurídica   \n",
       "2435   461018      Accesorios de armas y municiones  Nit de Persona Jurídica   \n",
       "2950   461016                              Munición  Nit de Persona Jurídica   \n",
       "3226   461015                        Armas de fuego  Nit de Persona Jurídica   \n",
       "3299   461015                        Armas de fuego  Nit de Persona Jurídica   \n",
       "3494   461016                              Munición  Nit de Persona Jurídica   \n",
       "3705   461015                        Armas de fuego  Nit de Persona Jurídica   \n",
       "3757   461018      Accesorios de armas y municiones   Nit de Persona Natural   \n",
       "3944   461016                              Munición  Nit de Persona Jurídica   \n",
       "4284   461018      Accesorios de armas y municiones  Nit de Persona Jurídica   \n",
       "4285   461018      Accesorios de armas y municiones  Nit de Persona Jurídica   \n",
       "4452   461016                              Munición  Nit de Persona Jurídica   \n",
       "\n",
       "     identificacion_contratista  \\\n",
       "71                    900387129   \n",
       "202                    19002620   \n",
       "235                   900481210   \n",
       "650                    19123158   \n",
       "770                   890906525   \n",
       "837                   811040462   \n",
       "1286                  830007780   \n",
       "1670                  860515518   \n",
       "2287                  860090291   \n",
       "2435                  900211361   \n",
       "2950                  900506094   \n",
       "3226                  899999044   \n",
       "3299                 8999990443   \n",
       "3494                  811040462   \n",
       "3705                  901170640   \n",
       "3757                   74856324   \n",
       "3944                  860090291   \n",
       "4284                  830113762   \n",
       "4285                  830040391   \n",
       "4452                  900022799   \n",
       "\n",
       "                           nom_razon_social_contratista  \\\n",
       "71                                  SOLUCIONES ISSO SAS   \n",
       "202                       FRANCISCO IVAN AGUDELO OSPINA   \n",
       "235                  SOCIEDAD AGROPECOL DE COLOMBIA SAS   \n",
       "650                               FERNANDO MILLAN PEREZ   \n",
       "770                                            BYCSA SA   \n",
       "837   ASESORIAS Y REPRESENTACIONES AGROINDUSTRIALES SAS   \n",
       "1286                             PRODEFENSA COLOMBIA SA   \n",
       "1670     COMPAÑIA DE PARTES Y ACCESORIOS SAS COMPAC SAS   \n",
       "2287  COMPANHIA BRASILERA DE CARTUCHOS CBC REPRESENT...   \n",
       "2435  INGENIERIA Y MECANIZADOS CNC DE COLOMBIA LTDA ...   \n",
       "2950  POONGSAN CORPORATION REPRESENTADA EN COLOMBIA ...   \n",
       "3226             INDUSTRIA MILITAR DE COLOMBIA  INDUMIL   \n",
       "3299                          INDUSTRIA MILITAR INDUMIL   \n",
       "3494   ASESORÍA Y REPRESENTACIONES AGROINDUSTRIALES SAS   \n",
       "3705  INGENIERIA Y MECANIZADOS CNC DE COLOMBIA LTDA ...   \n",
       "3757                       PUBLIO ERNESTO PARRA CARDOZO   \n",
       "3944                                           IZMA SAS   \n",
       "4284                            REPRESENTACIONES CS SAS   \n",
       "4285                                EAGLE COMMERCIAL SA   \n",
       "4452                                    GLOBAL MARK SAS   \n",
       "\n",
       "     tipo_doc_representante_legal identificacion_representante_legal  \\\n",
       "71           Cédula de Ciudadanía                           79523229   \n",
       "202          Cédula de Ciudadanía                           19002620   \n",
       "235          Cédula de Ciudadanía                            2965727   \n",
       "650          Cédula de Ciudadanía                           19123158   \n",
       "770          Cédula de Ciudadanía                           42875852   \n",
       "837          Cédula de Ciudadanía                           98639562   \n",
       "1286         Cédula de Ciudadanía                           17144686   \n",
       "1670         Cédula de Ciudadanía                            3044516   \n",
       "2287         Cédula de Ciudadanía                           39787768   \n",
       "2435         Cédula de Ciudadanía                           79508504   \n",
       "2950         Cédula de Ciudadanía                            8264619   \n",
       "3226         Cédula de Ciudadanía                            3181530   \n",
       "3299         Cédula de Ciudadanía                           80410835   \n",
       "3494         Cédula de Ciudadanía                           98639562   \n",
       "3705         Cédula de Ciudadanía                           79508504   \n",
       "3757         Cédula de Ciudadanía                           74856324   \n",
       "3944      Nit de Persona Jurídica                           80419108   \n",
       "4284         Cédula de Ciudadanía                           51713046   \n",
       "4285         Cédula de Ciudadanía                           19496715   \n",
       "4452         Cédula de Ciudadanía                           79530405   \n",
       "\n",
       "                nombre_representante_legal genero_representante_legal  \\\n",
       "71         FRANCISCO JAVIER GAMBOA PEDRAZA                     Hombre   \n",
       "202          FRANCISCO IVAN AGUDELO OSPINA                No Definido   \n",
       "235       CARLOS GIOVANNY GUTIERREZ CHARRY                No Definido   \n",
       "650                  FERNANDO MILLAN PEREZ                No Definido   \n",
       "770          ISABEL CRISTINA LOPEZ ARTEAGA                No Definido   \n",
       "837         JHON ALBERTO AGUIRRE SEPULVEDA                No Definido   \n",
       "1286  ARMANDO FRANCISCO FANDIÑO SAN MIGUEL                No Definido   \n",
       "1670               EDMUNDO NAVARRO ACEVEDO                     Hombre   \n",
       "2287              MARTHA IZQUIERDA MACHADO                No Definido   \n",
       "2435          MANUEL ALBERTO MORENO MORENO                     Hombre   \n",
       "2950         JOSE HUBER NEY ESPINAL ZAPATA                No Definido   \n",
       "3226          ALEJANDRO MIGUEL NAVAS RAMOS                No Definido   \n",
       "3299            JUAN MANUEL PADILLA CEPEDA                No Definido   \n",
       "3494        JHON ALBERTO AGUIRRE SEPULVEDA                No Definido   \n",
       "3705          MANUEL ALBERTO MORENO MORENO                     Hombre   \n",
       "3757          PUBLIO ERNESTO PARRA CARDOZO                     Hombre   \n",
       "3944                    ANDRES REYES SMITH                No Definido   \n",
       "4284        CLAUDIA LILIANA SERRANO PINZON                No Definido   \n",
       "4285       ARQUIMEDES SEGUNDO BONILLA VEGA                     Hombre   \n",
       "4452          RICARDO FACIO LINCE 79530405                No Definido   \n",
       "\n",
       "     fecha_de_firma_del_contrato fecha_de_inicio_del_contrato  \\\n",
       "71       2021-06-11T00:00:00.000      2021-06-11T00:00:00.000   \n",
       "202      2018-02-23T00:00:00.000      2018-02-27T00:00:00.000   \n",
       "235      2018-04-23T00:00:00.000      2018-06-19T00:00:00.000   \n",
       "650      2017-09-15T00:00:00.000      2017-09-15T00:00:00.000   \n",
       "770      2019-08-09T00:00:00.000      2019-08-09T00:00:00.000   \n",
       "837      2017-01-23T00:00:00.000      2017-01-23T00:00:00.000   \n",
       "1286     2018-12-31T00:00:00.000      2019-02-11T00:00:00.000   \n",
       "1670     2019-12-10T00:00:00.000      2019-12-10T00:00:00.000   \n",
       "2287     2015-12-15T00:00:00.000      2015-12-21T00:00:00.000   \n",
       "2435     2019-11-25T00:00:00.000      2019-12-12T00:00:00.000   \n",
       "2950     2015-12-15T00:00:00.000      2015-12-23T00:00:00.000   \n",
       "3226     2017-12-27T00:00:00.000      2017-12-28T00:00:00.000   \n",
       "3299     2015-06-19T00:00:00.000      2015-06-19T00:00:00.000   \n",
       "3494     2018-08-08T00:00:00.000      2018-08-08T00:00:00.000   \n",
       "3705     2019-12-10T00:00:00.000      2020-01-09T00:00:00.000   \n",
       "3757     2020-12-03T00:00:00.000      2020-12-07T00:00:00.000   \n",
       "3944     2018-12-31T00:00:00.000      2019-02-28T00:00:00.000   \n",
       "4284     2017-04-06T00:00:00.000      2017-04-20T00:00:00.000   \n",
       "4285     2019-12-09T00:00:00.000      2019-12-12T00:00:00.000   \n",
       "4452     2019-07-15T00:00:00.000      2019-07-22T00:00:00.000   \n",
       "\n",
       "     plazo_de_ejec_del_contrato rango_de_ejec_del_contrato  \\\n",
       "71                           30                          D   \n",
       "202                          10                          D   \n",
       "235                          20                          D   \n",
       "650                          75                          D   \n",
       "770                          35                          D   \n",
       "837                           2                          D   \n",
       "1286                        120                          D   \n",
       "1670                         25                          D   \n",
       "2287                        180                          D   \n",
       "2435                         30                          D   \n",
       "2950                        120                          D   \n",
       "3226                          3                          D   \n",
       "3299                         90                          D   \n",
       "3494                        150                          D   \n",
       "3705                         65                          D   \n",
       "3757                         15                          D   \n",
       "3944                        210                          D   \n",
       "4284                         60                          D   \n",
       "4285                         20                          D   \n",
       "4452                         90                          D   \n",
       "\n",
       "     tiempo_adiciones_en_dias tiempo_adiciones_en_meses  \\\n",
       "71                          0                         0   \n",
       "202                         0                         0   \n",
       "235                         0                         0   \n",
       "650                        45                         0   \n",
       "770                         0                         0   \n",
       "837                         0                         0   \n",
       "1286                        0                         0   \n",
       "1670                        0                         0   \n",
       "2287                        0                         0   \n",
       "2435                        0                         0   \n",
       "2950                        0                         0   \n",
       "3226                        0                         5   \n",
       "3299                        0                         0   \n",
       "3494                        0                         0   \n",
       "3705                        0                         0   \n",
       "3757                        0                         0   \n",
       "3944                        0                         0   \n",
       "4284                       21                         0   \n",
       "4285                        0                         0   \n",
       "4452                        0                         0   \n",
       "\n",
       "     fecha_de_fin_del_contrato  valor_del_contrato valor_total_de_adiciones  \\\n",
       "71     2021-07-11T00:00:00.000              993650                        0   \n",
       "202    2018-03-09T00:00:00.000             9792777                        0   \n",
       "235    2018-07-09T00:00:00.000             9750000                        0   \n",
       "650    2018-01-13T00:00:00.000           935539084                        0   \n",
       "770    2019-09-13T00:00:00.000             9282000                        0   \n",
       "837    2017-01-25T00:00:00.000              921833                        0   \n",
       "1286   2019-06-11T00:00:00.000            88689191                        0   \n",
       "1670   2020-01-04T00:00:00.000             8657250                        0   \n",
       "2287   2016-06-18T00:00:00.000           824469435                        0   \n",
       "2435   2020-01-11T00:00:00.000            81396000                        0   \n",
       "2950   2016-04-21T00:00:00.000           782537033                        0   \n",
       "3226   2018-05-30T00:00:00.000          7617409795                        0   \n",
       "3299   2015-09-19T00:00:00.000            75356906                        0   \n",
       "3494   2019-01-08T00:00:00.000             7435164                        0   \n",
       "3705   2020-03-14T00:00:00.000            72923200                        0   \n",
       "3757   2020-12-22T00:00:00.000            72422048                        0   \n",
       "3944   2019-09-26T00:00:00.000           715180732                        0   \n",
       "4284   2017-06-20T00:00:00.000            69687590                 19926550   \n",
       "4285   2020-01-01T00:00:00.000            69675068                        0   \n",
       "4452   2019-10-20T00:00:00.000           687803280                        0   \n",
       "\n",
       "     valor_contrato_con_adiciones           moneda        fecha_liquidacion  \\\n",
       "71                         993650  Peso Colombiano                      NaN   \n",
       "202                       9792777  Peso Colombiano  2018-06-29T00:00:00.000   \n",
       "235                       9750000  Peso Colombiano  2018-08-13T00:00:00.000   \n",
       "650                     935539084  Dólar de EE.UU.  2019-09-10T00:00:00.000   \n",
       "770                       9282000  Peso Colombiano                      NaN   \n",
       "837                        921833      No Definido                      NaN   \n",
       "1286                     88689191  Dólar de EE.UU.  2019-07-09T00:00:00.000   \n",
       "1670                      8657250  Peso Colombiano                      NaN   \n",
       "2287                    824469435      No Definido                      NaN   \n",
       "2435                     81396000  Peso Colombiano                      NaN   \n",
       "2950                    782537033      No Definido                      NaN   \n",
       "3226                   7617409795  Peso Colombiano  2019-08-15T00:00:00.000   \n",
       "3299                     75356906      No Definido  2017-11-30T00:00:00.000   \n",
       "3494                      7435164  Peso Colombiano                      NaN   \n",
       "3705                     72923200  Peso Colombiano                      NaN   \n",
       "3757                     72422048  Peso Colombiano  2020-12-23T00:00:00.000   \n",
       "3944                    715180732  Dólar de EE.UU.  2019-12-11T00:00:00.000   \n",
       "4284                     89614140      No Definido  2018-06-20T00:00:00.000   \n",
       "4285                     69675068  Peso Colombiano  2019-12-31T00:00:00.000   \n",
       "4452                    687803280  Dólar de EE.UU.  2020-06-24T00:00:00.000   \n",
       "\n",
       "            Tipo_servicio codigo_de_categoria_principal Database  \\\n",
       "71    Suministro de Armas                   V1.46101700  SECOP_I   \n",
       "202   Suministro de Armas                   V1.46101700  SECOP_I   \n",
       "235   Suministro de Armas                   V1.46101500  SECOP_I   \n",
       "650   Suministro de Armas                   V1.46101600  SECOP_I   \n",
       "770   Suministro de Armas                   V1.46101800  SECOP_I   \n",
       "837   Suministro de Armas                   V1.46101600  SECOP_I   \n",
       "1286  Suministro de Armas                   V1.46101500  SECOP_I   \n",
       "1670  Suministro de Armas                   V1.46101800  SECOP_I   \n",
       "2287  Suministro de Armas                   V1.46101600  SECOP_I   \n",
       "2435  Suministro de Armas                   V1.46101800  SECOP_I   \n",
       "2950  Suministro de Armas                   V1.46101600  SECOP_I   \n",
       "3226  Suministro de Armas                   V1.46101500  SECOP_I   \n",
       "3299  Suministro de Armas                   V1.46101500  SECOP_I   \n",
       "3494  Suministro de Armas                   V1.46101600  SECOP_I   \n",
       "3705  Suministro de Armas                   V1.46101500  SECOP_I   \n",
       "3757  Suministro de Armas                   V1.46101800  SECOP_I   \n",
       "3944  Suministro de Armas                   V1.46101600  SECOP_I   \n",
       "4284  Suministro de Armas                   V1.46101800  SECOP_I   \n",
       "4285  Suministro de Armas                   V1.46101800  SECOP_I   \n",
       "4452  Suministro de Armas                   V1.46101600  SECOP_I   \n",
       "\n",
       "     proceso_de_compra id_contrato referencia_del_contrato sector rama  \\\n",
       "71                 NaN         NaN                     NaN    NaN  NaN   \n",
       "202                NaN         NaN                     NaN    NaN  NaN   \n",
       "235                NaN         NaN                     NaN    NaN  NaN   \n",
       "650                NaN         NaN                     NaN    NaN  NaN   \n",
       "770                NaN         NaN                     NaN    NaN  NaN   \n",
       "837                NaN         NaN                     NaN    NaN  NaN   \n",
       "1286               NaN         NaN                     NaN    NaN  NaN   \n",
       "1670               NaN         NaN                     NaN    NaN  NaN   \n",
       "2287               NaN         NaN                     NaN    NaN  NaN   \n",
       "2435               NaN         NaN                     NaN    NaN  NaN   \n",
       "2950               NaN         NaN                     NaN    NaN  NaN   \n",
       "3226               NaN         NaN                     NaN    NaN  NaN   \n",
       "3299               NaN         NaN                     NaN    NaN  NaN   \n",
       "3494               NaN         NaN                     NaN    NaN  NaN   \n",
       "3705               NaN         NaN                     NaN    NaN  NaN   \n",
       "3757               NaN         NaN                     NaN    NaN  NaN   \n",
       "3944               NaN         NaN                     NaN    NaN  NaN   \n",
       "4284               NaN         NaN                     NaN    NaN  NaN   \n",
       "4285               NaN         NaN                     NaN    NaN  NaN   \n",
       "4452               NaN         NaN                     NaN    NaN  NaN   \n",
       "\n",
       "     localizaci_n nacionalidad_representante_legal es_grupo es_pyme  \\\n",
       "71            NaN                              NaN      NaN     NaN   \n",
       "202           NaN                              NaN      NaN     NaN   \n",
       "235           NaN                              NaN      NaN     NaN   \n",
       "650           NaN                              NaN      NaN     NaN   \n",
       "770           NaN                              NaN      NaN     NaN   \n",
       "837           NaN                              NaN      NaN     NaN   \n",
       "1286          NaN                              NaN      NaN     NaN   \n",
       "1670          NaN                              NaN      NaN     NaN   \n",
       "2287          NaN                              NaN      NaN     NaN   \n",
       "2435          NaN                              NaN      NaN     NaN   \n",
       "2950          NaN                              NaN      NaN     NaN   \n",
       "3226          NaN                              NaN      NaN     NaN   \n",
       "3299          NaN                              NaN      NaN     NaN   \n",
       "3494          NaN                              NaN      NaN     NaN   \n",
       "3705          NaN                              NaN      NaN     NaN   \n",
       "3757          NaN                              NaN      NaN     NaN   \n",
       "3944          NaN                              NaN      NaN     NaN   \n",
       "4284          NaN                              NaN      NaN     NaN   \n",
       "4285          NaN                              NaN      NaN     NaN   \n",
       "4452          NaN                              NaN      NaN     NaN   \n",
       "\n",
       "     fecha_de_inicio_de_ejecucion fecha_de_fin_de_ejecucion  \\\n",
       "71                            NaN                       NaN   \n",
       "202                           NaN                       NaN   \n",
       "235                           NaN                       NaN   \n",
       "650                           NaN                       NaN   \n",
       "770                           NaN                       NaN   \n",
       "837                           NaN                       NaN   \n",
       "1286                          NaN                       NaN   \n",
       "1670                          NaN                       NaN   \n",
       "2287                          NaN                       NaN   \n",
       "2435                          NaN                       NaN   \n",
       "2950                          NaN                       NaN   \n",
       "3226                          NaN                       NaN   \n",
       "3299                          NaN                       NaN   \n",
       "3494                          NaN                       NaN   \n",
       "3705                          NaN                       NaN   \n",
       "3757                          NaN                       NaN   \n",
       "3944                          NaN                       NaN   \n",
       "4284                          NaN                       NaN   \n",
       "4285                          NaN                       NaN   \n",
       "4452                          NaN                       NaN   \n",
       "\n",
       "     fecha_fin_liquidacion  \n",
       "71                     NaN  \n",
       "202                    NaN  \n",
       "235                    NaN  \n",
       "650                    NaN  \n",
       "770                    NaN  \n",
       "837                    NaN  \n",
       "1286                   NaN  \n",
       "1670                   NaN  \n",
       "2287                   NaN  \n",
       "2435                   NaN  \n",
       "2950                   NaN  \n",
       "3226                   NaN  \n",
       "3299                   NaN  \n",
       "3494                   NaN  \n",
       "3705                   NaN  \n",
       "3757                   NaN  \n",
       "3944                   NaN  \n",
       "4284                   NaN  \n",
       "4285                   NaN  \n",
       "4452                   NaN  "
      ]
     },
     "execution_count": 166,
     "metadata": {},
     "output_type": "execute_result"
    }
   ],
   "source": [
    "Armas_df.head(20)"
   ]
  },
  {
   "cell_type": "code",
   "execution_count": 165,
   "id": "qVUc2s1myHlt",
   "metadata": {
    "colab": {
     "base_uri": "https://localhost:8080/"
    },
    "executionInfo": {
     "elapsed": 285,
     "status": "ok",
     "timestamp": 1660940795162,
     "user": {
      "displayName": "Luis Gustavo Maldonado Archila",
      "userId": "00154281364666914585"
     },
     "user_tz": 240
    },
    "id": "qVUc2s1myHlt",
    "outputId": "6eaf9c60-17d4-4016-f642-29055585b601"
   },
   "outputs": [
    {
     "name": "stderr",
     "output_type": "stream",
     "text": [
      "/usr/local/lib/python3.7/dist-packages/ipykernel_launcher.py:1: SettingWithCopyWarning: \n",
      "A value is trying to be set on a copy of a slice from a DataFrame.\n",
      "Try using .loc[row_indexer,col_indexer] = value instead\n",
      "\n",
      "See the caveats in the documentation: https://pandas.pydata.org/pandas-docs/stable/user_guide/indexing.html#returning-a-view-versus-a-copy\n",
      "  \"\"\"Entry point for launching an IPython kernel.\n"
     ]
    },
    {
     "data": {
      "text/plain": [
       "441592903596"
      ]
     },
     "execution_count": 165,
     "metadata": {},
     "output_type": "execute_result"
    }
   ],
   "source": [
    "Armas_df['valor_del_contrato'] = Armas_df['valor_del_contrato'].astype(int)\n",
    "Armas_df['valor_del_contrato'].sum()"
   ]
  },
  {
   "cell_type": "code",
   "execution_count": 167,
   "id": "RarMmVEdysgm",
   "metadata": {
    "colab": {
     "base_uri": "https://localhost:8080/"
    },
    "executionInfo": {
     "elapsed": 450,
     "status": "ok",
     "timestamp": 1660940899047,
     "user": {
      "displayName": "Luis Gustavo Maldonado Archila",
      "userId": "00154281364666914585"
     },
     "user_tz": 240
    },
    "id": "RarMmVEdysgm",
    "outputId": "2f2fa817-971f-4c9a-9fad-bbe94a2e62af"
   },
   "outputs": [
    {
     "name": "stdout",
     "output_type": "stream",
     "text": [
      " Alternativas.zip\n",
      "\u001b[0m\u001b[01;34m'BD APO Personal'\u001b[0m/\n",
      "\u001b[01;34m'BD DANE Encuesta Seguridad'\u001b[0m/\n",
      "\u001b[01;34m'BD DANE Poblacion y Area de Municipios'\u001b[0m/\n",
      "\u001b[01;34m'BD POLICIA - Delitos de impacto - 2009-2021'\u001b[0m/\n",
      "\u001b[01;34m'BD RENOVA - Contratos cliente gobierno'\u001b[0m/\n",
      "\u001b[01;34m'BD RENOVA - Contratos Todos los Clientes'\u001b[0m/\n",
      "\u001b[01;34m'BD RENOVA - Delitos'\u001b[0m/\n",
      "\u001b[01;34m'BD RENOVA - Empresas'\u001b[0m/\n",
      "\u001b[01;34m'BD SECOP-II - Contratos'\u001b[0m/\n",
      "'Copy of fasecolda_dataset_4749202.csv'\n",
      " \u001b[01;34mCU_Delitos\u001b[0m/\n",
      " \u001b[01;34mCU_Gasto\u001b[0m/\n",
      "'Documentos de Trabajo Proyecto Observatorio_12-22-2021.zip'\n",
      " DTS-Diagnoìstico.zip\n",
      " fasecolda_dataset_4749202.csv\n",
      " SWEETVIZ_REPORT.html\n",
      " temp.csv\n"
     ]
    }
   ],
   "source": [
    "ls"
   ]
  },
  {
   "cell_type": "code",
   "execution_count": 168,
   "id": "LvLOCGgsypxu",
   "metadata": {
    "executionInfo": {
     "elapsed": 292,
     "status": "ok",
     "timestamp": 1660940934138,
     "user": {
      "displayName": "Luis Gustavo Maldonado Archila",
      "userId": "00154281364666914585"
     },
     "user_tz": 240
    },
    "id": "LvLOCGgsypxu"
   },
   "outputs": [],
   "source": [
    "Armas_df.to_csv('CU_Gasto/Armas_df.csv')"
   ]
  },
  {
   "cell_type": "markdown",
   "id": "oGRf-lY7MCfU",
   "metadata": {
    "id": "oGRf-lY7MCfU"
   },
   "source": [
    "# Step 3: Ingeniería de Atributos"
   ]
  },
  {
   "cell_type": "code",
   "execution_count": 105,
   "id": "13LG7y_SeBgk",
   "metadata": {
    "executionInfo": {
     "elapsed": 21,
     "status": "ok",
     "timestamp": 1660939014455,
     "user": {
      "displayName": "Luis Gustavo Maldonado Archila",
      "userId": "00154281364666914585"
     },
     "user_tz": 240
    },
    "id": "13LG7y_SeBgk"
   },
   "outputs": [],
   "source": [
    "# Eliminar contratos que no serán tomados en cuenta"
   ]
  },
  {
   "cell_type": "code",
   "execution_count": 107,
   "id": "hUDQ6CD1UDNE",
   "metadata": {
    "executionInfo": {
     "elapsed": 593,
     "status": "ok",
     "timestamp": 1660939067516,
     "user": {
      "displayName": "Luis Gustavo Maldonado Archila",
      "userId": "00154281364666914585"
     },
     "user_tz": 240
    },
    "id": "hUDQ6CD1UDNE"
   },
   "outputs": [],
   "source": [
    "SECOP_df.drop(SECOP_df[SECOP_df['codigo_de_categoria_principal'].str.contains('V1.461519')].index, inplace = True)\n",
    "SECOP_df.drop(SECOP_df[SECOP_df['codigo_de_categoria_principal'].str.contains('V1.921219')].index, inplace = True)"
   ]
  },
  {
   "cell_type": "code",
   "execution_count": 108,
   "id": "4MnE1bFXcJYf",
   "metadata": {
    "executionInfo": {
     "elapsed": 279,
     "status": "ok",
     "timestamp": 1660939087374,
     "user": {
      "displayName": "Luis Gustavo Maldonado Archila",
      "userId": "00154281364666914585"
     },
     "user_tz": 240
    },
    "id": "4MnE1bFXcJYf"
   },
   "outputs": [],
   "source": [
    "SECOP_df.drop(SECOP_df[SECOP_df['Tipo_servicio']=='Suministro de Armas'].index, inplace = True)"
   ]
  },
  {
   "cell_type": "code",
   "execution_count": 109,
   "id": "NY1DaRQnlBCV",
   "metadata": {
    "executionInfo": {
     "elapsed": 3,
     "status": "ok",
     "timestamp": 1660939088174,
     "user": {
      "displayName": "Luis Gustavo Maldonado Archila",
      "userId": "00154281364666914585"
     },
     "user_tz": 240
    },
    "id": "NY1DaRQnlBCV"
   },
   "outputs": [],
   "source": [
    "SECOP_df.loc[SECOP_df['uid'].isna(), 'uid'] = SECOP_df['id_contrato']\n"
   ]
  },
  {
   "cell_type": "code",
   "execution_count": 110,
   "id": "9oF5KSt9asJc",
   "metadata": {
    "executionInfo": {
     "elapsed": 311,
     "status": "ok",
     "timestamp": 1660939089477,
     "user": {
      "displayName": "Luis Gustavo Maldonado Archila",
      "userId": "00154281364666914585"
     },
     "user_tz": 240
    },
    "id": "9oF5KSt9asJc"
   },
   "outputs": [],
   "source": [
    "SECOP_df.drop(['localizaci_n',\n",
    "               'id_contrato',\n",
    "               'id_grupo', \n",
    "               'nombre_grupo',\n",
    "               'id_familia', \n",
    "               'nombre_familia', \n",
    "               'fecha_liquidacion', \n",
    "               'fecha_fin_liquidacion', \n",
    "               'fecha_de_inicio_de_ejecucion',\n",
    "               'fecha_de_fin_de_ejecucion'], axis=1, inplace=True)"
   ]
  },
  {
   "cell_type": "code",
   "execution_count": 135,
   "id": "dWJ4xHBY7FN9",
   "metadata": {
    "colab": {
     "base_uri": "https://localhost:8080/"
    },
    "executionInfo": {
     "elapsed": 354,
     "status": "ok",
     "timestamp": 1660939571273,
     "user": {
      "displayName": "Luis Gustavo Maldonado Archila",
      "userId": "00154281364666914585"
     },
     "user_tz": 240
    },
    "id": "dWJ4xHBY7FN9",
    "outputId": "959ea405-ac43-41f1-e921-9320896d2e49"
   },
   "outputs": [
    {
     "data": {
      "text/plain": [
       "(30896, 49)"
      ]
     },
     "execution_count": 135,
     "metadata": {},
     "output_type": "execute_result"
    }
   ],
   "source": [
    "contratos_SECOP_df = SECOP_df.copy()\n",
    "contratos_SECOP_df.shape"
   ]
  },
  {
   "cell_type": "markdown",
   "id": "aa226898",
   "metadata": {
    "id": "aa226898"
   },
   "source": [
    "## Variable Temporal Año-Mes"
   ]
  },
  {
   "cell_type": "code",
   "execution_count": 136,
   "id": "Db6XZpFM-YWR",
   "metadata": {
    "executionInfo": {
     "elapsed": 323,
     "status": "ok",
     "timestamp": 1660939571589,
     "user": {
      "displayName": "Luis Gustavo Maldonado Archila",
      "userId": "00154281364666914585"
     },
     "user_tz": 240
    },
    "id": "Db6XZpFM-YWR"
   },
   "outputs": [],
   "source": [
    "# Convertir la variable 'Fecha_de_firma\" a tipo Datetime y extrae el año y el mes\n",
    "#contratos_SECOP_df['Year-Month'] = contratos_SECOP_df['year'] +  contratos_SECOP_df['month']\n",
    "#contratos_SECOP_df['Year-Month'] = pd.DatetimeIndex(contratos_SECOP_df['fecha_de_firma']).year\n",
    "contratos_SECOP_df['Anio-Mes'] = pd.to_datetime(contratos_SECOP_df['fecha_de_firma_del_contrato']).dt.to_period(\"M\")"
   ]
  },
  {
   "cell_type": "code",
   "execution_count": 137,
   "id": "9QYoHop6LgYy",
   "metadata": {
    "executionInfo": {
     "elapsed": 7,
     "status": "ok",
     "timestamp": 1660939572089,
     "user": {
      "displayName": "Luis Gustavo Maldonado Archila",
      "userId": "00154281364666914585"
     },
     "user_tz": 240
    },
    "id": "9QYoHop6LgYy"
   },
   "outputs": [],
   "source": [
    "contratos_SECOP_df.loc[contratos_SECOP_df['anno_cargue_secop']=='N/D', 'anno_cargue_secop'] = contratos_SECOP_df['anno_firma_contrato']"
   ]
  },
  {
   "cell_type": "markdown",
   "id": "YaUpUF7qMNcC",
   "metadata": {
    "id": "YaUpUF7qMNcC"
   },
   "source": [
    "## Tipo de Datos"
   ]
  },
  {
   "cell_type": "code",
   "execution_count": 138,
   "id": "cb0b1bc2",
   "metadata": {
    "executionInfo": {
     "elapsed": 10,
     "status": "ok",
     "timestamp": 1660939572726,
     "user": {
      "displayName": "Luis Gustavo Maldonado Archila",
      "userId": "00154281364666914585"
     },
     "user_tz": 240
    },
    "id": "cb0b1bc2"
   },
   "outputs": [],
   "source": [
    "columnas = [\n",
    "         'fecha_de_firma_del_contrato',\n",
    "         'fecha_de_inicio_del_contrato', \n",
    "         'fecha_de_fin_del_contrato', \n",
    "]\n",
    "for column in columnas:\n",
    "    try:\n",
    "        contratos_SECOP_df[column] = pd.to_datetime(contratos_SECOP_df[column])\n",
    "    except:\n",
    "        print(column)\n"
   ]
  },
  {
   "cell_type": "code",
   "execution_count": 139,
   "id": "e1fa9139",
   "metadata": {
    "executionInfo": {
     "elapsed": 1277,
     "status": "ok",
     "timestamp": 1660939573997,
     "user": {
      "displayName": "Luis Gustavo Maldonado Archila",
      "userId": "00154281364666914585"
     },
     "user_tz": 240
    },
    "id": "e1fa9139"
   },
   "outputs": [],
   "source": [
    "nombres=[\n",
    "         'orden', \n",
    "         'entidad_centralizada',\n",
    "         'modalidad_de_contratacion', \n",
    "         'estado_contrato',\n",
    "         'justificacion_modalidad_de', \n",
    "         'objeto_del_contrato',\n",
    "         'tipo_de_contrato', \n",
    "         'municipio_entidad',\n",
    "         'departamento_entidad', \n",
    "         'id_clase',\n",
    "         'codigo_de_categoria_principal', \n",
    "         'tipo_doc_contratista', \n",
    "         'tipo_doc_representante_legal',\n",
    "         'rango_de_ejec_del_contrato', \n",
    "         'Tipo_servicio',\n",
    "         'Database',\n",
    "         'moneda',\n",
    "         'sector', \n",
    "         'rama', \n",
    "         'nacionalidad_representante_legal', \n",
    "         'es_grupo', \n",
    "         'es_pyme'\n",
    "]\n",
    "for column in nombres:\n",
    "    try:\n",
    "        contratos_SECOP_df[column] = contratos_SECOP_df[column].astype('category')\n",
    "    except:\n",
    "        print(column)"
   ]
  },
  {
   "cell_type": "code",
   "execution_count": 140,
   "id": "DR5F7Wo1GfaJ",
   "metadata": {
    "executionInfo": {
     "elapsed": 8,
     "status": "ok",
     "timestamp": 1660939573998,
     "user": {
      "displayName": "Luis Gustavo Maldonado Archila",
      "userId": "00154281364666914585"
     },
     "user_tz": 240
    },
    "id": "DR5F7Wo1GfaJ"
   },
   "outputs": [],
   "source": [
    "nombres=[\n",
    "         'nombre_entidad', \n",
    "         'nit_entidad', \n",
    "         'codigo_entidad',\n",
    "         'descripcion_del_proceso', \n",
    "         'nombre_clase',\n",
    "         'identificacion_contratista',\n",
    "         'nom_razon_social_contratista', \n",
    "         'identificacion_representante_legal', \n",
    "         'nombre_representante_legal',\n",
    "         'genero_representante_legal' \n",
    "]\n",
    "for column in nombres:\n",
    "    try:\n",
    "        contratos_SECOP_df[column] = contratos_SECOP_df[column].astype('string')\n",
    "    except:\n",
    "        print(column)"
   ]
  },
  {
   "cell_type": "code",
   "execution_count": 141,
   "id": "CTFlif_xKkEy",
   "metadata": {
    "executionInfo": {
     "elapsed": 8,
     "status": "ok",
     "timestamp": 1660939573999,
     "user": {
      "displayName": "Luis Gustavo Maldonado Archila",
      "userId": "00154281364666914585"
     },
     "user_tz": 240
    },
    "id": "CTFlif_xKkEy"
   },
   "outputs": [],
   "source": [
    "nombres=['anno_firma_contrato',\n",
    "         'anno_cargue_secop',\n",
    "         'plazo_de_ejec_del_contrato',\n",
    "]\n",
    "for column in nombres:\n",
    "    try:\n",
    "        contratos_SECOP_df[column] = contratos_SECOP_df[column].astype(int)\n",
    "    except:\n",
    "        print(column)"
   ]
  },
  {
   "cell_type": "code",
   "execution_count": 142,
   "id": "vHSaAwgULoX5",
   "metadata": {
    "executionInfo": {
     "elapsed": 308,
     "status": "ok",
     "timestamp": 1660939574300,
     "user": {
      "displayName": "Luis Gustavo Maldonado Archila",
      "userId": "00154281364666914585"
     },
     "user_tz": 240
    },
    "id": "vHSaAwgULoX5"
   },
   "outputs": [],
   "source": [
    "convert_dict = {\n",
    "                'valor_del_contrato':           'float64',\n",
    "                'valor_total_de_adiciones':     'float64', \n",
    "                'valor_contrato_con_adiciones': 'float64',\n",
    "                'tiempo_adiciones_en_dias': 'float64', # .astype(float).astype('Int64')\n",
    "                'tiempo_adiciones_en_meses': 'float64', # pd.to_numeric(df[col],errors='coerce').astype(pd.Int64Dtype())\n",
    "                #'plazo_de_ejec_del_contrato': \"float64\"\n",
    "                }\n",
    "contratos_SECOP_df = contratos_SECOP_df.astype(convert_dict)"
   ]
  },
  {
   "cell_type": "code",
   "execution_count": 143,
   "id": "74d482fd",
   "metadata": {
    "colab": {
     "base_uri": "https://localhost:8080/"
    },
    "executionInfo": {
     "elapsed": 6,
     "status": "ok",
     "timestamp": 1660939574301,
     "user": {
      "displayName": "Luis Gustavo Maldonado Archila",
      "userId": "00154281364666914585"
     },
     "user_tz": 240
    },
    "id": "74d482fd",
    "outputId": "e4c72b88-e801-44e8-e73b-ed1178024a05",
    "scrolled": false
   },
   "outputs": [
    {
     "data": {
      "text/plain": [
       "uid                                           object\n",
       "numero_de_constancia                          object\n",
       "numero_de_proceso                             object\n",
       "numero_de_contrato                            object\n",
       "anno_firma_contrato                            int64\n",
       "anno_cargue_secop                              int64\n",
       "orden                                       category\n",
       "entidad_centralizada                        category\n",
       "nombre_entidad                                string\n",
       "nit_entidad                                   string\n",
       "codigo_entidad                                string\n",
       "modalidad_de_contratacion                   category\n",
       "estado_contrato                             category\n",
       "justificacion_modalidad_de                  category\n",
       "objeto_del_contrato                         category\n",
       "descripcion_del_proceso                       string\n",
       "tipo_de_contrato                            category\n",
       "municipio_entidad                           category\n",
       "departamento_entidad                        category\n",
       "id_clase                                    category\n",
       "nombre_clase                                  string\n",
       "tipo_doc_contratista                        category\n",
       "identificacion_contratista                    string\n",
       "nom_razon_social_contratista                  string\n",
       "tipo_doc_representante_legal                category\n",
       "identificacion_representante_legal            string\n",
       "nombre_representante_legal                    string\n",
       "genero_representante_legal                    string\n",
       "fecha_de_firma_del_contrato           datetime64[ns]\n",
       "fecha_de_inicio_del_contrato          datetime64[ns]\n",
       "plazo_de_ejec_del_contrato                     int64\n",
       "rango_de_ejec_del_contrato                  category\n",
       "tiempo_adiciones_en_dias                     float64\n",
       "tiempo_adiciones_en_meses                    float64\n",
       "fecha_de_fin_del_contrato             datetime64[ns]\n",
       "valor_del_contrato                           float64\n",
       "valor_total_de_adiciones                     float64\n",
       "valor_contrato_con_adiciones                 float64\n",
       "moneda                                      category\n",
       "Tipo_servicio                               category\n",
       "codigo_de_categoria_principal               category\n",
       "Database                                    category\n",
       "proceso_de_compra                             object\n",
       "referencia_del_contrato                       object\n",
       "sector                                      category\n",
       "rama                                        category\n",
       "nacionalidad_representante_legal            category\n",
       "es_grupo                                    category\n",
       "es_pyme                                     category\n",
       "Anio-Mes                                   period[M]\n",
       "dtype: object"
      ]
     },
     "execution_count": 143,
     "metadata": {},
     "output_type": "execute_result"
    }
   ],
   "source": [
    "contratos_SECOP_df.dtypes"
   ]
  },
  {
   "cell_type": "code",
   "execution_count": 144,
   "id": "3ee6684c",
   "metadata": {
    "colab": {
     "base_uri": "https://localhost:8080/"
    },
    "executionInfo": {
     "elapsed": 17,
     "status": "ok",
     "timestamp": 1660939574961,
     "user": {
      "displayName": "Luis Gustavo Maldonado Archila",
      "userId": "00154281364666914585"
     },
     "user_tz": 240
    },
    "id": "3ee6684c",
    "outputId": "e6d7ceee-7e27-4ff8-d942-94bd965cd93b"
   },
   "outputs": [
    {
     "data": {
      "text/plain": [
       "Index(['uid', 'numero_de_constancia', 'numero_de_proceso',\n",
       "       'numero_de_contrato', 'proceso_de_compra', 'referencia_del_contrato'],\n",
       "      dtype='object')"
      ]
     },
     "execution_count": 144,
     "metadata": {},
     "output_type": "execute_result"
    }
   ],
   "source": [
    "contratos_SECOP_df.select_dtypes(include='object').columns"
   ]
  },
  {
   "cell_type": "code",
   "execution_count": 145,
   "id": "9EI6ZFeXoWAJ",
   "metadata": {
    "colab": {
     "base_uri": "https://localhost:8080/"
    },
    "executionInfo": {
     "elapsed": 13,
     "status": "ok",
     "timestamp": 1660939574962,
     "user": {
      "displayName": "Luis Gustavo Maldonado Archila",
      "userId": "00154281364666914585"
     },
     "user_tz": 240
    },
    "id": "9EI6ZFeXoWAJ",
    "outputId": "58affe82-7fe4-49a2-86d6-103fc31c952e"
   },
   "outputs": [
    {
     "data": {
      "text/plain": [
       "(30896, 50)"
      ]
     },
     "execution_count": 145,
     "metadata": {},
     "output_type": "execute_result"
    }
   ],
   "source": [
    "contratos_SECOP_df.shape"
   ]
  },
  {
   "cell_type": "markdown",
   "id": "dd3ce035",
   "metadata": {
    "id": "dd3ce035"
   },
   "source": [
    "## Analisis de duplicados"
   ]
  },
  {
   "cell_type": "code",
   "execution_count": 146,
   "id": "zcwe9Y8GNPqL",
   "metadata": {
    "colab": {
     "base_uri": "https://localhost:8080/"
    },
    "executionInfo": {
     "elapsed": 313,
     "status": "ok",
     "timestamp": 1660939583753,
     "user": {
      "displayName": "Luis Gustavo Maldonado Archila",
      "userId": "00154281364666914585"
     },
     "user_tz": 240
    },
    "id": "zcwe9Y8GNPqL",
    "outputId": "a50148ac-26c3-41a9-d519-cc958bae293b"
   },
   "outputs": [
    {
     "name": "stdout",
     "output_type": "stream",
     "text": [
      "<class 'pandas.core.frame.DataFrame'>\n",
      "Int64Index: 30896 entries, 0 to 31615\n",
      "Data columns (total 50 columns):\n",
      " #   Column                              Non-Null Count  Dtype         \n",
      "---  ------                              --------------  -----         \n",
      " 0   uid                                 30896 non-null  object        \n",
      " 1   numero_de_constancia                27018 non-null  object        \n",
      " 2   numero_de_proceso                   27018 non-null  object        \n",
      " 3   numero_de_contrato                  27013 non-null  object        \n",
      " 4   anno_firma_contrato                 30896 non-null  int64         \n",
      " 5   anno_cargue_secop                   30896 non-null  int64         \n",
      " 6   orden                               30896 non-null  category      \n",
      " 7   entidad_centralizada                30896 non-null  category      \n",
      " 8   nombre_entidad                      30896 non-null  string        \n",
      " 9   nit_entidad                         30896 non-null  string        \n",
      " 10  codigo_entidad                      30896 non-null  string        \n",
      " 11  modalidad_de_contratacion           30896 non-null  category      \n",
      " 12  estado_contrato                     30896 non-null  category      \n",
      " 13  justificacion_modalidad_de          30896 non-null  category      \n",
      " 14  objeto_del_contrato                 30863 non-null  category      \n",
      " 15  descripcion_del_proceso             30892 non-null  string        \n",
      " 16  tipo_de_contrato                    30896 non-null  category      \n",
      " 17  municipio_entidad                   30896 non-null  category      \n",
      " 18  departamento_entidad                30896 non-null  category      \n",
      " 19  id_clase                            30896 non-null  category      \n",
      " 20  nombre_clase                        30896 non-null  string        \n",
      " 21  tipo_doc_contratista                30896 non-null  category      \n",
      " 22  identificacion_contratista          30896 non-null  string        \n",
      " 23  nom_razon_social_contratista        30896 non-null  string        \n",
      " 24  tipo_doc_representante_legal        30896 non-null  category      \n",
      " 25  identificacion_representante_legal  30896 non-null  string        \n",
      " 26  nombre_representante_legal          30896 non-null  string        \n",
      " 27  genero_representante_legal          30896 non-null  string        \n",
      " 28  fecha_de_firma_del_contrato         30896 non-null  datetime64[ns]\n",
      " 29  fecha_de_inicio_del_contrato        30790 non-null  datetime64[ns]\n",
      " 30  plazo_de_ejec_del_contrato          30896 non-null  int64         \n",
      " 31  rango_de_ejec_del_contrato          30896 non-null  category      \n",
      " 32  tiempo_adiciones_en_dias            30896 non-null  float64       \n",
      " 33  tiempo_adiciones_en_meses           27018 non-null  float64       \n",
      " 34  fecha_de_fin_del_contrato           30896 non-null  datetime64[ns]\n",
      " 35  valor_del_contrato                  30896 non-null  float64       \n",
      " 36  valor_total_de_adiciones            27018 non-null  float64       \n",
      " 37  valor_contrato_con_adiciones        27018 non-null  float64       \n",
      " 38  moneda                              27018 non-null  category      \n",
      " 39  Tipo_servicio                       30896 non-null  category      \n",
      " 40  codigo_de_categoria_principal       30896 non-null  category      \n",
      " 41  Database                            30896 non-null  category      \n",
      " 42  proceso_de_compra                   3878 non-null   object        \n",
      " 43  referencia_del_contrato             3878 non-null   object        \n",
      " 44  sector                              3878 non-null   category      \n",
      " 45  rama                                3878 non-null   category      \n",
      " 46  nacionalidad_representante_legal    3878 non-null   category      \n",
      " 47  es_grupo                            3878 non-null   category      \n",
      " 48  es_pyme                             3878 non-null   category      \n",
      " 49  Anio-Mes                            30896 non-null  period[M]     \n",
      "dtypes: category(22), datetime64[ns](3), float64(5), int64(3), object(6), period[M](1), string(10)\n",
      "memory usage: 9.3+ MB\n"
     ]
    }
   ],
   "source": [
    "contratos_SECOP_df.info()"
   ]
  },
  {
   "cell_type": "code",
   "execution_count": 123,
   "id": "bTgHgOsaHn3y",
   "metadata": {
    "executionInfo": {
     "elapsed": 38,
     "status": "ok",
     "timestamp": 1660939098786,
     "user": {
      "displayName": "Luis Gustavo Maldonado Archila",
      "userId": "00154281364666914585"
     },
     "user_tz": 240
    },
    "id": "bTgHgOsaHn3y"
   },
   "outputs": [],
   "source": [
    "#contratos_SECOP_df = contratos_SECOP_df.sort_values(by = 'valor_del_contrato', ascending = False)"
   ]
  },
  {
   "cell_type": "code",
   "execution_count": 148,
   "id": "j93RRpvtGr_O",
   "metadata": {
    "colab": {
     "base_uri": "https://localhost:8080/"
    },
    "executionInfo": {
     "elapsed": 297,
     "status": "ok",
     "timestamp": 1660939654883,
     "user": {
      "displayName": "Luis Gustavo Maldonado Archila",
      "userId": "00154281364666914585"
     },
     "user_tz": 240
    },
    "id": "j93RRpvtGr_O",
    "outputId": "c8673192-470b-4b11-a820-cbed3d81bcf8"
   },
   "outputs": [
    {
     "name": "stdout",
     "output_type": "stream",
     "text": [
      "CPU times: user 140 ms, sys: 1.75 ms, total: 141 ms\n",
      "Wall time: 141 ms\n"
     ]
    }
   ],
   "source": [
    "%%time\n",
    "contratos_SECOP_df = contratos_SECOP_df.drop_duplicates(subset = ['numero_de_constancia', 'numero_de_proceso',\n",
    "       'numero_de_contrato', 'anno_firma_contrato', 'anno_cargue_secop',  \n",
    "       'nit_entidad', 'identificacion_contratista', 'identificacion_representante_legal', 'fecha_de_firma_del_contrato',\n",
    "       'proceso_de_compra', 'referencia_del_contrato'], keep='first')   #2 duplicados"
   ]
  },
  {
   "cell_type": "code",
   "execution_count": 149,
   "id": "DuF_C9DfV2WB",
   "metadata": {
    "colab": {
     "base_uri": "https://localhost:8080/"
    },
    "executionInfo": {
     "elapsed": 7,
     "status": "ok",
     "timestamp": 1660939655697,
     "user": {
      "displayName": "Luis Gustavo Maldonado Archila",
      "userId": "00154281364666914585"
     },
     "user_tz": 240
    },
    "id": "DuF_C9DfV2WB",
    "outputId": "e89c90b3-898c-48d6-9ce2-60df53b2a8c3"
   },
   "outputs": [
    {
     "data": {
      "text/plain": [
       "(30835, 50)"
      ]
     },
     "execution_count": 149,
     "metadata": {},
     "output_type": "execute_result"
    }
   ],
   "source": [
    "contratos_SECOP_df.shape"
   ]
  },
  {
   "cell_type": "markdown",
   "id": "5USOgsQkV2xD",
   "metadata": {
    "id": "5USOgsQkV2xD"
   },
   "source": [
    "## Valores Nominales de los Contratos"
   ]
  },
  {
   "cell_type": "code",
   "execution_count": 126,
   "id": "ab_n4DwBVCXQ",
   "metadata": {
    "colab": {
     "base_uri": "https://localhost:8080/"
    },
    "executionInfo": {
     "elapsed": 19,
     "status": "ok",
     "timestamp": 1660939098788,
     "user": {
      "displayName": "Luis Gustavo Maldonado Archila",
      "userId": "00154281364666914585"
     },
     "user_tz": 240
    },
    "id": "ab_n4DwBVCXQ",
    "outputId": "bd36ef4b-03a5-4dbb-d062-9a0299e38252"
   },
   "outputs": [
    {
     "data": {
      "text/plain": [
       "count            26,957.00\n",
       "mean        334,586,464.54\n",
       "std       3,205,843,998.63\n",
       "min                   0.00\n",
       "25%           2,300,000.00\n",
       "50%           7,316,640.00\n",
       "75%          56,001,065.00\n",
       "max     204,304,137,771.00\n",
       "Name: valor_contrato_con_adiciones, dtype: float64"
      ]
     },
     "execution_count": 126,
     "metadata": {},
     "output_type": "execute_result"
    }
   ],
   "source": [
    "contratos_SECOP_df['valor_contrato_con_adiciones'].describe()"
   ]
  },
  {
   "cell_type": "code",
   "execution_count": 127,
   "id": "w_qG-GynTkYU",
   "metadata": {
    "colab": {
     "base_uri": "https://localhost:8080/"
    },
    "executionInfo": {
     "elapsed": 12,
     "status": "ok",
     "timestamp": 1660939098788,
     "user": {
      "displayName": "Luis Gustavo Maldonado Archila",
      "userId": "00154281364666914585"
     },
     "user_tz": 240
    },
    "id": "w_qG-GynTkYU",
    "outputId": "77c89459-8c25-4eb6-8748-7d06458ef3b5"
   },
   "outputs": [
    {
     "data": {
      "text/plain": [
       "count            26,957.00\n",
       "mean        334,586,464.54\n",
       "std       3,205,843,998.63\n",
       "min                   0.00\n",
       "25%           2,300,000.00\n",
       "50%           7,316,640.00\n",
       "75%          56,001,065.00\n",
       "max     204,304,137,771.00\n",
       "Name: valor_contrato_con_adiciones, dtype: float64"
      ]
     },
     "execution_count": 127,
     "metadata": {},
     "output_type": "execute_result"
    }
   ],
   "source": [
    "#Esto no funciona:\n",
    "#contratos_SECOP_df.loc[contratos_SECOP_df['valor_contrato_con_adiciones'].isna(), 'valor_contrato_con_adiciones'] = contratos_SECOP_df['valor_del_contrato'] + contratos_SECOP_df['valor_total_de_adiciones']\n",
    "#contratos_SECOP_df['valor_contrato_con_adiciones'].describe()"
   ]
  },
  {
   "cell_type": "code",
   "execution_count": 128,
   "id": "p2cE7jKMfWAa",
   "metadata": {
    "colab": {
     "base_uri": "https://localhost:8080/"
    },
    "executionInfo": {
     "elapsed": 8,
     "status": "ok",
     "timestamp": 1660939099056,
     "user": {
      "displayName": "Luis Gustavo Maldonado Archila",
      "userId": "00154281364666914585"
     },
     "user_tz": 240
    },
    "id": "p2cE7jKMfWAa",
    "outputId": "d39dec02-1f19-4f39-9329-c778ee7c2ff3"
   },
   "outputs": [
    {
     "data": {
      "text/plain": [
       "(71, 50)"
      ]
     },
     "execution_count": 128,
     "metadata": {},
     "output_type": "execute_result"
    }
   ],
   "source": [
    "contratos_SECOP_df.loc[contratos_SECOP_df['valor_contrato_con_adiciones'] < 10000].shape"
   ]
  },
  {
   "cell_type": "code",
   "execution_count": 154,
   "id": "dFFI7TdpV1Y0",
   "metadata": {
    "colab": {
     "base_uri": "https://localhost:8080/",
     "height": 89
    },
    "executionInfo": {
     "elapsed": 3184,
     "status": "ok",
     "timestamp": 1660940030702,
     "user": {
      "displayName": "Luis Gustavo Maldonado Archila",
      "userId": "00154281364666914585"
     },
     "user_tz": 240
    },
    "id": "dFFI7TdpV1Y0",
    "outputId": "0289626b-0491-4efa-ef99-da067b4b18ce"
   },
   "outputs": [
    {
     "data": {
      "application/vnd.google.colaboratory.intrinsic+json": {
       "type": "string"
      },
      "text/plain": [
       "\"\\ndef valor_2015(row):\\n    if (row['MONTO_CONTRATO']>0) & (row['Año_Inicio']>0):\\n        Value  =  row['MONTO_CONTRATO'] * 201.99 / IPC_Dict[row['Año_Inicio']]\\n        return Value\\n\\ndef valor_presente(row):\\n    if (row['MONTO_CONTRATO']>0) & (row['Año_Inicio']>0):\\n        Value  =  row['MONTO_CONTRATO'] * 277.89 / IPC_Dict[row['Año_Inicio']]\\n        return Value\\n    \\ndf2['Valor_Contrato_nominal_2015'] = df2.apply(lambda row: valor_2015(row), axis=1)\\ndf2['Valor_Contrato_Presente_2022'] = df2.apply(lambda row: valor_presente(row), axis=1)\\ndf2['Valor_Contrato_Presente_2022'].describe()\""
      ]
     },
     "execution_count": 154,
     "metadata": {},
     "output_type": "execute_result"
    }
   ],
   "source": [
    "# Calcular el valor real de los contratos ajustando por inflación\n",
    "\n",
    "IPC_Dict = {\n",
    "    2000 : 100,\n",
    "    2001 : \t107.97,\n",
    "    2002 : \t114.83,\n",
    "    2003 : \t123.02,\n",
    "    2004 : \t130.28,\n",
    "    2005 : \t136.86,\n",
    "    2006 : \t142.73,\n",
    "    2007 : \t150.65,\n",
    "    2008 : \t161.19,\n",
    "    2009 : \t167.96,\n",
    "    2010 : \t171.77,\n",
    "    2011 : \t177.65,\n",
    "    2012 : \t183.27,\n",
    "    2013 : \t186.97,\n",
    "    2014 : \t192.39,\n",
    "    2015 : \t201.99,\n",
    "    2016 : \t217.17,\n",
    "    2017 : \t226.53,\n",
    "    2018 : \t233.87,\n",
    "    2019 : \t242.12,\n",
    "    2020 : \t248.23,\n",
    "    2021 : \t256.91,\n",
    "    2022 : \t277.89,\n",
    "}\n",
    "\n",
    "Inflation_Dict = {\n",
    "    2000 : 0.6,\n",
    "    2001 : \t0.6,\n",
    "    2002 : \t0.6,\n",
    "    2003 : \t0.6,\n",
    "    2004 : \t0.6,\n",
    "    2005 : \t0.6,\n",
    "    2006 : \t0.61,\n",
    "    2007 : \t0.62,\n",
    "    2008 : \t0.63,\n",
    "    2009 : \t0.66,\n",
    "    2010 : \t0.69,\n",
    "    2011 : \t0.71,\n",
    "    2012 : \t0.73,\n",
    "    2013 : \t0.79,\n",
    "    2014 : \t0.82,\n",
    "    2015 : \t0.85,\n",
    "    2016 : \t0.90,\n",
    "    2017 : \t0.94,\n",
    "    2018 : \t0.95,\n",
    "    2019 : \t0.98,\n",
    "    2020 : \t1,\n",
    "    2021 : \t1.05,\n",
    "    2022 : \t1.08,\n",
    "}\n",
    "\n",
    "\n",
    "#IPC_Dict[2003]\n",
    "\n",
    "#Se calcula el valor del contrato en pesos en 2015\n",
    "\n",
    "def valor_2015(row):\n",
    "\n",
    "    if (row['anno_firma_contrato']>0):\n",
    "        if (row['valor_contrato_con_adiciones']>0):\n",
    "            Value  =  row['valor_contrato_con_adiciones'] * 201.99/IPC_Dict[row['anno_firma_contrato']]\n",
    "            return Value\n",
    "        elif (row['valor_del_contrato']>0):\n",
    "            Value  =  row['valor_del_contrato'] * 201.99/IPC_Dict[row['anno_firma_contrato']]\n",
    "            return Value\n",
    "\n",
    "def valor_2000(row):\n",
    "    if (row['anno_firma_contrato']>0):\n",
    "        if (row['valor_contrato_con_adiciones']>0):\n",
    "            Value  =  row['valor_contrato_con_adiciones'] * 248.23/IPC_Dict[row['anno_firma_contrato']]\n",
    "            Value  =  Value / Inflation_Dict[row['anno_firma_contrato']]\n",
    "            return Value\n",
    "        elif (row['valor_del_contrato']>0):\n",
    "            Value  =  row['valor_del_contrato'] * 248.23/IPC_Dict[row['anno_firma_contrato']]\n",
    "            Value  =  Value / Inflation_Dict[row['anno_firma_contrato']]\n",
    "            return Value\n",
    "    \n",
    "contratos_SECOP_df['Valor_Contrato_real_2015'] = contratos_SECOP_df.apply(lambda row: valor_2015(row), axis=1)\n",
    "contratos_SECOP_df['Valor_Contrato_Presente_2020'] = contratos_SECOP_df.apply(lambda row: valor_2000(row), axis=1)\n",
    "contratos_SECOP_df['Valor_Contrato_Presente_2020'].describe()\n",
    "\n",
    "\n",
    "# Código de referencia usado en versiones anteriores\n",
    "'''\n",
    "def valor_2015(row):\n",
    "    if (row['MONTO_CONTRATO']>0) & (row['Año_Inicio']>0):\n",
    "        Value  =  row['MONTO_CONTRATO'] * 201.99 / IPC_Dict[row['Año_Inicio']]\n",
    "        return Value\n",
    "\n",
    "def valor_presente(row):\n",
    "    if (row['MONTO_CONTRATO']>0) & (row['Año_Inicio']>0):\n",
    "        Value  =  row['MONTO_CONTRATO'] * 277.89 / IPC_Dict[row['Año_Inicio']]\n",
    "        return Value\n",
    "    \n",
    "df2['Valor_Contrato_nominal_2015'] = df2.apply(lambda row: valor_2015(row), axis=1)\n",
    "df2['Valor_Contrato_Presente_2022'] = df2.apply(lambda row: valor_presente(row), axis=1)\n",
    "df2['Valor_Contrato_Presente_2022'].describe()'''"
   ]
  },
  {
   "cell_type": "code",
   "execution_count": 155,
   "id": "eCu-4FjaLdSA",
   "metadata": {
    "colab": {
     "base_uri": "https://localhost:8080/"
    },
    "executionInfo": {
     "elapsed": 8,
     "status": "ok",
     "timestamp": 1660940049874,
     "user": {
      "displayName": "Luis Gustavo Maldonado Archila",
      "userId": "00154281364666914585"
     },
     "user_tz": 240
    },
    "id": "eCu-4FjaLdSA",
    "outputId": "9000c966-f300-4064-f00b-81093d938aa6"
   },
   "outputs": [
    {
     "data": {
      "text/plain": [
       "0.00    95\n",
       "Name: valor_del_contrato, dtype: int64"
      ]
     },
     "execution_count": 155,
     "metadata": {},
     "output_type": "execute_result"
    }
   ],
   "source": [
    "contratos_SECOP_df.loc[contratos_SECOP_df['Valor_Contrato_Presente_2020'].isna(), 'valor_del_contrato'].value_counts().head()"
   ]
  },
  {
   "cell_type": "code",
   "execution_count": 156,
   "id": "BCgFO9nbuWsf",
   "metadata": {
    "colab": {
     "base_uri": "https://localhost:8080/"
    },
    "executionInfo": {
     "elapsed": 1599,
     "status": "ok",
     "timestamp": 1660940060355,
     "user": {
      "displayName": "Luis Gustavo Maldonado Archila",
      "userId": "00154281364666914585"
     },
     "user_tz": 240
    },
    "id": "BCgFO9nbuWsf",
    "outputId": "996996ed-9755-4dcd-9035-595058ea9434"
   },
   "outputs": [
    {
     "data": {
      "text/plain": [
       "count          30,835.00\n",
       "mean        3,718,289.00\n",
       "std        32,756,841.56\n",
       "min                 0.00\n",
       "25%            38,857.91\n",
       "50%           280,951.81\n",
       "75%         1,253,836.76\n",
       "max     3,114,036,111.53\n",
       "Name: Valor_diario_Contrato, dtype: float64"
      ]
     },
     "execution_count": 156,
     "metadata": {},
     "output_type": "execute_result"
    }
   ],
   "source": [
    "# Normalizacion de los valores de los contratos corrigiendo por duracion y cantidad de puestos contratados?\n",
    "\n",
    "# Calular el valor real de los contratos ajustando por duración\n",
    "def valor_diario(row):\n",
    "    if (row['plazo_de_ejec_del_contrato']>0) & (row['Valor_Contrato_Presente_2020']>0):\n",
    "        return  (row['Valor_Contrato_Presente_2020'] / row['plazo_de_ejec_del_contrato'])\n",
    "    else:\n",
    "        return 0\n",
    "\n",
    "contratos_SECOP_df['Valor_diario_Contrato'] = contratos_SECOP_df.apply(lambda row: valor_diario(row), axis=1)\n",
    "contratos_SECOP_df['Valor_diario_Contrato'].describe()"
   ]
  },
  {
   "cell_type": "markdown",
   "id": "Z4ZPCTq9LkAQ",
   "metadata": {
    "id": "Z4ZPCTq9LkAQ"
   },
   "source": [
    "## Guardar el Archivo"
   ]
  },
  {
   "cell_type": "code",
   "execution_count": 33,
   "id": "9f3286b6",
   "metadata": {
    "executionInfo": {
     "elapsed": 2522,
     "status": "ok",
     "timestamp": 1660960987135,
     "user": {
      "displayName": "Luis Gustavo Maldonado Archila",
      "userId": "00154281364666914585"
     },
     "user_tz": 240
    },
    "id": "9f3286b6"
   },
   "outputs": [],
   "source": [
    "#contratos_SECOP_df.to_csv('/content/drive/MyDrive/Observatorio SPVS/BD SECOP-II - Contratos/SECOP-I-II-Completo.csv', index = False, header=True)"
   ]
  },
  {
   "cell_type": "code",
   "execution_count": 13,
   "id": "3N0fvYdKkbza",
   "metadata": {
    "colab": {
     "base_uri": "https://localhost:8080/"
    },
    "executionInfo": {
     "elapsed": 2828,
     "status": "ok",
     "timestamp": 1660959341086,
     "user": {
      "displayName": "Luis Gustavo Maldonado Archila",
      "userId": "00154281364666914585"
     },
     "user_tz": 240
    },
    "id": "3N0fvYdKkbza",
    "outputId": "47351686-b227-48ce-a6f6-0778f1c74873"
   },
   "outputs": [
    {
     "name": "stderr",
     "output_type": "stream",
     "text": [
      "/usr/local/lib/python3.7/dist-packages/IPython/core/interactiveshell.py:3326: DtypeWarning: Columns (42,43,44,45,46,47,48) have mixed types.Specify dtype option on import or set low_memory=False.\n",
      "  exec(code_obj, self.user_global_ns, self.user_ns)\n"
     ]
    },
    {
     "data": {
      "text/plain": [
       "(30835, 53)"
      ]
     },
     "execution_count": 13,
     "metadata": {},
     "output_type": "execute_result"
    }
   ],
   "source": [
    "#contratos_SECOP_df = pd.read_csv('/content/drive/MyDrive/Observatorio SPVS/BD SECOP-II - Contratos/SECOP-I-II-Completo.csv')\n",
    "contratos_SECOP_df.shape"
   ]
  },
  {
   "cell_type": "code",
   "execution_count": 159,
   "id": "Mu2u_8A3vgum",
   "metadata": {
    "colab": {
     "base_uri": "https://localhost:8080/"
    },
    "executionInfo": {
     "elapsed": 634,
     "status": "ok",
     "timestamp": 1660940075257,
     "user": {
      "displayName": "Luis Gustavo Maldonado Archila",
      "userId": "00154281364666914585"
     },
     "user_tz": 240
    },
    "id": "Mu2u_8A3vgum",
    "outputId": "38cfd1d5-f416-413a-e5c0-86a4fffa9142"
   },
   "outputs": [
    {
     "name": "stdout",
     "output_type": "stream",
     "text": [
      "<class 'pandas.core.frame.DataFrame'>\n",
      "Int64Index: 30835 entries, 0 to 31615\n",
      "Data columns (total 53 columns):\n",
      " #   Column                              Non-Null Count  Dtype         \n",
      "---  ------                              --------------  -----         \n",
      " 0   uid                                 30835 non-null  object        \n",
      " 1   numero_de_constancia                26957 non-null  object        \n",
      " 2   numero_de_proceso                   26957 non-null  object        \n",
      " 3   numero_de_contrato                  26952 non-null  object        \n",
      " 4   anno_firma_contrato                 30835 non-null  int64         \n",
      " 5   anno_cargue_secop                   30835 non-null  int64         \n",
      " 6   orden                               30835 non-null  category      \n",
      " 7   entidad_centralizada                30835 non-null  category      \n",
      " 8   nombre_entidad                      30835 non-null  string        \n",
      " 9   nit_entidad                         30835 non-null  string        \n",
      " 10  codigo_entidad                      30835 non-null  string        \n",
      " 11  modalidad_de_contratacion           30835 non-null  category      \n",
      " 12  estado_contrato                     30835 non-null  category      \n",
      " 13  justificacion_modalidad_de          30835 non-null  category      \n",
      " 14  objeto_del_contrato                 30802 non-null  category      \n",
      " 15  descripcion_del_proceso             30831 non-null  string        \n",
      " 16  tipo_de_contrato                    30835 non-null  category      \n",
      " 17  municipio_entidad                   30835 non-null  category      \n",
      " 18  departamento_entidad                30835 non-null  category      \n",
      " 19  id_clase                            30835 non-null  category      \n",
      " 20  nombre_clase                        30835 non-null  string        \n",
      " 21  tipo_doc_contratista                30835 non-null  category      \n",
      " 22  identificacion_contratista          30835 non-null  string        \n",
      " 23  nom_razon_social_contratista        30835 non-null  string        \n",
      " 24  tipo_doc_representante_legal        30835 non-null  category      \n",
      " 25  identificacion_representante_legal  30835 non-null  string        \n",
      " 26  nombre_representante_legal          30835 non-null  string        \n",
      " 27  genero_representante_legal          30835 non-null  string        \n",
      " 28  fecha_de_firma_del_contrato         30835 non-null  datetime64[ns]\n",
      " 29  fecha_de_inicio_del_contrato        30729 non-null  datetime64[ns]\n",
      " 30  plazo_de_ejec_del_contrato          30835 non-null  int64         \n",
      " 31  rango_de_ejec_del_contrato          30835 non-null  category      \n",
      " 32  tiempo_adiciones_en_dias            30835 non-null  float64       \n",
      " 33  tiempo_adiciones_en_meses           26957 non-null  float64       \n",
      " 34  fecha_de_fin_del_contrato           30835 non-null  datetime64[ns]\n",
      " 35  valor_del_contrato                  30835 non-null  float64       \n",
      " 36  valor_total_de_adiciones            26957 non-null  float64       \n",
      " 37  valor_contrato_con_adiciones        26957 non-null  float64       \n",
      " 38  moneda                              26957 non-null  category      \n",
      " 39  Tipo_servicio                       30835 non-null  category      \n",
      " 40  codigo_de_categoria_principal       30835 non-null  category      \n",
      " 41  Database                            30835 non-null  category      \n",
      " 42  proceso_de_compra                   3878 non-null   object        \n",
      " 43  referencia_del_contrato             3878 non-null   object        \n",
      " 44  sector                              3878 non-null   category      \n",
      " 45  rama                                3878 non-null   category      \n",
      " 46  nacionalidad_representante_legal    3878 non-null   category      \n",
      " 47  es_grupo                            3878 non-null   category      \n",
      " 48  es_pyme                             3878 non-null   category      \n",
      " 49  Anio-Mes                            30835 non-null  period[M]     \n",
      " 50  Valor_Contrato_real_2015            30740 non-null  float64       \n",
      " 51  Valor_Contrato_Presente_2020        30740 non-null  float64       \n",
      " 52  Valor_diario_Contrato               30835 non-null  float64       \n",
      "dtypes: category(22), datetime64[ns](3), float64(8), int64(3), object(6), period[M](1), string(10)\n",
      "memory usage: 8.9+ MB\n"
     ]
    }
   ],
   "source": [
    "contratos_SECOP_df.info()"
   ]
  }
 ],
 "metadata": {
  "colab": {
   "collapsed_sections": [],
   "name": "1. Contratos Carque y Limpieza SECOP-I & II completo.ipynb",
   "provenance": [
    {
     "file_id": "1lK3woIJsNFeelbH4Xxd0Tie_Bc4KU5Qk",
     "timestamp": 1653530608966
    }
   ],
   "toc_visible": true
  },
  "kernelspec": {
   "display_name": "Python 3 (ipykernel)",
   "language": "python",
   "name": "python3"
  },
  "language_info": {
   "codemirror_mode": {
    "name": "ipython",
    "version": 3
   },
   "file_extension": ".py",
   "mimetype": "text/x-python",
   "name": "python",
   "nbconvert_exporter": "python",
   "pygments_lexer": "ipython3",
   "version": "3.10.4"
  }
 },
 "nbformat": 4,
 "nbformat_minor": 5
}
