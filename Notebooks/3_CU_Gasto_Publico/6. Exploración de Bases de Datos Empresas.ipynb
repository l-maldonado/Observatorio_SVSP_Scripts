{
 "cells": [
  {
   "cell_type": "code",
   "execution_count": null,
   "metadata": {
    "executionInfo": {
     "elapsed": 7,
     "status": "ok",
     "timestamp": 1662556374216,
     "user": {
      "displayName": "Luis Gustavo Maldonado Archila",
      "userId": "00154281364666914585"
     },
     "user_tz": 240
    },
    "id": "4xhiYGJJYWoU"
   },
   "outputs": [],
   "source": []
  },
  {
   "cell_type": "markdown",
   "metadata": {
    "id": "peCvvrxQ9Kw6"
   },
   "source": [
    "# Introduccion\n",
    "\n",
    "Este notebook contiene los procesos que se han realizado para limpiar las bases de datos de contratos del sistema RENOVA de la SUPERINTENDENCIA DE VIGILANCIA Y SEGURIDAD PRIVADA DE COLOMBIA. \n",
    "\n",
    "Contiene las funciones e scripts para cargar los datasets en Jupyter o Colab, a partir de archivos en formato CSV. \n",
    "\n",
    "Esta es la primera etapa del trabajo con esstos datos. \n"
   ]
  },
  {
   "cell_type": "code",
   "execution_count": 1,
   "metadata": {
    "executionInfo": {
     "elapsed": 2202,
     "status": "ok",
     "timestamp": 1662556376414,
     "user": {
      "displayName": "Luis Gustavo Maldonado Archila",
      "userId": "00154281364666914585"
     },
     "user_tz": 240
    },
    "id": "9qcSx8dtVZ4S"
   },
   "outputs": [],
   "source": [
    "# First import the required libraries.\n",
    "import pandas as pd\n",
    "import numpy as np\n",
    "import plotly.express as px\n",
    "import seaborn as sns"
   ]
  },
  {
   "cell_type": "code",
   "execution_count": 2,
   "metadata": {
    "executionInfo": {
     "elapsed": 16,
     "status": "ok",
     "timestamp": 1662556376414,
     "user": {
      "displayName": "Luis Gustavo Maldonado Archila",
      "userId": "00154281364666914585"
     },
     "user_tz": 240
    },
    "id": "RwJcOuQGWIey"
   },
   "outputs": [],
   "source": [
    "# To load a file into colab:\n",
    "import io\n",
    "import os"
   ]
  },
  {
   "cell_type": "code",
   "execution_count": 3,
   "metadata": {
    "executionInfo": {
     "elapsed": 15,
     "status": "ok",
     "timestamp": 1662556376415,
     "user": {
      "displayName": "Luis Gustavo Maldonado Archila",
      "userId": "00154281364666914585"
     },
     "user_tz": 240
    },
    "id": "TXMPUJM0Wsmj"
   },
   "outputs": [],
   "source": [
    "# Ajustar No Maximo de Columnas para mostrar\n",
    "# pd.get_option(\"display.max_columns\")\n",
    "pd.set_option('display.max_columns', None)\n",
    "#pd.set_option('display.max_columns', 20) # reset to default"
   ]
  },
  {
   "cell_type": "code",
   "execution_count": 4,
   "metadata": {
    "executionInfo": {
     "elapsed": 15,
     "status": "ok",
     "timestamp": 1662556376416,
     "user": {
      "displayName": "Luis Gustavo Maldonado Archila",
      "userId": "00154281364666914585"
     },
     "user_tz": 240
    },
    "id": "AmbZvPH9WU0U"
   },
   "outputs": [],
   "source": [
    "# Ajustar el tamaño máximo de columna que se muestra\n",
    "#pd.get_option('display.max_colwidth')\n",
    "#pd.set_option('display.max_colwidth', -1) \n",
    "#pd.set_option('display.max_colwidth', 50)  # reset to default"
   ]
  },
  {
   "cell_type": "code",
   "execution_count": 5,
   "metadata": {
    "executionInfo": {
     "elapsed": 14,
     "status": "ok",
     "timestamp": 1662556376416,
     "user": {
      "displayName": "Luis Gustavo Maldonado Archila",
      "userId": "00154281364666914585"
     },
     "user_tz": 240
    },
    "id": "723Bn-ilmaJR"
   },
   "outputs": [],
   "source": [
    "# Ajustar el número máximo de filas para mostrar\n",
    "#pd.get_option('display.max_rows')\n",
    "pd.set_option('display.max_rows', None) # mostrar todas\n",
    "#pd.set_option('display.max_rows', 60) # reset to default"
   ]
  },
  {
   "cell_type": "code",
   "execution_count": 6,
   "metadata": {
    "executionInfo": {
     "elapsed": 12,
     "status": "ok",
     "timestamp": 1662556376417,
     "user": {
      "displayName": "Luis Gustavo Maldonado Archila",
      "userId": "00154281364666914585"
     },
     "user_tz": 240
    },
    "id": "WpTBC192w3Z5"
   },
   "outputs": [],
   "source": [
    "#para poder ver los montos en valores con todas las cifras significativas en vez de notación científica\n",
    "pd.set_option('display.float_format',  '{:,.2f}'.format)"
   ]
  },
  {
   "cell_type": "markdown",
   "metadata": {
    "id": "utMIpuBVjQlm"
   },
   "source": [
    "# Step 1: **Data Loading**"
   ]
  },
  {
   "cell_type": "markdown",
   "metadata": {
    "id": "qaQq015B9Kxa"
   },
   "source": [
    "## Load CSV into colab \n",
    "From Google Drive only (DO NOT RUN if in Jupyter):"
   ]
  },
  {
   "cell_type": "code",
   "execution_count": 7,
   "metadata": {
    "colab": {
     "base_uri": "https://localhost:8080/"
    },
    "executionInfo": {
     "elapsed": 15637,
     "status": "ok",
     "timestamp": 1662556392044,
     "user": {
      "displayName": "Luis Gustavo Maldonado Archila",
      "userId": "00154281364666914585"
     },
     "user_tz": 240
    },
    "id": "am_eVXerl5aK",
    "outputId": "3d2ddb30-a070-46b0-d2a7-188606fcc4ed"
   },
   "outputs": [
    {
     "name": "stdout",
     "output_type": "stream",
     "text": [
      "Mounted at /content/drive\n"
     ]
    }
   ],
   "source": [
    "# For Using Google Drive, (Only if executing notebook from Google colab):\n",
    "from google.colab import drive\n",
    "drive.mount('/content/drive')\n",
    "\n",
    "# after that:\n",
    "# <--- Refresh mounted Drive\n",
    "# <--- Look for file and get the path link"
   ]
  },
  {
   "cell_type": "markdown",
   "metadata": {
    "id": "LGf3wCgVjQlu"
   },
   "source": [
    "### Find the file"
   ]
  },
  {
   "cell_type": "code",
   "execution_count": 8,
   "metadata": {
    "colab": {
     "base_uri": "https://localhost:8080/"
    },
    "executionInfo": {
     "elapsed": 19,
     "status": "ok",
     "timestamp": 1662556392047,
     "user": {
      "displayName": "Luis Gustavo Maldonado Archila",
      "userId": "00154281364666914585"
     },
     "user_tz": 240
    },
    "id": "_-hv0G4BjQlx",
    "outputId": "87d2b223-4b67-4be7-c2f1-508464242c8b"
   },
   "outputs": [
    {
     "name": "stdout",
     "output_type": "stream",
     "text": [
      "/content\n",
      "True\n"
     ]
    }
   ],
   "source": [
    "# Get the current directory\n",
    "print(os.getcwd())\n",
    "# Check if the directory exists\n",
    "print(os.path.exists('../'))"
   ]
  },
  {
   "cell_type": "code",
   "execution_count": 9,
   "metadata": {
    "colab": {
     "base_uri": "https://localhost:8080/"
    },
    "executionInfo": {
     "elapsed": 201,
     "status": "ok",
     "timestamp": 1662556392235,
     "user": {
      "displayName": "Luis Gustavo Maldonado Archila",
      "userId": "00154281364666914585"
     },
     "user_tz": 240
    },
    "id": "tHpczy9_jQl5",
    "outputId": "4d0a499e-6fba-4c17-f1af-97320aa7546a"
   },
   "outputs": [
    {
     "name": "stdout",
     "output_type": "stream",
     "text": [
      "\u001b[0m\u001b[01;34mdrive\u001b[0m/  \u001b[01;34msample_data\u001b[0m/\n"
     ]
    }
   ],
   "source": [
    "ls"
   ]
  },
  {
   "cell_type": "code",
   "execution_count": 10,
   "metadata": {
    "colab": {
     "base_uri": "https://localhost:8080/"
    },
    "executionInfo": {
     "elapsed": 12,
     "status": "ok",
     "timestamp": 1662556392237,
     "user": {
      "displayName": "Luis Gustavo Maldonado Archila",
      "userId": "00154281364666914585"
     },
     "user_tz": 240
    },
    "id": "PY5i_Ouon_fl",
    "outputId": "fb86635e-8c75-40ed-f623-91af75ec2212"
   },
   "outputs": [
    {
     "name": "stdout",
     "output_type": "stream",
     "text": [
      "/content/drive/MyDrive/Observatorio SPVS\n"
     ]
    }
   ],
   "source": [
    "cd /content/drive/MyDrive/Observatorio SPVS/"
   ]
  },
  {
   "cell_type": "code",
   "execution_count": 10,
   "metadata": {
    "executionInfo": {
     "elapsed": 8,
     "status": "ok",
     "timestamp": 1662556392238,
     "user": {
      "displayName": "Luis Gustavo Maldonado Archila",
      "userId": "00154281364666914585"
     },
     "user_tz": 240
    },
    "id": "SwTntWqyYDml"
   },
   "outputs": [],
   "source": []
  },
  {
   "cell_type": "markdown",
   "metadata": {
    "id": "e0u8SEEb3cjk"
   },
   "source": [
    "# Exploracion de Sector Cliente Tipo Vigilado"
   ]
  },
  {
   "cell_type": "code",
   "execution_count": 11,
   "metadata": {
    "colab": {
     "base_uri": "https://localhost:8080/"
    },
    "executionInfo": {
     "elapsed": 2538,
     "status": "ok",
     "timestamp": 1662556394769,
     "user": {
      "displayName": "Luis Gustavo Maldonado Archila",
      "userId": "00154281364666914585"
     },
     "user_tz": 240
    },
    "id": "tUrqN0jn3TIh",
    "outputId": "422d85e5-4f65-4e3a-b2a2-63c69c7b9f81"
   },
   "outputs": [
    {
     "name": "stderr",
     "output_type": "stream",
     "text": [
      "/usr/local/lib/python3.7/dist-packages/IPython/core/interactiveshell.py:3326: DtypeWarning: Columns (15,16,23,25,33,54) have mixed types.Specify dtype option on import or set low_memory=False.\n",
      "  exec(code_obj, self.user_global_ns, self.user_ns)\n"
     ]
    },
    {
     "data": {
      "text/plain": [
       "(177614, 55)"
      ]
     },
     "execution_count": 11,
     "metadata": {},
     "output_type": "execute_result"
    }
   ],
   "source": [
    "Cliente_tipo_Vigilado = pd.read_csv('/content/drive/MyDrive/Observatorio SPVS/BD RENOVA - Contratos Todos los Clientes/contratos_sector_cliente_tipo_vigilado.csv', encoding = 'utf8') \n",
    "Cliente_tipo_Vigilado.shape"
   ]
  },
  {
   "cell_type": "code",
   "execution_count": 12,
   "metadata": {
    "colab": {
     "base_uri": "https://localhost:8080/"
    },
    "executionInfo": {
     "elapsed": 13,
     "status": "ok",
     "timestamp": 1662556394770,
     "user": {
      "displayName": "Luis Gustavo Maldonado Archila",
      "userId": "00154281364666914585"
     },
     "user_tz": 240
    },
    "id": "tKjx_CYd6Qic",
    "outputId": "baa2248b-50c8-434f-a453-b059ebef3eb9"
   },
   "outputs": [
    {
     "data": {
      "text/plain": [
       "Index(['Unnamed: 0', 'ID_CONTRATO', 'FECHA_INICIO_CONTRATO',\n",
       "       'FECHA_FIN_CONTRATO', 'MONTO_CONTRATO', 'CANTIDAD_PUESTOS_CONTRATO',\n",
       "       'NIT_VIGILADO_x', 'DESCRIPCION_VALOR_AGREGADO', 'ID_ESTADO_CONTRATO',\n",
       "       'FECHA_CONTRATO_ESTADO', 'MAXDATE', 'MINDATE', 'ID_CLIENTE',\n",
       "       'TIPO_CONTRATO', 'ACTIVO_x', 'NUMERO_DOCUMENTO_CLIENTE',\n",
       "       'DIGITO_VERIFICACION', 'RAZON_SOCIAL_CLIENTE', 'PRIMER_NOMBRE_CLIENTE',\n",
       "       'SEGUNDO_NOMBRE_CLIENTE', 'PRIMER_APELLIDO_CLIENTE',\n",
       "       'SEGUNDO_APELIDO_CLIENTE', 'SECTOR_CLIENTE', 'CIIU_CLIENTE',\n",
       "       'DIRECCION_CLIENTE', 'TELEFONO_FIJO_CLIENTE', 'TELEFONO_MOVIL_CLIENTE',\n",
       "       'CORREO_ELECTRONICO_CLIENTE', 'CORREO_ELECTRONICO_ALTERNATIVO_CLIENTE',\n",
       "       'ID_CIUDAD', 'ID_DEPARTAMENTO', 'ID_DEPARTAMENTO1',\n",
       "       'ID_TIPO_DOCUMENTO_IDENTIFICACION',\n",
       "       'NUMERO_DOCUMENTO_REPRESENTANTE_LEGAL_CLIENTE', 'ID_TIPO_CLIENTE',\n",
       "       'TIPO_VIA', 'NOMBRE_NUM_VIA', 'PREFIJO_UNO', 'PREFIJO_UNO_UNO',\n",
       "       'NUMERO_VIA_GENERADORA', 'PREFIJO_DOS', 'PREFIJO_DOS_DOS',\n",
       "       'NUMERO_PLACA', 'COMPLEMENTARIO_LISTA', 'COMPLEMENTARIO_TEXTO',\n",
       "       'ID_TIPO_DOCUMENTO_IDENTIFICACION_REPRESENTANTE_LEGAL_CLIENTE',\n",
       "       'NIT_VIGILADO_y', 'CONSORCIO', 'ID_DIRECCION', 'ACTIVO_y',\n",
       "       'NIT_VIGILADO', 'ID_TIPO_SERVICIO', 'ID_TIPO_SOCIEDAD',\n",
       "       'RAZON_SOCIAL_VIGILADO', 'CIIU_VIGILADO'],\n",
       "      dtype='object')"
      ]
     },
     "execution_count": 12,
     "metadata": {},
     "output_type": "execute_result"
    }
   ],
   "source": [
    "Cliente_tipo_Vigilado.columns"
   ]
  },
  {
   "cell_type": "code",
   "execution_count": 13,
   "metadata": {
    "colab": {
     "base_uri": "https://localhost:8080/"
    },
    "executionInfo": {
     "elapsed": 214,
     "status": "ok",
     "timestamp": 1662556394978,
     "user": {
      "displayName": "Luis Gustavo Maldonado Archila",
      "userId": "00154281364666914585"
     },
     "user_tz": 240
    },
    "id": "ENLcX2x278jV",
    "outputId": "9d3a8667-2bb4-42b3-f5a1-7048544e3799"
   },
   "outputs": [
    {
     "data": {
      "text/plain": [
       "count   177,614.00\n",
       "mean      2,016.07\n",
       "std           3.46\n",
       "min       1,899.00\n",
       "25%       2,014.00\n",
       "50%       2,016.00\n",
       "75%       2,018.00\n",
       "max       2,213.00\n",
       "Name: FECHA_FIN_CONTRATO, dtype: float64"
      ]
     },
     "execution_count": 13,
     "metadata": {},
     "output_type": "execute_result"
    }
   ],
   "source": [
    "Cliente_tipo_Vigilado['FECHA_FIN_CONTRATO'].str[:4].astype(int).describe()"
   ]
  },
  {
   "cell_type": "code",
   "execution_count": 14,
   "metadata": {
    "colab": {
     "base_uri": "https://localhost:8080/"
    },
    "executionInfo": {
     "elapsed": 16,
     "status": "ok",
     "timestamp": 1662556394980,
     "user": {
      "displayName": "Luis Gustavo Maldonado Archila",
      "userId": "00154281364666914585"
     },
     "user_tz": 240
    },
    "id": "vrK2zMNU8jA8",
    "outputId": "78062f06-04c5-47b1-d6c0-a312a81a0701"
   },
   "outputs": [
    {
     "data": {
      "text/plain": [
       "count   39,169.00\n",
       "mean     2,014.25\n",
       "std          3.57\n",
       "min      1,899.00\n",
       "25%      2,013.00\n",
       "50%      2,014.00\n",
       "75%      2,015.00\n",
       "max      2,213.00\n",
       "Name: FECHA_CONTRATO_ESTADO, dtype: float64"
      ]
     },
     "execution_count": 14,
     "metadata": {},
     "output_type": "execute_result"
    }
   ],
   "source": [
    "Cliente_tipo_Vigilado['FECHA_CONTRATO_ESTADO'].str[:4].astype(float).describe()"
   ]
  },
  {
   "cell_type": "code",
   "execution_count": 15,
   "metadata": {
    "colab": {
     "base_uri": "https://localhost:8080/"
    },
    "executionInfo": {
     "elapsed": 12,
     "status": "ok",
     "timestamp": 1662556394980,
     "user": {
      "displayName": "Luis Gustavo Maldonado Archila",
      "userId": "00154281364666914585"
     },
     "user_tz": 240
    },
    "id": "iX9OsoNoDoQo",
    "outputId": "725f46a5-ee11-4d1d-c826-4fbec1cbe983"
   },
   "outputs": [
    {
     "data": {
      "text/plain": [
       "0.90   2,018.00\n",
       "0.95   2,019.00\n",
       "0.99   2,020.00\n",
       "1.00   2,020.00\n",
       "1.00   2,020.00\n",
       "Name: FECHA_INICIO_CONTRATO, dtype: float64"
      ]
     },
     "execution_count": 15,
     "metadata": {},
     "output_type": "execute_result"
    }
   ],
   "source": [
    "Cliente_tipo_Vigilado['FECHA_INICIO_CONTRATO'].str[:4].astype(float).quantile(q = [0.90, 0.95, 0.99, 0.999, 0.9999])"
   ]
  },
  {
   "cell_type": "code",
   "execution_count": 16,
   "metadata": {
    "colab": {
     "base_uri": "https://localhost:8080/",
     "height": 283
    },
    "executionInfo": {
     "elapsed": 629,
     "status": "ok",
     "timestamp": 1662556395602,
     "user": {
      "displayName": "Luis Gustavo Maldonado Archila",
      "userId": "00154281364666914585"
     },
     "user_tz": 240
    },
    "id": "7sktOuQEDLnh",
    "outputId": "5b4e4c13-6fc8-4d47-adbc-fd505e7e9907"
   },
   "outputs": [
    {
     "data": {
      "text/plain": [
       "<matplotlib.axes._subplots.AxesSubplot at 0x7f7dddc13f90>"
      ]
     },
     "execution_count": 16,
     "metadata": {},
     "output_type": "execute_result"
    },
    {
     "data": {
      "image/png": "[encoded data removed]",
      "text/plain": [
       "<Figure size 432x288 with 1 Axes>"
      ]
     },
     "metadata": {
      "needs_background": "light"
     },
     "output_type": "display_data"
    }
   ],
   "source": [
    "Cliente_tipo_Vigilado['FECHA_INICIO_CONTRATO'].str[:4].astype(float).plot.hist(bins = 100)"
   ]
  },
  {
   "cell_type": "code",
   "execution_count": 17,
   "metadata": {
    "colab": {
     "base_uri": "https://localhost:8080/",
     "height": 169
    },
    "executionInfo": {
     "elapsed": 198,
     "status": "error",
     "timestamp": 1662556395793,
     "user": {
      "displayName": "Luis Gustavo Maldonado Archila",
      "userId": "00154281364666914585"
     },
     "user_tz": 240
    },
    "id": "A4u6L9oi7V5C",
    "outputId": "d4cb74f5-cf61-41e3-948f-6ecaae7ed4b0"
   },
   "outputs": [
    {
     "ename": "TypeError",
     "evalue": "ignored",
     "output_type": "error",
     "traceback": [
      "\u001b[0;31m---------------------------------------------------------------------------\u001b[0m",
      "\u001b[0;31mTypeError\u001b[0m                                 Traceback (most recent call last)",
      "\u001b[0;32m<ipython-input-17-ea1ddafb75bc>\u001b[0m in \u001b[0;36m<module>\u001b[0;34m\u001b[0m\n\u001b[0;32m----> 1\u001b[0;31m \u001b[0mCliente_tipo_Vigilado\u001b[0m\u001b[0;34m.\u001b[0m\u001b[0mgroupby\u001b[0m\u001b[0;34m[\u001b[0m\u001b[0;34m'NIT_VIGILADO'\u001b[0m\u001b[0;34m,\u001b[0m \u001b[0;34m]\u001b[0m\u001b[0;34m\u001b[0m\u001b[0;34m\u001b[0m\u001b[0m\n\u001b[0m",
      "\u001b[0;31mTypeError\u001b[0m: 'method' object is not subscriptable"
     ]
    }
   ],
   "source": [
    "Cliente_tipo_Vigilado.groupby['NIT_VIGILADO', ]"
   ]
  },
  {
   "cell_type": "markdown",
   "metadata": {
    "id": "U2dGvO4PFTXY"
   },
   "source": [
    "# Tareas:\n",
    "\n",
    "- Sacar una proporcion del gasto en sectores"
   ]
  },
  {
   "cell_type": "code",
   "execution_count": 20,
   "metadata": {
    "colab": {
     "base_uri": "https://localhost:8080/",
     "height": 287
    },
    "executionInfo": {
     "elapsed": 1318,
     "status": "ok",
     "timestamp": 1662556535099,
     "user": {
      "displayName": "Luis Gustavo Maldonado Archila",
      "userId": "00154281364666914585"
     },
     "user_tz": 240
    },
    "id": "VLIZEpYsYGXW",
    "outputId": "d01d60cc-aeb5-4a35-c5f3-1e11f920545f"
   },
   "outputs": [
    {
     "data": {
      "text/plain": [
       "<matplotlib.axes._subplots.AxesSubplot at 0x7f7dd9bfd7d0>"
      ]
     },
     "execution_count": 20,
     "metadata": {},
     "output_type": "execute_result"
    },
    {
     "data": {
      "image/png": "[encoded data removed]",
      "text/plain": [
       "<Figure size 432x288 with 1 Axes>"
      ]
     },
     "metadata": {
      "needs_background": "light"
     },
     "output_type": "display_data"
    }
   ],
   "source": [
    "Cliente_tipo_Vigilado['MONTO_CONTRATO'].plot.hist(bins = 100, logx = True)"
   ]
  },
  {
   "cell_type": "code",
   "execution_count": null,
   "metadata": {
    "executionInfo": {
     "elapsed": 12,
     "status": "aborted",
     "timestamp": 1662556395795,
     "user": {
      "displayName": "Luis Gustavo Maldonado Archila",
      "userId": "00154281364666914585"
     },
     "user_tz": 240
    },
    "id": "Vbm6ZLcbYGh4"
   },
   "outputs": [],
   "source": [
    "Cliente_tipo_Vigilado['SECTOR_CLIENTE'].plot.hist(bins = 100, logx = True)"
   ]
  },
  {
   "cell_type": "code",
   "execution_count": 21,
   "metadata": {
    "colab": {
     "base_uri": "https://localhost:8080/"
    },
    "executionInfo": {
     "elapsed": 166,
     "status": "ok",
     "timestamp": 1662556600799,
     "user": {
      "displayName": "Luis Gustavo Maldonado Archila",
      "userId": "00154281364666914585"
     },
     "user_tz": 240
    },
    "id": "HcwdWQ1bYXDN",
    "outputId": "382c46e7-fd7c-4a71-efc8-f6ce8713d594"
   },
   "outputs": [
    {
     "data": {
      "text/plain": [
       "1.00     38511\n",
       "6.00     18641\n",
       "12.00    14223\n",
       "3.00      9207\n",
       "10.00     6429\n",
       "4.00      4423\n",
       "11.00     1909\n",
       "7.00      1818\n",
       "9.00      1443\n",
       "2.00      1363\n",
       "8.00       536\n",
       "5.00       361\n",
       "Name: SECTOR_CLIENTE, dtype: int64"
      ]
     },
     "execution_count": 21,
     "metadata": {},
     "output_type": "execute_result"
    }
   ],
   "source": [
    "Cliente_tipo_Vigilado['SECTOR_CLIENTE'].value_counts()"
   ]
  },
  {
   "cell_type": "code",
   "execution_count": 25,
   "metadata": {
    "colab": {
     "base_uri": "https://localhost:8080/"
    },
    "executionInfo": {
     "elapsed": 379,
     "status": "ok",
     "timestamp": 1662556911477,
     "user": {
      "displayName": "Luis Gustavo Maldonado Archila",
      "userId": "00154281364666914585"
     },
     "user_tz": 240
    },
    "id": "9WfnBW--HR9V",
    "outputId": "64a98e0a-dfb5-4832-8846-18c351742d10"
   },
   "outputs": [
    {
     "name": "stdout",
     "output_type": "stream",
     "text": [
      "<class 'pandas.core.frame.DataFrame'>\n",
      "RangeIndex: 177614 entries, 0 to 177613\n",
      "Data columns (total 56 columns):\n",
      " #   Column                                                        Non-Null Count   Dtype  \n",
      "---  ------                                                        --------------   -----  \n",
      " 0   Unnamed: 0                                                    177614 non-null  int64  \n",
      " 1   ID_CONTRATO                                                   177614 non-null  int64  \n",
      " 2   FECHA_INICIO_CONTRATO                                         177614 non-null  object \n",
      " 3   FECHA_FIN_CONTRATO                                            177614 non-null  object \n",
      " 4   MONTO_CONTRATO                                                177614 non-null  float64\n",
      " 5   CANTIDAD_PUESTOS_CONTRATO                                     62366 non-null   float64\n",
      " 6   NIT_VIGILADO_x                                                177614 non-null  int64  \n",
      " 7   DESCRIPCION_VALOR_AGREGADO                                    9496 non-null    object \n",
      " 8   ID_ESTADO_CONTRATO                                            39171 non-null   float64\n",
      " 9   FECHA_CONTRATO_ESTADO                                         39169 non-null   object \n",
      " 10  MAXDATE                                                       20365 non-null   object \n",
      " 11  MINDATE                                                       14657 non-null   object \n",
      " 12  ID_CLIENTE                                                    177614 non-null  int64  \n",
      " 13  TIPO_CONTRATO                                                 98182 non-null   float64\n",
      " 14  ACTIVO_x                                                      177614 non-null  int64  \n",
      " 15  NUMERO_DOCUMENTO_CLIENTE                                      177614 non-null  object \n",
      " 16  DIGITO_VERIFICACION                                           126788 non-null  object \n",
      " 17  RAZON_SOCIAL_CLIENTE                                          126262 non-null  object \n",
      " 18  PRIMER_NOMBRE_CLIENTE                                         99440 non-null   object \n",
      " 19  SEGUNDO_NOMBRE_CLIENTE                                        56961 non-null   object \n",
      " 20  PRIMER_APELLIDO_CLIENTE                                       99411 non-null   object \n",
      " 21  SEGUNDO_APELIDO_CLIENTE                                       67510 non-null   object \n",
      " 22  SECTOR_CLIENTE                                                98864 non-null   float64\n",
      " 23  CIIU_CLIENTE                                                  16865 non-null   object \n",
      " 24  DIRECCION_CLIENTE                                             176446 non-null  object \n",
      " 25  TELEFONO_FIJO_CLIENTE                                         177614 non-null  object \n",
      " 26  TELEFONO_MOVIL_CLIENTE                                        51225 non-null   object \n",
      " 27  CORREO_ELECTRONICO_CLIENTE                                    177614 non-null  object \n",
      " 28  CORREO_ELECTRONICO_ALTERNATIVO_CLIENTE                        10110 non-null   object \n",
      " 29  ID_CIUDAD                                                     170939 non-null  float64\n",
      " 30  ID_DEPARTAMENTO                                               170939 non-null  float64\n",
      " 31  ID_DEPARTAMENTO1                                              169923 non-null  float64\n",
      " 32  ID_TIPO_DOCUMENTO_IDENTIFICACION                              177614 non-null  int64  \n",
      " 33  NUMERO_DOCUMENTO_REPRESENTANTE_LEGAL_CLIENTE                  92231 non-null   object \n",
      " 34  ID_TIPO_CLIENTE                                               177614 non-null  int64  \n",
      " 35  TIPO_VIA                                                      169923 non-null  object \n",
      " 36  NOMBRE_NUM_VIA                                                169923 non-null  object \n",
      " 37  PREFIJO_UNO                                                   46728 non-null   object \n",
      " 38  PREFIJO_UNO_UNO                                               7032 non-null    object \n",
      " 39  NUMERO_VIA_GENERADORA                                         169923 non-null  float64\n",
      " 40  PREFIJO_DOS                                                   44692 non-null   object \n",
      " 41  PREFIJO_DOS_DOS                                               5794 non-null    object \n",
      " 42  NUMERO_PLACA                                                  169923 non-null  float64\n",
      " 43  COMPLEMENTARIO_LISTA                                          53334 non-null   object \n",
      " 44  COMPLEMENTARIO_TEXTO                                          51816 non-null   object \n",
      " 45  ID_TIPO_DOCUMENTO_IDENTIFICACION_REPRESENTANTE_LEGAL_CLIENTE  91528 non-null   float64\n",
      " 46  NIT_VIGILADO_y                                                177614 non-null  int64  \n",
      " 47  CONSORCIO                                                     175633 non-null  float64\n",
      " 48  ID_DIRECCION                                                  177614 non-null  int64  \n",
      " 49  ACTIVO_y                                                      177614 non-null  int64  \n",
      " 50  NIT_VIGILADO                                                  177614 non-null  int64  \n",
      " 51  ID_TIPO_SERVICIO                                              177614 non-null  int64  \n",
      " 52  ID_TIPO_SOCIEDAD                                              177614 non-null  int64  \n",
      " 53  RAZON_SOCIAL_VIGILADO                                         177614 non-null  object \n",
      " 54  CIIU_VIGILADO                                                 177614 non-null  object \n",
      " 55  SECTOR_CLIENTE_DESC                                           98864 non-null   object \n",
      "dtypes: float64(12), int64(13), object(31)\n",
      "memory usage: 75.9+ MB\n"
     ]
    }
   ],
   "source": [
    "Cliente_tipo_Vigilado.info()"
   ]
  },
  {
   "cell_type": "code",
   "execution_count": 24,
   "metadata": {
    "colab": {
     "base_uri": "https://localhost:8080/"
    },
    "executionInfo": {
     "elapsed": 133,
     "status": "ok",
     "timestamp": 1662556895454,
     "user": {
      "displayName": "Luis Gustavo Maldonado Archila",
      "userId": "00154281364666914585"
     },
     "user_tz": 240
    },
    "id": "lP-f1cFIHMiz",
    "outputId": "b35568b1-fab0-42d3-e1a5-ddec5e4f1495"
   },
   "outputs": [
    {
     "data": {
      "text/plain": [
       "78750"
      ]
     },
     "execution_count": 24,
     "metadata": {},
     "output_type": "execute_result"
    }
   ],
   "source": [
    "Cliente_tipo_Vigilado['SECTOR_CLIENTE'].isna().sum()"
   ]
  },
  {
   "cell_type": "code",
   "execution_count": 44,
   "metadata": {
    "colab": {
     "base_uri": "https://localhost:8080/"
    },
    "executionInfo": {
     "elapsed": 156,
     "status": "ok",
     "timestamp": 1662558025844,
     "user": {
      "displayName": "Luis Gustavo Maldonado Archila",
      "userId": "00154281364666914585"
     },
     "user_tz": 240
    },
    "id": "2ujFWCDtKkD1",
    "outputId": "442f8aeb-c6e3-4bb4-88b8-413bf0644e86"
   },
   "outputs": [
    {
     "data": {
      "text/plain": [
       "Empresa de Vigilancia y Seguridad Privadas sin Armas                                                                                                            75674\n",
       "Empresa de Vigilancia y Seguridad Privadas con Armas                                                                                                            70979\n",
       "Empresa Arrendadora de Vehículos Blindados                                                                                                                      15840\n",
       "Cooperativa de Vigilancia y Seguridad Privada                                                                                                                    8566\n",
       "Empresa Blindadora                                                                                                                                               3790\n",
       "Empresa de Transporte de Valores                                                                                                                                 1340\n",
       "Inscripción en el Registro de Fabricantes, Importadores, Comercializadores, Arrendadores e Instaladores de Equipos para la Vigilancia y la Seguridad Privada     1109\n",
       "Empresa Asesora, Consultora e Investigadora en Vigilancia y Seguridad Privada                                                                                     315\n",
       "Departamento de Seguridad Persona Jurídica                                                                                                                          1\n",
       "Name: TIPO_SERVICIO, dtype: int64"
      ]
     },
     "execution_count": 44,
     "metadata": {},
     "output_type": "execute_result"
    }
   ],
   "source": [
    "# mapeo de codigos de sectores\n",
    "\n",
    "Cliente_tipo_Vigilado['TIPO_SERVICIO'] = Cliente_tipo_Vigilado['ID_TIPO_SERVICIO'].map({1: 'Empresa de Vigilancia y Seguridad Privadas con Armas',\n",
    "                                                2: 'Empresa de Vigilancia y Seguridad Privadas sin Armas',\n",
    "                                                3: 'Cooperativa de Vigilancia y Seguridad Privada',\n",
    "                                                4: 'Empresa de Transporte de Valores',\n",
    "                                                5: 'Empresa Blindadora',\n",
    "                                                6: 'Empresa Arrendadora de Vehículos Blindados',\n",
    "                                                7: 'Empresa Asesora, Consultora e Investigadora en Vigilancia y Seguridad Privada',\n",
    "                                                8: 'Escuela de Capacitación y Entrenamiento en Vigilancia y Seguridad Privada' ,\n",
    "                                                9: 'Inscripción en el Registro de Fabricantes, Importadores, Comercializadores, Arrendadores e Instaladores de Equipos para la Vigilancia y la Seguridad Privada',\n",
    "                                                10: 'Servicio Comunitario de Vigilancia y Seguridad Privada',\n",
    "                                                11: 'Departamento de Seguridad Persona Natural',\n",
    "                                                12: 'Departamento de Seguridad Persona Jurídica'\n",
    "                                               })\n",
    "Cliente_tipo_Vigilado['TIPO_SERVICIO'].value_counts()"
   ]
  },
  {
   "cell_type": "code",
   "execution_count": 40,
   "metadata": {
    "colab": {
     "base_uri": "https://localhost:8080/"
    },
    "executionInfo": {
     "elapsed": 151,
     "status": "ok",
     "timestamp": 1662557665571,
     "user": {
      "displayName": "Luis Gustavo Maldonado Archila",
      "userId": "00154281364666914585"
     },
     "user_tz": 240
    },
    "id": "2uJr_YThGHgO",
    "outputId": "e6d5052e-edc9-4ca6-c85d-5aa0a72adbf2"
   },
   "outputs": [
    {
     "data": {
      "text/plain": [
       "COMERCIAL              38511\n",
       "RESIDENCIAL            18641\n",
       "OTRO                   14223\n",
       "SERVICIOS               9207\n",
       "VIGILANCIA              6429\n",
       "INDUSTRIAL              4423\n",
       "EDUCATIVO               1909\n",
       "GOBIERNO                1818\n",
       "TRANSPORTES             1443\n",
       "FINANCIERO              1363\n",
       "MINAS Y ENERGIA          536\n",
       "AGRICOLA Y GANADERO      361\n",
       "Name: SECTOR_CLIENTE_DESC, dtype: int64"
      ]
     },
     "execution_count": 40,
     "metadata": {},
     "output_type": "execute_result"
    }
   ],
   "source": [
    "# mapeo de codigos de sectores\n",
    "\n",
    "Cliente_tipo_Vigilado['SECTOR_CLIENTE_DESC'] = Cliente_tipo_Vigilado['SECTOR_CLIENTE'].map({1: 'COMERCIAL',\n",
    "                                                2: 'FINANCIERO',\n",
    "                                                3: 'SERVICIOS',\n",
    "                                                4: 'INDUSTRIAL',\n",
    "                                                5: 'AGRICOLA Y GANADERO',\n",
    "                                                6: 'RESIDENCIAL',\n",
    "                                                7: 'GOBIERNO',\n",
    "                                                8: 'MINAS Y ENERGIA' ,\n",
    "                                                9: 'TRANSPORTES',\n",
    "                                                10: 'VIGILANCIA',\n",
    "                                                11: 'EDUCATIVO',\n",
    "                                                12: 'OTRO'\n",
    "                                               })\n",
    "Cliente_tipo_Vigilado['SECTOR_CLIENTE_DESC'].value_counts()\n"
   ]
  },
  {
   "cell_type": "code",
   "execution_count": 52,
   "metadata": {
    "executionInfo": {
     "elapsed": 154,
     "status": "ok",
     "timestamp": 1662558506557,
     "user": {
      "displayName": "Luis Gustavo Maldonado Archila",
      "userId": "00154281364666914585"
     },
     "user_tz": 240
    },
    "id": "C2uQje-GGdDi"
   },
   "outputs": [],
   "source": [
    "serie_sectores = Cliente_tipo_Vigilado['SECTOR_CLIENTE_DESC']\n",
    "#serie_sectores.dropna(inplace = True)"
   ]
  },
  {
   "cell_type": "code",
   "execution_count": 53,
   "metadata": {
    "colab": {
     "base_uri": "https://localhost:8080/",
     "height": 426
    },
    "executionInfo": {
     "elapsed": 13,
     "status": "ok",
     "timestamp": 1662558507295,
     "user": {
      "displayName": "Luis Gustavo Maldonado Archila",
      "userId": "00154281364666914585"
     },
     "user_tz": 240
    },
    "id": "prF9dcKdIiSy",
    "outputId": "0f74e818-1442-4b23-96cb-4faa800ad11d"
   },
   "outputs": [
    {
     "data": {
      "text/html": [
       "\n",
       "  <div id=\"df-51730f08-391f-42c8-948e-6d45b2902b6e\">\n",
       "    <div class=\"colab-df-container\">\n",
       "      <div>\n",
       "<style scoped>\n",
       "    .dataframe tbody tr th:only-of-type {\n",
       "        vertical-align: middle;\n",
       "    }\n",
       "\n",
       "    .dataframe tbody tr th {\n",
       "        vertical-align: top;\n",
       "    }\n",
       "\n",
       "    .dataframe thead th {\n",
       "        text-align: right;\n",
       "    }\n",
       "</style>\n",
       "<table border=\"1\" class=\"dataframe\">\n",
       "  <thead>\n",
       "    <tr style=\"text-align: right;\">\n",
       "      <th></th>\n",
       "      <th>SECTOR_CLIENTE_DESC</th>\n",
       "    </tr>\n",
       "  </thead>\n",
       "  <tbody>\n",
       "    <tr>\n",
       "      <th>COMERCIAL</th>\n",
       "      <td>38511</td>\n",
       "    </tr>\n",
       "    <tr>\n",
       "      <th>RESIDENCIAL</th>\n",
       "      <td>18641</td>\n",
       "    </tr>\n",
       "    <tr>\n",
       "      <th>OTRO</th>\n",
       "      <td>14223</td>\n",
       "    </tr>\n",
       "    <tr>\n",
       "      <th>SERVICIOS</th>\n",
       "      <td>9207</td>\n",
       "    </tr>\n",
       "    <tr>\n",
       "      <th>VIGILANCIA</th>\n",
       "      <td>6429</td>\n",
       "    </tr>\n",
       "    <tr>\n",
       "      <th>INDUSTRIAL</th>\n",
       "      <td>4423</td>\n",
       "    </tr>\n",
       "    <tr>\n",
       "      <th>EDUCATIVO</th>\n",
       "      <td>1909</td>\n",
       "    </tr>\n",
       "    <tr>\n",
       "      <th>GOBIERNO</th>\n",
       "      <td>1818</td>\n",
       "    </tr>\n",
       "    <tr>\n",
       "      <th>TRANSPORTES</th>\n",
       "      <td>1443</td>\n",
       "    </tr>\n",
       "    <tr>\n",
       "      <th>FINANCIERO</th>\n",
       "      <td>1363</td>\n",
       "    </tr>\n",
       "    <tr>\n",
       "      <th>MINAS Y ENERGIA</th>\n",
       "      <td>536</td>\n",
       "    </tr>\n",
       "    <tr>\n",
       "      <th>AGRICOLA Y GANADERO</th>\n",
       "      <td>361</td>\n",
       "    </tr>\n",
       "  </tbody>\n",
       "</table>\n",
       "</div>\n",
       "      <button class=\"colab-df-convert\" onclick=\"convertToInteractive('df-51730f08-391f-42c8-948e-6d45b2902b6e')\"\n",
       "              title=\"Convert this dataframe to an interactive table.\"\n",
       "              style=\"display:none;\">\n",
       "        \n",
       "  <svg xmlns=\"http://www.w3.org/2000/svg\" height=\"24px\"viewBox=\"0 0 24 24\"\n",
       "       width=\"24px\">\n",
       "    <path d=\"M0 0h24v24H0V0z\" fill=\"none\"/>\n",
       "    <path d=\"M18.56 5.44l.94 2.06.94-2.06 2.06-.94-2.06-.94-.94-2.06-.94 2.06-2.06.94zm-11 1L8.5 8.5l.94-2.06 2.06-.94-2.06-.94L8.5 2.5l-.94 2.06-2.06.94zm10 10l.94 2.06.94-2.06 2.06-.94-2.06-.94-.94-2.06-.94 2.06-2.06.94z\"/><path d=\"M17.41 7.96l-1.37-1.37c-.4-.4-.92-.59-1.43-.59-.52 0-1.04.2-1.43.59L10.3 9.45l-7.72 7.72c-.78.78-.78 2.05 0 2.83L4 21.41c.39.39.9.59 1.41.59.51 0 1.02-.2 1.41-.59l7.78-7.78 2.81-2.81c.8-.78.8-2.07 0-2.86zM5.41 20L4 18.59l7.72-7.72 1.47 1.35L5.41 20z\"/>\n",
       "  </svg>\n",
       "      </button>\n",
       "      \n",
       "  <style>\n",
       "    .colab-df-container {\n",
       "      display:flex;\n",
       "      flex-wrap:wrap;\n",
       "      gap: 12px;\n",
       "    }\n",
       "\n",
       "    .colab-df-convert {\n",
       "      background-color: #E8F0FE;\n",
       "      border: none;\n",
       "      border-radius: 50%;\n",
       "      cursor: pointer;\n",
       "      display: none;\n",
       "      fill: #1967D2;\n",
       "      height: 32px;\n",
       "      padding: 0 0 0 0;\n",
       "      width: 32px;\n",
       "    }\n",
       "\n",
       "    .colab-df-convert:hover {\n",
       "      background-color: #E2EBFA;\n",
       "      box-shadow: 0px 1px 2px rgba(60, 64, 67, 0.3), 0px 1px 3px 1px rgba(60, 64, 67, 0.15);\n",
       "      fill: #174EA6;\n",
       "    }\n",
       "\n",
       "    [theme=dark] .colab-df-convert {\n",
       "      background-color: #3B4455;\n",
       "      fill: #D2E3FC;\n",
       "    }\n",
       "\n",
       "    [theme=dark] .colab-df-convert:hover {\n",
       "      background-color: #434B5C;\n",
       "      box-shadow: 0px 1px 3px 1px rgba(0, 0, 0, 0.15);\n",
       "      filter: drop-shadow(0px 1px 2px rgba(0, 0, 0, 0.3));\n",
       "      fill: #FFFFFF;\n",
       "    }\n",
       "  </style>\n",
       "\n",
       "      <script>\n",
       "        const buttonEl =\n",
       "          document.querySelector('#df-51730f08-391f-42c8-948e-6d45b2902b6e button.colab-df-convert');\n",
       "        buttonEl.style.display =\n",
       "          google.colab.kernel.accessAllowed ? 'block' : 'none';\n",
       "\n",
       "        async function convertToInteractive(key) {\n",
       "          const element = document.querySelector('#df-51730f08-391f-42c8-948e-6d45b2902b6e');\n",
       "          const dataTable =\n",
       "            await google.colab.kernel.invokeFunction('convertToInteractive',\n",
       "                                                     [key], {});\n",
       "          if (!dataTable) return;\n",
       "\n",
       "          const docLinkHtml = 'Like what you see? Visit the ' +\n",
       "            '<a target=\"_blank\" href=https://colab.research.google.com/notebooks/data_table.ipynb>data table notebook</a>'\n",
       "            + ' to learn more about interactive tables.';\n",
       "          element.innerHTML = '';\n",
       "          dataTable['output_type'] = 'display_data';\n",
       "          await google.colab.output.renderOutput(dataTable, element);\n",
       "          const docLink = document.createElement('div');\n",
       "          docLink.innerHTML = docLinkHtml;\n",
       "          element.appendChild(docLink);\n",
       "        }\n",
       "      </script>\n",
       "    </div>\n",
       "  </div>\n",
       "  "
      ],
      "text/plain": [
       "                     SECTOR_CLIENTE_DESC\n",
       "COMERCIAL                          38511\n",
       "RESIDENCIAL                        18641\n",
       "OTRO                               14223\n",
       "SERVICIOS                           9207\n",
       "VIGILANCIA                          6429\n",
       "INDUSTRIAL                          4423\n",
       "EDUCATIVO                           1909\n",
       "GOBIERNO                            1818\n",
       "TRANSPORTES                         1443\n",
       "FINANCIERO                          1363\n",
       "MINAS Y ENERGIA                      536\n",
       "AGRICOLA Y GANADERO                  361"
      ]
     },
     "execution_count": 53,
     "metadata": {},
     "output_type": "execute_result"
    }
   ],
   "source": [
    "serie_sectores.value_counts().to_frame()"
   ]
  },
  {
   "cell_type": "code",
   "execution_count": 34,
   "metadata": {
    "colab": {
     "base_uri": "https://localhost:8080/"
    },
    "executionInfo": {
     "elapsed": 160,
     "status": "ok",
     "timestamp": 1662557183199,
     "user": {
      "displayName": "Luis Gustavo Maldonado Archila",
      "userId": "00154281364666914585"
     },
     "user_tz": 240
    },
    "id": "6jxbfRSoHJ7S",
    "outputId": "a2fdfa43-c1df-4ee9-8ec3-1edf23c00504"
   },
   "outputs": [
    {
     "data": {
      "text/plain": [
       "COMERCIAL             0.39\n",
       "RESIDENCIAL           0.19\n",
       "OTRO                  0.14\n",
       "SERVICIOS             0.09\n",
       "VIGILANCIA            0.07\n",
       "INDUSTRIAL            0.04\n",
       "EDUCATIVO             0.02\n",
       "GOBIERNO              0.02\n",
       "TRANSPORTES           0.01\n",
       "FINANCIERO            0.01\n",
       "MINAS Y ENERGIA       0.01\n",
       "AGRICOLA Y GANADERO   0.00\n",
       "Name: SECTOR_CLIENTE, dtype: float64"
      ]
     },
     "execution_count": 34,
     "metadata": {},
     "output_type": "execute_result"
    }
   ],
   "source": [
    "serie_sectores.value_counts(normalize=True, dropna = True)"
   ]
  },
  {
   "cell_type": "code",
   "execution_count": 39,
   "metadata": {
    "colab": {
     "base_uri": "https://localhost:8080/"
    },
    "executionInfo": {
     "elapsed": 165,
     "status": "ok",
     "timestamp": 1662557570953,
     "user": {
      "displayName": "Luis Gustavo Maldonado Archila",
      "userId": "00154281364666914585"
     },
     "user_tz": 240
    },
    "id": "c5Vl9D2HIGu3",
    "outputId": "e01c108f-01a7-495f-9ea0-46728dc71e18"
   },
   "outputs": [
    {
     "data": {
      "text/plain": [
       "145077    2747\n",
       "89406      499\n",
       "89449      426\n",
       "40999      419\n",
       "61301      348\n",
       "Name: ID_CLIENTE, dtype: int64"
      ]
     },
     "execution_count": 39,
     "metadata": {},
     "output_type": "execute_result"
    }
   ],
   "source": [
    "Cliente_tipo_Vigilado['ID_CLIENTE'].value_counts().head()"
   ]
  },
  {
   "cell_type": "code",
   "execution_count": 51,
   "metadata": {
    "colab": {
     "base_uri": "https://localhost:8080/",
     "height": 511
    },
    "executionInfo": {
     "elapsed": 209,
     "status": "ok",
     "timestamp": 1662558123031,
     "user": {
      "displayName": "Luis Gustavo Maldonado Archila",
      "userId": "00154281364666914585"
     },
     "user_tz": 240
    },
    "id": "nqlFVuvCJvZ8",
    "outputId": "70485273-8310-458d-e306-e7d34a3a7271"
   },
   "outputs": [
    {
     "data": {
      "text/html": [
       "\n",
       "  <div id=\"df-0503f1f3-1e9d-4f49-aa88-444b9494d108\">\n",
       "    <div class=\"colab-df-container\">\n",
       "      <div>\n",
       "<style scoped>\n",
       "    .dataframe tbody tr th:only-of-type {\n",
       "        vertical-align: middle;\n",
       "    }\n",
       "\n",
       "    .dataframe tbody tr th {\n",
       "        vertical-align: top;\n",
       "    }\n",
       "\n",
       "    .dataframe thead th {\n",
       "        text-align: right;\n",
       "    }\n",
       "</style>\n",
       "<table border=\"1\" class=\"dataframe\">\n",
       "  <thead>\n",
       "    <tr style=\"text-align: right;\">\n",
       "      <th>SECTOR_CLIENTE_DESC</th>\n",
       "      <th>AGRICOLA Y GANADERO</th>\n",
       "      <th>COMERCIAL</th>\n",
       "      <th>EDUCATIVO</th>\n",
       "      <th>FINANCIERO</th>\n",
       "      <th>GOBIERNO</th>\n",
       "      <th>INDUSTRIAL</th>\n",
       "      <th>MINAS Y ENERGIA</th>\n",
       "      <th>OTRO</th>\n",
       "      <th>RESIDENCIAL</th>\n",
       "      <th>SERVICIOS</th>\n",
       "      <th>TRANSPORTES</th>\n",
       "      <th>VIGILANCIA</th>\n",
       "    </tr>\n",
       "    <tr>\n",
       "      <th>TIPO_SERVICIO</th>\n",
       "      <th></th>\n",
       "      <th></th>\n",
       "      <th></th>\n",
       "      <th></th>\n",
       "      <th></th>\n",
       "      <th></th>\n",
       "      <th></th>\n",
       "      <th></th>\n",
       "      <th></th>\n",
       "      <th></th>\n",
       "      <th></th>\n",
       "      <th></th>\n",
       "    </tr>\n",
       "  </thead>\n",
       "  <tbody>\n",
       "    <tr>\n",
       "      <th>Cooperativa de Vigilancia y Seguridad Privada</th>\n",
       "      <td>16.00</td>\n",
       "      <td>1,834.00</td>\n",
       "      <td>98.00</td>\n",
       "      <td>49.00</td>\n",
       "      <td>84.00</td>\n",
       "      <td>164.00</td>\n",
       "      <td>3.00</td>\n",
       "      <td>353.00</td>\n",
       "      <td>4,463.00</td>\n",
       "      <td>228.00</td>\n",
       "      <td>37.00</td>\n",
       "      <td>140.00</td>\n",
       "    </tr>\n",
       "    <tr>\n",
       "      <th>Departamento de Seguridad Persona Jurídica</th>\n",
       "      <td>NaN</td>\n",
       "      <td>1.00</td>\n",
       "      <td>NaN</td>\n",
       "      <td>NaN</td>\n",
       "      <td>NaN</td>\n",
       "      <td>NaN</td>\n",
       "      <td>NaN</td>\n",
       "      <td>NaN</td>\n",
       "      <td>NaN</td>\n",
       "      <td>NaN</td>\n",
       "      <td>NaN</td>\n",
       "      <td>NaN</td>\n",
       "    </tr>\n",
       "    <tr>\n",
       "      <th>Empresa Arrendadora de Vehículos Blindados</th>\n",
       "      <td>12.00</td>\n",
       "      <td>3,017.00</td>\n",
       "      <td>NaN</td>\n",
       "      <td>47.00</td>\n",
       "      <td>338.00</td>\n",
       "      <td>47.00</td>\n",
       "      <td>60.00</td>\n",
       "      <td>343.00</td>\n",
       "      <td>1.00</td>\n",
       "      <td>416.00</td>\n",
       "      <td>526.00</td>\n",
       "      <td>4,851.00</td>\n",
       "    </tr>\n",
       "    <tr>\n",
       "      <th>Empresa Asesora, Consultora e Investigadora en Vigilancia y Seguridad Privada</th>\n",
       "      <td>1.00</td>\n",
       "      <td>5.00</td>\n",
       "      <td>4.00</td>\n",
       "      <td>6.00</td>\n",
       "      <td>1.00</td>\n",
       "      <td>NaN</td>\n",
       "      <td>4.00</td>\n",
       "      <td>25.00</td>\n",
       "      <td>NaN</td>\n",
       "      <td>7.00</td>\n",
       "      <td>2.00</td>\n",
       "      <td>NaN</td>\n",
       "    </tr>\n",
       "    <tr>\n",
       "      <th>Empresa Blindadora</th>\n",
       "      <td>35.00</td>\n",
       "      <td>291.00</td>\n",
       "      <td>10.00</td>\n",
       "      <td>235.00</td>\n",
       "      <td>23.00</td>\n",
       "      <td>100.00</td>\n",
       "      <td>80.00</td>\n",
       "      <td>350.00</td>\n",
       "      <td>17.00</td>\n",
       "      <td>119.00</td>\n",
       "      <td>33.00</td>\n",
       "      <td>406.00</td>\n",
       "    </tr>\n",
       "    <tr>\n",
       "      <th>Empresa de Transporte de Valores</th>\n",
       "      <td>1.00</td>\n",
       "      <td>297.00</td>\n",
       "      <td>3.00</td>\n",
       "      <td>230.00</td>\n",
       "      <td>13.00</td>\n",
       "      <td>3.00</td>\n",
       "      <td>62.00</td>\n",
       "      <td>100.00</td>\n",
       "      <td>NaN</td>\n",
       "      <td>353.00</td>\n",
       "      <td>34.00</td>\n",
       "      <td>2.00</td>\n",
       "    </tr>\n",
       "    <tr>\n",
       "      <th>Empresa de Vigilancia y Seguridad Privadas con Armas</th>\n",
       "      <td>244.00</td>\n",
       "      <td>15,435.00</td>\n",
       "      <td>1,271.00</td>\n",
       "      <td>521.00</td>\n",
       "      <td>1,293.00</td>\n",
       "      <td>3,403.00</td>\n",
       "      <td>312.00</td>\n",
       "      <td>4,693.00</td>\n",
       "      <td>12,098.00</td>\n",
       "      <td>4,656.00</td>\n",
       "      <td>502.00</td>\n",
       "      <td>492.00</td>\n",
       "    </tr>\n",
       "    <tr>\n",
       "      <th>Empresa de Vigilancia y Seguridad Privadas sin Armas</th>\n",
       "      <td>52.00</td>\n",
       "      <td>17,151.00</td>\n",
       "      <td>523.00</td>\n",
       "      <td>275.00</td>\n",
       "      <td>66.00</td>\n",
       "      <td>706.00</td>\n",
       "      <td>15.00</td>\n",
       "      <td>8,359.00</td>\n",
       "      <td>2,062.00</td>\n",
       "      <td>3,426.00</td>\n",
       "      <td>309.00</td>\n",
       "      <td>529.00</td>\n",
       "    </tr>\n",
       "    <tr>\n",
       "      <th>Inscripción en el Registro de Fabricantes, Importadores, Comercializadores, Arrendadores e Instaladores de Equipos para la Vigilancia y la Seguridad Privada</th>\n",
       "      <td>NaN</td>\n",
       "      <td>480.00</td>\n",
       "      <td>NaN</td>\n",
       "      <td>NaN</td>\n",
       "      <td>NaN</td>\n",
       "      <td>NaN</td>\n",
       "      <td>NaN</td>\n",
       "      <td>NaN</td>\n",
       "      <td>NaN</td>\n",
       "      <td>2.00</td>\n",
       "      <td>NaN</td>\n",
       "      <td>9.00</td>\n",
       "    </tr>\n",
       "  </tbody>\n",
       "</table>\n",
       "</div>\n",
       "      <button class=\"colab-df-convert\" onclick=\"convertToInteractive('df-0503f1f3-1e9d-4f49-aa88-444b9494d108')\"\n",
       "              title=\"Convert this dataframe to an interactive table.\"\n",
       "              style=\"display:none;\">\n",
       "        \n",
       "  <svg xmlns=\"http://www.w3.org/2000/svg\" height=\"24px\"viewBox=\"0 0 24 24\"\n",
       "       width=\"24px\">\n",
       "    <path d=\"M0 0h24v24H0V0z\" fill=\"none\"/>\n",
       "    <path d=\"M18.56 5.44l.94 2.06.94-2.06 2.06-.94-2.06-.94-.94-2.06-.94 2.06-2.06.94zm-11 1L8.5 8.5l.94-2.06 2.06-.94-2.06-.94L8.5 2.5l-.94 2.06-2.06.94zm10 10l.94 2.06.94-2.06 2.06-.94-2.06-.94-.94-2.06-.94 2.06-2.06.94z\"/><path d=\"M17.41 7.96l-1.37-1.37c-.4-.4-.92-.59-1.43-.59-.52 0-1.04.2-1.43.59L10.3 9.45l-7.72 7.72c-.78.78-.78 2.05 0 2.83L4 21.41c.39.39.9.59 1.41.59.51 0 1.02-.2 1.41-.59l7.78-7.78 2.81-2.81c.8-.78.8-2.07 0-2.86zM5.41 20L4 18.59l7.72-7.72 1.47 1.35L5.41 20z\"/>\n",
       "  </svg>\n",
       "      </button>\n",
       "      \n",
       "  <style>\n",
       "    .colab-df-container {\n",
       "      display:flex;\n",
       "      flex-wrap:wrap;\n",
       "      gap: 12px;\n",
       "    }\n",
       "\n",
       "    .colab-df-convert {\n",
       "      background-color: #E8F0FE;\n",
       "      border: none;\n",
       "      border-radius: 50%;\n",
       "      cursor: pointer;\n",
       "      display: none;\n",
       "      fill: #1967D2;\n",
       "      height: 32px;\n",
       "      padding: 0 0 0 0;\n",
       "      width: 32px;\n",
       "    }\n",
       "\n",
       "    .colab-df-convert:hover {\n",
       "      background-color: #E2EBFA;\n",
       "      box-shadow: 0px 1px 2px rgba(60, 64, 67, 0.3), 0px 1px 3px 1px rgba(60, 64, 67, 0.15);\n",
       "      fill: #174EA6;\n",
       "    }\n",
       "\n",
       "    [theme=dark] .colab-df-convert {\n",
       "      background-color: #3B4455;\n",
       "      fill: #D2E3FC;\n",
       "    }\n",
       "\n",
       "    [theme=dark] .colab-df-convert:hover {\n",
       "      background-color: #434B5C;\n",
       "      box-shadow: 0px 1px 3px 1px rgba(0, 0, 0, 0.15);\n",
       "      filter: drop-shadow(0px 1px 2px rgba(0, 0, 0, 0.3));\n",
       "      fill: #FFFFFF;\n",
       "    }\n",
       "  </style>\n",
       "\n",
       "      <script>\n",
       "        const buttonEl =\n",
       "          document.querySelector('#df-0503f1f3-1e9d-4f49-aa88-444b9494d108 button.colab-df-convert');\n",
       "        buttonEl.style.display =\n",
       "          google.colab.kernel.accessAllowed ? 'block' : 'none';\n",
       "\n",
       "        async function convertToInteractive(key) {\n",
       "          const element = document.querySelector('#df-0503f1f3-1e9d-4f49-aa88-444b9494d108');\n",
       "          const dataTable =\n",
       "            await google.colab.kernel.invokeFunction('convertToInteractive',\n",
       "                                                     [key], {});\n",
       "          if (!dataTable) return;\n",
       "\n",
       "          const docLinkHtml = 'Like what you see? Visit the ' +\n",
       "            '<a target=\"_blank\" href=https://colab.research.google.com/notebooks/data_table.ipynb>data table notebook</a>'\n",
       "            + ' to learn more about interactive tables.';\n",
       "          element.innerHTML = '';\n",
       "          dataTable['output_type'] = 'display_data';\n",
       "          await google.colab.output.renderOutput(dataTable, element);\n",
       "          const docLink = document.createElement('div');\n",
       "          docLink.innerHTML = docLinkHtml;\n",
       "          element.appendChild(docLink);\n",
       "        }\n",
       "      </script>\n",
       "    </div>\n",
       "  </div>\n",
       "  "
      ],
      "text/plain": [
       "SECTOR_CLIENTE_DESC                                 AGRICOLA Y GANADERO  \\\n",
       "TIPO_SERVICIO                                                             \n",
       "Cooperativa de Vigilancia y Seguridad Privada                     16.00   \n",
       "Departamento de Seguridad Persona Jurídica                          NaN   \n",
       "Empresa Arrendadora de Vehículos Blindados                        12.00   \n",
       "Empresa Asesora, Consultora e Investigadora en ...                 1.00   \n",
       "Empresa Blindadora                                                35.00   \n",
       "Empresa de Transporte de Valores                                   1.00   \n",
       "Empresa de Vigilancia y Seguridad Privadas con ...               244.00   \n",
       "Empresa de Vigilancia y Seguridad Privadas sin ...                52.00   \n",
       "Inscripción en el Registro de Fabricantes, Impo...                  NaN   \n",
       "\n",
       "SECTOR_CLIENTE_DESC                                 COMERCIAL  EDUCATIVO  \\\n",
       "TIPO_SERVICIO                                                              \n",
       "Cooperativa de Vigilancia y Seguridad Privada        1,834.00      98.00   \n",
       "Departamento de Seguridad Persona Jurídica               1.00        NaN   \n",
       "Empresa Arrendadora de Vehículos Blindados           3,017.00        NaN   \n",
       "Empresa Asesora, Consultora e Investigadora en ...       5.00       4.00   \n",
       "Empresa Blindadora                                     291.00      10.00   \n",
       "Empresa de Transporte de Valores                       297.00       3.00   \n",
       "Empresa de Vigilancia y Seguridad Privadas con ...  15,435.00   1,271.00   \n",
       "Empresa de Vigilancia y Seguridad Privadas sin ...  17,151.00     523.00   \n",
       "Inscripción en el Registro de Fabricantes, Impo...     480.00        NaN   \n",
       "\n",
       "SECTOR_CLIENTE_DESC                                 FINANCIERO  GOBIERNO  \\\n",
       "TIPO_SERVICIO                                                              \n",
       "Cooperativa de Vigilancia y Seguridad Privada            49.00     84.00   \n",
       "Departamento de Seguridad Persona Jurídica                 NaN       NaN   \n",
       "Empresa Arrendadora de Vehículos Blindados               47.00    338.00   \n",
       "Empresa Asesora, Consultora e Investigadora en ...        6.00      1.00   \n",
       "Empresa Blindadora                                      235.00     23.00   \n",
       "Empresa de Transporte de Valores                        230.00     13.00   \n",
       "Empresa de Vigilancia y Seguridad Privadas con ...      521.00  1,293.00   \n",
       "Empresa de Vigilancia y Seguridad Privadas sin ...      275.00     66.00   \n",
       "Inscripción en el Registro de Fabricantes, Impo...         NaN       NaN   \n",
       "\n",
       "SECTOR_CLIENTE_DESC                                 INDUSTRIAL  \\\n",
       "TIPO_SERVICIO                                                    \n",
       "Cooperativa de Vigilancia y Seguridad Privada           164.00   \n",
       "Departamento de Seguridad Persona Jurídica                 NaN   \n",
       "Empresa Arrendadora de Vehículos Blindados               47.00   \n",
       "Empresa Asesora, Consultora e Investigadora en ...         NaN   \n",
       "Empresa Blindadora                                      100.00   \n",
       "Empresa de Transporte de Valores                          3.00   \n",
       "Empresa de Vigilancia y Seguridad Privadas con ...    3,403.00   \n",
       "Empresa de Vigilancia y Seguridad Privadas sin ...      706.00   \n",
       "Inscripción en el Registro de Fabricantes, Impo...         NaN   \n",
       "\n",
       "SECTOR_CLIENTE_DESC                                 MINAS Y ENERGIA     OTRO  \\\n",
       "TIPO_SERVICIO                                                                  \n",
       "Cooperativa de Vigilancia y Seguridad Privada                  3.00   353.00   \n",
       "Departamento de Seguridad Persona Jurídica                      NaN      NaN   \n",
       "Empresa Arrendadora de Vehículos Blindados                    60.00   343.00   \n",
       "Empresa Asesora, Consultora e Investigadora en ...             4.00    25.00   \n",
       "Empresa Blindadora                                            80.00   350.00   \n",
       "Empresa de Transporte de Valores                              62.00   100.00   \n",
       "Empresa de Vigilancia y Seguridad Privadas con ...           312.00 4,693.00   \n",
       "Empresa de Vigilancia y Seguridad Privadas sin ...            15.00 8,359.00   \n",
       "Inscripción en el Registro de Fabricantes, Impo...              NaN      NaN   \n",
       "\n",
       "SECTOR_CLIENTE_DESC                                 RESIDENCIAL  SERVICIOS  \\\n",
       "TIPO_SERVICIO                                                                \n",
       "Cooperativa de Vigilancia y Seguridad Privada          4,463.00     228.00   \n",
       "Departamento de Seguridad Persona Jurídica                  NaN        NaN   \n",
       "Empresa Arrendadora de Vehículos Blindados                 1.00     416.00   \n",
       "Empresa Asesora, Consultora e Investigadora en ...          NaN       7.00   \n",
       "Empresa Blindadora                                        17.00     119.00   \n",
       "Empresa de Transporte de Valores                            NaN     353.00   \n",
       "Empresa de Vigilancia y Seguridad Privadas con ...    12,098.00   4,656.00   \n",
       "Empresa de Vigilancia y Seguridad Privadas sin ...     2,062.00   3,426.00   \n",
       "Inscripción en el Registro de Fabricantes, Impo...          NaN       2.00   \n",
       "\n",
       "SECTOR_CLIENTE_DESC                                 TRANSPORTES  VIGILANCIA  \n",
       "TIPO_SERVICIO                                                                \n",
       "Cooperativa de Vigilancia y Seguridad Privada             37.00      140.00  \n",
       "Departamento de Seguridad Persona Jurídica                  NaN         NaN  \n",
       "Empresa Arrendadora de Vehículos Blindados               526.00    4,851.00  \n",
       "Empresa Asesora, Consultora e Investigadora en ...         2.00         NaN  \n",
       "Empresa Blindadora                                        33.00      406.00  \n",
       "Empresa de Transporte de Valores                          34.00        2.00  \n",
       "Empresa de Vigilancia y Seguridad Privadas con ...       502.00      492.00  \n",
       "Empresa de Vigilancia y Seguridad Privadas sin ...       309.00      529.00  \n",
       "Inscripción en el Registro de Fabricantes, Impo...          NaN        9.00  "
      ]
     },
     "execution_count": 51,
     "metadata": {},
     "output_type": "execute_result"
    }
   ],
   "source": [
    "Cliente_tipo_Vigilado.groupby(['TIPO_SERVICIO', 'SECTOR_CLIENTE_DESC']).size().unstack()"
   ]
  },
  {
   "cell_type": "code",
   "execution_count": null,
   "metadata": {
    "id": "TiunzVozKhR1"
   },
   "outputs": [],
   "source": []
  }
 ],
 "metadata": {
  "colab": {
   "authorship_tag": "ABX9TyPamKmC+1dfDIjhl3SDDJzK",
   "collapsed_sections": [],
   "provenance": []
  },
  "kernelspec": {
   "display_name": "Python 3 (ipykernel)",
   "language": "python",
   "name": "python3"
  },
  "language_info": {
   "codemirror_mode": {
    "name": "ipython",
    "version": 3
   },
   "file_extension": ".py",
   "mimetype": "text/x-python",
   "name": "python",
   "nbconvert_exporter": "python",
   "pygments_lexer": "ipython3",
   "version": "3.10.4"
  }
 },
 "nbformat": 4,
 "nbformat_minor": 1
}
